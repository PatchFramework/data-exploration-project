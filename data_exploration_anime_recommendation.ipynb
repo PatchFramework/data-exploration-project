{
  "nbformat": 4,
  "nbformat_minor": 0,
  "metadata": {
    "colab": {
      "name": "data_exploration_anime_recommendation.ipynb",
      "provenance": [],
      "collapsed_sections": [],
      "include_colab_link": true
    },
    "kernelspec": {
      "display_name": "Python 3",
      "name": "python3"
    },
    "language_info": {
      "name": "python"
    },
    "accelerator": "GPU"
  },
  "cells": [
    {
      "cell_type": "markdown",
      "metadata": {
        "id": "view-in-github",
        "colab_type": "text"
      },
      "source": [
        "<a href=\"https://colab.research.google.com/github/PatchFramework/data-exploration-project/blob/main/data_exploration_anime_recommendation.ipynb\" target=\"_parent\"><img src=\"https://colab.research.google.com/assets/colab-badge.svg\" alt=\"Open In Colab\"/></a>"
      ]
    },
    {
      "cell_type": "markdown",
      "metadata": {
        "id": "Rzw28uoCArNf"
      },
      "source": [
        "# Data Exploration Project - Anime Recommendation\n",
        "#### Team: PostgreSQL (Can Berkil, Canberk Alkan, Dominic Viola)\n",
        "This Jupyter Notebook is designed to run on Google Colab, as it provides a standardized Linux environment and preinstalled applications. It contains the code that is used to download and analyse an Anime dataset. Afterwards the dataset is used to build a recommendation engine."
      ]
    },
    {
      "cell_type": "markdown",
      "metadata": {
        "id": "Zq3YlQQcRnTt"
      },
      "source": [
        "# 0. Setup Environment"
      ]
    },
    {
      "cell_type": "markdown",
      "metadata": {
        "id": "cUG_zw4iMYLM"
      },
      "source": [
        "We use the package Tensorflow for out machine learning model. \n",
        "\n",
        "To use it efficiently we will use the GPU for Machine Learning operations. You need to activate it on Google Colab, otherwise CPU is selected by default. If you run this Notebook locally you need CUDA and cuDNN installed and have a Nvidia GPU with up-to-date drivers. You can find a tutorial [here](https://www.codingforentrepreneurs.com/blog/install-tensorflow-gpu-windows-cuda-cudnn/), however using Google Colab is recommended.\n",
        "\n",
        "This will restart the notebook runtime environment.\n",
        "\n",
        "Do the following steps:\n",
        "\n",
        "1. Go to \"Edit\" in the top left corner of Google colab\n",
        "2. Klick on \"Notebook settings\" in the dropdown menu\n",
        "3. Select \"GPU\" and click \"Save\"\n",
        "\n",
        "Next up uncomment the next line if any dependencies are missing:"
      ]
    },
    {
      "cell_type": "code",
      "metadata": {
        "id": "1SN_ygp-OQNh"
      },
      "source": [
        "# Dependencies that are used for this Project\n",
        "!pip install -q numpy pandas matplotlib seaborn tensorflow tensorflow-recommenders"
      ],
      "execution_count": 150,
      "outputs": []
    },
    {
      "cell_type": "code",
      "metadata": {
        "colab": {
          "base_uri": "https://localhost:8080/"
        },
        "id": "vE2oGDl9RrGo",
        "outputId": "7fcc1100-482b-4850-f1c0-72bd3ccbd26c"
      },
      "source": [
        "%tensorflow_version 2.x\n",
        "import tensorflow as tf\n",
        "print(f\"GPU is: {tf.test.gpu_device_name()}\")\n",
        "\n",
        "from tensorflow.python.client import device_lib\n",
        "print(\"========== Details on GPU ==========\")\n",
        "print(device_lib.list_local_devices())"
      ],
      "execution_count": 151,
      "outputs": [
        {
          "output_type": "stream",
          "text": [
            "GPU is: \n",
            "========== Details on GPU ==========\n",
            "[name: \"/device:CPU:0\"\n",
            "device_type: \"CPU\"\n",
            "memory_limit: 268435456\n",
            "locality {\n",
            "}\n",
            "incarnation: 7517741591574479072\n",
            "]\n"
          ],
          "name": "stdout"
        }
      ]
    },
    {
      "cell_type": "markdown",
      "metadata": {
        "id": "3v-IL0_xBbqQ"
      },
      "source": [
        "## 1. Download the dataset\n",
        "The dataset is from Kaggle you can find general information about it [here](https://www.kaggle.com/CooperUnion/anime-recommendations-database?select=rating.csv).\n",
        "\n",
        "I downloaded the dataset to my private google drive and created a public link to ensure that the dataset is available. This is in compliance with the dataset's Creative Commons License."
      ]
    },
    {
      "cell_type": "code",
      "metadata": {
        "colab": {
          "base_uri": "https://localhost:8080/"
        },
        "id": "3HcqT7OUAp6T",
        "outputId": "44a54bda-4e71-49b2-99c7-d5902807f5fc"
      },
      "source": [
        "# Download the dataset from my google drive\n",
        "!gdown --id 1XPYCQvsGq4cKp1liPmxPDd7QkU04Kj4X -O ./anime_dataset.zip\n",
        "!ls"
      ],
      "execution_count": 152,
      "outputs": [
        {
          "output_type": "stream",
          "text": [
            "Downloading...\n",
            "From: https://drive.google.com/uc?id=1XPYCQvsGq4cKp1liPmxPDd7QkU04Kj4X\n",
            "To: /content/anime_dataset.zip\n",
            "26.3MB [00:00, 83.3MB/s]\n",
            "anime_dataset.zip  data  sample_data\n"
          ],
          "name": "stdout"
        }
      ]
    },
    {
      "cell_type": "code",
      "metadata": {
        "colab": {
          "base_uri": "https://localhost:8080/"
        },
        "id": "oHupRaEjOzcI",
        "outputId": "cd9eee13-5028-43ff-b4eb-14a1183ea0ed"
      },
      "source": [
        "# create a directory for the data\n",
        "!mkdir data\n",
        "\n",
        "# after downloading the dataset as a zip unzip the dataset into the new folder\n",
        "# only execute if unzipped anime.csv doesn't already exist (cell can be re-run easier)\n",
        "! [ ! -f data/anime.csv ] && unzip anime_dataset.zip -d ./data/\n",
        "\n",
        "!ls data"
      ],
      "execution_count": 153,
      "outputs": [
        {
          "output_type": "stream",
          "text": [
            "mkdir: cannot create directory ‘data’: File exists\n",
            "anime.csv  rating.csv\n"
          ],
          "name": "stdout"
        }
      ]
    },
    {
      "cell_type": "markdown",
      "metadata": {
        "id": "dqcTy8dO2nAG"
      },
      "source": [
        "## 2. Data Selection\n",
        "\n",
        "This section will shed a light on why [this](https://www.kaggle.com/CooperUnion/anime-recommendations-database?select=rating.csv) dataset was choosen and what the characteristics of the dataset are."
      ]
    },
    {
      "cell_type": "markdown",
      "metadata": {
        "id": "9u3x04FIWw2i"
      },
      "source": [
        "## 3. Fundamental dataset exploration\n",
        "\n",
        "Now the content and structure of this dataset will explored.\n",
        "\n",
        "\n",
        "Lets see how the csv files that were downloaded are structured.\n",
        "Lets look at the first few lines of each file with the linux command \"head\".\n",
        "\n",
        "The goal is to find information about:\n",
        "- column names\n",
        "- datatypes  \n",
        "- the seperator (we need it for pandas later)\n",
        "- how the CSV files are connected\n"
      ]
    },
    {
      "cell_type": "code",
      "metadata": {
        "colab": {
          "base_uri": "https://localhost:8080/"
        },
        "id": "nMWfjtMtbJrC",
        "outputId": "c03d729c-ae04-4986-c9a1-5d27a9977bc3"
      },
      "source": [
        "!head -5 data/anime.csv"
      ],
      "execution_count": 154,
      "outputs": [
        {
          "output_type": "stream",
          "text": [
            "anime_id,name,genre,type,episodes,rating,members\r\n",
            "32281,Kimi no Na wa.,\"Drama, Romance, School, Supernatural\",Movie,1,9.37,200630\r\n",
            "5114,Fullmetal Alchemist: Brotherhood,\"Action, Adventure, Drama, Fantasy, Magic, Military, Shounen\",TV,64,9.26,793665\r\n",
            "28977,Gintama°,\"Action, Comedy, Historical, Parody, Samurai, Sci-Fi, Shounen\",TV,51,9.25,114262\r\n",
            "9253,Steins;Gate,\"Sci-Fi, Thriller\",TV,24,9.17,673572\r\n"
          ],
          "name": "stdout"
        }
      ]
    },
    {
      "cell_type": "code",
      "metadata": {
        "colab": {
          "base_uri": "https://localhost:8080/"
        },
        "id": "yuBPEKNkbguT",
        "outputId": "74e01ee7-240b-40a5-94db-b5fe69e9303b"
      },
      "source": [
        "!head -5 data/rating.csv"
      ],
      "execution_count": 155,
      "outputs": [
        {
          "output_type": "stream",
          "text": [
            "user_id,anime_id,rating\r\n",
            "1,20,-1\r\n",
            "1,24,-1\r\n",
            "1,79,-1\r\n",
            "1,226,-1\r\n"
          ],
          "name": "stdout"
        }
      ]
    },
    {
      "cell_type": "markdown",
      "metadata": {
        "id": "yg4epuioffek"
      },
      "source": [
        "What can be learned from this first peak into the dataset:\n",
        "1. Columns in anime.csv\n",
        "- \"anime_id\" is the identifier for each anime\n",
        "- \"name\" contains the name as a string but without quotes\n",
        "- \"genre\" contains all genres that the anime is part of, quotes are used, so that the comma seperated genres are not confused with csv fields\n",
        "- \"type\" shows which medium type the anime is \n",
        "- \"rating\" seems to be a general rating from 1 to 10\n",
        "- \"members\" ?\n",
        "\n",
        "2. Columns in rating.csv\n",
        "- \"user\" is the id of the user, that gave the rating\n",
        "- \"anime_id\" is the identifier of the anime, this is the connecting field to anime.csv\n",
        "- \"rating\" is the rating that the user gave the anime. There is -1 as an entry which can't be an actual rating, so -1 means, that the user watched but didn't rate the anime. If the user didn't watch and didn't rate the movie, there will be no entry in the rating.csv\n",
        "\n",
        "3. The seperator is a comma for both csv-files\n"
      ]
    },
    {
      "cell_type": "markdown",
      "metadata": {
        "id": "8ZWI2mle3MVG"
      },
      "source": [
        "## 4. Data Cleaning\n",
        "Unnecessary fields will be dropped from the dataset, the dataset will be checked for inconsistencies and redundancies. Also fields with incorrect datatypes will be fixed."
      ]
    },
    {
      "cell_type": "markdown",
      "metadata": {
        "id": "Ry03L9-6dUU6"
      },
      "source": [
        "Pandas library will be used to save the dataset to dataframes for easier handling and manipulation in python. Numpy will help to modify values within the dataframe.\n",
        "\n"
      ]
    },
    {
      "cell_type": "code",
      "metadata": {
        "colab": {
          "base_uri": "https://localhost:8080/"
        },
        "id": "c_tL5XJUZR7C",
        "outputId": "a467a2e0-56c6-4420-d884-914d67a412c1"
      },
      "source": [
        "# Install the library packages (might be already installed)\n",
        "!pip3 install pandas numpy"
      ],
      "execution_count": 156,
      "outputs": [
        {
          "output_type": "stream",
          "text": [
            "Requirement already satisfied: pandas in /usr/local/lib/python3.7/dist-packages (1.1.5)\n",
            "Requirement already satisfied: numpy in /usr/local/lib/python3.7/dist-packages (1.19.5)\n",
            "Requirement already satisfied: pytz>=2017.2 in /usr/local/lib/python3.7/dist-packages (from pandas) (2018.9)\n",
            "Requirement already satisfied: python-dateutil>=2.7.3 in /usr/local/lib/python3.7/dist-packages (from pandas) (2.8.1)\n",
            "Requirement already satisfied: six>=1.5 in /usr/local/lib/python3.7/dist-packages (from python-dateutil>=2.7.3->pandas) (1.15.0)\n"
          ],
          "name": "stdout"
        }
      ]
    },
    {
      "cell_type": "code",
      "metadata": {
        "id": "ROdLlGUlZiS_"
      },
      "source": [
        "import pandas as pd\n",
        "import numpy as np\n"
      ],
      "execution_count": 157,
      "outputs": []
    },
    {
      "cell_type": "code",
      "metadata": {
        "id": "K5l2xjXrai0c"
      },
      "source": [
        "anime_df = pd.read_csv(\"data/anime.csv\")\n",
        "rating_df = pd.read_csv(\"data/rating.csv\")"
      ],
      "execution_count": 158,
      "outputs": []
    },
    {
      "cell_type": "code",
      "metadata": {
        "colab": {
          "base_uri": "https://localhost:8080/",
          "height": 415
        },
        "id": "_4vi_WCU1E91",
        "outputId": "8e8a8869-c409-4a2b-b94e-098caf303ee7"
      },
      "source": [
        "anime_df\n"
      ],
      "execution_count": 159,
      "outputs": [
        {
          "output_type": "execute_result",
          "data": {
            "text/html": [
              "<div>\n",
              "<style scoped>\n",
              "    .dataframe tbody tr th:only-of-type {\n",
              "        vertical-align: middle;\n",
              "    }\n",
              "\n",
              "    .dataframe tbody tr th {\n",
              "        vertical-align: top;\n",
              "    }\n",
              "\n",
              "    .dataframe thead th {\n",
              "        text-align: right;\n",
              "    }\n",
              "</style>\n",
              "<table border=\"1\" class=\"dataframe\">\n",
              "  <thead>\n",
              "    <tr style=\"text-align: right;\">\n",
              "      <th></th>\n",
              "      <th>anime_id</th>\n",
              "      <th>name</th>\n",
              "      <th>genre</th>\n",
              "      <th>type</th>\n",
              "      <th>episodes</th>\n",
              "      <th>rating</th>\n",
              "      <th>members</th>\n",
              "    </tr>\n",
              "  </thead>\n",
              "  <tbody>\n",
              "    <tr>\n",
              "      <th>0</th>\n",
              "      <td>32281</td>\n",
              "      <td>Kimi no Na wa.</td>\n",
              "      <td>Drama, Romance, School, Supernatural</td>\n",
              "      <td>Movie</td>\n",
              "      <td>1</td>\n",
              "      <td>9.37</td>\n",
              "      <td>200630</td>\n",
              "    </tr>\n",
              "    <tr>\n",
              "      <th>1</th>\n",
              "      <td>5114</td>\n",
              "      <td>Fullmetal Alchemist: Brotherhood</td>\n",
              "      <td>Action, Adventure, Drama, Fantasy, Magic, Mili...</td>\n",
              "      <td>TV</td>\n",
              "      <td>64</td>\n",
              "      <td>9.26</td>\n",
              "      <td>793665</td>\n",
              "    </tr>\n",
              "    <tr>\n",
              "      <th>2</th>\n",
              "      <td>28977</td>\n",
              "      <td>Gintama°</td>\n",
              "      <td>Action, Comedy, Historical, Parody, Samurai, S...</td>\n",
              "      <td>TV</td>\n",
              "      <td>51</td>\n",
              "      <td>9.25</td>\n",
              "      <td>114262</td>\n",
              "    </tr>\n",
              "    <tr>\n",
              "      <th>3</th>\n",
              "      <td>9253</td>\n",
              "      <td>Steins;Gate</td>\n",
              "      <td>Sci-Fi, Thriller</td>\n",
              "      <td>TV</td>\n",
              "      <td>24</td>\n",
              "      <td>9.17</td>\n",
              "      <td>673572</td>\n",
              "    </tr>\n",
              "    <tr>\n",
              "      <th>4</th>\n",
              "      <td>9969</td>\n",
              "      <td>Gintama&amp;#039;</td>\n",
              "      <td>Action, Comedy, Historical, Parody, Samurai, S...</td>\n",
              "      <td>TV</td>\n",
              "      <td>51</td>\n",
              "      <td>9.16</td>\n",
              "      <td>151266</td>\n",
              "    </tr>\n",
              "    <tr>\n",
              "      <th>...</th>\n",
              "      <td>...</td>\n",
              "      <td>...</td>\n",
              "      <td>...</td>\n",
              "      <td>...</td>\n",
              "      <td>...</td>\n",
              "      <td>...</td>\n",
              "      <td>...</td>\n",
              "    </tr>\n",
              "    <tr>\n",
              "      <th>12289</th>\n",
              "      <td>9316</td>\n",
              "      <td>Toushindai My Lover: Minami tai Mecha-Minami</td>\n",
              "      <td>Hentai</td>\n",
              "      <td>OVA</td>\n",
              "      <td>1</td>\n",
              "      <td>4.15</td>\n",
              "      <td>211</td>\n",
              "    </tr>\n",
              "    <tr>\n",
              "      <th>12290</th>\n",
              "      <td>5543</td>\n",
              "      <td>Under World</td>\n",
              "      <td>Hentai</td>\n",
              "      <td>OVA</td>\n",
              "      <td>1</td>\n",
              "      <td>4.28</td>\n",
              "      <td>183</td>\n",
              "    </tr>\n",
              "    <tr>\n",
              "      <th>12291</th>\n",
              "      <td>5621</td>\n",
              "      <td>Violence Gekiga David no Hoshi</td>\n",
              "      <td>Hentai</td>\n",
              "      <td>OVA</td>\n",
              "      <td>4</td>\n",
              "      <td>4.88</td>\n",
              "      <td>219</td>\n",
              "    </tr>\n",
              "    <tr>\n",
              "      <th>12292</th>\n",
              "      <td>6133</td>\n",
              "      <td>Violence Gekiga Shin David no Hoshi: Inma Dens...</td>\n",
              "      <td>Hentai</td>\n",
              "      <td>OVA</td>\n",
              "      <td>1</td>\n",
              "      <td>4.98</td>\n",
              "      <td>175</td>\n",
              "    </tr>\n",
              "    <tr>\n",
              "      <th>12293</th>\n",
              "      <td>26081</td>\n",
              "      <td>Yasuji no Pornorama: Yacchimae!!</td>\n",
              "      <td>Hentai</td>\n",
              "      <td>Movie</td>\n",
              "      <td>1</td>\n",
              "      <td>5.46</td>\n",
              "      <td>142</td>\n",
              "    </tr>\n",
              "  </tbody>\n",
              "</table>\n",
              "<p>12294 rows × 7 columns</p>\n",
              "</div>"
            ],
            "text/plain": [
              "       anime_id  ... members\n",
              "0         32281  ...  200630\n",
              "1          5114  ...  793665\n",
              "2         28977  ...  114262\n",
              "3          9253  ...  673572\n",
              "4          9969  ...  151266\n",
              "...         ...  ...     ...\n",
              "12289      9316  ...     211\n",
              "12290      5543  ...     183\n",
              "12291      5621  ...     219\n",
              "12292      6133  ...     175\n",
              "12293     26081  ...     142\n",
              "\n",
              "[12294 rows x 7 columns]"
            ]
          },
          "metadata": {
            "tags": []
          },
          "execution_count": 159
        }
      ]
    },
    {
      "cell_type": "code",
      "metadata": {
        "colab": {
          "base_uri": "https://localhost:8080/",
          "height": 415
        },
        "id": "9P-erBoY1Ul7",
        "outputId": "3f874316-2f7b-431f-e466-2468633d8d9f"
      },
      "source": [
        "rating_df"
      ],
      "execution_count": 160,
      "outputs": [
        {
          "output_type": "execute_result",
          "data": {
            "text/html": [
              "<div>\n",
              "<style scoped>\n",
              "    .dataframe tbody tr th:only-of-type {\n",
              "        vertical-align: middle;\n",
              "    }\n",
              "\n",
              "    .dataframe tbody tr th {\n",
              "        vertical-align: top;\n",
              "    }\n",
              "\n",
              "    .dataframe thead th {\n",
              "        text-align: right;\n",
              "    }\n",
              "</style>\n",
              "<table border=\"1\" class=\"dataframe\">\n",
              "  <thead>\n",
              "    <tr style=\"text-align: right;\">\n",
              "      <th></th>\n",
              "      <th>user_id</th>\n",
              "      <th>anime_id</th>\n",
              "      <th>rating</th>\n",
              "    </tr>\n",
              "  </thead>\n",
              "  <tbody>\n",
              "    <tr>\n",
              "      <th>0</th>\n",
              "      <td>1</td>\n",
              "      <td>20</td>\n",
              "      <td>-1</td>\n",
              "    </tr>\n",
              "    <tr>\n",
              "      <th>1</th>\n",
              "      <td>1</td>\n",
              "      <td>24</td>\n",
              "      <td>-1</td>\n",
              "    </tr>\n",
              "    <tr>\n",
              "      <th>2</th>\n",
              "      <td>1</td>\n",
              "      <td>79</td>\n",
              "      <td>-1</td>\n",
              "    </tr>\n",
              "    <tr>\n",
              "      <th>3</th>\n",
              "      <td>1</td>\n",
              "      <td>226</td>\n",
              "      <td>-1</td>\n",
              "    </tr>\n",
              "    <tr>\n",
              "      <th>4</th>\n",
              "      <td>1</td>\n",
              "      <td>241</td>\n",
              "      <td>-1</td>\n",
              "    </tr>\n",
              "    <tr>\n",
              "      <th>...</th>\n",
              "      <td>...</td>\n",
              "      <td>...</td>\n",
              "      <td>...</td>\n",
              "    </tr>\n",
              "    <tr>\n",
              "      <th>7813732</th>\n",
              "      <td>73515</td>\n",
              "      <td>16512</td>\n",
              "      <td>7</td>\n",
              "    </tr>\n",
              "    <tr>\n",
              "      <th>7813733</th>\n",
              "      <td>73515</td>\n",
              "      <td>17187</td>\n",
              "      <td>9</td>\n",
              "    </tr>\n",
              "    <tr>\n",
              "      <th>7813734</th>\n",
              "      <td>73515</td>\n",
              "      <td>22145</td>\n",
              "      <td>10</td>\n",
              "    </tr>\n",
              "    <tr>\n",
              "      <th>7813735</th>\n",
              "      <td>73516</td>\n",
              "      <td>790</td>\n",
              "      <td>9</td>\n",
              "    </tr>\n",
              "    <tr>\n",
              "      <th>7813736</th>\n",
              "      <td>73516</td>\n",
              "      <td>8074</td>\n",
              "      <td>9</td>\n",
              "    </tr>\n",
              "  </tbody>\n",
              "</table>\n",
              "<p>7813737 rows × 3 columns</p>\n",
              "</div>"
            ],
            "text/plain": [
              "         user_id  anime_id  rating\n",
              "0              1        20      -1\n",
              "1              1        24      -1\n",
              "2              1        79      -1\n",
              "3              1       226      -1\n",
              "4              1       241      -1\n",
              "...          ...       ...     ...\n",
              "7813732    73515     16512       7\n",
              "7813733    73515     17187       9\n",
              "7813734    73515     22145      10\n",
              "7813735    73516       790       9\n",
              "7813736    73516      8074       9\n",
              "\n",
              "[7813737 rows x 3 columns]"
            ]
          },
          "metadata": {
            "tags": []
          },
          "execution_count": 160
        }
      ]
    },
    {
      "cell_type": "code",
      "metadata": {
        "colab": {
          "base_uri": "https://localhost:8080/"
        },
        "id": "20Ptu8U5bEc6",
        "outputId": "9c791ce8-b87c-4857-8e70-ff377843b1ef"
      },
      "source": [
        "# Total amount of Anime in this dataset\n",
        "len(anime_df[\"anime_id\"])"
      ],
      "execution_count": 161,
      "outputs": [
        {
          "output_type": "execute_result",
          "data": {
            "text/plain": [
              "12294"
            ]
          },
          "metadata": {
            "tags": []
          },
          "execution_count": 161
        }
      ]
    },
    {
      "cell_type": "code",
      "metadata": {
        "colab": {
          "base_uri": "https://localhost:8080/",
          "height": 415
        },
        "id": "ExnAcyW--56S",
        "outputId": "0f8c31d0-e408-4133-d789-8ea880a65d2e"
      },
      "source": [
        "anime_df"
      ],
      "execution_count": 162,
      "outputs": [
        {
          "output_type": "execute_result",
          "data": {
            "text/html": [
              "<div>\n",
              "<style scoped>\n",
              "    .dataframe tbody tr th:only-of-type {\n",
              "        vertical-align: middle;\n",
              "    }\n",
              "\n",
              "    .dataframe tbody tr th {\n",
              "        vertical-align: top;\n",
              "    }\n",
              "\n",
              "    .dataframe thead th {\n",
              "        text-align: right;\n",
              "    }\n",
              "</style>\n",
              "<table border=\"1\" class=\"dataframe\">\n",
              "  <thead>\n",
              "    <tr style=\"text-align: right;\">\n",
              "      <th></th>\n",
              "      <th>anime_id</th>\n",
              "      <th>name</th>\n",
              "      <th>genre</th>\n",
              "      <th>type</th>\n",
              "      <th>episodes</th>\n",
              "      <th>rating</th>\n",
              "      <th>members</th>\n",
              "    </tr>\n",
              "  </thead>\n",
              "  <tbody>\n",
              "    <tr>\n",
              "      <th>0</th>\n",
              "      <td>32281</td>\n",
              "      <td>Kimi no Na wa.</td>\n",
              "      <td>Drama, Romance, School, Supernatural</td>\n",
              "      <td>Movie</td>\n",
              "      <td>1</td>\n",
              "      <td>9.37</td>\n",
              "      <td>200630</td>\n",
              "    </tr>\n",
              "    <tr>\n",
              "      <th>1</th>\n",
              "      <td>5114</td>\n",
              "      <td>Fullmetal Alchemist: Brotherhood</td>\n",
              "      <td>Action, Adventure, Drama, Fantasy, Magic, Mili...</td>\n",
              "      <td>TV</td>\n",
              "      <td>64</td>\n",
              "      <td>9.26</td>\n",
              "      <td>793665</td>\n",
              "    </tr>\n",
              "    <tr>\n",
              "      <th>2</th>\n",
              "      <td>28977</td>\n",
              "      <td>Gintama°</td>\n",
              "      <td>Action, Comedy, Historical, Parody, Samurai, S...</td>\n",
              "      <td>TV</td>\n",
              "      <td>51</td>\n",
              "      <td>9.25</td>\n",
              "      <td>114262</td>\n",
              "    </tr>\n",
              "    <tr>\n",
              "      <th>3</th>\n",
              "      <td>9253</td>\n",
              "      <td>Steins;Gate</td>\n",
              "      <td>Sci-Fi, Thriller</td>\n",
              "      <td>TV</td>\n",
              "      <td>24</td>\n",
              "      <td>9.17</td>\n",
              "      <td>673572</td>\n",
              "    </tr>\n",
              "    <tr>\n",
              "      <th>4</th>\n",
              "      <td>9969</td>\n",
              "      <td>Gintama&amp;#039;</td>\n",
              "      <td>Action, Comedy, Historical, Parody, Samurai, S...</td>\n",
              "      <td>TV</td>\n",
              "      <td>51</td>\n",
              "      <td>9.16</td>\n",
              "      <td>151266</td>\n",
              "    </tr>\n",
              "    <tr>\n",
              "      <th>...</th>\n",
              "      <td>...</td>\n",
              "      <td>...</td>\n",
              "      <td>...</td>\n",
              "      <td>...</td>\n",
              "      <td>...</td>\n",
              "      <td>...</td>\n",
              "      <td>...</td>\n",
              "    </tr>\n",
              "    <tr>\n",
              "      <th>12289</th>\n",
              "      <td>9316</td>\n",
              "      <td>Toushindai My Lover: Minami tai Mecha-Minami</td>\n",
              "      <td>Hentai</td>\n",
              "      <td>OVA</td>\n",
              "      <td>1</td>\n",
              "      <td>4.15</td>\n",
              "      <td>211</td>\n",
              "    </tr>\n",
              "    <tr>\n",
              "      <th>12290</th>\n",
              "      <td>5543</td>\n",
              "      <td>Under World</td>\n",
              "      <td>Hentai</td>\n",
              "      <td>OVA</td>\n",
              "      <td>1</td>\n",
              "      <td>4.28</td>\n",
              "      <td>183</td>\n",
              "    </tr>\n",
              "    <tr>\n",
              "      <th>12291</th>\n",
              "      <td>5621</td>\n",
              "      <td>Violence Gekiga David no Hoshi</td>\n",
              "      <td>Hentai</td>\n",
              "      <td>OVA</td>\n",
              "      <td>4</td>\n",
              "      <td>4.88</td>\n",
              "      <td>219</td>\n",
              "    </tr>\n",
              "    <tr>\n",
              "      <th>12292</th>\n",
              "      <td>6133</td>\n",
              "      <td>Violence Gekiga Shin David no Hoshi: Inma Dens...</td>\n",
              "      <td>Hentai</td>\n",
              "      <td>OVA</td>\n",
              "      <td>1</td>\n",
              "      <td>4.98</td>\n",
              "      <td>175</td>\n",
              "    </tr>\n",
              "    <tr>\n",
              "      <th>12293</th>\n",
              "      <td>26081</td>\n",
              "      <td>Yasuji no Pornorama: Yacchimae!!</td>\n",
              "      <td>Hentai</td>\n",
              "      <td>Movie</td>\n",
              "      <td>1</td>\n",
              "      <td>5.46</td>\n",
              "      <td>142</td>\n",
              "    </tr>\n",
              "  </tbody>\n",
              "</table>\n",
              "<p>12294 rows × 7 columns</p>\n",
              "</div>"
            ],
            "text/plain": [
              "       anime_id  ... members\n",
              "0         32281  ...  200630\n",
              "1          5114  ...  793665\n",
              "2         28977  ...  114262\n",
              "3          9253  ...  673572\n",
              "4          9969  ...  151266\n",
              "...         ...  ...     ...\n",
              "12289      9316  ...     211\n",
              "12290      5543  ...     183\n",
              "12291      5621  ...     219\n",
              "12292      6133  ...     175\n",
              "12293     26081  ...     142\n",
              "\n",
              "[12294 rows x 7 columns]"
            ]
          },
          "metadata": {
            "tags": []
          },
          "execution_count": 162
        }
      ]
    },
    {
      "cell_type": "code",
      "metadata": {
        "colab": {
          "base_uri": "https://localhost:8080/",
          "height": 35
        },
        "id": "vhMAh4uAo0Fk",
        "outputId": "c3ee4613-c6bf-4565-bfcd-5107cb2294d3"
      },
      "source": [
        "# Existing columns in anime_df and rating_df\n",
        "anime_df.columns\n",
        "rating_df.columns\n",
        "\n",
        "\"\"\"\n",
        "Keep in mind that both anime_df and rating_df do have the attribute \"anime_id\".\n",
        "This will be important to merge both DataFrames.\n",
        "\"\"\""
      ],
      "execution_count": 163,
      "outputs": [
        {
          "output_type": "execute_result",
          "data": {
            "application/vnd.google.colaboratory.intrinsic+json": {
              "type": "string"
            },
            "text/plain": [
              "'\\nKeep in mind that both anime_df and rating_df do have the attribute \"anime_id\".\\nThis will be important to merge both DataFrames.\\n'"
            ]
          },
          "metadata": {
            "tags": []
          },
          "execution_count": 163
        }
      ]
    },
    {
      "cell_type": "code",
      "metadata": {
        "colab": {
          "base_uri": "https://localhost:8080/",
          "height": 415
        },
        "id": "7rYWXT60cgg_",
        "outputId": "2087d02f-411d-49d9-e9ba-684ba06b0915"
      },
      "source": [
        "# Cleaning anime dataframe\n",
        "# Since members is not needed for the data analysis, it can be dropped\n",
        "anime_df.drop(columns=[\"members\", \"rating\"], inplace=True)\n",
        "\n",
        "anime_df[\"genre\"] = anime_df[\"genre\"].replace(np.nan, \"undefinied\")\n",
        "anime_df[\"type\"] = anime_df[\"type\"].replace(np.nan, \"undefinied\")\n",
        "# Replace all instances of nan or none or null in the dataset to prevent errors \n",
        "#anime_df.replace([None, nan, null], value=\"undefinied\")\n",
        "anime_df[anime_df.genre == \"undefinied\"]"
      ],
      "execution_count": 164,
      "outputs": [
        {
          "output_type": "execute_result",
          "data": {
            "text/html": [
              "<div>\n",
              "<style scoped>\n",
              "    .dataframe tbody tr th:only-of-type {\n",
              "        vertical-align: middle;\n",
              "    }\n",
              "\n",
              "    .dataframe tbody tr th {\n",
              "        vertical-align: top;\n",
              "    }\n",
              "\n",
              "    .dataframe thead th {\n",
              "        text-align: right;\n",
              "    }\n",
              "</style>\n",
              "<table border=\"1\" class=\"dataframe\">\n",
              "  <thead>\n",
              "    <tr style=\"text-align: right;\">\n",
              "      <th></th>\n",
              "      <th>anime_id</th>\n",
              "      <th>name</th>\n",
              "      <th>genre</th>\n",
              "      <th>type</th>\n",
              "      <th>episodes</th>\n",
              "    </tr>\n",
              "  </thead>\n",
              "  <tbody>\n",
              "    <tr>\n",
              "      <th>2844</th>\n",
              "      <td>33242</td>\n",
              "      <td>IS: Infinite Stratos 2 - Infinite Wedding</td>\n",
              "      <td>undefinied</td>\n",
              "      <td>Special</td>\n",
              "      <td>1</td>\n",
              "    </tr>\n",
              "    <tr>\n",
              "      <th>3541</th>\n",
              "      <td>33589</td>\n",
              "      <td>ViVid Strike!</td>\n",
              "      <td>undefinied</td>\n",
              "      <td>TV</td>\n",
              "      <td>12</td>\n",
              "    </tr>\n",
              "    <tr>\n",
              "      <th>6040</th>\n",
              "      <td>29765</td>\n",
              "      <td>Metropolis (2009)</td>\n",
              "      <td>undefinied</td>\n",
              "      <td>Movie</td>\n",
              "      <td>1</td>\n",
              "    </tr>\n",
              "    <tr>\n",
              "      <th>6646</th>\n",
              "      <td>32695</td>\n",
              "      <td>Match Shoujo</td>\n",
              "      <td>undefinied</td>\n",
              "      <td>ONA</td>\n",
              "      <td>1</td>\n",
              "    </tr>\n",
              "    <tr>\n",
              "      <th>7018</th>\n",
              "      <td>33187</td>\n",
              "      <td>Katsudou Shashin</td>\n",
              "      <td>undefinied</td>\n",
              "      <td>Movie</td>\n",
              "      <td>1</td>\n",
              "    </tr>\n",
              "    <tr>\n",
              "      <th>...</th>\n",
              "      <td>...</td>\n",
              "      <td>...</td>\n",
              "      <td>...</td>\n",
              "      <td>...</td>\n",
              "      <td>...</td>\n",
              "    </tr>\n",
              "    <tr>\n",
              "      <th>11070</th>\n",
              "      <td>32032</td>\n",
              "      <td>Seikaisuru Kado</td>\n",
              "      <td>undefinied</td>\n",
              "      <td>undefinied</td>\n",
              "      <td>Unknown</td>\n",
              "    </tr>\n",
              "    <tr>\n",
              "      <th>11086</th>\n",
              "      <td>34310</td>\n",
              "      <td>Tamagotchi Movie: Tanpen Himitsu no Otodoke Da...</td>\n",
              "      <td>undefinied</td>\n",
              "      <td>Movie</td>\n",
              "      <td>1</td>\n",
              "    </tr>\n",
              "    <tr>\n",
              "      <th>11097</th>\n",
              "      <td>34474</td>\n",
              "      <td>Tsukipro The Animation</td>\n",
              "      <td>undefinied</td>\n",
              "      <td>TV</td>\n",
              "      <td>Unknown</td>\n",
              "    </tr>\n",
              "    <tr>\n",
              "      <th>11112</th>\n",
              "      <td>33035</td>\n",
              "      <td>Yuyushiki Special</td>\n",
              "      <td>undefinied</td>\n",
              "      <td>Special</td>\n",
              "      <td>1</td>\n",
              "    </tr>\n",
              "    <tr>\n",
              "      <th>11113</th>\n",
              "      <td>33390</td>\n",
              "      <td>Zunda Horizon</td>\n",
              "      <td>undefinied</td>\n",
              "      <td>Movie</td>\n",
              "      <td>1</td>\n",
              "    </tr>\n",
              "  </tbody>\n",
              "</table>\n",
              "<p>62 rows × 5 columns</p>\n",
              "</div>"
            ],
            "text/plain": [
              "       anime_id  ... episodes\n",
              "2844      33242  ...        1\n",
              "3541      33589  ...       12\n",
              "6040      29765  ...        1\n",
              "6646      32695  ...        1\n",
              "7018      33187  ...        1\n",
              "...         ...  ...      ...\n",
              "11070     32032  ...  Unknown\n",
              "11086     34310  ...        1\n",
              "11097     34474  ...  Unknown\n",
              "11112     33035  ...        1\n",
              "11113     33390  ...        1\n",
              "\n",
              "[62 rows x 5 columns]"
            ]
          },
          "metadata": {
            "tags": []
          },
          "execution_count": 164
        }
      ]
    },
    {
      "cell_type": "code",
      "metadata": {
        "colab": {
          "base_uri": "https://localhost:8080/"
        },
        "id": "m5xDTH6896ZY",
        "outputId": "b71b256f-78b5-49d5-cff8-34ad9a24c377"
      },
      "source": [
        "del_ids = rating_df[rating_df[\"rating\"]==-1].index\n",
        "print(del_ids)"
      ],
      "execution_count": 165,
      "outputs": [
        {
          "output_type": "stream",
          "text": [
            "Int64Index([      0,       1,       2,       3,       4,       5,       6,\n",
            "                  7,       8,       9,\n",
            "            ...\n",
            "            7813585, 7813601, 7813603, 7813604, 7813623, 7813628, 7813629,\n",
            "            7813631, 7813635, 7813668],\n",
            "           dtype='int64', length=1476496)\n"
          ],
          "name": "stdout"
        }
      ]
    },
    {
      "cell_type": "code",
      "metadata": {
        "colab": {
          "base_uri": "https://localhost:8080/"
        },
        "id": "5OgkS3SBdIEN",
        "outputId": "e6724baf-7fcf-45c3-9282-2e3dd147327d"
      },
      "source": [
        "# print ratings_df\n",
        "\n",
        "#Drop rows with -1 as we dont make a distinction between: \n",
        "# people who didn't watch and didn't rate a specific anime (non-entries)\n",
        "# and people who watched it but didnt rate it  (-1 entries)\n",
        "del_ids = rating_df[rating_df[\"rating\"]==-1].index\n",
        "print(del_ids)\n",
        "rating_df = rating_df.drop(del_ids)\n",
        "print(rating_df)\n",
        "# Total amount of Users who rated Anime\n",
        "print(rating_df[\"user_id\"].unique())\n"
      ],
      "execution_count": 166,
      "outputs": [
        {
          "output_type": "stream",
          "text": [
            "Int64Index([      0,       1,       2,       3,       4,       5,       6,\n",
            "                  7,       8,       9,\n",
            "            ...\n",
            "            7813585, 7813601, 7813603, 7813604, 7813623, 7813628, 7813629,\n",
            "            7813631, 7813635, 7813668],\n",
            "           dtype='int64', length=1476496)\n",
            "         user_id  anime_id  rating\n",
            "47             1      8074      10\n",
            "81             1     11617      10\n",
            "83             1     11757      10\n",
            "101            1     15451      10\n",
            "153            2     11771      10\n",
            "...          ...       ...     ...\n",
            "7813732    73515     16512       7\n",
            "7813733    73515     17187       9\n",
            "7813734    73515     22145      10\n",
            "7813735    73516       790       9\n",
            "7813736    73516      8074       9\n",
            "\n",
            "[6337241 rows x 3 columns]\n",
            "[    1     2     3 ... 73514 73515 73516]\n"
          ],
          "name": "stdout"
        }
      ]
    },
    {
      "cell_type": "code",
      "metadata": {
        "colab": {
          "base_uri": "https://localhost:8080/"
        },
        "id": "3RZYsO_efRuD",
        "outputId": "fadf16e5-36c0-41f8-fd10-b68d83aef3fd"
      },
      "source": [
        "# Total amount of Anime Genre in this dataset\n",
        "len(anime_df[\"genre\"].unique())"
      ],
      "execution_count": 167,
      "outputs": [
        {
          "output_type": "execute_result",
          "data": {
            "text/plain": [
              "3265"
            ]
          },
          "metadata": {
            "tags": []
          },
          "execution_count": 167
        }
      ]
    },
    {
      "cell_type": "code",
      "metadata": {
        "colab": {
          "base_uri": "https://localhost:8080/"
        },
        "id": "Fjd2BhcXQfJf",
        "outputId": "580092f6-e6a7-430f-d34c-c918a41d4266"
      },
      "source": [
        "# change datatype of genre from string to list\n",
        "for index, genre in enumerate(anime_df[\"genre\"]):\n",
        "  # create string without whitespaces, by splitting at every space and rejoin to a string\n",
        "  genres_stripped = \"\".join(anime_df[\"genre\"][index].split(\" \"))\n",
        "\n",
        "  # split the string at every comma -> new datatype: list\n",
        "  anime_df[\"genre\"][index] = genres_stripped.split(\",\")\n"
      ],
      "execution_count": 168,
      "outputs": [
        {
          "output_type": "stream",
          "text": [
            "/usr/local/lib/python3.7/dist-packages/ipykernel_launcher.py:7: SettingWithCopyWarning: \n",
            "A value is trying to be set on a copy of a slice from a DataFrame\n",
            "\n",
            "See the caveats in the documentation: https://pandas.pydata.org/pandas-docs/stable/user_guide/indexing.html#returning-a-view-versus-a-copy\n",
            "  import sys\n"
          ],
          "name": "stderr"
        }
      ]
    },
    {
      "cell_type": "code",
      "metadata": {
        "colab": {
          "base_uri": "https://localhost:8080/"
        },
        "id": "1WQNrOm8uliQ",
        "outputId": "5cabea75-4148-4bc1-bcf2-7c6b8d6aab4d"
      },
      "source": [
        "print(anime_df[\"genre\"][1000:1010])"
      ],
      "execution_count": 169,
      "outputs": [
        {
          "output_type": "stream",
          "text": [
            "1000                                  [Drama, Historical]\n",
            "1001                        [Comedy, School, SliceofLife]\n",
            "1002             [Comedy, Ecchi, Romance, School, Seinen]\n",
            "1003      [Action, Drama, Fantasy, Romance, Supernatural]\n",
            "1004    [Action, Adventure, Drama, Military, Sci-Fi, S...\n",
            "1005             [Drama, Historical, School, SliceofLife]\n",
            "1006    [Action, Adventure, Comedy, Ecchi, Fantasy, Ha...\n",
            "1007                    [Action, Comedy, School, Shounen]\n",
            "1008            [Action, Adventure, Mecha, Music, Sci-Fi]\n",
            "1009        [Adventure, Comedy, Fantasy, Sci-Fi, Shounen]\n",
            "Name: genre, dtype: object\n"
          ],
          "name": "stdout"
        }
      ]
    },
    {
      "cell_type": "markdown",
      "metadata": {
        "id": "Tb3uZWV431SA"
      },
      "source": [
        "## 5. Data transformation\n",
        "\n",
        "In this step datafields are converted to fine granular elements. Also dataframes are combined, so that the data is prepared for processing in the model."
      ]
    },
    {
      "cell_type": "code",
      "metadata": {
        "id": "9-qtSksAdN98"
      },
      "source": [
        "# Now we will merge the two DataFrames, so we only have to handle one \n",
        "anime_with_ratings = pd.merge(rating_df, anime_df, on=\"anime_id\")\n",
        "\n",
        "# use regular index 1 to n\n",
        "anime_with_ratings.reset_index(level=0, inplace=True)"
      ],
      "execution_count": 170,
      "outputs": []
    },
    {
      "cell_type": "code",
      "metadata": {
        "colab": {
          "base_uri": "https://localhost:8080/",
          "height": 415
        },
        "id": "YrXnb7rZpw5L",
        "outputId": "380c0e78-6031-4af1-be1f-f55add3c7abd"
      },
      "source": [
        "anime_with_ratings"
      ],
      "execution_count": 171,
      "outputs": [
        {
          "output_type": "execute_result",
          "data": {
            "text/html": [
              "<div>\n",
              "<style scoped>\n",
              "    .dataframe tbody tr th:only-of-type {\n",
              "        vertical-align: middle;\n",
              "    }\n",
              "\n",
              "    .dataframe tbody tr th {\n",
              "        vertical-align: top;\n",
              "    }\n",
              "\n",
              "    .dataframe thead th {\n",
              "        text-align: right;\n",
              "    }\n",
              "</style>\n",
              "<table border=\"1\" class=\"dataframe\">\n",
              "  <thead>\n",
              "    <tr style=\"text-align: right;\">\n",
              "      <th></th>\n",
              "      <th>index</th>\n",
              "      <th>user_id</th>\n",
              "      <th>anime_id</th>\n",
              "      <th>rating</th>\n",
              "      <th>name</th>\n",
              "      <th>genre</th>\n",
              "      <th>type</th>\n",
              "      <th>episodes</th>\n",
              "    </tr>\n",
              "  </thead>\n",
              "  <tbody>\n",
              "    <tr>\n",
              "      <th>0</th>\n",
              "      <td>0</td>\n",
              "      <td>1</td>\n",
              "      <td>8074</td>\n",
              "      <td>10</td>\n",
              "      <td>Highschool of the Dead</td>\n",
              "      <td>[Action, Ecchi, Horror, Supernatural]</td>\n",
              "      <td>TV</td>\n",
              "      <td>12</td>\n",
              "    </tr>\n",
              "    <tr>\n",
              "      <th>1</th>\n",
              "      <td>1</td>\n",
              "      <td>3</td>\n",
              "      <td>8074</td>\n",
              "      <td>6</td>\n",
              "      <td>Highschool of the Dead</td>\n",
              "      <td>[Action, Ecchi, Horror, Supernatural]</td>\n",
              "      <td>TV</td>\n",
              "      <td>12</td>\n",
              "    </tr>\n",
              "    <tr>\n",
              "      <th>2</th>\n",
              "      <td>2</td>\n",
              "      <td>5</td>\n",
              "      <td>8074</td>\n",
              "      <td>2</td>\n",
              "      <td>Highschool of the Dead</td>\n",
              "      <td>[Action, Ecchi, Horror, Supernatural]</td>\n",
              "      <td>TV</td>\n",
              "      <td>12</td>\n",
              "    </tr>\n",
              "    <tr>\n",
              "      <th>3</th>\n",
              "      <td>3</td>\n",
              "      <td>12</td>\n",
              "      <td>8074</td>\n",
              "      <td>6</td>\n",
              "      <td>Highschool of the Dead</td>\n",
              "      <td>[Action, Ecchi, Horror, Supernatural]</td>\n",
              "      <td>TV</td>\n",
              "      <td>12</td>\n",
              "    </tr>\n",
              "    <tr>\n",
              "      <th>4</th>\n",
              "      <td>4</td>\n",
              "      <td>14</td>\n",
              "      <td>8074</td>\n",
              "      <td>6</td>\n",
              "      <td>Highschool of the Dead</td>\n",
              "      <td>[Action, Ecchi, Horror, Supernatural]</td>\n",
              "      <td>TV</td>\n",
              "      <td>12</td>\n",
              "    </tr>\n",
              "    <tr>\n",
              "      <th>...</th>\n",
              "      <td>...</td>\n",
              "      <td>...</td>\n",
              "      <td>...</td>\n",
              "      <td>...</td>\n",
              "      <td>...</td>\n",
              "      <td>...</td>\n",
              "      <td>...</td>\n",
              "      <td>...</td>\n",
              "    </tr>\n",
              "    <tr>\n",
              "      <th>6337234</th>\n",
              "      <td>6337234</td>\n",
              "      <td>69964</td>\n",
              "      <td>23585</td>\n",
              "      <td>7</td>\n",
              "      <td>Haha wo Tazunete Sanzenri Specials</td>\n",
              "      <td>[Adventure, Drama, SliceofLife]</td>\n",
              "      <td>Special</td>\n",
              "      <td>2</td>\n",
              "    </tr>\n",
              "    <tr>\n",
              "      <th>6337235</th>\n",
              "      <td>6337235</td>\n",
              "      <td>69964</td>\n",
              "      <td>33659</td>\n",
              "      <td>6</td>\n",
              "      <td>Fushigi na Somera-chan Special</td>\n",
              "      <td>[Comedy, Magic, SliceofLife]</td>\n",
              "      <td>Special</td>\n",
              "      <td>1</td>\n",
              "    </tr>\n",
              "    <tr>\n",
              "      <th>6337236</th>\n",
              "      <td>6337236</td>\n",
              "      <td>72800</td>\n",
              "      <td>30738</td>\n",
              "      <td>4</td>\n",
              "      <td>Gamba: Gamba to Nakama-tachi</td>\n",
              "      <td>[Adventure, Kids]</td>\n",
              "      <td>Movie</td>\n",
              "      <td>1</td>\n",
              "    </tr>\n",
              "    <tr>\n",
              "      <th>6337237</th>\n",
              "      <td>6337237</td>\n",
              "      <td>73135</td>\n",
              "      <td>8723</td>\n",
              "      <td>5</td>\n",
              "      <td>Anime Rakugo Kan</td>\n",
              "      <td>[Comedy]</td>\n",
              "      <td>OVA</td>\n",
              "      <td>4</td>\n",
              "    </tr>\n",
              "    <tr>\n",
              "      <th>6337238</th>\n",
              "      <td>6337238</td>\n",
              "      <td>73188</td>\n",
              "      <td>8749</td>\n",
              "      <td>6</td>\n",
              "      <td>Forestry</td>\n",
              "      <td>[Comedy]</td>\n",
              "      <td>Special</td>\n",
              "      <td>1</td>\n",
              "    </tr>\n",
              "  </tbody>\n",
              "</table>\n",
              "<p>6337239 rows × 8 columns</p>\n",
              "</div>"
            ],
            "text/plain": [
              "           index  user_id  ...     type  episodes\n",
              "0              0        1  ...       TV        12\n",
              "1              1        3  ...       TV        12\n",
              "2              2        5  ...       TV        12\n",
              "3              3       12  ...       TV        12\n",
              "4              4       14  ...       TV        12\n",
              "...          ...      ...  ...      ...       ...\n",
              "6337234  6337234    69964  ...  Special         2\n",
              "6337235  6337235    69964  ...  Special         1\n",
              "6337236  6337236    72800  ...    Movie         1\n",
              "6337237  6337237    73135  ...      OVA         4\n",
              "6337238  6337238    73188  ...  Special         1\n",
              "\n",
              "[6337239 rows x 8 columns]"
            ]
          },
          "metadata": {
            "tags": []
          },
          "execution_count": 171
        }
      ]
    },
    {
      "cell_type": "markdown",
      "metadata": {
        "id": "xYT5DuUs7h84"
      },
      "source": [
        "## 6. Advanced Data Exploration \n",
        "The transformed data will be analysed to see which similarities and patterns might occur. Also assumptions about the necessary model and the challenges that may arise while training it can be made. Furthermore, the advanced exploration of the data can be used to assess the performance of the model in later steps."
      ]
    },
    {
      "cell_type": "markdown",
      "metadata": {
        "id": "3Fv5fafLO9K2"
      },
      "source": [
        "Seaborn library will be used to visualize some of the data to get an overview over the content. Matplotlib will serve the same purpose."
      ]
    },
    {
      "cell_type": "code",
      "metadata": {
        "colab": {
          "base_uri": "https://localhost:8080/"
        },
        "id": "VkxDCpOOO8Kb",
        "outputId": "650f6b3a-426a-48bd-d544-d69c69702114"
      },
      "source": [
        "# Install seaborn and matplotlib, if theye aren't installed already (usefull for local use of the notebook)\n",
        "!pip3 install seaborn matplotlib"
      ],
      "execution_count": 172,
      "outputs": [
        {
          "output_type": "stream",
          "text": [
            "Requirement already satisfied: seaborn in /usr/local/lib/python3.7/dist-packages (0.11.1)\n",
            "Requirement already satisfied: matplotlib in /usr/local/lib/python3.7/dist-packages (3.2.2)\n",
            "Requirement already satisfied: scipy>=1.0 in /usr/local/lib/python3.7/dist-packages (from seaborn) (1.4.1)\n",
            "Requirement already satisfied: numpy>=1.15 in /usr/local/lib/python3.7/dist-packages (from seaborn) (1.19.5)\n",
            "Requirement already satisfied: pandas>=0.23 in /usr/local/lib/python3.7/dist-packages (from seaborn) (1.1.5)\n",
            "Requirement already satisfied: cycler>=0.10 in /usr/local/lib/python3.7/dist-packages (from matplotlib) (0.10.0)\n",
            "Requirement already satisfied: python-dateutil>=2.1 in /usr/local/lib/python3.7/dist-packages (from matplotlib) (2.8.1)\n",
            "Requirement already satisfied: pyparsing!=2.0.4,!=2.1.2,!=2.1.6,>=2.0.1 in /usr/local/lib/python3.7/dist-packages (from matplotlib) (2.4.7)\n",
            "Requirement already satisfied: kiwisolver>=1.0.1 in /usr/local/lib/python3.7/dist-packages (from matplotlib) (1.3.1)\n",
            "Requirement already satisfied: pytz>=2017.2 in /usr/local/lib/python3.7/dist-packages (from pandas>=0.23->seaborn) (2018.9)\n",
            "Requirement already satisfied: six in /usr/local/lib/python3.7/dist-packages (from cycler>=0.10->matplotlib) (1.15.0)\n"
          ],
          "name": "stdout"
        }
      ]
    },
    {
      "cell_type": "code",
      "metadata": {
        "id": "aPFFBfBoXh08"
      },
      "source": [
        "# packages for data visualization\n",
        "import seaborn as sns\n",
        "import matplotlib.pyplot as plt\n",
        "\n",
        "\n",
        "%matplotlib inline"
      ],
      "execution_count": 173,
      "outputs": []
    },
    {
      "cell_type": "code",
      "metadata": {
        "colab": {
          "base_uri": "https://localhost:8080/"
        },
        "id": "YvKlfIKSqQCQ",
        "outputId": "a9027fec-dab6-4504-a86a-aec6b68fa8a4"
      },
      "source": [
        "#Count all Genres in our Data-Set\n",
        "\n",
        "# This dict is used to count how often which genre is in the dataset\n",
        "genres_dict = {}\n",
        "\n",
        "# iterate through list of animes, each anime has a list of genres\n",
        "for genres in anime_df[\"genre\"]:\n",
        "  # iterate through the genres of each anime\n",
        "  for genre in genres:\n",
        "    # if the genre was already observed, increase the count by one\n",
        "    if genre in genres_dict.keys():\n",
        "      genres_dict[genre] += 1\n",
        "    # if the genre hasn't been observed yet, initilize with 1\n",
        "    else:\n",
        "      genres_dict[genre] = 1\n",
        "  \n",
        "print(genres_dict)"
      ],
      "execution_count": 174,
      "outputs": [
        {
          "output_type": "stream",
          "text": [
            "{'Drama': 2016, 'Romance': 1464, 'School': 1220, 'Supernatural': 1037, 'Action': 2845, 'Adventure': 2348, 'Fantasy': 2309, 'Magic': 778, 'Military': 426, 'Shounen': 1712, 'Comedy': 4645, 'Historical': 806, 'Parody': 408, 'Samurai': 148, 'Sci-Fi': 2070, 'Thriller': 87, 'Sports': 543, 'SuperPower': 465, 'Space': 381, 'SliceofLife': 1220, 'Mecha': 944, 'Music': 860, 'Mystery': 495, 'Seinen': 547, 'MartialArts': 265, 'Vampire': 102, 'Shoujo': 603, 'Horror': 369, 'Police': 197, 'Psychological': 229, 'Demons': 294, 'Ecchi': 637, 'Josei': 54, 'ShounenAi': 65, 'Game': 181, 'Dementia': 240, 'Harem': 317, 'Cars': 72, 'Kids': 1609, 'ShoujoAi': 55, 'undefinied': 62, 'Hentai': 1141, 'Yaoi': 39, 'Yuri': 42}\n"
          ],
          "name": "stdout"
        }
      ]
    },
    {
      "cell_type": "code",
      "metadata": {
        "id": "WrfSgjzD6b5C"
      },
      "source": [
        "#Show Top 10 Genres in our Data-Set\n",
        "from collections import Counter\n",
        "# sort the genres by how often they were counted in genres_dict\n",
        "# dict.items() returns a tuple for each key/value pair, so x[0] is the key and x[1] is the value \n",
        "top10_genres= sorted(genres_dict.items(), key=lambda x: x[1], reverse=True)[:10]\n",
        "top10_genres\n",
        "\n",
        "# Read title and count from each tuple\n",
        "top10_genres_title = [ x[0] for x in top10_genres ]\n",
        "top10_genres_count = [ x[1] for x in top10_genres ]"
      ],
      "execution_count": 175,
      "outputs": []
    },
    {
      "cell_type": "code",
      "metadata": {
        "colab": {
          "base_uri": "https://localhost:8080/",
          "height": 512
        },
        "id": "V6mlGt8AwEEF",
        "outputId": "b47ddd21-c98d-4065-a157-49da37e373af"
      },
      "source": [
        "#Plot results in a bar chart\n",
        "fig = plt.figure(figsize = (14, 6))\n",
        "plt.grid(color='#d8dcd6', linestyle='-', linewidth=2)\n",
        "ax = plt.gca()\n",
        "ax.set_axisbelow(True)\n",
        "ax.set_facecolor('#929591')\n",
        "ax.tick_params(axis=\"x\", colors=\"#ffffff\", labelsize=20)\n",
        "ax.tick_params(axis=\"y\", colors=\"#ffffff\", labelsize=13)\n",
        "fig.patch.set_facecolor('#383838')\n",
        "plt.xlabel(\"Genre\", fontsize=20).set_color(\"#ffffff\")\n",
        "plt.ylabel(\"Count\", fontsize=20).set_color(\"#ffffff\")\n",
        "plt.title(\"Top 10 Anime-Genres\", fontsize=20).set_color(\"#ffffff\")\n",
        "plt.xticks(rotation=90)\n",
        "plt.bar(height=top10_genres_count , x=top10_genres_title )\n",
        "\n",
        "#Change thickness of the frame\n",
        "for axis in ['top','bottom','left','right']:\n",
        "    ax.spines[axis].set_linewidth(2)\n",
        "\n",
        "plt.show()"
      ],
      "execution_count": 176,
      "outputs": [
        {
          "output_type": "display_data",
          "data": {
            "image/png": "[encoded data removed]",
            "text/plain": [
              "<Figure size 1008x432 with 1 Axes>"
            ]
          },
          "metadata": {
            "tags": []
          }
        }
      ]
    },
    {
      "cell_type": "code",
      "metadata": {
        "colab": {
          "base_uri": "https://localhost:8080/"
        },
        "id": "-FgfxjY5xcyU",
        "outputId": "abce93a1-269d-49de-da50-e5943f069aac"
      },
      "source": [
        "from collections import Counter\n",
        "\n",
        "#Count how often a specific type appears in our data set - use the anime dataframe with unique entries\n",
        "type_count = anime_df[\"type\"].value_counts()\n",
        "print(type_count)\n",
        "type_name= Counter(anime_df[\"type\"])\n",
        "type_name= list(sorted(type_name, key=type_name.get, reverse=True))\n",
        "print(type_name)"
      ],
      "execution_count": 177,
      "outputs": [
        {
          "output_type": "stream",
          "text": [
            "TV            3787\n",
            "OVA           3311\n",
            "Movie         2348\n",
            "Special       1676\n",
            "ONA            659\n",
            "Music          488\n",
            "undefinied      25\n",
            "Name: type, dtype: int64\n",
            "['TV', 'OVA', 'Movie', 'Special', 'ONA', 'Music', 'undefinied']\n"
          ],
          "name": "stdout"
        }
      ]
    },
    {
      "cell_type": "code",
      "metadata": {
        "colab": {
          "base_uri": "https://localhost:8080/",
          "height": 515
        },
        "id": "u3kZ-9v3yDr7",
        "outputId": "3bd20ed0-cd90-49bb-fcee-71468e9940a6"
      },
      "source": [
        "fig = plt.figure(figsize = (14, 6))\n",
        "plt.grid(color='#d8dcd6', linestyle='-', linewidth=2)\n",
        "ax = plt.gca()\n",
        "ax.set_axisbelow(True)\n",
        "ax.set_facecolor('#929591')\n",
        "ax.tick_params(axis=\"x\", colors=\"#ffffff\", labelsize=20)\n",
        "ax.tick_params(axis=\"y\", colors=\"#ffffff\", labelsize=13)\n",
        "fig.patch.set_facecolor('#383838')\n",
        "plt.xlabel(\"Type Name\", fontsize=20).set_color(\"#ffffff\")\n",
        "plt.ylabel(\"Count of Type\", fontsize=20).set_color(\"#ffffff\")\n",
        "plt.title(\"Anime type per count\", fontsize=20).set_color(\"#ffffff\")\n",
        "plt.xticks(rotation=90)\n",
        "plt.gcf().axes[0].yaxis.get_major_formatter().set_scientific(False)\n",
        "plt.bar(height=type_count,x=type_name)\n",
        "\n",
        "#Change thickness of the frame\n",
        "for axis in ['top','bottom','left','right']:\n",
        "    ax.spines[axis].set_linewidth(2)\n",
        "\n",
        "plt.show()\n",
        "\n"
      ],
      "execution_count": 178,
      "outputs": [
        {
          "output_type": "display_data",
          "data": {
            "image/png": "[encoded data removed]",
            "text/plain": [
              "<Figure size 1008x432 with 1 Axes>"
            ]
          },
          "metadata": {
            "tags": []
          }
        }
      ]
    },
    {
      "cell_type": "code",
      "metadata": {
        "colab": {
          "base_uri": "https://localhost:8080/",
          "height": 635
        },
        "id": "oET3hURWGwAq",
        "outputId": "23450af1-4ca0-4916-8718-89a657a98087"
      },
      "source": [
        "#Count Episodes in Type TV / How many Series got a specific amount of episodes?\n",
        "# Use the anime dataframe with unique entries\n",
        "fig = plt.figure(figsize = (14, 6))\n",
        "\n",
        "#Show only rows which have the type \"TV\"\n",
        "tv = anime_df[anime_df.type == \"TV\"]\n",
        "print(tv.episodes.head())\n",
        "episodes_count = tv[\"episodes\"].value_counts()\n",
        "print(episodes_count.head())\n",
        "e_t10 = episodes_count[:10]\n",
        "plt.grid(color='#d8dcd6', linestyle='-', linewidth=2)\n",
        "ax = plt.gca()\n",
        "ax.set_axisbelow(True)\n",
        "ax.set_facecolor('#929591')\n",
        "ax.tick_params(axis=\"x\", colors=\"#ffffff\", labelsize=20)\n",
        "ax.tick_params(axis=\"y\", colors=\"#ffffff\", labelsize=13)\n",
        "fig.patch.set_facecolor('#383838')\n",
        "plt.xlabel(\"Amount of Episodes\", fontsize=20).set_color(\"#ffffff\")\n",
        "plt.ylabel(\"Count of Animes\", fontsize=20).set_color(\"#ffffff\")\n",
        "plt.title(\"How many Episodes do most of the anime-series have?\", fontsize=20).set_color(\"#ffffff\")\n",
        "plt.gcf().axes[0].yaxis.get_major_formatter().set_scientific(False)\n",
        "plt.bar(height=e_t10, x=list(e_t10.index))\n",
        "#Change thickness of the frame\n",
        "for axis in ['top','bottom','left','right']:\n",
        "    ax.spines[axis].set_linewidth(2)\n",
        "\n",
        "plt.show()"
      ],
      "execution_count": 179,
      "outputs": [
        {
          "output_type": "stream",
          "text": [
            "1    64\n",
            "2    51\n",
            "3    24\n",
            "4    51\n",
            "5    10\n",
            "Name: episodes, dtype: object\n",
            "12         747\n",
            "13         518\n",
            "26         497\n",
            "Unknown    209\n",
            "52         175\n",
            "Name: episodes, dtype: int64\n"
          ],
          "name": "stdout"
        },
        {
          "output_type": "display_data",
          "data": {
            "image/png": "[encoded data removed]",
            "text/plain": [
              "<Figure size 1008x432 with 1 Axes>"
            ]
          },
          "metadata": {
            "tags": []
          }
        }
      ]
    },
    {
      "cell_type": "code",
      "metadata": {
        "colab": {
          "base_uri": "https://localhost:8080/"
        },
        "id": "EiJVQoDFDSvq",
        "outputId": "20f5aeb2-4312-4003-8339-aaf45b51463e"
      },
      "source": [
        "anime_with_ratings.columns"
      ],
      "execution_count": 180,
      "outputs": [
        {
          "output_type": "execute_result",
          "data": {
            "text/plain": [
              "Index(['index', 'user_id', 'anime_id', 'rating', 'name', 'genre', 'type',\n",
              "       'episodes'],\n",
              "      dtype='object')"
            ]
          },
          "metadata": {
            "tags": []
          },
          "execution_count": 180
        }
      ]
    },
    {
      "cell_type": "code",
      "metadata": {
        "id": "ZyxPqmJn4P2F"
      },
      "source": [
        ""
      ],
      "execution_count": 180,
      "outputs": []
    },
    {
      "cell_type": "code",
      "metadata": {
        "id": "ilxZ_CFp3-wj"
      },
      "source": [
        "# anime_with_ratings_grouped = anime_with_ratings[[\"user_id\", \"rating_y\", \"name\"]].groupby([\"rating_y\", \"name\"]).count()\n",
        "#a = anime_with_ratings[[\"genre\", \"anime_id\", \"rating\"]].groupby([\"anime_id\", \"type\"]).mean()\n",
        "#a"
      ],
      "execution_count": 181,
      "outputs": []
    },
    {
      "cell_type": "code",
      "metadata": {
        "id": "TuRAqi1B12IS"
      },
      "source": [
        "#sns.heatmap(sorted_types_rated, title = \"Most rated types\", xlabel = \"\", ylabel= \"\")"
      ],
      "execution_count": 182,
      "outputs": []
    },
    {
      "cell_type": "code",
      "metadata": {
        "colab": {
          "base_uri": "https://localhost:8080/",
          "height": 294
        },
        "id": "-FRbdEsKsdh3",
        "outputId": "1c4943de-cb38-476b-839c-2f8198f9b52e"
      },
      "source": [
        "#Create a groupby to see which Type got rated the most\n",
        "types_rated = anime_with_ratings[[\"type\", \"rating\"]].groupby([\"type\"]).count()\n",
        "types_rated.rating\n",
        "#sort via the values\n",
        "sorted_types_rated = types_rated.sort_values(\"rating\")\n",
        "sorted_types_rated"
      ],
      "execution_count": 183,
      "outputs": [
        {
          "output_type": "execute_result",
          "data": {
            "text/html": [
              "<div>\n",
              "<style scoped>\n",
              "    .dataframe tbody tr th:only-of-type {\n",
              "        vertical-align: middle;\n",
              "    }\n",
              "\n",
              "    .dataframe tbody tr th {\n",
              "        vertical-align: top;\n",
              "    }\n",
              "\n",
              "    .dataframe thead th {\n",
              "        text-align: right;\n",
              "    }\n",
              "</style>\n",
              "<table border=\"1\" class=\"dataframe\">\n",
              "  <thead>\n",
              "    <tr style=\"text-align: right;\">\n",
              "      <th></th>\n",
              "      <th>rating</th>\n",
              "    </tr>\n",
              "    <tr>\n",
              "      <th>type</th>\n",
              "      <th></th>\n",
              "    </tr>\n",
              "  </thead>\n",
              "  <tbody>\n",
              "    <tr>\n",
              "      <th>undefinied</th>\n",
              "      <td>4</td>\n",
              "    </tr>\n",
              "    <tr>\n",
              "      <th>Music</th>\n",
              "      <td>19871</td>\n",
              "    </tr>\n",
              "    <tr>\n",
              "      <th>ONA</th>\n",
              "      <td>72123</td>\n",
              "    </tr>\n",
              "    <tr>\n",
              "      <th>Special</th>\n",
              "      <td>421628</td>\n",
              "    </tr>\n",
              "    <tr>\n",
              "      <th>OVA</th>\n",
              "      <td>617166</td>\n",
              "    </tr>\n",
              "    <tr>\n",
              "      <th>Movie</th>\n",
              "      <td>842153</td>\n",
              "    </tr>\n",
              "    <tr>\n",
              "      <th>TV</th>\n",
              "      <td>4364294</td>\n",
              "    </tr>\n",
              "  </tbody>\n",
              "</table>\n",
              "</div>"
            ],
            "text/plain": [
              "             rating\n",
              "type               \n",
              "undefinied        4\n",
              "Music         19871\n",
              "ONA           72123\n",
              "Special      421628\n",
              "OVA          617166\n",
              "Movie        842153\n",
              "TV          4364294"
            ]
          },
          "metadata": {
            "tags": []
          },
          "execution_count": 183
        }
      ]
    },
    {
      "cell_type": "code",
      "metadata": {
        "id": "SIx0kOAD3Oab"
      },
      "source": [
        ""
      ],
      "execution_count": 183,
      "outputs": []
    },
    {
      "cell_type": "code",
      "metadata": {
        "colab": {
          "base_uri": "https://localhost:8080/",
          "height": 515
        },
        "id": "lXdRqZ7R7dSv",
        "outputId": "dbba608b-a7e2-4a7f-e5de-e7f9c5e62775"
      },
      "source": [
        "#Plot which anime type got rated the most\n",
        "fig = plt.figure(figsize = (14, 6))\n",
        "plt.grid(color='#d8dcd6', linestyle='-', linewidth=2)\n",
        "ax = plt.gca()\n",
        "ax.set_axisbelow(True)\n",
        "ax.set_facecolor('#929591')\n",
        "ax.tick_params(axis=\"x\", colors=\"#ffffff\", labelsize=20)\n",
        "ax.tick_params(axis=\"y\", colors=\"#ffffff\", labelsize=13)\n",
        "fig.patch.set_facecolor('#383838')\n",
        "plt.xlabel(\"Type\", fontsize=20).set_color(\"#ffffff\")\n",
        "plt.ylabel(\"Count\", fontsize=20).set_color(\"#ffffff\")\n",
        "plt.title(\"Which type got rated the most?\", fontsize=20).set_color(\"#ffffff\")\n",
        "plt.xticks(rotation=90)\n",
        "plt.gcf().axes[0].yaxis.get_major_formatter().set_scientific(False)\n",
        "plt.bar(height=sorted_types_rated.rating, x=sorted_types_rated.index)\n",
        "\n",
        "\n",
        "#Change thickness of the frame\n",
        "for axis in ['top','bottom','left','right']:\n",
        "    ax.spines[axis].set_linewidth(2)"
      ],
      "execution_count": 184,
      "outputs": [
        {
          "output_type": "display_data",
          "data": {
            "image/png": "[encoded data removed]",
            "text/plain": [
              "<Figure size 1008x432 with 1 Axes>"
            ]
          },
          "metadata": {
            "tags": []
          }
        }
      ]
    },
    {
      "cell_type": "code",
      "metadata": {
        "colab": {
          "base_uri": "https://localhost:8080/",
          "height": 294
        },
        "id": "_dbY4sM-s-QU",
        "outputId": "9ec4695f-19df-4fb3-9baa-4198c2f96546"
      },
      "source": [
        "#Get mean-values for each anime type via groupby \n",
        "meanrating_of_type = anime_with_ratings[[\"type\", \"rating\"]].groupby([\"type\"]).mean()\n",
        "meanrating_of_type\n",
        "#Sort ratings for types with sort_values\n",
        "sorted_meanrating_of_type = meanrating_of_type.sort_values(\"rating\")\n",
        "sorted_meanrating_of_type"
      ],
      "execution_count": 185,
      "outputs": [
        {
          "output_type": "execute_result",
          "data": {
            "text/html": [
              "<div>\n",
              "<style scoped>\n",
              "    .dataframe tbody tr th:only-of-type {\n",
              "        vertical-align: middle;\n",
              "    }\n",
              "\n",
              "    .dataframe tbody tr th {\n",
              "        vertical-align: top;\n",
              "    }\n",
              "\n",
              "    .dataframe thead th {\n",
              "        text-align: right;\n",
              "    }\n",
              "</style>\n",
              "<table border=\"1\" class=\"dataframe\">\n",
              "  <thead>\n",
              "    <tr style=\"text-align: right;\">\n",
              "      <th></th>\n",
              "      <th>rating</th>\n",
              "    </tr>\n",
              "    <tr>\n",
              "      <th>type</th>\n",
              "      <th></th>\n",
              "    </tr>\n",
              "  </thead>\n",
              "  <tbody>\n",
              "    <tr>\n",
              "      <th>Music</th>\n",
              "      <td>7.214282</td>\n",
              "    </tr>\n",
              "    <tr>\n",
              "      <th>ONA</th>\n",
              "      <td>7.229122</td>\n",
              "    </tr>\n",
              "    <tr>\n",
              "      <th>OVA</th>\n",
              "      <td>7.334584</td>\n",
              "    </tr>\n",
              "    <tr>\n",
              "      <th>Special</th>\n",
              "      <td>7.463639</td>\n",
              "    </tr>\n",
              "    <tr>\n",
              "      <th>TV</th>\n",
              "      <td>7.899160</td>\n",
              "    </tr>\n",
              "    <tr>\n",
              "      <th>Movie</th>\n",
              "      <td>7.922243</td>\n",
              "    </tr>\n",
              "    <tr>\n",
              "      <th>undefinied</th>\n",
              "      <td>8.500000</td>\n",
              "    </tr>\n",
              "  </tbody>\n",
              "</table>\n",
              "</div>"
            ],
            "text/plain": [
              "              rating\n",
              "type                \n",
              "Music       7.214282\n",
              "ONA         7.229122\n",
              "OVA         7.334584\n",
              "Special     7.463639\n",
              "TV          7.899160\n",
              "Movie       7.922243\n",
              "undefinied  8.500000"
            ]
          },
          "metadata": {
            "tags": []
          },
          "execution_count": 185
        }
      ]
    },
    {
      "cell_type": "code",
      "metadata": {
        "colab": {
          "base_uri": "https://localhost:8080/",
          "height": 515
        },
        "id": "z-2Q4Zr_DrKk",
        "outputId": "3bc5e196-1d4c-4520-e1c5-e0e23a5d3a12"
      },
      "source": [
        "#Plot Bar chart for the mean rating for each anime type\n",
        "fig = plt.figure(figsize = (14, 6))\n",
        "plt.grid(color='#d8dcd6', linestyle='-', linewidth=2)\n",
        "ax = plt.gca()\n",
        "ax.set_axisbelow(True)\n",
        "ax.set_facecolor('#929591')\n",
        "ax.tick_params(axis=\"x\", colors=\"#ffffff\", labelsize=20)\n",
        "ax.tick_params(axis=\"y\", colors=\"#ffffff\", labelsize=13)\n",
        "fig.patch.set_facecolor('#383838')\n",
        "plt.xlabel(\"Type\", fontsize=20).set_color(\"#ffffff\")\n",
        "plt.ylabel(\"Mean-rating\", fontsize=20).set_color(\"#ffffff\")\n",
        "plt.title(\"Mean rating for each type?\", fontsize=20).set_color(\"#ffffff\")\n",
        "plt.xticks(rotation=90)\n",
        "plt.gcf().axes[0].yaxis.get_major_formatter().set_scientific(False)\n",
        "plt.bar(height=sorted_meanrating_of_type.rating, x=sorted_meanrating_of_type.index)\n",
        "\n",
        "#Change thickness of the frame\n",
        "for axis in ['top','bottom','left','right']:\n",
        "    ax.spines[axis].set_linewidth(2)\n",
        "\n",
        "# ----------------------------------------------------------\n",
        "# Keep in mind that \"undefined\" only has 4 ratings in total!\n",
        "# ----------------------------------------------------------"
      ],
      "execution_count": 186,
      "outputs": [
        {
          "output_type": "display_data",
          "data": {
            "image/png": "[encoded data removed]",
            "text/plain": [
              "<Figure size 1008x432 with 1 Axes>"
            ]
          },
          "metadata": {
            "tags": []
          }
        }
      ]
    },
    {
      "cell_type": "code",
      "metadata": {
        "colab": {
          "base_uri": "https://localhost:8080/"
        },
        "id": "p2pZvYKdvTof",
        "outputId": "28f39038-3981-4176-9998-824c59d84c2b"
      },
      "source": [
        "#c1 = anime_with_ratings[[\"genre\", \"rating\"]].groupby([\"genre\"]).count()\n",
        "#Create a rating matrix, which we can then use for our model\n",
        "\n",
        "#We have not used the whole dataset here, otherwise the system would be overloaded.\n",
        "rating_matrix = rating_df[[\"user_id\",\"anime_id\", \"rating\"]][:2000000]\n",
        "\n",
        "#Creating the matrix with pivot table function \n",
        "rating_matrix = rating_matrix.pivot_table(index=\"user_id\",columns=\"anime_id\",values=\"rating\")\n",
        "# convert to sparse matrix \n",
        "rating_matrix = rating_matrix.astype(pd.SparseDtype(\"float\", np.nan))\n",
        "print(rating_matrix)\n",
        "\n",
        "# # convert to numpy matrix\n",
        "# rating_matrix.to_numpy()\n",
        "# print(rating_matrix)"
      ],
      "execution_count": 187,
      "outputs": [
        {
          "output_type": "stream",
          "text": [
            "anime_id  1      5      6      7      8      ...  34283  34324  34325  34349  34475\n",
            "user_id                                      ...                                   \n",
            "1           NaN    NaN    NaN    NaN    NaN  ...    NaN    NaN    NaN    NaN    NaN\n",
            "2           NaN    NaN    NaN    NaN    NaN  ...    NaN    NaN    NaN    NaN    NaN\n",
            "3           NaN    NaN    NaN    NaN    NaN  ...    NaN    NaN    NaN    NaN    NaN\n",
            "5           NaN    NaN    8.0    NaN    NaN  ...    NaN    NaN    NaN    NaN    NaN\n",
            "7           NaN    NaN    NaN    NaN    NaN  ...    NaN    NaN    NaN    NaN    NaN\n",
            "...         ...    ...    ...    ...    ...  ...    ...    ...    ...    ...    ...\n",
            "23452       NaN    NaN    NaN    NaN    NaN  ...    NaN    NaN    NaN    NaN    NaN\n",
            "23453       NaN    NaN    NaN    NaN    NaN  ...    NaN    NaN    NaN    NaN    NaN\n",
            "23454       8.0    NaN    NaN    NaN    NaN  ...    NaN    NaN    NaN    NaN    NaN\n",
            "23455       NaN    NaN    NaN    NaN    NaN  ...    NaN    NaN    NaN    NaN    NaN\n",
            "23456       9.0    8.0    NaN    NaN    NaN  ...    NaN    NaN    NaN    NaN    NaN\n",
            "\n",
            "[22175 rows x 9178 columns]\n"
          ],
          "name": "stdout"
        }
      ]
    },
    {
      "cell_type": "code",
      "metadata": {
        "colab": {
          "base_uri": "https://localhost:8080/",
          "height": 335
        },
        "id": "atmjLIHIBazT",
        "outputId": "39f2a7ad-29d6-43a9-93c9-b8a29ed75259"
      },
      "source": [
        "ax = plt.axes()\n",
        "sns.heatmap(rating_matrix[:100], cmap=\"RdYlGn\")\n",
        "\n",
        "ax.set_title('First 100 entries from users who rated animes')"
      ],
      "execution_count": 188,
      "outputs": [
        {
          "output_type": "execute_result",
          "data": {
            "text/plain": [
              "Text(0.5, 1.0, 'First 100 entries from users who rated animes')"
            ]
          },
          "metadata": {
            "tags": []
          },
          "execution_count": 188
        },
        {
          "output_type": "display_data",
          "data": {
            "image/png": "[encoded data removed]",
            "text/plain": [
              "<Figure size 432x288 with 2 Axes>"
            ]
          },
          "metadata": {
            "tags": [],
            "needs_background": "light"
          }
        }
      ]
    },
    {
      "cell_type": "code",
      "metadata": {
        "colab": {
          "base_uri": "https://localhost:8080/"
        },
        "id": "iIEhDoAkKv-S",
        "outputId": "bd8db541-7ec0-4388-c8eb-576ba4018df3"
      },
      "source": [
        "#We have not used the whole dataset here, otherwise the system would be overloaded.\n",
        "episodes_matrix = anime_with_ratings[[\"episodes\",\"anime_id\", \"rating\"]]\n",
        "\n",
        "#Creating the matrix with pivot table function \n",
        "episodes_matrix = episodes_matrix.pivot_table(index=\"anime_id\",columns=\"episodes\",values=\"rating\")\n",
        "print(episodes_matrix)\n",
        "\n",
        "# convert to numpy matrix\n",
        "episodes_matrix.to_numpy()\n",
        "print(episodes_matrix)\n",
        "\n",
        "#sns.heatmap(episodes_matrix, cmap=\"RdYlGn\")"
      ],
      "execution_count": 189,
      "outputs": [
        {
          "output_type": "stream",
          "text": [
            "episodes         1  10  100  1006  101  102  ...  95  96  97  98  99  Unknown\n",
            "anime_id                                     ...                             \n",
            "1              NaN NaN  NaN   NaN  NaN  NaN  ... NaN NaN NaN NaN NaN      NaN\n",
            "5         8.439724 NaN  NaN   NaN  NaN  NaN  ... NaN NaN NaN NaN NaN      NaN\n",
            "6              NaN NaN  NaN   NaN  NaN  NaN  ... NaN NaN NaN NaN NaN      NaN\n",
            "7              NaN NaN  NaN   NaN  NaN  NaN  ... NaN NaN NaN NaN NaN      NaN\n",
            "8              NaN NaN  NaN   NaN  NaN  NaN  ... NaN NaN NaN NaN NaN      NaN\n",
            "...            ...  ..  ...   ...  ...  ...  ...  ..  ..  ..  ..  ..      ...\n",
            "34324     5.909091 NaN  NaN   NaN  NaN  NaN  ... NaN NaN NaN NaN NaN      NaN\n",
            "34325          NaN NaN  NaN   NaN  NaN  NaN  ... NaN NaN NaN NaN NaN      NaN\n",
            "34349          NaN NaN  NaN   NaN  NaN  NaN  ... NaN NaN NaN NaN NaN      NaN\n",
            "34367     5.250000 NaN  NaN   NaN  NaN  NaN  ... NaN NaN NaN NaN NaN      NaN\n",
            "34475     6.666667 NaN  NaN   NaN  NaN  NaN  ... NaN NaN NaN NaN NaN      NaN\n",
            "\n",
            "[9926 rows x 178 columns]\n",
            "episodes         1  10  100  1006  101  102  ...  95  96  97  98  99  Unknown\n",
            "anime_id                                     ...                             \n",
            "1              NaN NaN  NaN   NaN  NaN  NaN  ... NaN NaN NaN NaN NaN      NaN\n",
            "5         8.439724 NaN  NaN   NaN  NaN  NaN  ... NaN NaN NaN NaN NaN      NaN\n",
            "6              NaN NaN  NaN   NaN  NaN  NaN  ... NaN NaN NaN NaN NaN      NaN\n",
            "7              NaN NaN  NaN   NaN  NaN  NaN  ... NaN NaN NaN NaN NaN      NaN\n",
            "8              NaN NaN  NaN   NaN  NaN  NaN  ... NaN NaN NaN NaN NaN      NaN\n",
            "...            ...  ..  ...   ...  ...  ...  ...  ..  ..  ..  ..  ..      ...\n",
            "34324     5.909091 NaN  NaN   NaN  NaN  NaN  ... NaN NaN NaN NaN NaN      NaN\n",
            "34325          NaN NaN  NaN   NaN  NaN  NaN  ... NaN NaN NaN NaN NaN      NaN\n",
            "34349          NaN NaN  NaN   NaN  NaN  NaN  ... NaN NaN NaN NaN NaN      NaN\n",
            "34367     5.250000 NaN  NaN   NaN  NaN  NaN  ... NaN NaN NaN NaN NaN      NaN\n",
            "34475     6.666667 NaN  NaN   NaN  NaN  NaN  ... NaN NaN NaN NaN NaN      NaN\n",
            "\n",
            "[9926 rows x 178 columns]\n"
          ],
          "name": "stdout"
        }
      ]
    },
    {
      "cell_type": "code",
      "metadata": {
        "colab": {
          "base_uri": "https://localhost:8080/",
          "height": 415
        },
        "id": "z7ji6vOQz75S",
        "outputId": "de026feb-2c21-4489-c8e4-32265a5a850d"
      },
      "source": [
        "anime_with_ratings"
      ],
      "execution_count": 190,
      "outputs": [
        {
          "output_type": "execute_result",
          "data": {
            "text/html": [
              "<div>\n",
              "<style scoped>\n",
              "    .dataframe tbody tr th:only-of-type {\n",
              "        vertical-align: middle;\n",
              "    }\n",
              "\n",
              "    .dataframe tbody tr th {\n",
              "        vertical-align: top;\n",
              "    }\n",
              "\n",
              "    .dataframe thead th {\n",
              "        text-align: right;\n",
              "    }\n",
              "</style>\n",
              "<table border=\"1\" class=\"dataframe\">\n",
              "  <thead>\n",
              "    <tr style=\"text-align: right;\">\n",
              "      <th></th>\n",
              "      <th>index</th>\n",
              "      <th>user_id</th>\n",
              "      <th>anime_id</th>\n",
              "      <th>rating</th>\n",
              "      <th>name</th>\n",
              "      <th>genre</th>\n",
              "      <th>type</th>\n",
              "      <th>episodes</th>\n",
              "    </tr>\n",
              "  </thead>\n",
              "  <tbody>\n",
              "    <tr>\n",
              "      <th>0</th>\n",
              "      <td>0</td>\n",
              "      <td>1</td>\n",
              "      <td>8074</td>\n",
              "      <td>10</td>\n",
              "      <td>Highschool of the Dead</td>\n",
              "      <td>[Action, Ecchi, Horror, Supernatural]</td>\n",
              "      <td>TV</td>\n",
              "      <td>12</td>\n",
              "    </tr>\n",
              "    <tr>\n",
              "      <th>1</th>\n",
              "      <td>1</td>\n",
              "      <td>3</td>\n",
              "      <td>8074</td>\n",
              "      <td>6</td>\n",
              "      <td>Highschool of the Dead</td>\n",
              "      <td>[Action, Ecchi, Horror, Supernatural]</td>\n",
              "      <td>TV</td>\n",
              "      <td>12</td>\n",
              "    </tr>\n",
              "    <tr>\n",
              "      <th>2</th>\n",
              "      <td>2</td>\n",
              "      <td>5</td>\n",
              "      <td>8074</td>\n",
              "      <td>2</td>\n",
              "      <td>Highschool of the Dead</td>\n",
              "      <td>[Action, Ecchi, Horror, Supernatural]</td>\n",
              "      <td>TV</td>\n",
              "      <td>12</td>\n",
              "    </tr>\n",
              "    <tr>\n",
              "      <th>3</th>\n",
              "      <td>3</td>\n",
              "      <td>12</td>\n",
              "      <td>8074</td>\n",
              "      <td>6</td>\n",
              "      <td>Highschool of the Dead</td>\n",
              "      <td>[Action, Ecchi, Horror, Supernatural]</td>\n",
              "      <td>TV</td>\n",
              "      <td>12</td>\n",
              "    </tr>\n",
              "    <tr>\n",
              "      <th>4</th>\n",
              "      <td>4</td>\n",
              "      <td>14</td>\n",
              "      <td>8074</td>\n",
              "      <td>6</td>\n",
              "      <td>Highschool of the Dead</td>\n",
              "      <td>[Action, Ecchi, Horror, Supernatural]</td>\n",
              "      <td>TV</td>\n",
              "      <td>12</td>\n",
              "    </tr>\n",
              "    <tr>\n",
              "      <th>...</th>\n",
              "      <td>...</td>\n",
              "      <td>...</td>\n",
              "      <td>...</td>\n",
              "      <td>...</td>\n",
              "      <td>...</td>\n",
              "      <td>...</td>\n",
              "      <td>...</td>\n",
              "      <td>...</td>\n",
              "    </tr>\n",
              "    <tr>\n",
              "      <th>6337234</th>\n",
              "      <td>6337234</td>\n",
              "      <td>69964</td>\n",
              "      <td>23585</td>\n",
              "      <td>7</td>\n",
              "      <td>Haha wo Tazunete Sanzenri Specials</td>\n",
              "      <td>[Adventure, Drama, SliceofLife]</td>\n",
              "      <td>Special</td>\n",
              "      <td>2</td>\n",
              "    </tr>\n",
              "    <tr>\n",
              "      <th>6337235</th>\n",
              "      <td>6337235</td>\n",
              "      <td>69964</td>\n",
              "      <td>33659</td>\n",
              "      <td>6</td>\n",
              "      <td>Fushigi na Somera-chan Special</td>\n",
              "      <td>[Comedy, Magic, SliceofLife]</td>\n",
              "      <td>Special</td>\n",
              "      <td>1</td>\n",
              "    </tr>\n",
              "    <tr>\n",
              "      <th>6337236</th>\n",
              "      <td>6337236</td>\n",
              "      <td>72800</td>\n",
              "      <td>30738</td>\n",
              "      <td>4</td>\n",
              "      <td>Gamba: Gamba to Nakama-tachi</td>\n",
              "      <td>[Adventure, Kids]</td>\n",
              "      <td>Movie</td>\n",
              "      <td>1</td>\n",
              "    </tr>\n",
              "    <tr>\n",
              "      <th>6337237</th>\n",
              "      <td>6337237</td>\n",
              "      <td>73135</td>\n",
              "      <td>8723</td>\n",
              "      <td>5</td>\n",
              "      <td>Anime Rakugo Kan</td>\n",
              "      <td>[Comedy]</td>\n",
              "      <td>OVA</td>\n",
              "      <td>4</td>\n",
              "    </tr>\n",
              "    <tr>\n",
              "      <th>6337238</th>\n",
              "      <td>6337238</td>\n",
              "      <td>73188</td>\n",
              "      <td>8749</td>\n",
              "      <td>6</td>\n",
              "      <td>Forestry</td>\n",
              "      <td>[Comedy]</td>\n",
              "      <td>Special</td>\n",
              "      <td>1</td>\n",
              "    </tr>\n",
              "  </tbody>\n",
              "</table>\n",
              "<p>6337239 rows × 8 columns</p>\n",
              "</div>"
            ],
            "text/plain": [
              "           index  user_id  ...     type  episodes\n",
              "0              0        1  ...       TV        12\n",
              "1              1        3  ...       TV        12\n",
              "2              2        5  ...       TV        12\n",
              "3              3       12  ...       TV        12\n",
              "4              4       14  ...       TV        12\n",
              "...          ...      ...  ...      ...       ...\n",
              "6337234  6337234    69964  ...  Special         2\n",
              "6337235  6337235    69964  ...  Special         1\n",
              "6337236  6337236    72800  ...    Movie         1\n",
              "6337237  6337237    73135  ...      OVA         4\n",
              "6337238  6337238    73188  ...  Special         1\n",
              "\n",
              "[6337239 rows x 8 columns]"
            ]
          },
          "metadata": {
            "tags": []
          },
          "execution_count": 190
        }
      ]
    },
    {
      "cell_type": "code",
      "metadata": {
        "colab": {
          "base_uri": "https://localhost:8080/",
          "height": 415
        },
        "id": "_kMaz3QItoqB",
        "outputId": "00230394-3aa2-49ad-9a3e-21f28c48ead8"
      },
      "source": [
        "#Überprüfen ob die Werte so auch wirklich stimmen oder nicht\n",
        "rating_df[rating_df.anime_id == 20]"
      ],
      "execution_count": 191,
      "outputs": [
        {
          "output_type": "execute_result",
          "data": {
            "text/html": [
              "<div>\n",
              "<style scoped>\n",
              "    .dataframe tbody tr th:only-of-type {\n",
              "        vertical-align: middle;\n",
              "    }\n",
              "\n",
              "    .dataframe tbody tr th {\n",
              "        vertical-align: top;\n",
              "    }\n",
              "\n",
              "    .dataframe thead th {\n",
              "        text-align: right;\n",
              "    }\n",
              "</style>\n",
              "<table border=\"1\" class=\"dataframe\">\n",
              "  <thead>\n",
              "    <tr style=\"text-align: right;\">\n",
              "      <th></th>\n",
              "      <th>user_id</th>\n",
              "      <th>anime_id</th>\n",
              "      <th>rating</th>\n",
              "    </tr>\n",
              "  </thead>\n",
              "  <tbody>\n",
              "    <tr>\n",
              "      <th>156</th>\n",
              "      <td>3</td>\n",
              "      <td>20</td>\n",
              "      <td>8</td>\n",
              "    </tr>\n",
              "    <tr>\n",
              "      <th>306</th>\n",
              "      <td>5</td>\n",
              "      <td>20</td>\n",
              "      <td>6</td>\n",
              "    </tr>\n",
              "    <tr>\n",
              "      <th>2282</th>\n",
              "      <td>21</td>\n",
              "      <td>20</td>\n",
              "      <td>8</td>\n",
              "    </tr>\n",
              "    <tr>\n",
              "      <th>2795</th>\n",
              "      <td>28</td>\n",
              "      <td>20</td>\n",
              "      <td>9</td>\n",
              "    </tr>\n",
              "    <tr>\n",
              "      <th>3114</th>\n",
              "      <td>34</td>\n",
              "      <td>20</td>\n",
              "      <td>9</td>\n",
              "    </tr>\n",
              "    <tr>\n",
              "      <th>...</th>\n",
              "      <td>...</td>\n",
              "      <td>...</td>\n",
              "      <td>...</td>\n",
              "    </tr>\n",
              "    <tr>\n",
              "      <th>7811138</th>\n",
              "      <td>73495</td>\n",
              "      <td>20</td>\n",
              "      <td>7</td>\n",
              "    </tr>\n",
              "    <tr>\n",
              "      <th>7811298</th>\n",
              "      <td>73496</td>\n",
              "      <td>20</td>\n",
              "      <td>10</td>\n",
              "    </tr>\n",
              "    <tr>\n",
              "      <th>7811299</th>\n",
              "      <td>73497</td>\n",
              "      <td>20</td>\n",
              "      <td>8</td>\n",
              "    </tr>\n",
              "    <tr>\n",
              "      <th>7811363</th>\n",
              "      <td>73499</td>\n",
              "      <td>20</td>\n",
              "      <td>8</td>\n",
              "    </tr>\n",
              "    <tr>\n",
              "      <th>7811963</th>\n",
              "      <td>73500</td>\n",
              "      <td>20</td>\n",
              "      <td>8</td>\n",
              "    </tr>\n",
              "  </tbody>\n",
              "</table>\n",
              "<p>22071 rows × 3 columns</p>\n",
              "</div>"
            ],
            "text/plain": [
              "         user_id  anime_id  rating\n",
              "156            3        20       8\n",
              "306            5        20       6\n",
              "2282          21        20       8\n",
              "2795          28        20       9\n",
              "3114          34        20       9\n",
              "...          ...       ...     ...\n",
              "7811138    73495        20       7\n",
              "7811298    73496        20      10\n",
              "7811299    73497        20       8\n",
              "7811363    73499        20       8\n",
              "7811963    73500        20       8\n",
              "\n",
              "[22071 rows x 3 columns]"
            ]
          },
          "metadata": {
            "tags": []
          },
          "execution_count": 191
        }
      ]
    },
    {
      "cell_type": "code",
      "metadata": {
        "id": "usPAtnaKDtQA"
      },
      "source": [
        "#sns.heatmap(anime_with_ratings_grouped, columns=\"user_id\")"
      ],
      "execution_count": 192,
      "outputs": []
    },
    {
      "cell_type": "markdown",
      "metadata": {
        "id": "okxxiQqo90EC"
      },
      "source": [
        "## 6. Model selection & implementation\n",
        "Model selection will contain a discussion about considerations that were made to select a fitting model for this dataset and context. It will also provide the scientific foundation for the selected model and any further considerations that went into the model selection and appropriate metrics that are derived from the model or fed into the model. "
      ]
    },
    {
      "cell_type": "markdown",
      "metadata": {
        "id": "7CUdK82rZbDr"
      },
      "source": [
        "Recommendation systems methods are divided into two categories, that we want to address, before stating which method we chose.\n",
        "\n",
        "#### **1. Collaborative Filtering**\n",
        "This approach is based on user-item interactions like ratings, likes and dislikes for a certain item. The basic idea is that users with a similar taste (in this example similar ratings for items) can be identified. Based on those neighbouring / similar users and their content interactions, recommendations can be made. ([Burke et al., 2011](https://ojs.aaai.org/index.php/aimagazine/article/view/2361))\n",
        "\n",
        "Such user-item interactions are stored in the so called \"user-item matrix\", where the columns represent the users and the row represent the items or vice versa. The entries in each cell represent the interaction between the item and the user in numeric values, like a rating from 1 to 10. The user-item matrix is sparse, because there are many user-item interactions that didn't occur, yet. The class of collaborative filtering definies how the user-item matrix is populated. These collaborative filtering classes are: memory based and model based.([Xu et al., 2012](https://citeseerx.ist.psu.edu/viewdoc/download?doi=10.1.1.461.2978&rep=rep1&type=pdf))\n",
        "\n",
        "##### **memory based**\n",
        "Memory based collaborative filtering uses similarity metrics to find users with similar preferences from the sparse user-item matrix. According to [Stephen et al., 2017](https://researchrepository.murdoch.edu.au/id/eprint/38661/1/a32-Stephen.pdf) the memory based approach can be represented by 3 steps:\n",
        "1. Calculate a similarity measure between two users or two items\n",
        "2. Predict the user-item interaction based on a weighted average over all ratings of the user or item\n",
        "3. Generate a top X ranking based on that user or item\n",
        "\n",
        "\n",
        "##### **model based**\n",
        "The model based approach uses machine learning to build a model that can describe the user preferences that are already present in the user-item matrix. That model is then used to fill in the gaps in the user-item matrix and therefore predict how different users would interact with a certain item.\n",
        "That information is then used to give recommendations to the user. ([Yu et al., 2004](http://citeseerx.ist.psu.edu/viewdoc/download?doi=10.1.1.329.8903&rep=rep1&type=pdf))\n",
        "\n",
        "\n",
        "\n",
        "</br>\n",
        "</br>\n",
        "\n",
        "#### **2. Content-based filtering**\n",
        "This approach analyses the user preferences and tries to find similarities in the prefered items of that specific user ([Reddy et al., 2019](https://www.academia.edu/download/62049148/contentbased20200209-27698-l8hk2i.pdf)). It does so by using attributes of the prefered items such as genre, brand, publisher, type and so on. Therefore, the user profile is based on inherent information of the items prefered by them, in contrast to collaborative filtering, where the user profile is based on other users preferences.\n",
        "\n",
        "According to [Reddy et al., 2019](https://www.academia.edu/download/62049148/contentbased20200209-27698-l8hk2i.pdf) there are three methods of content based filtering:\n",
        "\n",
        "1. **Wrapper methods** that split features of the items into subsets and evaluates which subset is most relevant\n",
        "2. **Filter Methods** that rank the relevance of features with a heuristic\n",
        "3. **Embedded Methods** use a Machine Learning algorithm that selects relevant features during the training phase\n"
      ]
    },
    {
      "cell_type": "markdown",
      "metadata": {
        "id": "sSdJa665_0C9"
      },
      "source": [
        "### **Selecting the model**\n",
        "\n",
        "After what has been learned about different approaches to recommender systems, which method is the best fit for the dataset and the context of anime recommendation.\n",
        "\n",
        "First of all both content-based filtering and collaborative filtering would be possible, as the dataset has some features for each anime and also thousands of preferences for different users.\n",
        "\n",
        "Based on the [this](https://arxiv.org/pdf/1905.01395.pdf) study by Rendle et al. in 2019 Matrix factorization is not only a baseline model for recomender systems, but can even outperform newly proposed models if used properly. Rendle et al. research also indicates that matrix factorization is a good fit for datasets such as the Netflix Prize as seen in [this](https://citeseerx.ist.psu.edu/viewdoc/download?doi=10.1.1.115.6998&rep=rep1&type=pdf) paper or the movielense dataset. Both of these datasets have similar features as the anime dataset, that is used in this Jupyter Notebook.\n"
      ]
    },
    {
      "cell_type": "markdown",
      "metadata": {
        "id": "st-xNbJQb_zL"
      },
      "source": [
        "The general mechanics of matrix factorization are, that we have a sparse matrix with user ratings. It is sparse because there are alot of anime that many users haven't watched. In other words there are many user-anime combinations, but only few of them occured and resulted in a user rating an anime.\n",
        "\n",
        "The objective of matrix factorization is to fill the sparse matrix. This is achieved by splitting the matrix $M$ into factors $A$ and $B$, that when multiplied, result in approximately the same Matrix:\n",
        "\n",
        "$ M \\approx A \\times B $\n",
        "\n",
        "In this context:\n",
        "\n",
        "![image.png](data:image/png;base64,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)\n",
        "\n",
        "\n",
        "This will result in the empty cells of the Matrix also beeing populated. To fit the factors, so that they can represent the entries in matrix $M$ as good as possible, a cost function is used to optimize $A$ and $B$."
      ]
    },
    {
      "cell_type": "markdown",
      "metadata": {
        "id": "n56KmsmzbmO6"
      },
      "source": [
        "The next step is to build a matrix factorization class, that we can use to fit, train and use the model. First of all a cost function for the matrix factorization model needs to be implemented. Mean squared Error will be used for this task."
      ]
    },
    {
      "cell_type": "code",
      "metadata": {
        "id": "54ywLcE6a-2N"
      },
      "source": [
        "import tensorflow_recommenders as tfrs"
      ],
      "execution_count": 193,
      "outputs": []
    },
    {
      "cell_type": "markdown",
      "metadata": {
        "id": "MEce--oFWmkV"
      },
      "source": [
        "## 6.1 Creating the tensorflow dataset\n",
        "Create a tenforflow.data.Dataset, that is transformed for processing. Afterwards the dataset is split into train and test datasets, that are used to train and improve the model, and afterwards to check the performance of the model on new inputs."
      ]
    },
    {
      "cell_type": "code",
      "metadata": {
        "id": "stEadxgta7mq"
      },
      "source": [
        "model_df = rating_df[:10000]\n",
        "\n",
        "# converting dataframe to tensorflow dataset, which is necessary for some models\n",
        "# dataset with anime_ids and user_ids as features and ratings as gold labels\n",
        "dataset = tf.data.Dataset.from_tensor_slices((model_df[[\"anime_id\", \"user_id\"]].to_dict(\"list\"), model_df[\"rating\"].values))"
      ],
      "execution_count": 194,
      "outputs": []
    },
    {
      "cell_type": "code",
      "metadata": {
        "id": "RgZUzYWI-AIv"
      },
      "source": [
        "# to get a better understanding of the dataset uncomment the lines below\n",
        "# for item in dataset:\n",
        "#   print(item)"
      ],
      "execution_count": 195,
      "outputs": []
    },
    {
      "cell_type": "code",
      "metadata": {
        "id": "LBCN_VJcufo0"
      },
      "source": [
        "# list(dataset.as_numpy_iterator())"
      ],
      "execution_count": 196,
      "outputs": []
    },
    {
      "cell_type": "code",
      "metadata": {
        "colab": {
          "base_uri": "https://localhost:8080/"
        },
        "id": "DaBIGIksbngG",
        "outputId": "2f27d3d7-680b-4b81-c8eb-43d967d6b833"
      },
      "source": [
        "# print some sample features and according ratings (gold label)\n",
        "for features, label in dataset.shuffle(buffer_size=64).take(5):\n",
        "  print(f'Features: {features}, Label (rating): {label}')"
      ],
      "execution_count": 197,
      "outputs": [
        {
          "output_type": "stream",
          "text": [
            "Features: {'anime_id': <tf.Tensor: shape=(), dtype=int32, numpy=6880>, 'user_id': <tf.Tensor: shape=(), dtype=int32, numpy=3>}, Label (rating): 6\n",
            "Features: {'anime_id': <tf.Tensor: shape=(), dtype=int32, numpy=16512>, 'user_id': <tf.Tensor: shape=(), dtype=int32, numpy=3>}, Label (rating): 5\n",
            "Features: {'anime_id': <tf.Tensor: shape=(), dtype=int32, numpy=9760>, 'user_id': <tf.Tensor: shape=(), dtype=int32, numpy=3>}, Label (rating): 9\n",
            "Features: {'anime_id': <tf.Tensor: shape=(), dtype=int32, numpy=2201>, 'user_id': <tf.Tensor: shape=(), dtype=int32, numpy=3>}, Label (rating): 7\n",
            "Features: {'anime_id': <tf.Tensor: shape=(), dtype=int32, numpy=9107>, 'user_id': <tf.Tensor: shape=(), dtype=int32, numpy=3>}, Label (rating): 6\n"
          ],
          "name": "stdout"
        }
      ]
    },
    {
      "cell_type": "code",
      "metadata": {
        "id": "4t32741aWXiG"
      },
      "source": [
        "def train_test_split(dataset, train=0.8):\n",
        "  # split the dataset into train and test data\n",
        "  len_dataset = tf.data.experimental.cardinality(dataset).numpy()\n",
        "  size_train = int(train * len_dataset)\n",
        "  rand_dataset = dataset.shuffle(buffer_size=128)\n",
        "\n",
        "  # take the calculated amount of training entries from the dataset\n",
        "  train_dataset = rand_dataset.take(size_train)\n",
        "  # take the remaining data into test\n",
        "  test_dataset = rand_dataset.skip(size_train).take(len_dataset-size_train)\n",
        "  return train_dataset, test_dataset"
      ],
      "execution_count": 198,
      "outputs": []
    },
    {
      "cell_type": "code",
      "metadata": {
        "id": "cBEDTwsyEQ6j"
      },
      "source": [
        "# Create test and split dataset\n",
        "train, test = train_test_split(dataset)\n",
        "# for item in train:\n",
        "#   print(item)\n",
        "# print(train)"
      ],
      "execution_count": 199,
      "outputs": []
    },
    {
      "cell_type": "code",
      "metadata": {
        "id": "b8pTPXV30vyT"
      },
      "source": [
        "def transform_tf_dataset(dataset):\n",
        "  dataset_transformed = [feature for feature, label in dataset]\n",
        "\n",
        "  # we want to preserve the datatype of the dataset\n",
        "  # We want each item in the dataset to be a dict of user_id and anime_id\n",
        "  # currently features is the dict that we want\n",
        "  dataset_transformed = dataset.map(lambda features, label: {\n",
        "      \"user_id\": features[\"user_id\"],\n",
        "      \"anime_id\": features[\"anime_id\"]\n",
        "  })\n",
        "  print(dataset_transformed)\n",
        "  return dataset_transformed"
      ],
      "execution_count": 200,
      "outputs": []
    },
    {
      "cell_type": "code",
      "metadata": {
        "colab": {
          "base_uri": "https://localhost:8080/"
        },
        "id": "lC5geyJ0Lv58",
        "outputId": "8488fe4e-db3e-4619-c644-035cbc336b57"
      },
      "source": [
        "train = transform_tf_dataset(train)\n",
        "test = transform_tf_dataset(test)"
      ],
      "execution_count": 201,
      "outputs": [
        {
          "output_type": "stream",
          "text": [
            "<MapDataset shapes: {user_id: (), anime_id: ()}, types: {user_id: tf.int32, anime_id: tf.int32}>\n",
            "<MapDataset shapes: {user_id: (), anime_id: ()}, types: {user_id: tf.int32, anime_id: tf.int32}>\n"
          ],
          "name": "stdout"
        }
      ]
    },
    {
      "cell_type": "markdown",
      "metadata": {
        "id": "9_02zKnDXOFm"
      },
      "source": [
        "## 6.2 Building the model\n",
        "Test and train datasets are used to create Matrix Factorization models: the present user and anime information is split into Matrix Factors with the tf.keras.layers.Embedding() function."
      ]
    },
    {
      "cell_type": "code",
      "metadata": {
        "id": "xnCnddjCJAzx"
      },
      "source": [
        "def create_seq_ids(src_ids):\n",
        "  # create a dictionary that maps the non-sequential ids to sequential ids\n",
        "  ids_vocab = tf.keras.layers.experimental.preprocessing.IntegerLookup(mask_token=None)\n",
        "  ids_vocab.adapt(src_ids)\n",
        " \n",
        "  return ids_vocab\n",
        "\n",
        "# get the anime ids in the dataset\n",
        "# anime_ids_prev = [feature[\"anime_id\"] for feature, label in dataset]\n",
        "\n",
        "user_ids_train = create_seq_ids(train.map(lambda x: x[\"user_id\"]))\n",
        "anime_ids_train = create_seq_ids(train.map(lambda x: x[\"anime_id\"]))\n",
        "\n",
        "user_ids_test = create_seq_ids(test.map(lambda x: x[\"user_id\"]))\n",
        "anime_ids_test = create_seq_ids(test.map(lambda x: x[\"anime_id\"]))\n"
      ],
      "execution_count": 202,
      "outputs": []
    },
    {
      "cell_type": "code",
      "metadata": {
        "colab": {
          "base_uri": "https://localhost:8080/"
        },
        "id": "f7BViHO5MJzn",
        "outputId": "fdedb193-5027-42ee-a339-81deeeea79fd"
      },
      "source": [
        "def build_model(vocab_ids, num_features=32):\n",
        "  # create Sequential model that has functions for training and evaluating the split into feature matrices\n",
        "  # Embeddings function will automatically represent input labels as matrix factorizations\n",
        "  # user feature matrix: (USERS x Features) \n",
        "  # anime feature matrix: (ANIMES x Features) \n",
        "  model = tf.keras.Sequential([\n",
        "      vocab_ids,\n",
        "      tf.keras.layers.Embedding(vocab_ids.vocabulary_size(), num_features)\n",
        "  ])\n",
        "  return model\n",
        "\n",
        "user_model_train = build_model(user_ids_train)\n",
        "anime_model_train = build_model(anime_ids_train)\n",
        "\n",
        "print(user_model)"
      ],
      "execution_count": 203,
      "outputs": [
        {
          "output_type": "stream",
          "text": [
            "<tensorflow.python.keras.engine.sequential.Sequential object at 0x7efbf2f6c450>\n"
          ],
          "name": "stdout"
        }
      ]
    },
    {
      "cell_type": "code",
      "metadata": {
        "id": "fBYchMPHAIq7"
      },
      "source": [
        "class MFModel(tfrs.Model):\n",
        "  # tfrs provides boilerplate code for recommendation-based models\n",
        "  # We use the boilerplate and extend it with our own code\n",
        "  def __init__(\n",
        "      self,\n",
        "      user_model: tf.keras.Model,\n",
        "      anime_model: tf.keras.Model,\n",
        "      select: tfrs.tasks.Retrieval):\n",
        "    super().__init__()\n",
        "\n",
        "    # Set up user and anime feature matrices\n",
        "    self.user_model = user_model\n",
        "    self.anime_model = anime_model\n",
        "    # Set the function that will be used to select important anime_ids\n",
        "    self.select = select\n",
        "\n",
        "  def compute_loss(self, features, training=False) -> tf.Tensor:\n",
        "    user_features = self.user_model(features[\"user_id\"])\n",
        "    anime_features = self.anime_model(features[\"anime_id\"])\n",
        "    # select based on anime and user feature matrices\n",
        "    return self.select(user_features, anime_features)\n",
        "\n",
        "  "
      ],
      "execution_count": 204,
      "outputs": []
    },
    {
      "cell_type": "markdown",
      "metadata": {
        "id": "OpSJnPCnY2yP"
      },
      "source": [
        "##6.3 Executing the model\n",
        "Initilize parameters for the model and provide user input for the specific user and their top k recommendations. First the model is trained with the training dataset and later on evaluated with the test dataset. Afterwards the top recommendations are printed."
      ]
    },
    {
      "cell_type": "code",
      "metadata": {
        "id": "D2qgWwkRUXlS"
      },
      "source": [
        "# Define task to retrieve animes from the anime dataset\n",
        "anime_dataset_train = train.map(lambda x: x[\"anime_id\"])\n",
        "\n",
        "task = tfrs.tasks.Retrieval(\n",
        "    metrics=tfrs.metrics.FactorizedTopK(\n",
        "        anime_dataset_train.batch(128).map(anime_model_train)\n",
        "  )\n",
        ")"
      ],
      "execution_count": 205,
      "outputs": []
    },
    {
      "cell_type": "code",
      "metadata": {
        "colab": {
          "base_uri": "https://localhost:8080/"
        },
        "id": "pFWxJ7_oD4kL",
        "outputId": "ee3fa808-adaf-4167-d14e-cdf4b64c850c"
      },
      "source": [
        "# user input\n",
        "user = 3012\n",
        "top_k = 5\n",
        "\n",
        "\n",
        "model = MFModel(user_model_train, anime_model_train, task)\n",
        "# Use Adagrad loss function to optimize the model in training\n",
        "model.compile(optimizer=tf.keras.optimizers.Adagrad(0.001))\n",
        "\n",
        "print(\"========= Begin training the model =========\\n\")\n",
        "# Train the model\n",
        "model.fit(train.batch(200), epochs=3)\n",
        "\n",
        "print(\"\\n========= Begin testing the model =========\\n\")\n",
        "# evaluate model on the test dataset\n",
        "model.evaluate(test.batch(128),return_dict=True)\n",
        "\n",
        "# Use brute-force search to select Top k results after training\n",
        "index = tfrs.layers.factorized_top_k.BruteForce(model.user_model)\n",
        "index.index(anime_dataset_train.batch(128).map(model.anime_model), anime_dataset_train)\n",
        "\n",
        "\n",
        "# Test recommendations for specific user \n",
        "_, anime_id = index(np.array([user]))\n",
        "print(f\"\\nTop {top_k} recommendations for user {user}:\")\n",
        "\n",
        "# loop over suggested animes and print the top_k animes \n",
        "for iter, id in enumerate(anime_id[0][:top_k]):\n",
        "  anime_title_col = anime_df[anime_df.anime_id==id][\"name\"]\n",
        "  anime_title = anime_title_col.values[0]\n",
        "  print(iter+1, anime_title)\n"
      ],
      "execution_count": 206,
      "outputs": [
        {
          "output_type": "stream",
          "text": [
            "========= Begin training the model =========\n",
            "\n",
            "Epoch 1/3\n",
            "40/40 [==============================] - 17s 395ms/step - factorized_top_k/top_1_categorical_accuracy: 0.0000e+00 - factorized_top_k/top_5_categorical_accuracy: 3.7500e-04 - factorized_top_k/top_10_categorical_accuracy: 0.0010 - factorized_top_k/top_50_categorical_accuracy: 0.0054 - factorized_top_k/top_100_categorical_accuracy: 0.0101 - loss: 1059.6550 - regularization_loss: 0.0000e+00 - total_loss: 1059.6550\n",
            "Epoch 2/3\n",
            "40/40 [==============================] - 16s 393ms/step - factorized_top_k/top_1_categorical_accuracy: 0.0000e+00 - factorized_top_k/top_5_categorical_accuracy: 2.5000e-04 - factorized_top_k/top_10_categorical_accuracy: 0.0010 - factorized_top_k/top_50_categorical_accuracy: 0.0052 - factorized_top_k/top_100_categorical_accuracy: 0.0110 - loss: 1059.6475 - regularization_loss: 0.0000e+00 - total_loss: 1059.6475\n",
            "Epoch 3/3\n",
            "40/40 [==============================] - 16s 397ms/step - factorized_top_k/top_1_categorical_accuracy: 0.0000e+00 - factorized_top_k/top_5_categorical_accuracy: 3.7500e-04 - factorized_top_k/top_10_categorical_accuracy: 0.0011 - factorized_top_k/top_50_categorical_accuracy: 0.0056 - factorized_top_k/top_100_categorical_accuracy: 0.0113 - loss: 1059.6307 - regularization_loss: 0.0000e+00 - total_loss: 1059.6307\n",
            "\n",
            "========= Begin testing the model =========\n",
            "\n",
            "16/16 [==============================] - 6s 334ms/step - factorized_top_k/top_1_categorical_accuracy: 5.0000e-04 - factorized_top_k/top_5_categorical_accuracy: 0.0010 - factorized_top_k/top_10_categorical_accuracy: 0.0015 - factorized_top_k/top_50_categorical_accuracy: 0.0070 - factorized_top_k/top_100_categorical_accuracy: 0.0155 - loss: 589.2380 - regularization_loss: 0.0000e+00 - total_loss: 589.2380\n",
            "\n",
            "Top 5 recommendations for user 3012:\n",
            "1 Kanokon\n",
            "2 Higurashi no Naku Koro ni Kaku: Outbreak\n",
            "3 Highschool of the Dead\n",
            "4 Mahou Sensou\n",
            "5 Darker than Black: Ryuusei no Gemini\n"
          ],
          "name": "stdout"
        }
      ]
    },
    {
      "cell_type": "markdown",
      "metadata": {
        "id": "ELz2OQjDZvRr"
      },
      "source": [
        "## 6.4 Code that didn't work properly\n",
        "The implemented model didn't train propely. A tensorflow method called tf.gradient_tape() is used. It observes input variables, that should be learned. Those variables are updated using the gradient descent algorithm. Unfortunately gradient_tape() only recorded gradients of zeros. Therefore updating variables and training the model was not possible."
      ]
    },
    {
      "cell_type": "code",
      "metadata": {
        "id": "gFvVlk1gb0ab"
      },
      "source": [
        "class MFModel():\n",
        "  \"\"\"\n",
        "  Model to fit, train and apply matrix factorisation for anime recommendation.\n",
        "  The Matrix should have the structure users (rows) x animes (columns)\n",
        "\n",
        "  Parameters:\n",
        "  ----\n",
        "  df: 1-D pd.DataFrame with user and anime ids, that are used to create a tensor with dimensions N x M where N = users, M = animes\n",
        "  num_features: number of features that user- and anime-feature matrix will have. More features are computational expensive, but result in fine granular results\n",
        "  \"\"\"\n",
        "\n",
        "  def __init__(self, df, num_features):\n",
        "    #### Init data structures ####\n",
        "    # save the dataframe, as it can be used for further data manipulation \n",
        "    self.df = df\n",
        "    # save the matrix as a tensorflow tensor\n",
        "    self.matrix = self.create_matrix(df)\n",
        "    print(f\"\\n ========= Init Model =========\\n\")\n",
        "    print(f\"TensorFlow Matrix with shape {self.matrix.shape} was created\")\n",
        "   \n",
        "    # Data split, that can be used with train_split() function\n",
        "    self.split_data = {\n",
        "        \"train\": None, # will hold the train tensor\n",
        "        \"test\": None # will hold test tensor\n",
        "        }\n",
        "    self.split_df = {\n",
        "        \"train\": None, # will hold the train df\n",
        "        \"test\": None # will hold test df\n",
        "        }\n",
        "    self.feature_matrices = {\n",
        "        \"train\": {          # both feature matrices for the train dataset\n",
        "            \"users\": None,\n",
        "            \"animes\": None\n",
        "        },\n",
        "        \"test\": {           # both feature matrices for the test dataset\n",
        "            \"users\": None,\n",
        "            \"animes\": None\n",
        "        }\n",
        "    }\n",
        "\n",
        "    #### Metadata ####\n",
        "    # num of rows = num of users\n",
        "    self.num_users = self.matrix.shape[0]\n",
        "    # num of columns = num of animes\n",
        "    self.num_animes = self.matrix.shape[1]\n",
        "    self.num_cells = self.num_animes * self.num_users\n",
        "    self.num_features = num_features\n",
        "    # mean of matrix rating, ignoring NaN\n",
        "    self.mean = np.nanmean(self.df[\"rating\"].values)\n",
        "    print(f\"\\nThe mean of the input matrix is: {self.mean}\")\n",
        "    # standard deviation of matrix ratings, ignoring NaN\n",
        "    self.std = np.nanstd(self.df[\"rating\"].values)\n",
        "    print(f\"The standard deviation of the input matrix is: {self.std}\")\n",
        "\n",
        "    #### Model training vars ####\n",
        "    self.mse_list = []\n",
        "\n",
        "\n",
        "  def create_matrix(self, df, row=\"user_id\", col=\"anime_id\"):\n",
        "    \"\"\"\n",
        "    Takes a input pandas dataframe and creates a tf.SparseTensor\n",
        "    with column and row indices with sequential indices that start with 0.\n",
        "\n",
        "    Param\n",
        "    ---- \n",
        "    df: A 1-D pd.DataFrame with 3 columns for user, anime (name for those are definied with the other params) and \"rating\"\n",
        "    row: name of the column in the dataframe that will be used as rows in the tensor\n",
        "    col: name of the column in the dataframe that will be used as columns in the tensor\n",
        "    \"\"\"\n",
        "    #df_cp = df.copy()\n",
        "    # create sorted list of unique user and item ids\n",
        "    row_ids = df[row].unique().tolist()\n",
        "    row_ids.sort()\n",
        "    col_ids = df[col].unique().tolist()\n",
        "    col_ids.sort()\n",
        "    # we count: row = unique users and col = unique animes\n",
        "    num_rows = len(row_ids)\n",
        "    num_cols = len(col_ids)\n",
        "    # create sequential ids\n",
        "    row_ids_seq = list(range(num_rows))\n",
        "    col_ids_seq = list(range(num_cols))\n",
        "\n",
        "    # create dictionary that maps existing non-sequential ids to new sequential ids\n",
        "    replace_rows_map = {key:value for key, value in zip(row_ids, row_ids_seq)}\n",
        "    replace_cols_map = {key:value for key, value in zip(col_ids, col_ids_seq)}\n",
        "\n",
        "    # reindex to have sequential indices that start from 0\n",
        "    df[row].replace(replace_rows_map, inplace=True)\n",
        "    df[col].replace(replace_cols_map, inplace=True)\n",
        "    \n",
        "    #print(df_cp.head(5))\n",
        "\n",
        "    # create sparse tensor with dimensions USER x ANIME\n",
        "    return tf.SparseTensor(\n",
        "        indices=df[[row, col]].values,\n",
        "        values=df[\"rating\"].values,\n",
        "        dense_shape=[num_rows, num_cols]\n",
        "    )\n",
        "     \n",
        "\n",
        "\n",
        "\n",
        "  def init_feature_matrices(self):\n",
        "    \"\"\"\n",
        "    Initilizes feature matrices for train and test tensors.\n",
        "    Where the feature matrices have shape:\n",
        "    user feature matrix: (USERS x Features) \n",
        "    anime feature matrix: (Features x ANIMES) \n",
        "    So that rating_matrix is approximately (USERS x Features) X (Features x ANIMES) \n",
        "    \"\"\"\n",
        "    # construct a random normal distribution of values that roughly equals \n",
        "    # the mean and standard deviation of the original matrix\n",
        "    # We multiply every feature matrices like so: \n",
        "    # user feature matrix of shape (num_users X num_features) := A\n",
        "    # Anime feature matrix of shape (num_features X num_animes) := B\n",
        "    # M = A x B\n",
        "    # where each cell (i,j) in matrix M is the sum over row i in A multiplied with col j in B\n",
        "    adjusted_mean = (self.mean**0.5)/self.num_features\n",
        "    adjusted_std = (self.mean**0.5)/self.num_features\n",
        "\n",
        "    #### Init train matrices ####\n",
        "    # shape of train tensor\n",
        "    train_users, train_animes = self.split_data[\"train\"].shape # shape is USERS x ANIMES\n",
        "    self.feature_matrices[\"train\"][\"users\"] = tf.Variable(\n",
        "        tf.random.normal(\n",
        "        [train_users, self.num_features], # shape USERS x Features\n",
        "        mean=adjusted_mean, stddev=adjusted_std, dtype=tf.float16\n",
        "        ), trainable=True)\n",
        "    self.feature_matrices[\"train\"][\"animes\"] = tf.Variable(\n",
        "        tf.random.normal(\n",
        "        [self.num_features, train_animes], # shape Features x ANIMES\n",
        "        mean=adjusted_mean, stddev=adjusted_std, dtype=tf.float16\n",
        "        ), trainable=True)\n",
        "    \n",
        "    print(f\"\\nCreated train feature matrices with shape USERS = {self.feature_matrices['train']['users'].shape} and ANIMES = {self.feature_matrices['train']['animes'].shape}\")\n",
        "    \n",
        "    #### Init test matrices ####\n",
        "    test_users, test_animes = self.split_data[\"test\"].shape # shape is USERS x ANIMES\n",
        "    self.feature_matrices[\"test\"][\"users\"] = tf.Variable(\n",
        "        tf.random.normal(\n",
        "        [test_users, self.num_features], # shape USERS x Features\n",
        "        mean=adjusted_mean, stddev=adjusted_std, dtype=tf.float16\n",
        "        ), trainable=False)\n",
        "    self.feature_matrices[\"test\"][\"animes\"] = tf.Variable(\n",
        "        tf.random.normal(\n",
        "        [self.num_features, test_animes], # shape Features x ANIMES\n",
        "        mean=adjusted_mean, stddev=adjusted_std, dtype=tf.float16\n",
        "        ), trainable=False)\n",
        "\n",
        "    print(f\"Created test feature matrices with shape USERS = {self.feature_matrices['test']['users'].shape} and ANIMES = {self.feature_matrices['test']['animes'].shape}\\n\")    \n",
        "\n",
        "  def train_split(self, train=0.7):\n",
        "    \"\"\"\n",
        "    Split dataframe into training and test data.\n",
        "\n",
        "    Param\n",
        "    ---\n",
        "    train: percentage of tensor data, that will be training data\n",
        "    test: 1 - train is automatically used for test percentage\n",
        "    \"\"\"\n",
        "    if train > 1.0:\n",
        "      raise ValueError(\"Please insert valid data split. Train and test data should sum up to 100%\")\n",
        "    \n",
        "    # assign train % of the dataframe to train dataset\n",
        "    self.split_df[\"train\"] = self.df.sample(frac=train)\n",
        "    # assign rest of the dataset to test dataset and shuffle the data\n",
        "    self.split_df[\"test\"] = self.df.drop(self.split_df[\"train\"].index).sample(frac=1.0)\n",
        "\n",
        "    # convert to tensor and save in instance\n",
        "    self.split_data[\"train\"] = self.create_matrix(self.split_df[\"train\"])\n",
        "    self.split_data[\"test\"] = self.create_matrix(self.split_df[\"test\"])\n",
        "\n",
        "    print(\"\\n========= Created train and test split =========\\n\")\n",
        "    # create anime and user feature matrices for the fresh split\n",
        "    self.init_feature_matrices()\n",
        "    # self.feature_matrices[\"train\"] = train_feature_matrix\n",
        "    # self.feature_matrices[\"test\"] = test_feature_matrix\n",
        "\n",
        "  # Implemented but didn't used in the end\n",
        "  # def transform_matrix(self, matrix):\n",
        "  #   \"\"\"\n",
        "  #   Transforms the matrix to encorporate percentage values, as rating values between 0 and 1 \n",
        "  #   are not prone for arithmetic overflow and extensive memory usage. Arithmetic underflow is not\n",
        "  #   a problem, because each iteration only two values are multiplied.\n",
        "  #   \"\"\"\n",
        "  #   # find max and min entry and ignore nan values\n",
        "  #   max = np.nanmax(matrix)\n",
        "  #   min = np.nanmin(matrix)\n",
        "  #   return (matrix - min)/(max - min) \n",
        "\n",
        "  def create_predictions(self, user_mat, anime_mat, split=\"train\", verbose=False):\n",
        "    # # user and anime matrices for the selected datasplit (train or test)\n",
        "    # user_mat = self.feature_matrices[split][\"users\"]\n",
        "    # anime_mat = self.feature_matrices[split][\"animes\"]\n",
        "    # Original train or test tensor\n",
        "    orig_mat = self.split_data[split]\n",
        "\n",
        "    # multiply the feature matrices and\n",
        "    # select the values where the original matrix has entries\n",
        "    # (we can't calculate mse if the original matrix was empty in that cell)\n",
        "    pred = tf.gather_nd(\n",
        "        tf.matmul(user_mat, anime_mat), \n",
        "        orig_mat.indices\n",
        "        )\n",
        "    \n",
        "    if verbose:\n",
        "      print(\"user features: \", user_mat)\n",
        "      print(\"anime features: \", anime_mat)\n",
        "      print(\"prediction: \", pred)\n",
        "      print(\"original: \", orig_mat.values)\n",
        "\n",
        "    return pred\n",
        "\n",
        "  # MSE Cost function for matrix factorization\n",
        "  def mse(self, orig_mat, pred, split=\"train\", verbose=False):\n",
        "    '''\n",
        "    Calculates the mean square error between the product of anime-feature x user-feature and the corresponding cell in Matrix M, based on data that was fit to the object.\n",
        "\n",
        "    Param\n",
        "    ---\n",
        "    orig_mat: Original train or test tensor, that will be compared to the predictions; shape (N, M)\n",
        "    pred: predicition values for each (non-empty) cell in the original matrix; shape (NxM, 0)\n",
        "    split: str that specifies if train or test dataset should be used to calculate mse\n",
        "    '''\n",
        "    if verbose:\n",
        "      print(f\"\\n========= Mean Squared Error =========\\n\")\n",
        "      print(f\"Calculating mse over {pred.shape} values\")\n",
        "\n",
        "    # calculate mse between original matrix and predictions\n",
        "    mse_val = tf.losses.mean_squared_error(orig_mat.values, pred)\n",
        "    print(f\"Mean Squared Error is: {mse_val}\")\n",
        "    return mse_val\n",
        "\n",
        "  def train(self, learning_rate=0.1, momentum=0.9, epochs=10):\n",
        "    optimizer = tf.keras.optimizers.SGD(learning_rate=learning_rate, momentum=momentum)\n",
        "    \n",
        "    # user and anime feature matrices for the train datasplit that are used to compute predicitions\n",
        "    user_mat = self.feature_matrices[\"train\"][\"users\"]\n",
        "    anime_mat = self.feature_matrices[\"train\"][\"animes\"]\n",
        "    # trainable variable are user and anime feature matrices of the training dataset\n",
        "    train_vars = [user_mat, anime_mat]\n",
        "\n",
        "    for epoch in range(epochs):\n",
        "      # Observe how the mse changes over iterations\n",
        "      with tf.GradientTape() as tape:\n",
        "        print(tape)\n",
        "        tape.watch(user_mat)\n",
        "        tape.watch(anime_mat)\n",
        "        pred = self.create_predictions(user_mat, anime_mat)\n",
        "        orig = self.split_data[\"train\"]\n",
        "        loss = self.mse(orig, pred)\n",
        "        # # save the mse every 10 iterations to visualize it later\n",
        "        # if epoch % 10 == 0:\n",
        "        #   self.mse_list.append(mse)\n",
        "      \n",
        "      # estimate the gradient by observing how loss changes when training_variables are modified\n",
        "      gradients = tape.gradient(loss, [user_mat, anime_mat])\n",
        "      print(gradients)\n",
        "      optimizer.apply_gradients(zip(gradients, train_vars))\n",
        "      \n",
        "      # #### Bug here #### #\n",
        "      # This model didn't work because the graident tape did only record gradients of zero\n",
        "      # Therefore the model could not be trained properly\n",
        "      # #### ######## #### #\n",
        "\n",
        "      # res = optimizer.minimize(self.mse, (self.feature_matrices[\"train\"][\"users\"], self.feature_matrices[\"train\"][\"animes\"]))\n",
        "      # print(res)\n",
        "\n",
        "\n"
      ],
      "execution_count": 283,
      "outputs": []
    },
    {
      "cell_type": "code",
      "metadata": {
        "colab": {
          "base_uri": "https://localhost:8080/"
        },
        "id": "KzjaTOR64KSy",
        "outputId": "8d6d5c58-7864-4f60-aee4-187d38122e8f"
      },
      "source": [
        "# create the matrix factorization model\n",
        "# Using the whole dataset might crash the session because of RAM restriction, so only use a sample\n",
        "# The hyperparameter number of features also called embeddings can be selected here\n",
        "model = MFModel(rating_df[:100000], 15)\n",
        "# Split the data into train and test dataset\n",
        "model.train_split(train=0.7)"
      ],
      "execution_count": 284,
      "outputs": [
        {
          "output_type": "stream",
          "text": [
            "/usr/local/lib/python3.7/dist-packages/pandas/core/series.py:4582: SettingWithCopyWarning: \n",
            "A value is trying to be set on a copy of a slice from a DataFrame\n",
            "\n",
            "See the caveats in the documentation: https://pandas.pydata.org/pandas-docs/stable/user_guide/indexing.html#returning-a-view-versus-a-copy\n",
            "  method=method,\n"
          ],
          "name": "stderr"
        },
        {
          "output_type": "stream",
          "text": [
            "\n",
            " ========= Init Model =========\n",
            "\n",
            "TensorFlow Matrix with shape (1202, 4775) was created\n",
            "\n",
            "The mean of the input matrix is: 7.86499\n",
            "The standard deviation of the input matrix is: 1.5478573254340984\n",
            "\n",
            "========= Created train and test split =========\n",
            "\n",
            "\n",
            "Created train feature matrices with shape USERS = (1174, 15) and ANIMES = (15, 4350)\n",
            "Created test feature matrices with shape USERS = (1122, 15) and ANIMES = (15, 3409)\n",
            "\n"
          ],
          "name": "stdout"
        }
      ]
    },
    {
      "cell_type": "code",
      "metadata": {
        "colab": {
          "base_uri": "https://localhost:8080/"
        },
        "id": "J3D4xvPObq2d",
        "outputId": "41684471-ab15-4bd2-d36a-4a60d45a2f96"
      },
      "source": [
        "pred = model.create_predictions(model.feature_matrices[\"train\"][\"users\"], model.feature_matrices[\"train\"][\"animes\"])\n",
        "orig_mat = model.split_data[\"train\"]\n",
        "mse = model.mse(orig_mat, pred, split=\"train\", verbose=False)"
      ],
      "execution_count": 286,
      "outputs": [
        {
          "output_type": "stream",
          "text": [
            "Mean Squared Error is: nan\n"
          ],
          "name": "stdout"
        }
      ]
    },
    {
      "cell_type": "markdown",
      "metadata": {
        "id": "98JWRkSKaBGx"
      },
      "source": [
        "Gradients stay at 0 even though those sources show similar implementations:\n",
        "- https://stackoverflow.com/questions/64605596/simple-way-of-performing-matrix-factorization-with-tensorflow-2\n",
        "\n",
        "- https://www.pyimagesearch.com/2020/03/23/using-tensorflow-and-gradienttape-to-train-a-keras-model/\n",
        "\n",
        "- https://sujitpal.blogspot.com/2019/04/matrix-factorization-as-gradient.html\n",
        "\n",
        "- https://www.tensorflow.org/api_docs/python/tf/keras/optimizers/Optimizer"
      ]
    },
    {
      "cell_type": "code",
      "metadata": {
        "colab": {
          "base_uri": "https://localhost:8080/"
        },
        "id": "shoSkxiXwVQx",
        "outputId": "0f303418-3113-488b-993e-136f6fa84ace"
      },
      "source": [
        "model.train(learning_rate=.01)"
      ],
      "execution_count": 287,
      "outputs": [
        {
          "output_type": "stream",
          "text": [
            "<tensorflow.python.eager.backprop.GradientTape object at 0x7efbf2934c50>\n",
            "Mean Squared Error is: nan\n",
            "[<tf.Tensor: shape=(1174, 15), dtype=float16, numpy=\n",
            "array([[0., 0., 0., ..., 0., 0., 0.],\n",
            "       [0., 0., 0., ..., 0., 0., 0.],\n",
            "       [0., 0., 0., ..., 0., 0., 0.],\n",
            "       ...,\n",
            "       [0., 0., 0., ..., 0., 0., 0.],\n",
            "       [0., 0., 0., ..., 0., 0., 0.],\n",
            "       [0., 0., 0., ..., 0., 0., 0.]], dtype=float16)>, <tf.Tensor: shape=(15, 4350), dtype=float16, numpy=\n",
            "array([[0., 0., 0., ..., 0., 0., 0.],\n",
            "       [0., 0., 0., ..., 0., 0., 0.],\n",
            "       [0., 0., 0., ..., 0., 0., 0.],\n",
            "       ...,\n",
            "       [0., 0., 0., ..., 0., 0., 0.],\n",
            "       [0., 0., 0., ..., 0., 0., 0.],\n",
            "       [0., 0., 0., ..., 0., 0., 0.]], dtype=float16)>]\n",
            "<tensorflow.python.eager.backprop.GradientTape object at 0x7efbf509ff50>\n",
            "Mean Squared Error is: nan\n",
            "[<tf.Tensor: shape=(1174, 15), dtype=float16, numpy=\n",
            "array([[0., 0., 0., ..., 0., 0., 0.],\n",
            "       [0., 0., 0., ..., 0., 0., 0.],\n",
            "       [0., 0., 0., ..., 0., 0., 0.],\n",
            "       ...,\n",
            "       [0., 0., 0., ..., 0., 0., 0.],\n",
            "       [0., 0., 0., ..., 0., 0., 0.],\n",
            "       [0., 0., 0., ..., 0., 0., 0.]], dtype=float16)>, <tf.Tensor: shape=(15, 4350), dtype=float16, numpy=\n",
            "array([[0., 0., 0., ..., 0., 0., 0.],\n",
            "       [0., 0., 0., ..., 0., 0., 0.],\n",
            "       [0., 0., 0., ..., 0., 0., 0.],\n",
            "       ...,\n",
            "       [0., 0., 0., ..., 0., 0., 0.],\n",
            "       [0., 0., 0., ..., 0., 0., 0.],\n",
            "       [0., 0., 0., ..., 0., 0., 0.]], dtype=float16)>]\n",
            "<tensorflow.python.eager.backprop.GradientTape object at 0x7efbf509ff90>\n",
            "Mean Squared Error is: nan\n",
            "[<tf.Tensor: shape=(1174, 15), dtype=float16, numpy=\n",
            "array([[0., 0., 0., ..., 0., 0., 0.],\n",
            "       [0., 0., 0., ..., 0., 0., 0.],\n",
            "       [0., 0., 0., ..., 0., 0., 0.],\n",
            "       ...,\n",
            "       [0., 0., 0., ..., 0., 0., 0.],\n",
            "       [0., 0., 0., ..., 0., 0., 0.],\n",
            "       [0., 0., 0., ..., 0., 0., 0.]], dtype=float16)>, <tf.Tensor: shape=(15, 4350), dtype=float16, numpy=\n",
            "array([[0., 0., 0., ..., 0., 0., 0.],\n",
            "       [0., 0., 0., ..., 0., 0., 0.],\n",
            "       [0., 0., 0., ..., 0., 0., 0.],\n",
            "       ...,\n",
            "       [0., 0., 0., ..., 0., 0., 0.],\n",
            "       [0., 0., 0., ..., 0., 0., 0.],\n",
            "       [0., 0., 0., ..., 0., 0., 0.]], dtype=float16)>]\n",
            "<tensorflow.python.eager.backprop.GradientTape object at 0x7efbf294c910>\n",
            "Mean Squared Error is: nan\n",
            "[<tf.Tensor: shape=(1174, 15), dtype=float16, numpy=\n",
            "array([[0., 0., 0., ..., 0., 0., 0.],\n",
            "       [0., 0., 0., ..., 0., 0., 0.],\n",
            "       [0., 0., 0., ..., 0., 0., 0.],\n",
            "       ...,\n",
            "       [0., 0., 0., ..., 0., 0., 0.],\n",
            "       [0., 0., 0., ..., 0., 0., 0.],\n",
            "       [0., 0., 0., ..., 0., 0., 0.]], dtype=float16)>, <tf.Tensor: shape=(15, 4350), dtype=float16, numpy=\n",
            "array([[0., 0., 0., ..., 0., 0., 0.],\n",
            "       [0., 0., 0., ..., 0., 0., 0.],\n",
            "       [0., 0., 0., ..., 0., 0., 0.],\n",
            "       ...,\n",
            "       [0., 0., 0., ..., 0., 0., 0.],\n",
            "       [0., 0., 0., ..., 0., 0., 0.],\n",
            "       [0., 0., 0., ..., 0., 0., 0.]], dtype=float16)>]\n",
            "<tensorflow.python.eager.backprop.GradientTape object at 0x7efbf294c710>\n",
            "Mean Squared Error is: nan\n",
            "[<tf.Tensor: shape=(1174, 15), dtype=float16, numpy=\n",
            "array([[0., 0., 0., ..., 0., 0., 0.],\n",
            "       [0., 0., 0., ..., 0., 0., 0.],\n",
            "       [0., 0., 0., ..., 0., 0., 0.],\n",
            "       ...,\n",
            "       [0., 0., 0., ..., 0., 0., 0.],\n",
            "       [0., 0., 0., ..., 0., 0., 0.],\n",
            "       [0., 0., 0., ..., 0., 0., 0.]], dtype=float16)>, <tf.Tensor: shape=(15, 4350), dtype=float16, numpy=\n",
            "array([[0., 0., 0., ..., 0., 0., 0.],\n",
            "       [0., 0., 0., ..., 0., 0., 0.],\n",
            "       [0., 0., 0., ..., 0., 0., 0.],\n",
            "       ...,\n",
            "       [0., 0., 0., ..., 0., 0., 0.],\n",
            "       [0., 0., 0., ..., 0., 0., 0.],\n",
            "       [0., 0., 0., ..., 0., 0., 0.]], dtype=float16)>]\n",
            "<tensorflow.python.eager.backprop.GradientTape object at 0x7efbf4823e90>\n",
            "Mean Squared Error is: nan\n",
            "[<tf.Tensor: shape=(1174, 15), dtype=float16, numpy=\n",
            "array([[0., 0., 0., ..., 0., 0., 0.],\n",
            "       [0., 0., 0., ..., 0., 0., 0.],\n",
            "       [0., 0., 0., ..., 0., 0., 0.],\n",
            "       ...,\n",
            "       [0., 0., 0., ..., 0., 0., 0.],\n",
            "       [0., 0., 0., ..., 0., 0., 0.],\n",
            "       [0., 0., 0., ..., 0., 0., 0.]], dtype=float16)>, <tf.Tensor: shape=(15, 4350), dtype=float16, numpy=\n",
            "array([[0., 0., 0., ..., 0., 0., 0.],\n",
            "       [0., 0., 0., ..., 0., 0., 0.],\n",
            "       [0., 0., 0., ..., 0., 0., 0.],\n",
            "       ...,\n",
            "       [0., 0., 0., ..., 0., 0., 0.],\n",
            "       [0., 0., 0., ..., 0., 0., 0.],\n",
            "       [0., 0., 0., ..., 0., 0., 0.]], dtype=float16)>]\n",
            "<tensorflow.python.eager.backprop.GradientTape object at 0x7efbf509ff50>\n",
            "Mean Squared Error is: nan\n",
            "[<tf.Tensor: shape=(1174, 15), dtype=float16, numpy=\n",
            "array([[0., 0., 0., ..., 0., 0., 0.],\n",
            "       [0., 0., 0., ..., 0., 0., 0.],\n",
            "       [0., 0., 0., ..., 0., 0., 0.],\n",
            "       ...,\n",
            "       [0., 0., 0., ..., 0., 0., 0.],\n",
            "       [0., 0., 0., ..., 0., 0., 0.],\n",
            "       [0., 0., 0., ..., 0., 0., 0.]], dtype=float16)>, <tf.Tensor: shape=(15, 4350), dtype=float16, numpy=\n",
            "array([[0., 0., 0., ..., 0., 0., 0.],\n",
            "       [0., 0., 0., ..., 0., 0., 0.],\n",
            "       [0., 0., 0., ..., 0., 0., 0.],\n",
            "       ...,\n",
            "       [0., 0., 0., ..., 0., 0., 0.],\n",
            "       [0., 0., 0., ..., 0., 0., 0.],\n",
            "       [0., 0., 0., ..., 0., 0., 0.]], dtype=float16)>]\n",
            "<tensorflow.python.eager.backprop.GradientTape object at 0x7efbf4823410>\n",
            "Mean Squared Error is: nan\n",
            "[<tf.Tensor: shape=(1174, 15), dtype=float16, numpy=\n",
            "array([[0., 0., 0., ..., 0., 0., 0.],\n",
            "       [0., 0., 0., ..., 0., 0., 0.],\n",
            "       [0., 0., 0., ..., 0., 0., 0.],\n",
            "       ...,\n",
            "       [0., 0., 0., ..., 0., 0., 0.],\n",
            "       [0., 0., 0., ..., 0., 0., 0.],\n",
            "       [0., 0., 0., ..., 0., 0., 0.]], dtype=float16)>, <tf.Tensor: shape=(15, 4350), dtype=float16, numpy=\n",
            "array([[0., 0., 0., ..., 0., 0., 0.],\n",
            "       [0., 0., 0., ..., 0., 0., 0.],\n",
            "       [0., 0., 0., ..., 0., 0., 0.],\n",
            "       ...,\n",
            "       [0., 0., 0., ..., 0., 0., 0.],\n",
            "       [0., 0., 0., ..., 0., 0., 0.],\n",
            "       [0., 0., 0., ..., 0., 0., 0.]], dtype=float16)>]\n",
            "<tensorflow.python.eager.backprop.GradientTape object at 0x7efbf509ff90>\n",
            "Mean Squared Error is: nan\n",
            "[<tf.Tensor: shape=(1174, 15), dtype=float16, numpy=\n",
            "array([[0., 0., 0., ..., 0., 0., 0.],\n",
            "       [0., 0., 0., ..., 0., 0., 0.],\n",
            "       [0., 0., 0., ..., 0., 0., 0.],\n",
            "       ...,\n",
            "       [0., 0., 0., ..., 0., 0., 0.],\n",
            "       [0., 0., 0., ..., 0., 0., 0.],\n",
            "       [0., 0., 0., ..., 0., 0., 0.]], dtype=float16)>, <tf.Tensor: shape=(15, 4350), dtype=float16, numpy=\n",
            "array([[0., 0., 0., ..., 0., 0., 0.],\n",
            "       [0., 0., 0., ..., 0., 0., 0.],\n",
            "       [0., 0., 0., ..., 0., 0., 0.],\n",
            "       ...,\n",
            "       [0., 0., 0., ..., 0., 0., 0.],\n",
            "       [0., 0., 0., ..., 0., 0., 0.],\n",
            "       [0., 0., 0., ..., 0., 0., 0.]], dtype=float16)>]\n",
            "<tensorflow.python.eager.backprop.GradientTape object at 0x7efbf43618d0>\n",
            "Mean Squared Error is: nan\n",
            "[<tf.Tensor: shape=(1174, 15), dtype=float16, numpy=\n",
            "array([[0., 0., 0., ..., 0., 0., 0.],\n",
            "       [0., 0., 0., ..., 0., 0., 0.],\n",
            "       [0., 0., 0., ..., 0., 0., 0.],\n",
            "       ...,\n",
            "       [0., 0., 0., ..., 0., 0., 0.],\n",
            "       [0., 0., 0., ..., 0., 0., 0.],\n",
            "       [0., 0., 0., ..., 0., 0., 0.]], dtype=float16)>, <tf.Tensor: shape=(15, 4350), dtype=float16, numpy=\n",
            "array([[0., 0., 0., ..., 0., 0., 0.],\n",
            "       [0., 0., 0., ..., 0., 0., 0.],\n",
            "       [0., 0., 0., ..., 0., 0., 0.],\n",
            "       ...,\n",
            "       [0., 0., 0., ..., 0., 0., 0.],\n",
            "       [0., 0., 0., ..., 0., 0., 0.],\n",
            "       [0., 0., 0., ..., 0., 0., 0.]], dtype=float16)>]\n"
          ],
          "name": "stdout"
        }
      ]
    },
    {
      "cell_type": "markdown",
      "metadata": {
        "id": "lK1_1q0u-u8y"
      },
      "source": [
        "## 7. Cosine Similarity implementation\n",
        "Cosine similarity is calculated over entries in the ratings matrix. The most similar animes based on a user selected anime are selected. The similarity is calculated taking anime name, type and genre into account. "
      ]
    },
    {
      "cell_type": "code",
      "metadata": {
        "id": "nUYkgm6Egwwx",
        "colab": {
          "base_uri": "https://localhost:8080/",
          "height": 415
        },
        "outputId": "4df477ea-8442-470a-aeba-f8416fa71530"
      },
      "source": [
        "from sklearn.metrics.pairwise import cosine_similarity\n",
        "from sklearn.feature_extraction.text import CountVectorizer\n",
        "\n",
        "#Make sure that the columns have the right type before appending them\n",
        "anime_df[\"genre\"] = anime_df[\"genre\"].replace(np.nan, \"undefinied\")\n",
        "anime_df[\"type\"] = anime_df[\"type\"].replace(np.nan, \"undefinied\")\n",
        "\n",
        "anime_df[\"name\"] =anime_df[\"name\"].astype(str)\n",
        "anime_df[\"type\"] = anime_df[\"type\"].astype(str)\n",
        "anime_df[\"genre\"] = anime_df[\"genre\"].astype(str)\n",
        "#anime_df.index = anime_df[\"anime_id\"]\n",
        "#function which creates the column with the important informations automatically\n",
        "'''def get_important_features(data):\n",
        "  important_features= []\n",
        "\n",
        "  for i in range(0, data.shape[0]):\n",
        "      important_features.append(data[\"name\"][i]+ ' ' +data[\"type\"][i]) \n",
        "    \n",
        "  return get_important_features'''\n",
        "\n",
        "#Check if all columns have some values\n",
        "colums=[\"name\", \"type\", \"genre\"]\n",
        "\n",
        "#If there are Null Values contained in the DataFrame, an TypeError with messame \"Not String\" will occure\n",
        "if anime_df[colums].isnull().values.any():\n",
        "  raise TypeError('NotString')\n",
        "\n",
        "\n",
        "\n",
        "\n",
        "#Get the important features for each row\n",
        "#testing[\"important_feats\"] = get_important_features(testing)\n",
        "anime_df"
      ],
      "execution_count": 211,
      "outputs": [
        {
          "output_type": "execute_result",
          "data": {
            "text/html": [
              "<div>\n",
              "<style scoped>\n",
              "    .dataframe tbody tr th:only-of-type {\n",
              "        vertical-align: middle;\n",
              "    }\n",
              "\n",
              "    .dataframe tbody tr th {\n",
              "        vertical-align: top;\n",
              "    }\n",
              "\n",
              "    .dataframe thead th {\n",
              "        text-align: right;\n",
              "    }\n",
              "</style>\n",
              "<table border=\"1\" class=\"dataframe\">\n",
              "  <thead>\n",
              "    <tr style=\"text-align: right;\">\n",
              "      <th></th>\n",
              "      <th>anime_id</th>\n",
              "      <th>name</th>\n",
              "      <th>genre</th>\n",
              "      <th>type</th>\n",
              "      <th>episodes</th>\n",
              "    </tr>\n",
              "  </thead>\n",
              "  <tbody>\n",
              "    <tr>\n",
              "      <th>0</th>\n",
              "      <td>32281</td>\n",
              "      <td>Kimi no Na wa.</td>\n",
              "      <td>['Drama', 'Romance', 'School', 'Supernatural']</td>\n",
              "      <td>Movie</td>\n",
              "      <td>1</td>\n",
              "    </tr>\n",
              "    <tr>\n",
              "      <th>1</th>\n",
              "      <td>5114</td>\n",
              "      <td>Fullmetal Alchemist: Brotherhood</td>\n",
              "      <td>['Action', 'Adventure', 'Drama', 'Fantasy', 'M...</td>\n",
              "      <td>TV</td>\n",
              "      <td>64</td>\n",
              "    </tr>\n",
              "    <tr>\n",
              "      <th>2</th>\n",
              "      <td>28977</td>\n",
              "      <td>Gintama°</td>\n",
              "      <td>['Action', 'Comedy', 'Historical', 'Parody', '...</td>\n",
              "      <td>TV</td>\n",
              "      <td>51</td>\n",
              "    </tr>\n",
              "    <tr>\n",
              "      <th>3</th>\n",
              "      <td>9253</td>\n",
              "      <td>Steins;Gate</td>\n",
              "      <td>['Sci-Fi', 'Thriller']</td>\n",
              "      <td>TV</td>\n",
              "      <td>24</td>\n",
              "    </tr>\n",
              "    <tr>\n",
              "      <th>4</th>\n",
              "      <td>9969</td>\n",
              "      <td>Gintama&amp;#039;</td>\n",
              "      <td>['Action', 'Comedy', 'Historical', 'Parody', '...</td>\n",
              "      <td>TV</td>\n",
              "      <td>51</td>\n",
              "    </tr>\n",
              "    <tr>\n",
              "      <th>...</th>\n",
              "      <td>...</td>\n",
              "      <td>...</td>\n",
              "      <td>...</td>\n",
              "      <td>...</td>\n",
              "      <td>...</td>\n",
              "    </tr>\n",
              "    <tr>\n",
              "      <th>12289</th>\n",
              "      <td>9316</td>\n",
              "      <td>Toushindai My Lover: Minami tai Mecha-Minami</td>\n",
              "      <td>['Hentai']</td>\n",
              "      <td>OVA</td>\n",
              "      <td>1</td>\n",
              "    </tr>\n",
              "    <tr>\n",
              "      <th>12290</th>\n",
              "      <td>5543</td>\n",
              "      <td>Under World</td>\n",
              "      <td>['Hentai']</td>\n",
              "      <td>OVA</td>\n",
              "      <td>1</td>\n",
              "    </tr>\n",
              "    <tr>\n",
              "      <th>12291</th>\n",
              "      <td>5621</td>\n",
              "      <td>Violence Gekiga David no Hoshi</td>\n",
              "      <td>['Hentai']</td>\n",
              "      <td>OVA</td>\n",
              "      <td>4</td>\n",
              "    </tr>\n",
              "    <tr>\n",
              "      <th>12292</th>\n",
              "      <td>6133</td>\n",
              "      <td>Violence Gekiga Shin David no Hoshi: Inma Dens...</td>\n",
              "      <td>['Hentai']</td>\n",
              "      <td>OVA</td>\n",
              "      <td>1</td>\n",
              "    </tr>\n",
              "    <tr>\n",
              "      <th>12293</th>\n",
              "      <td>26081</td>\n",
              "      <td>Yasuji no Pornorama: Yacchimae!!</td>\n",
              "      <td>['Hentai']</td>\n",
              "      <td>Movie</td>\n",
              "      <td>1</td>\n",
              "    </tr>\n",
              "  </tbody>\n",
              "</table>\n",
              "<p>12294 rows × 5 columns</p>\n",
              "</div>"
            ],
            "text/plain": [
              "       anime_id  ... episodes\n",
              "0         32281  ...        1\n",
              "1          5114  ...       64\n",
              "2         28977  ...       51\n",
              "3          9253  ...       24\n",
              "4          9969  ...       51\n",
              "...         ...  ...      ...\n",
              "12289      9316  ...        1\n",
              "12290      5543  ...        1\n",
              "12291      5621  ...        4\n",
              "12292      6133  ...        1\n",
              "12293     26081  ...        1\n",
              "\n",
              "[12294 rows x 5 columns]"
            ]
          },
          "metadata": {
            "tags": []
          },
          "execution_count": 211
        }
      ]
    },
    {
      "cell_type": "code",
      "metadata": {
        "id": "zn2kyFUAbEf9",
        "colab": {
          "base_uri": "https://localhost:8080/",
          "height": 415
        },
        "outputId": "770ddf84-fa2c-411a-ed06-bf236eb18bc8"
      },
      "source": [
        "#Alternative way as the function does not work\n",
        "anime_df[\"important_feats\"] = anime_df[\"name\"]+ ' ' + anime_df[\"type\"]+ ' ' + anime_df[\"genre\"]\n",
        "anime_df"
      ],
      "execution_count": 212,
      "outputs": [
        {
          "output_type": "execute_result",
          "data": {
            "text/html": [
              "<div>\n",
              "<style scoped>\n",
              "    .dataframe tbody tr th:only-of-type {\n",
              "        vertical-align: middle;\n",
              "    }\n",
              "\n",
              "    .dataframe tbody tr th {\n",
              "        vertical-align: top;\n",
              "    }\n",
              "\n",
              "    .dataframe thead th {\n",
              "        text-align: right;\n",
              "    }\n",
              "</style>\n",
              "<table border=\"1\" class=\"dataframe\">\n",
              "  <thead>\n",
              "    <tr style=\"text-align: right;\">\n",
              "      <th></th>\n",
              "      <th>anime_id</th>\n",
              "      <th>name</th>\n",
              "      <th>genre</th>\n",
              "      <th>type</th>\n",
              "      <th>episodes</th>\n",
              "      <th>important_feats</th>\n",
              "    </tr>\n",
              "  </thead>\n",
              "  <tbody>\n",
              "    <tr>\n",
              "      <th>0</th>\n",
              "      <td>32281</td>\n",
              "      <td>Kimi no Na wa.</td>\n",
              "      <td>['Drama', 'Romance', 'School', 'Supernatural']</td>\n",
              "      <td>Movie</td>\n",
              "      <td>1</td>\n",
              "      <td>Kimi no Na wa. Movie ['Drama', 'Romance', 'Sch...</td>\n",
              "    </tr>\n",
              "    <tr>\n",
              "      <th>1</th>\n",
              "      <td>5114</td>\n",
              "      <td>Fullmetal Alchemist: Brotherhood</td>\n",
              "      <td>['Action', 'Adventure', 'Drama', 'Fantasy', 'M...</td>\n",
              "      <td>TV</td>\n",
              "      <td>64</td>\n",
              "      <td>Fullmetal Alchemist: Brotherhood TV ['Action',...</td>\n",
              "    </tr>\n",
              "    <tr>\n",
              "      <th>2</th>\n",
              "      <td>28977</td>\n",
              "      <td>Gintama°</td>\n",
              "      <td>['Action', 'Comedy', 'Historical', 'Parody', '...</td>\n",
              "      <td>TV</td>\n",
              "      <td>51</td>\n",
              "      <td>Gintama° TV ['Action', 'Comedy', 'Historical',...</td>\n",
              "    </tr>\n",
              "    <tr>\n",
              "      <th>3</th>\n",
              "      <td>9253</td>\n",
              "      <td>Steins;Gate</td>\n",
              "      <td>['Sci-Fi', 'Thriller']</td>\n",
              "      <td>TV</td>\n",
              "      <td>24</td>\n",
              "      <td>Steins;Gate TV ['Sci-Fi', 'Thriller']</td>\n",
              "    </tr>\n",
              "    <tr>\n",
              "      <th>4</th>\n",
              "      <td>9969</td>\n",
              "      <td>Gintama&amp;#039;</td>\n",
              "      <td>['Action', 'Comedy', 'Historical', 'Parody', '...</td>\n",
              "      <td>TV</td>\n",
              "      <td>51</td>\n",
              "      <td>Gintama&amp;#039; TV ['Action', 'Comedy', 'Histori...</td>\n",
              "    </tr>\n",
              "    <tr>\n",
              "      <th>...</th>\n",
              "      <td>...</td>\n",
              "      <td>...</td>\n",
              "      <td>...</td>\n",
              "      <td>...</td>\n",
              "      <td>...</td>\n",
              "      <td>...</td>\n",
              "    </tr>\n",
              "    <tr>\n",
              "      <th>12289</th>\n",
              "      <td>9316</td>\n",
              "      <td>Toushindai My Lover: Minami tai Mecha-Minami</td>\n",
              "      <td>['Hentai']</td>\n",
              "      <td>OVA</td>\n",
              "      <td>1</td>\n",
              "      <td>Toushindai My Lover: Minami tai Mecha-Minami O...</td>\n",
              "    </tr>\n",
              "    <tr>\n",
              "      <th>12290</th>\n",
              "      <td>5543</td>\n",
              "      <td>Under World</td>\n",
              "      <td>['Hentai']</td>\n",
              "      <td>OVA</td>\n",
              "      <td>1</td>\n",
              "      <td>Under World OVA ['Hentai']</td>\n",
              "    </tr>\n",
              "    <tr>\n",
              "      <th>12291</th>\n",
              "      <td>5621</td>\n",
              "      <td>Violence Gekiga David no Hoshi</td>\n",
              "      <td>['Hentai']</td>\n",
              "      <td>OVA</td>\n",
              "      <td>4</td>\n",
              "      <td>Violence Gekiga David no Hoshi OVA ['Hentai']</td>\n",
              "    </tr>\n",
              "    <tr>\n",
              "      <th>12292</th>\n",
              "      <td>6133</td>\n",
              "      <td>Violence Gekiga Shin David no Hoshi: Inma Dens...</td>\n",
              "      <td>['Hentai']</td>\n",
              "      <td>OVA</td>\n",
              "      <td>1</td>\n",
              "      <td>Violence Gekiga Shin David no Hoshi: Inma Dens...</td>\n",
              "    </tr>\n",
              "    <tr>\n",
              "      <th>12293</th>\n",
              "      <td>26081</td>\n",
              "      <td>Yasuji no Pornorama: Yacchimae!!</td>\n",
              "      <td>['Hentai']</td>\n",
              "      <td>Movie</td>\n",
              "      <td>1</td>\n",
              "      <td>Yasuji no Pornorama: Yacchimae!! Movie ['Hentai']</td>\n",
              "    </tr>\n",
              "  </tbody>\n",
              "</table>\n",
              "<p>12294 rows × 6 columns</p>\n",
              "</div>"
            ],
            "text/plain": [
              "       anime_id  ...                                    important_feats\n",
              "0         32281  ...  Kimi no Na wa. Movie ['Drama', 'Romance', 'Sch...\n",
              "1          5114  ...  Fullmetal Alchemist: Brotherhood TV ['Action',...\n",
              "2         28977  ...  Gintama° TV ['Action', 'Comedy', 'Historical',...\n",
              "3          9253  ...              Steins;Gate TV ['Sci-Fi', 'Thriller']\n",
              "4          9969  ...  Gintama&#039; TV ['Action', 'Comedy', 'Histori...\n",
              "...         ...  ...                                                ...\n",
              "12289      9316  ...  Toushindai My Lover: Minami tai Mecha-Minami O...\n",
              "12290      5543  ...                         Under World OVA ['Hentai']\n",
              "12291      5621  ...      Violence Gekiga David no Hoshi OVA ['Hentai']\n",
              "12292      6133  ...  Violence Gekiga Shin David no Hoshi: Inma Dens...\n",
              "12293     26081  ...  Yasuji no Pornorama: Yacchimae!! Movie ['Hentai']\n",
              "\n",
              "[12294 rows x 6 columns]"
            ]
          },
          "metadata": {
            "tags": []
          },
          "execution_count": 212
        }
      ]
    },
    {
      "cell_type": "code",
      "metadata": {
        "id": "iq-9KQidnyAd",
        "colab": {
          "base_uri": "https://localhost:8080/"
        },
        "outputId": "c4eede80-a82e-4834-fedc-4cc8a251fb86"
      },
      "source": [
        "#Fitting the column with the important informations in cosine\n",
        "cm = CountVectorizer().fit_transform(anime_df[\"important_feats\"])\n",
        "cs = cosine_similarity(cm)\n",
        "print(cs)"
      ],
      "execution_count": 213,
      "outputs": [
        {
          "output_type": "stream",
          "text": [
            "[[1.         0.10050378 0.         ... 0.12598816 0.10540926 0.27216553]\n",
            " [0.10050378 1.         0.28603878 ... 0.         0.         0.        ]\n",
            " [0.         0.28603878 1.         ... 0.         0.         0.        ]\n",
            " ...\n",
            " [0.12598816 0.         0.         ... 1.         0.83666003 0.3086067 ]\n",
            " [0.10540926 0.         0.         ... 0.83666003 1.         0.25819889]\n",
            " [0.27216553 0.         0.         ... 0.3086067  0.25819889 1.        ]]\n"
          ],
          "name": "stdout"
        }
      ]
    },
    {
      "cell_type": "code",
      "metadata": {
        "id": "NlElLKbrxSAb",
        "colab": {
          "base_uri": "https://localhost:8080/"
        },
        "outputId": "08996ed7-3f27-466e-c73e-923410e455f1"
      },
      "source": [
        "#Choosing a Anime \n",
        "# user input\n",
        "anime_name = \"One Piece\"\n",
        "\n",
        "#Getting the Id from the Anime\n",
        "anime_idx = anime_df[anime_df.name==anime_name][\"anime_id\"].index[0]\n",
        "print(anime_idx, anime_name)"
      ],
      "execution_count": 258,
      "outputs": [
        {
          "output_type": "stream",
          "text": [
            "74 One Piece\n"
          ],
          "name": "stdout"
        }
      ]
    },
    {
      "cell_type": "code",
      "metadata": {
        "id": "khe1jYdDxnPD",
        "colab": {
          "base_uri": "https://localhost:8080/"
        },
        "outputId": "03a1c2e7-7820-431c-b264-c9000c1bdbde"
      },
      "source": [
        "#Printing the highest Scores/Similaritys for our Anime\n",
        "scores = list(enumerate(cs[anime_idx]))\n",
        "sorted_scores = sorted(scores, key = lambda x:x[1], reverse=True)\n",
        "# Top 4\n",
        "sorted_scores = sorted_scores[1:5] \n",
        "sorted_scores"
      ],
      "execution_count": 259,
      "outputs": [
        {
          "output_type": "execute_result",
          "data": {
            "text/plain": [
              "[(163, 0.7999999999999999),\n",
              " (2161, 0.7999999999999999),\n",
              " (212, 0.762770071396474),\n",
              " (2119, 0.762770071396474)]"
            ]
          },
          "metadata": {
            "tags": []
          },
          "execution_count": 259
        }
      ]
    },
    {
      "cell_type": "code",
      "metadata": {
        "colab": {
          "base_uri": "https://localhost:8080/"
        },
        "id": "vUYKa4Zk4Nzj",
        "outputId": "f488bda2-cdf5-47bb-f8fc-8cf3ee00ad49"
      },
      "source": [
        "#Printing the Top 4 recommended Animes\n",
        "j = 0\n",
        "print(\"The 4 Most recommended animes for you, because you liked\" + ' '+ anime_name + ' ' +\"are:\\n\")\n",
        "for item in sorted_scores:\n",
        "    anime_title =  anime_df[anime_df.anime_id==item[0]][\"name\"].values[0]\n",
        "    print(j+1, anime_title)\n",
        "    j = j+1\n",
        "    if j>=4:\n",
        "        break"
      ],
      "execution_count": 260,
      "outputs": [
        {
          "output_type": "stream",
          "text": [
            "The 4 Most recommended animes for you, because you liked One Piece are:\n",
            "\n",
            "1 Power Stone\n",
            "2 Skull Man\n",
            "3 Project A-Ko\n",
            "4 Captain Tsubasa: Ayaushi! Zen Nihon Jr.\n"
          ],
          "name": "stdout"
        }
      ]
    }
  ]
}