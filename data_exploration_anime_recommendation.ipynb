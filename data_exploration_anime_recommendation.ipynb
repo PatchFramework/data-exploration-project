{
  "nbformat": 4,
  "nbformat_minor": 0,
  "metadata": {
    "colab": {
      "name": "data_exploration_anime_recommendation.ipynb",
      "provenance": [],
      "collapsed_sections": [],
      "toc_visible": true,
      "include_colab_link": true
    },
    "kernelspec": {
      "name": "python3",
      "display_name": "Python 3"
    },
    "language_info": {
      "name": "python"
    }
  },
  "cells": [
    {
      "cell_type": "markdown",
      "metadata": {
        "id": "view-in-github",
        "colab_type": "text"
      },
      "source": [
        "<a href=\"https://colab.research.google.com/github/PatchFramework/data-exploration-project/blob/main/data_exploration_anime_recommendation.ipynb\" target=\"_parent\"><img src=\"https://colab.research.google.com/assets/colab-badge.svg\" alt=\"Open In Colab\"/></a>"
      ]
    },
    {
      "cell_type": "markdown",
      "metadata": {
        "id": "Rzw28uoCArNf"
      },
      "source": [
        "# Data Exploration Project - Anime Recommendation\n",
        "#### Team: PostgreSQL (Can Berkil, Canberk Alkan, Dominic Viola)\n",
        "This Jupyter Notebook is designed to run on Google Colab, as it provides a standardized Linux environment and preinstalled applications. It contains the code that is used to download and analyse an Anime dataset. Afterwards the dataset is used to build a recommendation engine."
      ]
    },
    {
      "cell_type": "markdown",
      "metadata": {
        "id": "3v-IL0_xBbqQ"
      },
      "source": [
        "## 1. Download the dataset\n",
        "The dataset is from Kaggle you can find general information about it [here](https://www.kaggle.com/CooperUnion/anime-recommendations-database?select=rating.csv).\n",
        "\n",
        "I downloaded the dataset to my private google drive and created a public link to ensure that the dataset is available. This is in compliance with the dataset's Creative Commons License."
      ]
    },
    {
      "cell_type": "code",
      "metadata": {
        "colab": {
          "base_uri": "https://localhost:8080/"
        },
        "id": "3HcqT7OUAp6T",
        "outputId": "b0f233f7-2eb3-421e-fcf5-b3c48ecfd3ac"
      },
      "source": [
        "# Download the dataset from my google drive\n",
        "!gdown --id 1XPYCQvsGq4cKp1liPmxPDd7QkU04Kj4X -O ./anime_dataset.zip\n",
        "!ls"
      ],
      "execution_count": 1,
      "outputs": [
        {
          "output_type": "stream",
          "text": [
            "Downloading...\n",
            "From: https://drive.google.com/uc?id=1XPYCQvsGq4cKp1liPmxPDd7QkU04Kj4X\n",
            "To: /content/anime_dataset.zip\n",
            "26.3MB [00:00, 39.4MB/s]\n",
            "anime_dataset.zip  sample_data\n"
          ],
          "name": "stdout"
        }
      ]
    },
    {
      "cell_type": "code",
      "metadata": {
        "colab": {
          "base_uri": "https://localhost:8080/"
        },
        "id": "oHupRaEjOzcI",
        "outputId": "0c4227ed-4bfc-499d-eca0-87a337876d8e"
      },
      "source": [
        "# create a directory for the data\n",
        "!mkdir data\n",
        "\n",
        "# after downloading the dataset as a zip unzip the dataset into the new folder\n",
        "!unzip anime_dataset.zip -d ./data/\n",
        "\n",
        "!ls data"
      ],
      "execution_count": 2,
      "outputs": [
        {
          "output_type": "stream",
          "text": [
            "Archive:  anime_dataset.zip\n",
            "  inflating: ./data/anime.csv        \n",
            "  inflating: ./data/rating.csv       \n",
            "anime.csv  rating.csv\n"
          ],
          "name": "stdout"
        }
      ]
    },
    {
      "cell_type": "markdown",
      "metadata": {
        "id": "9u3x04FIWw2i"
      },
      "source": [
        "## 2. Explore the dataset\n",
        "\n",
        "Now we will explore the content and structure of this dataset.\n",
        "\n",
        "\n",
        "Lets see how the csv files that we downloaded are structured.\n",
        "Lets look at the first few lines of each file with the linux command \"head\".\n",
        "\n",
        "We want to find information about:\n",
        "- column names\n",
        "- datatypes  \n",
        "- the seperator (we need it for pandas later)\n",
        "- how the CSV files are connected\n"
      ]
    },
    {
      "cell_type": "code",
      "metadata": {
        "colab": {
          "base_uri": "https://localhost:8080/"
        },
        "id": "nMWfjtMtbJrC",
        "outputId": "d5114de2-8ed7-424c-a3e6-2c840311446f"
      },
      "source": [
        "!head -5 data/anime.csv"
      ],
      "execution_count": 3,
      "outputs": [
        {
          "output_type": "stream",
          "text": [
            "anime_id,name,genre,type,episodes,rating,members\r\n",
            "32281,Kimi no Na wa.,\"Drama, Romance, School, Supernatural\",Movie,1,9.37,200630\r\n",
            "5114,Fullmetal Alchemist: Brotherhood,\"Action, Adventure, Drama, Fantasy, Magic, Military, Shounen\",TV,64,9.26,793665\r\n",
            "28977,Gintama°,\"Action, Comedy, Historical, Parody, Samurai, Sci-Fi, Shounen\",TV,51,9.25,114262\r\n",
            "9253,Steins;Gate,\"Sci-Fi, Thriller\",TV,24,9.17,673572\r\n"
          ],
          "name": "stdout"
        }
      ]
    },
    {
      "cell_type": "code",
      "metadata": {
        "colab": {
          "base_uri": "https://localhost:8080/"
        },
        "id": "yuBPEKNkbguT",
        "outputId": "37a5fd23-7261-42be-ce30-3748af24db9e"
      },
      "source": [
        "!head -5 data/rating.csv"
      ],
      "execution_count": 4,
      "outputs": [
        {
          "output_type": "stream",
          "text": [
            "user_id,anime_id,rating\r\n",
            "1,20,-1\r\n",
            "1,24,-1\r\n",
            "1,79,-1\r\n",
            "1,226,-1\r\n"
          ],
          "name": "stdout"
        }
      ]
    },
    {
      "cell_type": "markdown",
      "metadata": {
        "id": "yg4epuioffek"
      },
      "source": [
        "What we can learn from this first peak into the dataset:\n",
        "1. Columns in anime.csv\n",
        "- \"anime_id\" is the identifier for each anime\n",
        "- \"name\" contains the name as a string but without quotes\n",
        "- \"genre\" contains all genres that the anime is part of, quotes are used, so that the comma seperated genres are not confused with csv fields\n",
        "- \"type\" shows which medium type the anime is \n",
        "- \"rating\" seems to be a general rating from 1 to 10\n",
        "- \"members\" ?\n",
        "\n",
        "2. Columns in rating.csv\n",
        "- \"user\" is the id of the user, that gave the rating\n",
        "- \"anime_id\" is the identifier of the anime, this is the connecting field to anime.csv\n",
        "- \"rating\" is the rating that the user gave the anime. There is -1 as an entry which can't be an actual rating, so -1 could mean, that the user didn't rate the anime\n",
        "\n",
        "3. The seperator is a comma for both csv-files\n"
      ]
    },
    {
      "cell_type": "markdown",
      "metadata": {
        "id": "Ry03L9-6dUU6"
      },
      "source": [
        "We will use the following libraries to analyse the dataset:\n",
        "1. Pandas: To save the dataset to dataframes for easier handling and manipulation in python\n",
        "2. Seaborn: Visualize some of the data to get an overview over the content"
      ]
    },
    {
      "cell_type": "code",
      "metadata": {
        "colab": {
          "base_uri": "https://localhost:8080/"
        },
        "id": "c_tL5XJUZR7C",
        "outputId": "e6bfb653-48a9-4055-86fc-6540883be2e8"
      },
      "source": [
        "# Install the library packages (might be already installed)\n",
        "!pip3 install pandas seaborn"
      ],
      "execution_count": 5,
      "outputs": [
        {
          "output_type": "stream",
          "text": [
            "Requirement already satisfied: pandas in /usr/local/lib/python3.7/dist-packages (1.1.5)\n",
            "Requirement already satisfied: seaborn in /usr/local/lib/python3.7/dist-packages (0.11.1)\n",
            "Requirement already satisfied: pytz>=2017.2 in /usr/local/lib/python3.7/dist-packages (from pandas) (2018.9)\n",
            "Requirement already satisfied: numpy>=1.15.4 in /usr/local/lib/python3.7/dist-packages (from pandas) (1.19.5)\n",
            "Requirement already satisfied: python-dateutil>=2.7.3 in /usr/local/lib/python3.7/dist-packages (from pandas) (2.8.1)\n",
            "Requirement already satisfied: matplotlib>=2.2 in /usr/local/lib/python3.7/dist-packages (from seaborn) (3.2.2)\n",
            "Requirement already satisfied: scipy>=1.0 in /usr/local/lib/python3.7/dist-packages (from seaborn) (1.4.1)\n",
            "Requirement already satisfied: six>=1.5 in /usr/local/lib/python3.7/dist-packages (from python-dateutil>=2.7.3->pandas) (1.15.0)\n",
            "Requirement already satisfied: kiwisolver>=1.0.1 in /usr/local/lib/python3.7/dist-packages (from matplotlib>=2.2->seaborn) (1.3.1)\n",
            "Requirement already satisfied: cycler>=0.10 in /usr/local/lib/python3.7/dist-packages (from matplotlib>=2.2->seaborn) (0.10.0)\n",
            "Requirement already satisfied: pyparsing!=2.0.4,!=2.1.2,!=2.1.6,>=2.0.1 in /usr/local/lib/python3.7/dist-packages (from matplotlib>=2.2->seaborn) (2.4.7)\n"
          ],
          "name": "stdout"
        }
      ]
    },
    {
      "cell_type": "code",
      "metadata": {
        "id": "ROdLlGUlZiS_"
      },
      "source": [
        "import pandas as pd\n",
        "import seaborn as sns\n",
        "import matplotlib.pyplot as plt\n",
        "%matplotlib inline"
      ],
      "execution_count": 6,
      "outputs": []
    },
    {
      "cell_type": "code",
      "metadata": {
        "id": "K5l2xjXrai0c"
      },
      "source": [
        "anime_df = pd.read_csv(\"data/anime.csv\")\n",
        "rating_df = pd.read_csv(\"data/rating.csv\")"
      ],
      "execution_count": 7,
      "outputs": []
    },
    {
      "cell_type": "code",
      "metadata": {
        "colab": {
          "base_uri": "https://localhost:8080/"
        },
        "id": "20Ptu8U5bEc6",
        "outputId": "dcb0e777-d5a3-4073-8836-73f5653f290a"
      },
      "source": [
        "# Total amount of Anime in this dataset\n",
        "len(anime_df[\"anime_id\"])"
      ],
      "execution_count": 8,
      "outputs": [
        {
          "output_type": "execute_result",
          "data": {
            "text/plain": [
              "12294"
            ]
          },
          "metadata": {
            "tags": []
          },
          "execution_count": 8
        }
      ]
    },
    {
      "cell_type": "code",
      "metadata": {
        "colab": {
          "base_uri": "https://localhost:8080/",
          "height": 35
        },
        "id": "vhMAh4uAo0Fk",
        "outputId": "579b8e79-6354-4438-87ac-f99204dba37a"
      },
      "source": [
        "# Existing columns in anime_df and rating_df\n",
        "anime_df.columns\n",
        "rating_df.columns\n",
        "\n",
        "\"\"\"\n",
        "Keep in mind that both anime_df and rating_df do have the attribute \"anime_id\".\n",
        "This will be important to merge both DataFrames.\n",
        "\"\"\""
      ],
      "execution_count": 9,
      "outputs": [
        {
          "output_type": "execute_result",
          "data": {
            "application/vnd.google.colaboratory.intrinsic+json": {
              "type": "string"
            },
            "text/plain": [
              "'\\nKeep in mind that both anime_df and rating_df do have the attribute \"anime_id\".\\nThis will be important to merge both DataFrames.\\n'"
            ]
          },
          "metadata": {
            "tags": []
          },
          "execution_count": 9
        }
      ]
    },
    {
      "cell_type": "code",
      "metadata": {
        "id": "7rYWXT60cgg_"
      },
      "source": [
        "# Since members is not needed for the data analysis, it can be dropped\n",
        "anime_df.drop(columns=[\"members\"], inplace=True)"
      ],
      "execution_count": 10,
      "outputs": []
    },
    {
      "cell_type": "code",
      "metadata": {
        "colab": {
          "base_uri": "https://localhost:8080/"
        },
        "id": "5OgkS3SBdIEN",
        "outputId": "3ce7df71-c1a7-44e0-971f-df5f4fa79303"
      },
      "source": [
        "# Total amount of Users who rated Anime\n",
        "rating_df[\"user_id\"].unique()"
      ],
      "execution_count": 11,
      "outputs": [
        {
          "output_type": "execute_result",
          "data": {
            "text/plain": [
              "array([    1,     2,     3, ..., 73514, 73515, 73516])"
            ]
          },
          "metadata": {
            "tags": []
          },
          "execution_count": 11
        }
      ]
    },
    {
      "cell_type": "code",
      "metadata": {
        "colab": {
          "base_uri": "https://localhost:8080/"
        },
        "id": "3RZYsO_efRuD",
        "outputId": "1a23e64b-e061-4d11-b7af-b6e827038631"
      },
      "source": [
        "# Total amount of Anime Genre in this dataset\n",
        "len(anime_df[\"genre\"].unique())"
      ],
      "execution_count": 12,
      "outputs": [
        {
          "output_type": "execute_result",
          "data": {
            "text/plain": [
              "3265"
            ]
          },
          "metadata": {
            "tags": []
          },
          "execution_count": 12
        }
      ]
    },
    {
      "cell_type": "code",
      "metadata": {
        "id": "9-qtSksAdN98"
      },
      "source": [
        "# Now we will merge the two DataFrames, so we only have to handle one \n",
        "anime_with_ratings = pd.merge(rating_df, anime_df, on=\"anime_id\")"
      ],
      "execution_count": 13,
      "outputs": []
    },
    {
      "cell_type": "code",
      "metadata": {
        "colab": {
          "base_uri": "https://localhost:8080/",
          "height": 419
        },
        "id": "YrXnb7rZpw5L",
        "outputId": "16b0d9d0-3d11-4783-8794-af06b25616bb"
      },
      "source": [
        "anime_with_ratings"
      ],
      "execution_count": 14,
      "outputs": [
        {
          "output_type": "execute_result",
          "data": {
            "text/html": [
              "<div>\n",
              "<style scoped>\n",
              "    .dataframe tbody tr th:only-of-type {\n",
              "        vertical-align: middle;\n",
              "    }\n",
              "\n",
              "    .dataframe tbody tr th {\n",
              "        vertical-align: top;\n",
              "    }\n",
              "\n",
              "    .dataframe thead th {\n",
              "        text-align: right;\n",
              "    }\n",
              "</style>\n",
              "<table border=\"1\" class=\"dataframe\">\n",
              "  <thead>\n",
              "    <tr style=\"text-align: right;\">\n",
              "      <th></th>\n",
              "      <th>user_id</th>\n",
              "      <th>anime_id</th>\n",
              "      <th>rating_x</th>\n",
              "      <th>name</th>\n",
              "      <th>genre</th>\n",
              "      <th>type</th>\n",
              "      <th>episodes</th>\n",
              "      <th>rating_y</th>\n",
              "    </tr>\n",
              "  </thead>\n",
              "  <tbody>\n",
              "    <tr>\n",
              "      <th>0</th>\n",
              "      <td>1</td>\n",
              "      <td>20</td>\n",
              "      <td>-1</td>\n",
              "      <td>Naruto</td>\n",
              "      <td>Action, Comedy, Martial Arts, Shounen, Super P...</td>\n",
              "      <td>TV</td>\n",
              "      <td>220</td>\n",
              "      <td>7.81</td>\n",
              "    </tr>\n",
              "    <tr>\n",
              "      <th>1</th>\n",
              "      <td>3</td>\n",
              "      <td>20</td>\n",
              "      <td>8</td>\n",
              "      <td>Naruto</td>\n",
              "      <td>Action, Comedy, Martial Arts, Shounen, Super P...</td>\n",
              "      <td>TV</td>\n",
              "      <td>220</td>\n",
              "      <td>7.81</td>\n",
              "    </tr>\n",
              "    <tr>\n",
              "      <th>2</th>\n",
              "      <td>5</td>\n",
              "      <td>20</td>\n",
              "      <td>6</td>\n",
              "      <td>Naruto</td>\n",
              "      <td>Action, Comedy, Martial Arts, Shounen, Super P...</td>\n",
              "      <td>TV</td>\n",
              "      <td>220</td>\n",
              "      <td>7.81</td>\n",
              "    </tr>\n",
              "    <tr>\n",
              "      <th>3</th>\n",
              "      <td>6</td>\n",
              "      <td>20</td>\n",
              "      <td>-1</td>\n",
              "      <td>Naruto</td>\n",
              "      <td>Action, Comedy, Martial Arts, Shounen, Super P...</td>\n",
              "      <td>TV</td>\n",
              "      <td>220</td>\n",
              "      <td>7.81</td>\n",
              "    </tr>\n",
              "    <tr>\n",
              "      <th>4</th>\n",
              "      <td>10</td>\n",
              "      <td>20</td>\n",
              "      <td>-1</td>\n",
              "      <td>Naruto</td>\n",
              "      <td>Action, Comedy, Martial Arts, Shounen, Super P...</td>\n",
              "      <td>TV</td>\n",
              "      <td>220</td>\n",
              "      <td>7.81</td>\n",
              "    </tr>\n",
              "    <tr>\n",
              "      <th>...</th>\n",
              "      <td>...</td>\n",
              "      <td>...</td>\n",
              "      <td>...</td>\n",
              "      <td>...</td>\n",
              "      <td>...</td>\n",
              "      <td>...</td>\n",
              "      <td>...</td>\n",
              "      <td>...</td>\n",
              "    </tr>\n",
              "    <tr>\n",
              "      <th>7813722</th>\n",
              "      <td>65682</td>\n",
              "      <td>30450</td>\n",
              "      <td>8</td>\n",
              "      <td>Dr. Slump: Hoyoyo! Arale no Himitsu Dai Koukai...</td>\n",
              "      <td>Comedy, Sci-Fi, Shounen</td>\n",
              "      <td>Special</td>\n",
              "      <td>1</td>\n",
              "      <td>6.17</td>\n",
              "    </tr>\n",
              "    <tr>\n",
              "      <th>7813723</th>\n",
              "      <td>69497</td>\n",
              "      <td>33484</td>\n",
              "      <td>10</td>\n",
              "      <td>Shiroi Zou</td>\n",
              "      <td>Action, Historical, Kids</td>\n",
              "      <td>Movie</td>\n",
              "      <td>1</td>\n",
              "      <td>4.71</td>\n",
              "    </tr>\n",
              "    <tr>\n",
              "      <th>7813724</th>\n",
              "      <td>70463</td>\n",
              "      <td>29481</td>\n",
              "      <td>-1</td>\n",
              "      <td>Kakinoki Mokkii</td>\n",
              "      <td>Fantasy, Kids</td>\n",
              "      <td>Special</td>\n",
              "      <td>1</td>\n",
              "      <td>4.33</td>\n",
              "    </tr>\n",
              "    <tr>\n",
              "      <th>7813725</th>\n",
              "      <td>72404</td>\n",
              "      <td>34412</td>\n",
              "      <td>-1</td>\n",
              "      <td>Hashiri Hajimeta bakari no Kimi ni</td>\n",
              "      <td>Music</td>\n",
              "      <td>Music</td>\n",
              "      <td>1</td>\n",
              "      <td>6.76</td>\n",
              "    </tr>\n",
              "    <tr>\n",
              "      <th>7813726</th>\n",
              "      <td>72800</td>\n",
              "      <td>30738</td>\n",
              "      <td>4</td>\n",
              "      <td>Gamba: Gamba to Nakama-tachi</td>\n",
              "      <td>Adventure, Kids</td>\n",
              "      <td>Movie</td>\n",
              "      <td>1</td>\n",
              "      <td>5.55</td>\n",
              "    </tr>\n",
              "  </tbody>\n",
              "</table>\n",
              "<p>7813727 rows × 8 columns</p>\n",
              "</div>"
            ],
            "text/plain": [
              "         user_id  anime_id  rating_x  ...     type episodes rating_y\n",
              "0              1        20        -1  ...       TV      220     7.81\n",
              "1              3        20         8  ...       TV      220     7.81\n",
              "2              5        20         6  ...       TV      220     7.81\n",
              "3              6        20        -1  ...       TV      220     7.81\n",
              "4             10        20        -1  ...       TV      220     7.81\n",
              "...          ...       ...       ...  ...      ...      ...      ...\n",
              "7813722    65682     30450         8  ...  Special        1     6.17\n",
              "7813723    69497     33484        10  ...    Movie        1     4.71\n",
              "7813724    70463     29481        -1  ...  Special        1     4.33\n",
              "7813725    72404     34412        -1  ...    Music        1     6.76\n",
              "7813726    72800     30738         4  ...    Movie        1     5.55\n",
              "\n",
              "[7813727 rows x 8 columns]"
            ]
          },
          "metadata": {
            "tags": []
          },
          "execution_count": 14
        }
      ]
    },
    {
      "cell_type": "code",
      "metadata": {
        "id": "YvKlfIKSqQCQ"
      },
      "source": [
        ""
      ],
      "execution_count": 14,
      "outputs": []
    }
  ]
}