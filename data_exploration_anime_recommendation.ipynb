{
  "nbformat": 4,
  "nbformat_minor": 0,
  "metadata": {
    "colab": {
      "name": "data_exploration_anime_recommendation.ipynb",
      "provenance": [],
      "collapsed_sections": [],
      "include_colab_link": true
    },
    "kernelspec": {
      "name": "python3",
      "display_name": "Python 3"
    },
    "language_info": {
      "name": "python"
    }
  },
  "cells": [
    {
      "cell_type": "markdown",
      "metadata": {
        "id": "view-in-github",
        "colab_type": "text"
      },
      "source": [
        "<a href=\"https://colab.research.google.com/github/PatchFramework/data-exploration-project/blob/main/data_exploration_anime_recommendation.ipynb\" target=\"_parent\"><img src=\"https://colab.research.google.com/assets/colab-badge.svg\" alt=\"Open In Colab\"/></a>"
      ]
    },
    {
      "cell_type": "markdown",
      "metadata": {
        "id": "Rzw28uoCArNf"
      },
      "source": [
        "# Data Exploration Project - Anime Recommendation\n",
        "#### Team: PostgreSQL (Can Berkil, Canberk Alkan, Dominic Viola)\n",
        "This Jupyter Notebook is designed to run on Google Colab, as it provides a standardized Linux environment and preinstalled applications. It contains the code that is used to download and analyse an Anime dataset. Afterwards the dataset is used to build a recommendation engine.\n",
        "\n",
        "\n",
        "\n",
        "## Development Notes:\n",
        "\n",
        "ToDo:\n",
        "\n",
        "1. Headings and their content for: \n",
        "- Data selection (why did we choose this dataset? <- use information from Canberks PowerPoint) <- Canberk\n",
        "- Data cleaning \n",
        "- Data transformation \n",
        "- Data exploration\n",
        "- Model selection (papers to determine suitable algorithms)"
      ]
    },
    {
      "cell_type": "markdown",
      "metadata": {
        "id": "3v-IL0_xBbqQ"
      },
      "source": [
        "## 1. Download the dataset\n",
        "The dataset is from Kaggle you can find general information about it [here](https://www.kaggle.com/CooperUnion/anime-recommendations-database?select=rating.csv).\n",
        "\n",
        "I downloaded the dataset to my private google drive and created a public link to ensure that the dataset is available. This is in compliance with the dataset's Creative Commons License."
      ]
    },
    {
      "cell_type": "code",
      "metadata": {
        "colab": {
          "base_uri": "https://localhost:8080/"
        },
        "id": "3HcqT7OUAp6T",
        "outputId": "3764e9da-cad4-481d-86b0-be41adf8db36"
      },
      "source": [
        "# Download the dataset from my google drive\n",
        "!gdown --id 1XPYCQvsGq4cKp1liPmxPDd7QkU04Kj4X -O ./anime_dataset.zip\n",
        "!ls"
      ],
      "execution_count": null,
      "outputs": [
        {
          "output_type": "stream",
          "text": [
            "Downloading...\n",
            "From: https://drive.google.com/uc?id=1XPYCQvsGq4cKp1liPmxPDd7QkU04Kj4X\n",
            "To: /content/anime_dataset.zip\n",
            "26.3MB [00:00, 71.8MB/s]\n",
            "anime_dataset.zip  sample_data\n"
          ],
          "name": "stdout"
        }
      ]
    },
    {
      "cell_type": "code",
      "metadata": {
        "colab": {
          "base_uri": "https://localhost:8080/"
        },
        "id": "oHupRaEjOzcI",
        "outputId": "6c6406ed-0baa-404b-e201-eaa4cd288ce7"
      },
      "source": [
        "# create a directory for the data\n",
        "!mkdir data\n",
        "\n",
        "# after downloading the dataset as a zip unzip the dataset into the new folder\n",
        "!unzip anime_dataset.zip -d ./data/\n",
        "\n",
        "!ls data"
      ],
      "execution_count": null,
      "outputs": [
        {
          "output_type": "stream",
          "text": [
            "Archive:  anime_dataset.zip\n",
            "  inflating: ./data/anime.csv        \n",
            "  inflating: ./data/rating.csv       \n",
            "anime.csv  rating.csv\n"
          ],
          "name": "stdout"
        }
      ]
    },
    {
      "cell_type": "markdown",
      "metadata": {
        "id": "dqcTy8dO2nAG"
      },
      "source": [
        "## 2. Data Selection\n",
        "\n",
        "This section will shed a light on why we chose [this](https://www.kaggle.com/CooperUnion/anime-recommendations-database?select=rating.csv) dataset and what the characteristics of the dataset are."
      ]
    },
    {
      "cell_type": "markdown",
      "metadata": {
        "id": "9u3x04FIWw2i"
      },
      "source": [
        "## 3. Fundamental dataset exploration\n",
        "\n",
        "Now we will explore the content and structure of this dataset.\n",
        "\n",
        "\n",
        "Lets see how the csv files that we downloaded are structured.\n",
        "Lets look at the first few lines of each file with the linux command \"head\".\n",
        "\n",
        "We want to find information about:\n",
        "- column names\n",
        "- datatypes  \n",
        "- the seperator (we need it for pandas later)\n",
        "- how the CSV files are connected\n"
      ]
    },
    {
      "cell_type": "code",
      "metadata": {
        "colab": {
          "base_uri": "https://localhost:8080/"
        },
        "id": "nMWfjtMtbJrC",
        "outputId": "134f3b1f-4207-4dd4-ee40-e128027510a3"
      },
      "source": [
        "!head -5 data/anime.csv"
      ],
      "execution_count": null,
      "outputs": [
        {
          "output_type": "stream",
          "text": [
            "anime_id,name,genre,type,episodes,rating,members\r\n",
            "32281,Kimi no Na wa.,\"Drama, Romance, School, Supernatural\",Movie,1,9.37,200630\r\n",
            "5114,Fullmetal Alchemist: Brotherhood,\"Action, Adventure, Drama, Fantasy, Magic, Military, Shounen\",TV,64,9.26,793665\r\n",
            "28977,Gintama°,\"Action, Comedy, Historical, Parody, Samurai, Sci-Fi, Shounen\",TV,51,9.25,114262\r\n",
            "9253,Steins;Gate,\"Sci-Fi, Thriller\",TV,24,9.17,673572\r\n"
          ],
          "name": "stdout"
        }
      ]
    },
    {
      "cell_type": "code",
      "metadata": {
        "colab": {
          "base_uri": "https://localhost:8080/"
        },
        "id": "yuBPEKNkbguT",
        "outputId": "ba9f1af4-d284-41a0-8f07-6f94e64501d4"
      },
      "source": [
        "!head -5 data/rating.csv"
      ],
      "execution_count": null,
      "outputs": [
        {
          "output_type": "stream",
          "text": [
            "user_id,anime_id,rating\r\n",
            "1,20,-1\r\n",
            "1,24,-1\r\n",
            "1,79,-1\r\n",
            "1,226,-1\r\n"
          ],
          "name": "stdout"
        }
      ]
    },
    {
      "cell_type": "markdown",
      "metadata": {
        "id": "yg4epuioffek"
      },
      "source": [
        "What we can learn from this first peak into the dataset:\n",
        "1. Columns in anime.csv\n",
        "- \"anime_id\" is the identifier for each anime\n",
        "- \"name\" contains the name as a string but without quotes\n",
        "- \"genre\" contains all genres that the anime is part of, quotes are used, so that the comma seperated genres are not confused with csv fields\n",
        "- \"type\" shows which medium type the anime is \n",
        "- \"rating\" seems to be a general rating from 1 to 10\n",
        "- \"members\" ?\n",
        "\n",
        "2. Columns in rating.csv\n",
        "- \"user\" is the id of the user, that gave the rating\n",
        "- \"anime_id\" is the identifier of the anime, this is the connecting field to anime.csv\n",
        "- \"rating\" is the rating that the user gave the anime. There is -1 as an entry which can't be an actual rating, so -1 could mean, that the user didn't rate the anime\n",
        "\n",
        "3. The seperator is a comma for both csv-files\n"
      ]
    },
    {
      "cell_type": "markdown",
      "metadata": {
        "id": "8ZWI2mle3MVG"
      },
      "source": [
        "## 4. Data Cleaning\n",
        "We will drop unnecessary fields from the dataset, check the dataset for inconsistencies and redundancies. Also fields with incorrect datatypes will be fixed."
      ]
    },
    {
      "cell_type": "markdown",
      "metadata": {
        "id": "Ry03L9-6dUU6"
      },
      "source": [
        "We will use the following libraries to process the data:\n",
        "1. Pandas: To save the dataset to dataframes for easier handling and manipulation in python\n",
        "2. Seaborn: Visualize some of the data to get an overview over the content"
      ]
    },
    {
      "cell_type": "code",
      "metadata": {
        "colab": {
          "base_uri": "https://localhost:8080/"
        },
        "id": "c_tL5XJUZR7C",
        "outputId": "795adfdb-15c9-4c9e-ee0e-3c2e1e98e851"
      },
      "source": [
        "# Install the library packages (might be already installed)\n",
        "!pip3 install pandas seaborn"
      ],
      "execution_count": null,
      "outputs": [
        {
          "output_type": "stream",
          "text": [
            "Requirement already satisfied: pandas in /usr/local/lib/python3.7/dist-packages (1.1.5)\n",
            "Requirement already satisfied: seaborn in /usr/local/lib/python3.7/dist-packages (0.11.1)\n",
            "Requirement already satisfied: python-dateutil>=2.7.3 in /usr/local/lib/python3.7/dist-packages (from pandas) (2.8.1)\n",
            "Requirement already satisfied: numpy>=1.15.4 in /usr/local/lib/python3.7/dist-packages (from pandas) (1.19.5)\n",
            "Requirement already satisfied: pytz>=2017.2 in /usr/local/lib/python3.7/dist-packages (from pandas) (2018.9)\n",
            "Requirement already satisfied: matplotlib>=2.2 in /usr/local/lib/python3.7/dist-packages (from seaborn) (3.2.2)\n",
            "Requirement already satisfied: scipy>=1.0 in /usr/local/lib/python3.7/dist-packages (from seaborn) (1.4.1)\n",
            "Requirement already satisfied: six>=1.5 in /usr/local/lib/python3.7/dist-packages (from python-dateutil>=2.7.3->pandas) (1.15.0)\n",
            "Requirement already satisfied: pyparsing!=2.0.4,!=2.1.2,!=2.1.6,>=2.0.1 in /usr/local/lib/python3.7/dist-packages (from matplotlib>=2.2->seaborn) (2.4.7)\n",
            "Requirement already satisfied: cycler>=0.10 in /usr/local/lib/python3.7/dist-packages (from matplotlib>=2.2->seaborn) (0.10.0)\n",
            "Requirement already satisfied: kiwisolver>=1.0.1 in /usr/local/lib/python3.7/dist-packages (from matplotlib>=2.2->seaborn) (1.3.1)\n"
          ],
          "name": "stdout"
        }
      ]
    },
    {
      "cell_type": "code",
      "metadata": {
        "id": "ROdLlGUlZiS_"
      },
      "source": [
        "import pandas as pd\n",
        "import seaborn as sns\n",
        "import matplotlib.pyplot as plt\n",
        "%matplotlib inline"
      ],
      "execution_count": null,
      "outputs": []
    },
    {
      "cell_type": "code",
      "metadata": {
        "id": "K5l2xjXrai0c"
      },
      "source": [
        "anime_df = pd.read_csv(\"data/anime.csv\")\n",
        "rating_df = pd.read_csv(\"data/rating.csv\")"
      ],
      "execution_count": null,
      "outputs": []
    },
    {
      "cell_type": "code",
      "metadata": {
        "colab": {
          "base_uri": "https://localhost:8080/"
        },
        "id": "20Ptu8U5bEc6",
        "outputId": "974cb6bc-5418-4b51-ce95-0c3e40ee6aa5"
      },
      "source": [
        "# Total amount of Anime in this dataset\n",
        "len(anime_df[\"anime_id\"])"
      ],
      "execution_count": null,
      "outputs": [
        {
          "output_type": "execute_result",
          "data": {
            "text/plain": [
              "12294"
            ]
          },
          "metadata": {
            "tags": []
          },
          "execution_count": 9
        }
      ]
    },
    {
      "cell_type": "code",
      "metadata": {
        "colab": {
          "base_uri": "https://localhost:8080/",
          "height": 419
        },
        "id": "ExnAcyW--56S",
        "outputId": "b5c5c798-2fc1-4d37-bf5f-156b2d4653c5"
      },
      "source": [
        "anime_df"
      ],
      "execution_count": null,
      "outputs": [
        {
          "output_type": "execute_result",
          "data": {
            "text/html": [
              "<div>\n",
              "<style scoped>\n",
              "    .dataframe tbody tr th:only-of-type {\n",
              "        vertical-align: middle;\n",
              "    }\n",
              "\n",
              "    .dataframe tbody tr th {\n",
              "        vertical-align: top;\n",
              "    }\n",
              "\n",
              "    .dataframe thead th {\n",
              "        text-align: right;\n",
              "    }\n",
              "</style>\n",
              "<table border=\"1\" class=\"dataframe\">\n",
              "  <thead>\n",
              "    <tr style=\"text-align: right;\">\n",
              "      <th></th>\n",
              "      <th>anime_id</th>\n",
              "      <th>name</th>\n",
              "      <th>genre</th>\n",
              "      <th>type</th>\n",
              "      <th>episodes</th>\n",
              "      <th>rating</th>\n",
              "      <th>members</th>\n",
              "    </tr>\n",
              "  </thead>\n",
              "  <tbody>\n",
              "    <tr>\n",
              "      <th>0</th>\n",
              "      <td>32281</td>\n",
              "      <td>Kimi no Na wa.</td>\n",
              "      <td>Drama, Romance, School, Supernatural</td>\n",
              "      <td>Movie</td>\n",
              "      <td>1</td>\n",
              "      <td>9.37</td>\n",
              "      <td>200630</td>\n",
              "    </tr>\n",
              "    <tr>\n",
              "      <th>1</th>\n",
              "      <td>5114</td>\n",
              "      <td>Fullmetal Alchemist: Brotherhood</td>\n",
              "      <td>Action, Adventure, Drama, Fantasy, Magic, Mili...</td>\n",
              "      <td>TV</td>\n",
              "      <td>64</td>\n",
              "      <td>9.26</td>\n",
              "      <td>793665</td>\n",
              "    </tr>\n",
              "    <tr>\n",
              "      <th>2</th>\n",
              "      <td>28977</td>\n",
              "      <td>Gintama°</td>\n",
              "      <td>Action, Comedy, Historical, Parody, Samurai, S...</td>\n",
              "      <td>TV</td>\n",
              "      <td>51</td>\n",
              "      <td>9.25</td>\n",
              "      <td>114262</td>\n",
              "    </tr>\n",
              "    <tr>\n",
              "      <th>3</th>\n",
              "      <td>9253</td>\n",
              "      <td>Steins;Gate</td>\n",
              "      <td>Sci-Fi, Thriller</td>\n",
              "      <td>TV</td>\n",
              "      <td>24</td>\n",
              "      <td>9.17</td>\n",
              "      <td>673572</td>\n",
              "    </tr>\n",
              "    <tr>\n",
              "      <th>4</th>\n",
              "      <td>9969</td>\n",
              "      <td>Gintama&amp;#039;</td>\n",
              "      <td>Action, Comedy, Historical, Parody, Samurai, S...</td>\n",
              "      <td>TV</td>\n",
              "      <td>51</td>\n",
              "      <td>9.16</td>\n",
              "      <td>151266</td>\n",
              "    </tr>\n",
              "    <tr>\n",
              "      <th>...</th>\n",
              "      <td>...</td>\n",
              "      <td>...</td>\n",
              "      <td>...</td>\n",
              "      <td>...</td>\n",
              "      <td>...</td>\n",
              "      <td>...</td>\n",
              "      <td>...</td>\n",
              "    </tr>\n",
              "    <tr>\n",
              "      <th>12289</th>\n",
              "      <td>9316</td>\n",
              "      <td>Toushindai My Lover: Minami tai Mecha-Minami</td>\n",
              "      <td>Hentai</td>\n",
              "      <td>OVA</td>\n",
              "      <td>1</td>\n",
              "      <td>4.15</td>\n",
              "      <td>211</td>\n",
              "    </tr>\n",
              "    <tr>\n",
              "      <th>12290</th>\n",
              "      <td>5543</td>\n",
              "      <td>Under World</td>\n",
              "      <td>Hentai</td>\n",
              "      <td>OVA</td>\n",
              "      <td>1</td>\n",
              "      <td>4.28</td>\n",
              "      <td>183</td>\n",
              "    </tr>\n",
              "    <tr>\n",
              "      <th>12291</th>\n",
              "      <td>5621</td>\n",
              "      <td>Violence Gekiga David no Hoshi</td>\n",
              "      <td>Hentai</td>\n",
              "      <td>OVA</td>\n",
              "      <td>4</td>\n",
              "      <td>4.88</td>\n",
              "      <td>219</td>\n",
              "    </tr>\n",
              "    <tr>\n",
              "      <th>12292</th>\n",
              "      <td>6133</td>\n",
              "      <td>Violence Gekiga Shin David no Hoshi: Inma Dens...</td>\n",
              "      <td>Hentai</td>\n",
              "      <td>OVA</td>\n",
              "      <td>1</td>\n",
              "      <td>4.98</td>\n",
              "      <td>175</td>\n",
              "    </tr>\n",
              "    <tr>\n",
              "      <th>12293</th>\n",
              "      <td>26081</td>\n",
              "      <td>Yasuji no Pornorama: Yacchimae!!</td>\n",
              "      <td>Hentai</td>\n",
              "      <td>Movie</td>\n",
              "      <td>1</td>\n",
              "      <td>5.46</td>\n",
              "      <td>142</td>\n",
              "    </tr>\n",
              "  </tbody>\n",
              "</table>\n",
              "<p>12294 rows × 7 columns</p>\n",
              "</div>"
            ],
            "text/plain": [
              "       anime_id  ... members\n",
              "0         32281  ...  200630\n",
              "1          5114  ...  793665\n",
              "2         28977  ...  114262\n",
              "3          9253  ...  673572\n",
              "4          9969  ...  151266\n",
              "...         ...  ...     ...\n",
              "12289      9316  ...     211\n",
              "12290      5543  ...     183\n",
              "12291      5621  ...     219\n",
              "12292      6133  ...     175\n",
              "12293     26081  ...     142\n",
              "\n",
              "[12294 rows x 7 columns]"
            ]
          },
          "metadata": {
            "tags": []
          },
          "execution_count": 10
        }
      ]
    },
    {
      "cell_type": "code",
      "metadata": {
        "colab": {
          "base_uri": "https://localhost:8080/",
          "height": 37
        },
        "id": "vhMAh4uAo0Fk",
        "outputId": "d2882fb0-8d59-4763-91df-14e43b5500b9"
      },
      "source": [
        "# Existing columns in anime_df and rating_df\n",
        "anime_df.columns\n",
        "rating_df.columns\n",
        "\n",
        "\"\"\"\n",
        "Keep in mind that both anime_df and rating_df do have the attribute \"anime_id\".\n",
        "This will be important to merge both DataFrames.\n",
        "\"\"\""
      ],
      "execution_count": null,
      "outputs": [
        {
          "output_type": "execute_result",
          "data": {
            "application/vnd.google.colaboratory.intrinsic+json": {
              "type": "string"
            },
            "text/plain": [
              "'\\nKeep in mind that both anime_df and rating_df do have the attribute \"anime_id\".\\nThis will be important to merge both DataFrames.\\n'"
            ]
          },
          "metadata": {
            "tags": []
          },
          "execution_count": 11
        }
      ]
    },
    {
      "cell_type": "code",
      "metadata": {
        "id": "7rYWXT60cgg_"
      },
      "source": [
        "# Since members is not needed for the data analysis, it can be dropped\n",
        "anime_df.drop(columns=[\"members\"], inplace=True)"
      ],
      "execution_count": null,
      "outputs": []
    },
    {
      "cell_type": "code",
      "metadata": {
        "colab": {
          "base_uri": "https://localhost:8080/"
        },
        "id": "5OgkS3SBdIEN",
        "outputId": "d072f773-1b3d-4632-b1f7-901e3722e109"
      },
      "source": [
        "# Total amount of Users who rated Anime\n",
        "rating_df[\"user_id\"].unique()"
      ],
      "execution_count": null,
      "outputs": [
        {
          "output_type": "execute_result",
          "data": {
            "text/plain": [
              "array([    1,     2,     3, ..., 73514, 73515, 73516])"
            ]
          },
          "metadata": {
            "tags": []
          },
          "execution_count": 13
        }
      ]
    },
    {
      "cell_type": "code",
      "metadata": {
        "colab": {
          "base_uri": "https://localhost:8080/"
        },
        "id": "3RZYsO_efRuD",
        "outputId": "58dd1708-b093-4277-f7a1-706b39c4ed2a"
      },
      "source": [
        "# Total amount of Anime Genre in this dataset\n",
        "len(anime_df[\"genre\"].unique())"
      ],
      "execution_count": null,
      "outputs": [
        {
          "output_type": "execute_result",
          "data": {
            "text/plain": [
              "3265"
            ]
          },
          "metadata": {
            "tags": []
          },
          "execution_count": 14
        }
      ]
    },
    {
      "cell_type": "markdown",
      "metadata": {
        "id": "Tb3uZWV431SA"
      },
      "source": [
        "## 5. Data transformation\n",
        "\n",
        "In this step we convert datafields to fine granular elements and combine dataframes, so that we can prepare the data for processing in our model."
      ]
    },
    {
      "cell_type": "code",
      "metadata": {
        "id": "9-qtSksAdN98"
      },
      "source": [
        "# Now we will merge the two DataFrames, so we only have to handle one \n",
        "anime_with_ratings = pd.merge(rating_df, anime_df, on=\"anime_id\")"
      ],
      "execution_count": null,
      "outputs": []
    },
    {
      "cell_type": "code",
      "metadata": {
        "colab": {
          "base_uri": "https://localhost:8080/",
          "height": 419
        },
        "id": "YrXnb7rZpw5L",
        "outputId": "9d1d8fba-70ee-4ac9-fad6-773adb8aedff"
      },
      "source": [
        "anime_with_ratings"
      ],
      "execution_count": null,
      "outputs": [
        {
          "output_type": "execute_result",
          "data": {
            "text/html": [
              "<div>\n",
              "<style scoped>\n",
              "    .dataframe tbody tr th:only-of-type {\n",
              "        vertical-align: middle;\n",
              "    }\n",
              "\n",
              "    .dataframe tbody tr th {\n",
              "        vertical-align: top;\n",
              "    }\n",
              "\n",
              "    .dataframe thead th {\n",
              "        text-align: right;\n",
              "    }\n",
              "</style>\n",
              "<table border=\"1\" class=\"dataframe\">\n",
              "  <thead>\n",
              "    <tr style=\"text-align: right;\">\n",
              "      <th></th>\n",
              "      <th>user_id</th>\n",
              "      <th>anime_id</th>\n",
              "      <th>rating_x</th>\n",
              "      <th>name</th>\n",
              "      <th>genre</th>\n",
              "      <th>type</th>\n",
              "      <th>episodes</th>\n",
              "      <th>rating_y</th>\n",
              "    </tr>\n",
              "  </thead>\n",
              "  <tbody>\n",
              "    <tr>\n",
              "      <th>0</th>\n",
              "      <td>1</td>\n",
              "      <td>20</td>\n",
              "      <td>-1</td>\n",
              "      <td>Naruto</td>\n",
              "      <td>Action, Comedy, Martial Arts, Shounen, Super P...</td>\n",
              "      <td>TV</td>\n",
              "      <td>220</td>\n",
              "      <td>7.81</td>\n",
              "    </tr>\n",
              "    <tr>\n",
              "      <th>1</th>\n",
              "      <td>3</td>\n",
              "      <td>20</td>\n",
              "      <td>8</td>\n",
              "      <td>Naruto</td>\n",
              "      <td>Action, Comedy, Martial Arts, Shounen, Super P...</td>\n",
              "      <td>TV</td>\n",
              "      <td>220</td>\n",
              "      <td>7.81</td>\n",
              "    </tr>\n",
              "    <tr>\n",
              "      <th>2</th>\n",
              "      <td>5</td>\n",
              "      <td>20</td>\n",
              "      <td>6</td>\n",
              "      <td>Naruto</td>\n",
              "      <td>Action, Comedy, Martial Arts, Shounen, Super P...</td>\n",
              "      <td>TV</td>\n",
              "      <td>220</td>\n",
              "      <td>7.81</td>\n",
              "    </tr>\n",
              "    <tr>\n",
              "      <th>3</th>\n",
              "      <td>6</td>\n",
              "      <td>20</td>\n",
              "      <td>-1</td>\n",
              "      <td>Naruto</td>\n",
              "      <td>Action, Comedy, Martial Arts, Shounen, Super P...</td>\n",
              "      <td>TV</td>\n",
              "      <td>220</td>\n",
              "      <td>7.81</td>\n",
              "    </tr>\n",
              "    <tr>\n",
              "      <th>4</th>\n",
              "      <td>10</td>\n",
              "      <td>20</td>\n",
              "      <td>-1</td>\n",
              "      <td>Naruto</td>\n",
              "      <td>Action, Comedy, Martial Arts, Shounen, Super P...</td>\n",
              "      <td>TV</td>\n",
              "      <td>220</td>\n",
              "      <td>7.81</td>\n",
              "    </tr>\n",
              "    <tr>\n",
              "      <th>...</th>\n",
              "      <td>...</td>\n",
              "      <td>...</td>\n",
              "      <td>...</td>\n",
              "      <td>...</td>\n",
              "      <td>...</td>\n",
              "      <td>...</td>\n",
              "      <td>...</td>\n",
              "      <td>...</td>\n",
              "    </tr>\n",
              "    <tr>\n",
              "      <th>7813722</th>\n",
              "      <td>65682</td>\n",
              "      <td>30450</td>\n",
              "      <td>8</td>\n",
              "      <td>Dr. Slump: Hoyoyo! Arale no Himitsu Dai Koukai...</td>\n",
              "      <td>Comedy, Sci-Fi, Shounen</td>\n",
              "      <td>Special</td>\n",
              "      <td>1</td>\n",
              "      <td>6.17</td>\n",
              "    </tr>\n",
              "    <tr>\n",
              "      <th>7813723</th>\n",
              "      <td>69497</td>\n",
              "      <td>33484</td>\n",
              "      <td>10</td>\n",
              "      <td>Shiroi Zou</td>\n",
              "      <td>Action, Historical, Kids</td>\n",
              "      <td>Movie</td>\n",
              "      <td>1</td>\n",
              "      <td>4.71</td>\n",
              "    </tr>\n",
              "    <tr>\n",
              "      <th>7813724</th>\n",
              "      <td>70463</td>\n",
              "      <td>29481</td>\n",
              "      <td>-1</td>\n",
              "      <td>Kakinoki Mokkii</td>\n",
              "      <td>Fantasy, Kids</td>\n",
              "      <td>Special</td>\n",
              "      <td>1</td>\n",
              "      <td>4.33</td>\n",
              "    </tr>\n",
              "    <tr>\n",
              "      <th>7813725</th>\n",
              "      <td>72404</td>\n",
              "      <td>34412</td>\n",
              "      <td>-1</td>\n",
              "      <td>Hashiri Hajimeta bakari no Kimi ni</td>\n",
              "      <td>Music</td>\n",
              "      <td>Music</td>\n",
              "      <td>1</td>\n",
              "      <td>6.76</td>\n",
              "    </tr>\n",
              "    <tr>\n",
              "      <th>7813726</th>\n",
              "      <td>72800</td>\n",
              "      <td>30738</td>\n",
              "      <td>4</td>\n",
              "      <td>Gamba: Gamba to Nakama-tachi</td>\n",
              "      <td>Adventure, Kids</td>\n",
              "      <td>Movie</td>\n",
              "      <td>1</td>\n",
              "      <td>5.55</td>\n",
              "    </tr>\n",
              "  </tbody>\n",
              "</table>\n",
              "<p>7813727 rows × 8 columns</p>\n",
              "</div>"
            ],
            "text/plain": [
              "         user_id  anime_id  rating_x  ...     type episodes rating_y\n",
              "0              1        20        -1  ...       TV      220     7.81\n",
              "1              3        20         8  ...       TV      220     7.81\n",
              "2              5        20         6  ...       TV      220     7.81\n",
              "3              6        20        -1  ...       TV      220     7.81\n",
              "4             10        20        -1  ...       TV      220     7.81\n",
              "...          ...       ...       ...  ...      ...      ...      ...\n",
              "7813722    65682     30450         8  ...  Special        1     6.17\n",
              "7813723    69497     33484        10  ...    Movie        1     4.71\n",
              "7813724    70463     29481        -1  ...  Special        1     4.33\n",
              "7813725    72404     34412        -1  ...    Music        1     6.76\n",
              "7813726    72800     30738         4  ...    Movie        1     5.55\n",
              "\n",
              "[7813727 rows x 8 columns]"
            ]
          },
          "metadata": {
            "tags": []
          },
          "execution_count": 16
        }
      ]
    },
    {
      "cell_type": "markdown",
      "metadata": {
        "id": "xYT5DuUs7h84"
      },
      "source": [
        "## 6. Advanced Data Exploration \n",
        "We will now analyse the transformed data to see which similarities and patterns might occur. Also assumptions about the necessary model and the challenges that may arise while training it can be made. Furthermore, the advanced exploration of the data can be used to assess the performance of the model in later steps."
      ]
    },
    {
      "cell_type": "code",
      "metadata": {
        "id": "YvKlfIKSqQCQ",
        "colab": {
          "base_uri": "https://localhost:8080/"
        },
        "outputId": "d95bd517-b242-43d9-c047-fb82ea2df65d"
      },
      "source": [
        "#Count all Genres in our Data-Set\n",
        "genre_count = anime_with_ratings[\"genre\"].value_counts()\n",
        "genre_count"
      ],
      "execution_count": null,
      "outputs": [
        {
          "output_type": "execute_result",
          "data": {
            "text/plain": [
              "Hentai                                       62435\n",
              "Comedy, School, Slice of Life                61404\n",
              "Comedy                                       54154\n",
              "Comedy, Slice of Life                        52569\n",
              "Action, Adventure, Fantasy, Game, Romance    50051\n",
              "                                             ...  \n",
              "Action, Game, Kids                               1\n",
              "Kids, Mystery                                    1\n",
              "Comedy, Parody, Police, Slice of Life            1\n",
              "Comedy, Fantasy, Kids, Sci-Fi                    1\n",
              "Adventure, Fantasy, Historical, Sci-Fi           1\n",
              "Name: genre, Length: 3154, dtype: int64"
            ]
          },
          "metadata": {
            "tags": []
          },
          "execution_count": 17
        }
      ]
    },
    {
      "cell_type": "code",
      "metadata": {
        "id": "WrfSgjzD6b5C"
      },
      "source": [
        "#Show Top 10 Genres in our Data-Set\n",
        "from collections import Counter\n",
        "top10_genres= genre_count[:10]\n",
        "top10_genres\n",
        "top10_genres_title= Counter(anime_with_ratings[\"genre\"])\n",
        "top10_genres_title= list(sorted(top10_genres_title, key=top10_genres_title.get, reverse=True)[:10])"
      ],
      "execution_count": null,
      "outputs": []
    },
    {
      "cell_type": "code",
      "metadata": {
        "id": "V6mlGt8AwEEF",
        "colab": {
          "base_uri": "https://localhost:8080/",
          "height": 673
        },
        "outputId": "dcf689d1-1d9e-4eac-a8a0-21b2c7474fb1"
      },
      "source": [
        "#Plot results in a bar chart\n",
        "fig = plt.figure(figsize = (14, 6))\n",
        "plt.xlabel(\"Genres\")\n",
        "plt.ylabel(\"Count of Genres\")\n",
        "plt.title(\"Top 10 Anime-Genres\")\n",
        "plt.xticks(rotation=90)\n",
        "plt.bar(height=top10_genres,x=top10_genres_title)"
      ],
      "execution_count": null,
      "outputs": [
        {
          "output_type": "execute_result",
          "data": {
            "text/plain": [
              "<BarContainer object of 10 artists>"
            ]
          },
          "metadata": {
            "tags": []
          },
          "execution_count": 63
        },
        {
          "output_type": "display_data",
          "data": {
            "image/png": "[encoded data removed]",
            "text/plain": [
              "<Figure size 1008x432 with 1 Axes>"
            ]
          },
          "metadata": {
            "tags": [],
            "needs_background": "light"
          }
        }
      ]
    },
    {
      "cell_type": "code",
      "metadata": {
        "colab": {
          "base_uri": "https://localhost:8080/"
        },
        "id": "-FgfxjY5xcyU",
        "outputId": "804ab729-4718-4d18-efb9-13bd145aa342"
      },
      "source": [
        "#Count how often a specific type appears in our data set\n",
        "type_count = anime_with_ratings[\"type\"].dropna().value_counts()\n",
        "type_count\n",
        "type_name= Counter(anime_with_ratings[\"type\"].dropna())\n",
        "type_name= list(sorted(type_name, key=type_name.get, reverse=True))\n",
        "type_name"
      ],
      "execution_count": null,
      "outputs": [
        {
          "output_type": "execute_result",
          "data": {
            "text/plain": [
              "['TV', 'Movie', 'OVA', 'Special', 'ONA', 'Music']"
            ]
          },
          "metadata": {
            "tags": []
          },
          "execution_count": 70
        }
      ]
    },
    {
      "cell_type": "code",
      "metadata": {
        "colab": {
          "base_uri": "https://localhost:8080/",
          "height": 430
        },
        "id": "u3kZ-9v3yDr7",
        "outputId": "9f86cee3-5994-488b-f9c0-8d10b50b7124"
      },
      "source": [
        "fig = plt.figure(figsize = (14, 6))\n",
        "plt.xlabel(\"Type Name\")\n",
        "plt.ylabel(\"Count of Type\")\n",
        "plt.title(\"Anime type per count\")\n",
        "plt.xticks(rotation=90)\n",
        "plt.gcf().axes[0].yaxis.get_major_formatter().set_scientific(False)\n",
        "plt.bar(height=type_count,x=type_name)\n",
        "plt.show()"
      ],
      "execution_count": null,
      "outputs": [
        {
          "output_type": "display_data",
          "data": {
            "image/png": "[encoded data removed]",
            "text/plain": [
              "<Figure size 1008x432 with 1 Axes>"
            ]
          },
          "metadata": {
            "tags": [],
            "needs_background": "light"
          }
        }
      ]
    },
    {
      "cell_type": "code",
      "metadata": {
        "colab": {
          "base_uri": "https://localhost:8080/",
          "height": 404
        },
        "id": "oET3hURWGwAq",
        "outputId": "3a3d2f3b-002e-420f-a298-d09ddff229c7"
      },
      "source": [
        "#Count Episodes in Type TV / How many Series got a specific amount of episodes?\n",
        "fig = plt.figure(figsize = (14, 6))\n",
        "tv = anime_with_ratings[anime_with_ratings.type == \"TV\"]\n",
        "episodes_count = tv[\"episodes\"].value_counts()\n",
        "e_t10 = episodes_count[:10]\n",
        "plt.xlabel(\"Amount of Episodes\")\n",
        "plt.ylabel(\"Count of Episodes\")\n",
        "plt.title(\"How many Episodes do most of the anime-series have?\")\n",
        "plt.gcf().axes[0].yaxis.get_major_formatter().set_scientific(False)\n",
        "plt.bar(height=e_t10, x=list(e_t10.index))\n",
        "plt.show()"
      ],
      "execution_count": null,
      "outputs": [
        {
          "output_type": "display_data",
          "data": {
            "image/png": "[encoded data removed]",
            "text/plain": [
              "<Figure size 1008x432 with 1 Axes>"
            ]
          },
          "metadata": {
            "tags": [],
            "needs_background": "light"
          }
        }
      ]
    },
    {
      "cell_type": "code",
      "metadata": {
        "id": "eA2Db64aMXfX"
      },
      "source": [
        ""
      ],
      "execution_count": null,
      "outputs": []
    },
    {
      "cell_type": "markdown",
      "metadata": {
        "id": "okxxiQqo90EC"
      },
      "source": [
        "## 6. Model selection\n",
        "We will discuss which considerations were made to select a fitting model for this dataset and context. We will also provide the scientific foundation for the selected model and any further considerations that went into the model selection and appropriate metrics that are derived from the model or fed into the model. "
      ]
    },
    {
      "cell_type": "markdown",
      "metadata": {
        "id": "lK1_1q0u-u8y"
      },
      "source": [
        "## 7. Model training \n",
        "The dataset will be split into train and test samples and the model will be trained to give anime recommendations based on any users data."
      ]
    }
  ]
}