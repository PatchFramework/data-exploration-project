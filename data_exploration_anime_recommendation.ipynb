{
  "nbformat": 4,
  "nbformat_minor": 0,
  "metadata": {
    "colab": {
      "name": "data_exploration_anime_recommendation.ipynb",
      "provenance": [],
      "collapsed_sections": [],
      "include_colab_link": true
    },
    "kernelspec": {
      "name": "python3",
      "display_name": "Python 3"
    },
    "language_info": {
      "name": "python"
    }
  },
  "cells": [
    {
      "cell_type": "markdown",
      "metadata": {
        "id": "view-in-github",
        "colab_type": "text"
      },
      "source": [
        "<a href=\"https://colab.research.google.com/github/PatchFramework/data-exploration-project/blob/main/data_exploration_anime_recommendation.ipynb\" target=\"_parent\"><img src=\"https://colab.research.google.com/assets/colab-badge.svg\" alt=\"Open In Colab\"/></a>"
      ]
    },
    {
      "cell_type": "markdown",
      "metadata": {
        "id": "Rzw28uoCArNf"
      },
      "source": [
        "# Data Exploration Project - Anime Recommendation\n",
        "#### Team: PostgreSQL (Can Berkil, Canberk Alkan, Dominic Viola)\n",
        "This Jupyter Notebook is designed to run on Google Colab, as it provides a standardized Linux environment and preinstalled applications. It contains the code that is used to download and analyse an Anime dataset. Afterwards the dataset is used to build a recommendation engine.\n",
        "\n",
        "\n",
        "\n",
        "## Development Notes:\n",
        "\n",
        "ToDo:\n",
        "\n",
        "1. Headings and their content for: \n",
        "- Data selection (why did we choose this dataset? <- use information from Canberks PowerPoint) <- Canberk\n",
        "- Data cleaning ###finished###\n",
        "- Data transformation <- Canberk(GroupBy)\n",
        "- Data exploration <- Can\n",
        "- Model selection (papers to determine suitable algorithms) <- Dom\n",
        "- Model Training <- Can\n",
        "- Data Input for the Recommendation <- ?"
      ]
    },
    {
      "cell_type": "markdown",
      "metadata": {
        "id": "3v-IL0_xBbqQ"
      },
      "source": [
        "## 1. Download the dataset\n",
        "The dataset is from Kaggle you can find general information about it [here](https://www.kaggle.com/CooperUnion/anime-recommendations-database?select=rating.csv).\n",
        "\n",
        "I downloaded the dataset to my private google drive and created a public link to ensure that the dataset is available. This is in compliance with the dataset's Creative Commons License."
      ]
    },
    {
      "cell_type": "code",
      "metadata": {
        "colab": {
          "base_uri": "https://localhost:8080/"
        },
        "id": "3HcqT7OUAp6T",
        "outputId": "eba4c815-af26-4fd4-e691-b68429e25ee0"
      },
      "source": [
        "# Download the dataset from my google drive\n",
        "!gdown --id 1XPYCQvsGq4cKp1liPmxPDd7QkU04Kj4X -O ./anime_dataset.zip\n",
        "!ls"
      ],
      "execution_count": 1,
      "outputs": [
        {
          "output_type": "stream",
          "text": [
            "Downloading...\n",
            "From: https://drive.google.com/uc?id=1XPYCQvsGq4cKp1liPmxPDd7QkU04Kj4X\n",
            "To: /content/anime_dataset.zip\n",
            "26.3MB [00:00, 123MB/s]\n",
            "anime_dataset.zip  data  sample_data\n"
          ],
          "name": "stdout"
        }
      ]
    },
    {
      "cell_type": "code",
      "metadata": {
        "colab": {
          "base_uri": "https://localhost:8080/"
        },
        "id": "oHupRaEjOzcI",
        "outputId": "44e10ab0-5e86-4485-92fc-f593266929a2"
      },
      "source": [
        "# create a directory for the data\n",
        "!mkdir data\n",
        "\n",
        "# after downloading the dataset as a zip unzip the dataset into the new folder\n",
        "# only execute if unzipped anime.csv doesn't already exist (cell can be re-run easier)\n",
        "! [ ! -f data/anime.csv ] && unzip anime_dataset.zip -d ./data/\n",
        "\n",
        "!ls data"
      ],
      "execution_count": 2,
      "outputs": [
        {
          "output_type": "stream",
          "text": [
            "mkdir: cannot create directory ‘data’: File exists\n",
            "anime.csv  rating.csv\n"
          ],
          "name": "stdout"
        }
      ]
    },
    {
      "cell_type": "markdown",
      "metadata": {
        "id": "dqcTy8dO2nAG"
      },
      "source": [
        "## 2. Data Selection\n",
        "\n",
        "This section will shed a light on why [this](https://www.kaggle.com/CooperUnion/anime-recommendations-database?select=rating.csv) dataset was choosen and what the characteristics of the dataset are."
      ]
    },
    {
      "cell_type": "markdown",
      "metadata": {
        "id": "9u3x04FIWw2i"
      },
      "source": [
        "## 3. Fundamental dataset exploration\n",
        "\n",
        "Now the content and structure of this dataset will explored.\n",
        "\n",
        "\n",
        "Lets see how the csv files that were downloaded are structured.\n",
        "Lets look at the first few lines of each file with the linux command \"head\".\n",
        "\n",
        "The goal is to find information about:\n",
        "- column names\n",
        "- datatypes  \n",
        "- the seperator (we need it for pandas later)\n",
        "- how the CSV files are connected\n"
      ]
    },
    {
      "cell_type": "code",
      "metadata": {
        "colab": {
          "base_uri": "https://localhost:8080/"
        },
        "id": "nMWfjtMtbJrC",
        "outputId": "137e0c34-f295-4e6e-e271-82ac174abc36"
      },
      "source": [
        "!head -5 data/anime.csv"
      ],
      "execution_count": 3,
      "outputs": [
        {
          "output_type": "stream",
          "text": [
            "anime_id,name,genre,type,episodes,rating,members\r\n",
            "32281,Kimi no Na wa.,\"Drama, Romance, School, Supernatural\",Movie,1,9.37,200630\r\n",
            "5114,Fullmetal Alchemist: Brotherhood,\"Action, Adventure, Drama, Fantasy, Magic, Military, Shounen\",TV,64,9.26,793665\r\n",
            "28977,Gintama°,\"Action, Comedy, Historical, Parody, Samurai, Sci-Fi, Shounen\",TV,51,9.25,114262\r\n",
            "9253,Steins;Gate,\"Sci-Fi, Thriller\",TV,24,9.17,673572\r\n"
          ],
          "name": "stdout"
        }
      ]
    },
    {
      "cell_type": "code",
      "metadata": {
        "colab": {
          "base_uri": "https://localhost:8080/"
        },
        "id": "yuBPEKNkbguT",
        "outputId": "2695f889-d2e0-4956-8f46-57d119c505df"
      },
      "source": [
        "!head -5 data/rating.csv"
      ],
      "execution_count": 4,
      "outputs": [
        {
          "output_type": "stream",
          "text": [
            "user_id,anime_id,rating\r\n",
            "1,20,-1\r\n",
            "1,24,-1\r\n",
            "1,79,-1\r\n",
            "1,226,-1\r\n"
          ],
          "name": "stdout"
        }
      ]
    },
    {
      "cell_type": "markdown",
      "metadata": {
        "id": "yg4epuioffek"
      },
      "source": [
        "What can be learned from this first peak into the dataset:\n",
        "1. Columns in anime.csv\n",
        "- \"anime_id\" is the identifier for each anime\n",
        "- \"name\" contains the name as a string but without quotes\n",
        "- \"genre\" contains all genres that the anime is part of, quotes are used, so that the comma seperated genres are not confused with csv fields\n",
        "- \"type\" shows which medium type the anime is \n",
        "- \"rating\" seems to be a general rating from 1 to 10\n",
        "- \"members\" ?\n",
        "\n",
        "2. Columns in rating.csv\n",
        "- \"user\" is the id of the user, that gave the rating\n",
        "- \"anime_id\" is the identifier of the anime, this is the connecting field to anime.csv\n",
        "- \"rating\" is the rating that the user gave the anime. There is -1 as an entry which can't be an actual rating, so -1 means, that the user watched but didn't rate the anime. If the user didn't watch and didn't rate the movie, there will be no entry in the rating.csv\n",
        "\n",
        "3. The seperator is a comma for both csv-files\n"
      ]
    },
    {
      "cell_type": "markdown",
      "metadata": {
        "id": "8ZWI2mle3MVG"
      },
      "source": [
        "## 4. Data Cleaning\n",
        "Unnecessary fields will be dropped from the dataset, the dataset will be checked for inconsistencies and redundancies. Also fields with incorrect datatypes will be fixed."
      ]
    },
    {
      "cell_type": "markdown",
      "metadata": {
        "id": "Ry03L9-6dUU6"
      },
      "source": [
        "Pandas library will be used to save the dataset to dataframes for easier handling and manipulation in python. Numpy will help to modify values within the dataframe.\n",
        "\n"
      ]
    },
    {
      "cell_type": "code",
      "metadata": {
        "colab": {
          "base_uri": "https://localhost:8080/"
        },
        "id": "c_tL5XJUZR7C",
        "outputId": "c9ad304b-615d-4cf1-ce8b-a66858a39838"
      },
      "source": [
        "# Install the library packages (might be already installed)\n",
        "!pip3 install pandas numpy"
      ],
      "execution_count": 5,
      "outputs": [
        {
          "output_type": "stream",
          "text": [
            "Requirement already satisfied: pandas in /usr/local/lib/python3.7/dist-packages (1.1.5)\n",
            "Requirement already satisfied: numpy in /usr/local/lib/python3.7/dist-packages (1.19.5)\n",
            "Requirement already satisfied: pytz>=2017.2 in /usr/local/lib/python3.7/dist-packages (from pandas) (2018.9)\n",
            "Requirement already satisfied: python-dateutil>=2.7.3 in /usr/local/lib/python3.7/dist-packages (from pandas) (2.8.1)\n",
            "Requirement already satisfied: six>=1.5 in /usr/local/lib/python3.7/dist-packages (from python-dateutil>=2.7.3->pandas) (1.15.0)\n"
          ],
          "name": "stdout"
        }
      ]
    },
    {
      "cell_type": "code",
      "metadata": {
        "id": "ROdLlGUlZiS_"
      },
      "source": [
        "import pandas as pd\n",
        "import numpy as np\n"
      ],
      "execution_count": 6,
      "outputs": []
    },
    {
      "cell_type": "code",
      "metadata": {
        "id": "K5l2xjXrai0c"
      },
      "source": [
        "anime_df = pd.read_csv(\"data/anime.csv\")\n",
        "rating_df = pd.read_csv(\"data/rating.csv\")"
      ],
      "execution_count": 7,
      "outputs": []
    },
    {
      "cell_type": "code",
      "metadata": {
        "colab": {
          "base_uri": "https://localhost:8080/",
          "height": 419
        },
        "id": "_4vi_WCU1E91",
        "outputId": "1ae3c17d-4d56-402c-bbe2-03a7fc5eb07c"
      },
      "source": [
        "anime_df\n"
      ],
      "execution_count": 8,
      "outputs": [
        {
          "output_type": "execute_result",
          "data": {
            "text/html": [
              "<div>\n",
              "<style scoped>\n",
              "    .dataframe tbody tr th:only-of-type {\n",
              "        vertical-align: middle;\n",
              "    }\n",
              "\n",
              "    .dataframe tbody tr th {\n",
              "        vertical-align: top;\n",
              "    }\n",
              "\n",
              "    .dataframe thead th {\n",
              "        text-align: right;\n",
              "    }\n",
              "</style>\n",
              "<table border=\"1\" class=\"dataframe\">\n",
              "  <thead>\n",
              "    <tr style=\"text-align: right;\">\n",
              "      <th></th>\n",
              "      <th>anime_id</th>\n",
              "      <th>name</th>\n",
              "      <th>genre</th>\n",
              "      <th>type</th>\n",
              "      <th>episodes</th>\n",
              "      <th>rating</th>\n",
              "      <th>members</th>\n",
              "    </tr>\n",
              "  </thead>\n",
              "  <tbody>\n",
              "    <tr>\n",
              "      <th>0</th>\n",
              "      <td>32281</td>\n",
              "      <td>Kimi no Na wa.</td>\n",
              "      <td>Drama, Romance, School, Supernatural</td>\n",
              "      <td>Movie</td>\n",
              "      <td>1</td>\n",
              "      <td>9.37</td>\n",
              "      <td>200630</td>\n",
              "    </tr>\n",
              "    <tr>\n",
              "      <th>1</th>\n",
              "      <td>5114</td>\n",
              "      <td>Fullmetal Alchemist: Brotherhood</td>\n",
              "      <td>Action, Adventure, Drama, Fantasy, Magic, Mili...</td>\n",
              "      <td>TV</td>\n",
              "      <td>64</td>\n",
              "      <td>9.26</td>\n",
              "      <td>793665</td>\n",
              "    </tr>\n",
              "    <tr>\n",
              "      <th>2</th>\n",
              "      <td>28977</td>\n",
              "      <td>Gintama°</td>\n",
              "      <td>Action, Comedy, Historical, Parody, Samurai, S...</td>\n",
              "      <td>TV</td>\n",
              "      <td>51</td>\n",
              "      <td>9.25</td>\n",
              "      <td>114262</td>\n",
              "    </tr>\n",
              "    <tr>\n",
              "      <th>3</th>\n",
              "      <td>9253</td>\n",
              "      <td>Steins;Gate</td>\n",
              "      <td>Sci-Fi, Thriller</td>\n",
              "      <td>TV</td>\n",
              "      <td>24</td>\n",
              "      <td>9.17</td>\n",
              "      <td>673572</td>\n",
              "    </tr>\n",
              "    <tr>\n",
              "      <th>4</th>\n",
              "      <td>9969</td>\n",
              "      <td>Gintama&amp;#039;</td>\n",
              "      <td>Action, Comedy, Historical, Parody, Samurai, S...</td>\n",
              "      <td>TV</td>\n",
              "      <td>51</td>\n",
              "      <td>9.16</td>\n",
              "      <td>151266</td>\n",
              "    </tr>\n",
              "    <tr>\n",
              "      <th>...</th>\n",
              "      <td>...</td>\n",
              "      <td>...</td>\n",
              "      <td>...</td>\n",
              "      <td>...</td>\n",
              "      <td>...</td>\n",
              "      <td>...</td>\n",
              "      <td>...</td>\n",
              "    </tr>\n",
              "    <tr>\n",
              "      <th>12289</th>\n",
              "      <td>9316</td>\n",
              "      <td>Toushindai My Lover: Minami tai Mecha-Minami</td>\n",
              "      <td>Hentai</td>\n",
              "      <td>OVA</td>\n",
              "      <td>1</td>\n",
              "      <td>4.15</td>\n",
              "      <td>211</td>\n",
              "    </tr>\n",
              "    <tr>\n",
              "      <th>12290</th>\n",
              "      <td>5543</td>\n",
              "      <td>Under World</td>\n",
              "      <td>Hentai</td>\n",
              "      <td>OVA</td>\n",
              "      <td>1</td>\n",
              "      <td>4.28</td>\n",
              "      <td>183</td>\n",
              "    </tr>\n",
              "    <tr>\n",
              "      <th>12291</th>\n",
              "      <td>5621</td>\n",
              "      <td>Violence Gekiga David no Hoshi</td>\n",
              "      <td>Hentai</td>\n",
              "      <td>OVA</td>\n",
              "      <td>4</td>\n",
              "      <td>4.88</td>\n",
              "      <td>219</td>\n",
              "    </tr>\n",
              "    <tr>\n",
              "      <th>12292</th>\n",
              "      <td>6133</td>\n",
              "      <td>Violence Gekiga Shin David no Hoshi: Inma Dens...</td>\n",
              "      <td>Hentai</td>\n",
              "      <td>OVA</td>\n",
              "      <td>1</td>\n",
              "      <td>4.98</td>\n",
              "      <td>175</td>\n",
              "    </tr>\n",
              "    <tr>\n",
              "      <th>12293</th>\n",
              "      <td>26081</td>\n",
              "      <td>Yasuji no Pornorama: Yacchimae!!</td>\n",
              "      <td>Hentai</td>\n",
              "      <td>Movie</td>\n",
              "      <td>1</td>\n",
              "      <td>5.46</td>\n",
              "      <td>142</td>\n",
              "    </tr>\n",
              "  </tbody>\n",
              "</table>\n",
              "<p>12294 rows × 7 columns</p>\n",
              "</div>"
            ],
            "text/plain": [
              "       anime_id  ... members\n",
              "0         32281  ...  200630\n",
              "1          5114  ...  793665\n",
              "2         28977  ...  114262\n",
              "3          9253  ...  673572\n",
              "4          9969  ...  151266\n",
              "...         ...  ...     ...\n",
              "12289      9316  ...     211\n",
              "12290      5543  ...     183\n",
              "12291      5621  ...     219\n",
              "12292      6133  ...     175\n",
              "12293     26081  ...     142\n",
              "\n",
              "[12294 rows x 7 columns]"
            ]
          },
          "metadata": {
            "tags": []
          },
          "execution_count": 8
        }
      ]
    },
    {
      "cell_type": "code",
      "metadata": {
        "colab": {
          "base_uri": "https://localhost:8080/",
          "height": 419
        },
        "id": "9P-erBoY1Ul7",
        "outputId": "9400dc4e-8e08-4025-909c-d56a78c2e6e0"
      },
      "source": [
        "rating_df"
      ],
      "execution_count": 9,
      "outputs": [
        {
          "output_type": "execute_result",
          "data": {
            "text/html": [
              "<div>\n",
              "<style scoped>\n",
              "    .dataframe tbody tr th:only-of-type {\n",
              "        vertical-align: middle;\n",
              "    }\n",
              "\n",
              "    .dataframe tbody tr th {\n",
              "        vertical-align: top;\n",
              "    }\n",
              "\n",
              "    .dataframe thead th {\n",
              "        text-align: right;\n",
              "    }\n",
              "</style>\n",
              "<table border=\"1\" class=\"dataframe\">\n",
              "  <thead>\n",
              "    <tr style=\"text-align: right;\">\n",
              "      <th></th>\n",
              "      <th>user_id</th>\n",
              "      <th>anime_id</th>\n",
              "      <th>rating</th>\n",
              "    </tr>\n",
              "  </thead>\n",
              "  <tbody>\n",
              "    <tr>\n",
              "      <th>0</th>\n",
              "      <td>1</td>\n",
              "      <td>20</td>\n",
              "      <td>-1</td>\n",
              "    </tr>\n",
              "    <tr>\n",
              "      <th>1</th>\n",
              "      <td>1</td>\n",
              "      <td>24</td>\n",
              "      <td>-1</td>\n",
              "    </tr>\n",
              "    <tr>\n",
              "      <th>2</th>\n",
              "      <td>1</td>\n",
              "      <td>79</td>\n",
              "      <td>-1</td>\n",
              "    </tr>\n",
              "    <tr>\n",
              "      <th>3</th>\n",
              "      <td>1</td>\n",
              "      <td>226</td>\n",
              "      <td>-1</td>\n",
              "    </tr>\n",
              "    <tr>\n",
              "      <th>4</th>\n",
              "      <td>1</td>\n",
              "      <td>241</td>\n",
              "      <td>-1</td>\n",
              "    </tr>\n",
              "    <tr>\n",
              "      <th>...</th>\n",
              "      <td>...</td>\n",
              "      <td>...</td>\n",
              "      <td>...</td>\n",
              "    </tr>\n",
              "    <tr>\n",
              "      <th>7813732</th>\n",
              "      <td>73515</td>\n",
              "      <td>16512</td>\n",
              "      <td>7</td>\n",
              "    </tr>\n",
              "    <tr>\n",
              "      <th>7813733</th>\n",
              "      <td>73515</td>\n",
              "      <td>17187</td>\n",
              "      <td>9</td>\n",
              "    </tr>\n",
              "    <tr>\n",
              "      <th>7813734</th>\n",
              "      <td>73515</td>\n",
              "      <td>22145</td>\n",
              "      <td>10</td>\n",
              "    </tr>\n",
              "    <tr>\n",
              "      <th>7813735</th>\n",
              "      <td>73516</td>\n",
              "      <td>790</td>\n",
              "      <td>9</td>\n",
              "    </tr>\n",
              "    <tr>\n",
              "      <th>7813736</th>\n",
              "      <td>73516</td>\n",
              "      <td>8074</td>\n",
              "      <td>9</td>\n",
              "    </tr>\n",
              "  </tbody>\n",
              "</table>\n",
              "<p>7813737 rows × 3 columns</p>\n",
              "</div>"
            ],
            "text/plain": [
              "         user_id  anime_id  rating\n",
              "0              1        20      -1\n",
              "1              1        24      -1\n",
              "2              1        79      -1\n",
              "3              1       226      -1\n",
              "4              1       241      -1\n",
              "...          ...       ...     ...\n",
              "7813732    73515     16512       7\n",
              "7813733    73515     17187       9\n",
              "7813734    73515     22145      10\n",
              "7813735    73516       790       9\n",
              "7813736    73516      8074       9\n",
              "\n",
              "[7813737 rows x 3 columns]"
            ]
          },
          "metadata": {
            "tags": []
          },
          "execution_count": 9
        }
      ]
    },
    {
      "cell_type": "code",
      "metadata": {
        "colab": {
          "base_uri": "https://localhost:8080/"
        },
        "id": "20Ptu8U5bEc6",
        "outputId": "5a095762-7dbe-402d-be95-8705ab7abdf7"
      },
      "source": [
        "# Total amount of Anime in this dataset\n",
        "len(anime_df[\"anime_id\"])"
      ],
      "execution_count": 10,
      "outputs": [
        {
          "output_type": "execute_result",
          "data": {
            "text/plain": [
              "12294"
            ]
          },
          "metadata": {
            "tags": []
          },
          "execution_count": 10
        }
      ]
    },
    {
      "cell_type": "code",
      "metadata": {
        "colab": {
          "base_uri": "https://localhost:8080/",
          "height": 419
        },
        "id": "ExnAcyW--56S",
        "outputId": "ae207842-a770-47f9-b64f-82829ffb8748"
      },
      "source": [
        "anime_df"
      ],
      "execution_count": 11,
      "outputs": [
        {
          "output_type": "execute_result",
          "data": {
            "text/html": [
              "<div>\n",
              "<style scoped>\n",
              "    .dataframe tbody tr th:only-of-type {\n",
              "        vertical-align: middle;\n",
              "    }\n",
              "\n",
              "    .dataframe tbody tr th {\n",
              "        vertical-align: top;\n",
              "    }\n",
              "\n",
              "    .dataframe thead th {\n",
              "        text-align: right;\n",
              "    }\n",
              "</style>\n",
              "<table border=\"1\" class=\"dataframe\">\n",
              "  <thead>\n",
              "    <tr style=\"text-align: right;\">\n",
              "      <th></th>\n",
              "      <th>anime_id</th>\n",
              "      <th>name</th>\n",
              "      <th>genre</th>\n",
              "      <th>type</th>\n",
              "      <th>episodes</th>\n",
              "      <th>rating</th>\n",
              "      <th>members</th>\n",
              "    </tr>\n",
              "  </thead>\n",
              "  <tbody>\n",
              "    <tr>\n",
              "      <th>0</th>\n",
              "      <td>32281</td>\n",
              "      <td>Kimi no Na wa.</td>\n",
              "      <td>Drama, Romance, School, Supernatural</td>\n",
              "      <td>Movie</td>\n",
              "      <td>1</td>\n",
              "      <td>9.37</td>\n",
              "      <td>200630</td>\n",
              "    </tr>\n",
              "    <tr>\n",
              "      <th>1</th>\n",
              "      <td>5114</td>\n",
              "      <td>Fullmetal Alchemist: Brotherhood</td>\n",
              "      <td>Action, Adventure, Drama, Fantasy, Magic, Mili...</td>\n",
              "      <td>TV</td>\n",
              "      <td>64</td>\n",
              "      <td>9.26</td>\n",
              "      <td>793665</td>\n",
              "    </tr>\n",
              "    <tr>\n",
              "      <th>2</th>\n",
              "      <td>28977</td>\n",
              "      <td>Gintama°</td>\n",
              "      <td>Action, Comedy, Historical, Parody, Samurai, S...</td>\n",
              "      <td>TV</td>\n",
              "      <td>51</td>\n",
              "      <td>9.25</td>\n",
              "      <td>114262</td>\n",
              "    </tr>\n",
              "    <tr>\n",
              "      <th>3</th>\n",
              "      <td>9253</td>\n",
              "      <td>Steins;Gate</td>\n",
              "      <td>Sci-Fi, Thriller</td>\n",
              "      <td>TV</td>\n",
              "      <td>24</td>\n",
              "      <td>9.17</td>\n",
              "      <td>673572</td>\n",
              "    </tr>\n",
              "    <tr>\n",
              "      <th>4</th>\n",
              "      <td>9969</td>\n",
              "      <td>Gintama&amp;#039;</td>\n",
              "      <td>Action, Comedy, Historical, Parody, Samurai, S...</td>\n",
              "      <td>TV</td>\n",
              "      <td>51</td>\n",
              "      <td>9.16</td>\n",
              "      <td>151266</td>\n",
              "    </tr>\n",
              "    <tr>\n",
              "      <th>...</th>\n",
              "      <td>...</td>\n",
              "      <td>...</td>\n",
              "      <td>...</td>\n",
              "      <td>...</td>\n",
              "      <td>...</td>\n",
              "      <td>...</td>\n",
              "      <td>...</td>\n",
              "    </tr>\n",
              "    <tr>\n",
              "      <th>12289</th>\n",
              "      <td>9316</td>\n",
              "      <td>Toushindai My Lover: Minami tai Mecha-Minami</td>\n",
              "      <td>Hentai</td>\n",
              "      <td>OVA</td>\n",
              "      <td>1</td>\n",
              "      <td>4.15</td>\n",
              "      <td>211</td>\n",
              "    </tr>\n",
              "    <tr>\n",
              "      <th>12290</th>\n",
              "      <td>5543</td>\n",
              "      <td>Under World</td>\n",
              "      <td>Hentai</td>\n",
              "      <td>OVA</td>\n",
              "      <td>1</td>\n",
              "      <td>4.28</td>\n",
              "      <td>183</td>\n",
              "    </tr>\n",
              "    <tr>\n",
              "      <th>12291</th>\n",
              "      <td>5621</td>\n",
              "      <td>Violence Gekiga David no Hoshi</td>\n",
              "      <td>Hentai</td>\n",
              "      <td>OVA</td>\n",
              "      <td>4</td>\n",
              "      <td>4.88</td>\n",
              "      <td>219</td>\n",
              "    </tr>\n",
              "    <tr>\n",
              "      <th>12292</th>\n",
              "      <td>6133</td>\n",
              "      <td>Violence Gekiga Shin David no Hoshi: Inma Dens...</td>\n",
              "      <td>Hentai</td>\n",
              "      <td>OVA</td>\n",
              "      <td>1</td>\n",
              "      <td>4.98</td>\n",
              "      <td>175</td>\n",
              "    </tr>\n",
              "    <tr>\n",
              "      <th>12293</th>\n",
              "      <td>26081</td>\n",
              "      <td>Yasuji no Pornorama: Yacchimae!!</td>\n",
              "      <td>Hentai</td>\n",
              "      <td>Movie</td>\n",
              "      <td>1</td>\n",
              "      <td>5.46</td>\n",
              "      <td>142</td>\n",
              "    </tr>\n",
              "  </tbody>\n",
              "</table>\n",
              "<p>12294 rows × 7 columns</p>\n",
              "</div>"
            ],
            "text/plain": [
              "       anime_id  ... members\n",
              "0         32281  ...  200630\n",
              "1          5114  ...  793665\n",
              "2         28977  ...  114262\n",
              "3          9253  ...  673572\n",
              "4          9969  ...  151266\n",
              "...         ...  ...     ...\n",
              "12289      9316  ...     211\n",
              "12290      5543  ...     183\n",
              "12291      5621  ...     219\n",
              "12292      6133  ...     175\n",
              "12293     26081  ...     142\n",
              "\n",
              "[12294 rows x 7 columns]"
            ]
          },
          "metadata": {
            "tags": []
          },
          "execution_count": 11
        }
      ]
    },
    {
      "cell_type": "code",
      "metadata": {
        "colab": {
          "base_uri": "https://localhost:8080/",
          "height": 35
        },
        "id": "vhMAh4uAo0Fk",
        "outputId": "bde8e55c-5776-4ed6-f11d-37731636de22"
      },
      "source": [
        "# Existing columns in anime_df and rating_df\n",
        "anime_df.columns\n",
        "rating_df.columns\n",
        "\n",
        "\"\"\"\n",
        "Keep in mind that both anime_df and rating_df do have the attribute \"anime_id\".\n",
        "This will be important to merge both DataFrames.\n",
        "\"\"\""
      ],
      "execution_count": 12,
      "outputs": [
        {
          "output_type": "execute_result",
          "data": {
            "application/vnd.google.colaboratory.intrinsic+json": {
              "type": "string"
            },
            "text/plain": [
              "'\\nKeep in mind that both anime_df and rating_df do have the attribute \"anime_id\".\\nThis will be important to merge both DataFrames.\\n'"
            ]
          },
          "metadata": {
            "tags": []
          },
          "execution_count": 12
        }
      ]
    },
    {
      "cell_type": "code",
      "metadata": {
        "id": "7rYWXT60cgg_",
        "colab": {
          "base_uri": "https://localhost:8080/",
          "height": 419
        },
        "outputId": "27a9d080-ea98-4f7d-dc52-bfef77f5c547"
      },
      "source": [
        "# Cleaning anime dataframe\n",
        "# Since members is not needed for the data analysis, it can be dropped\n",
        "anime_df.drop(columns=[\"members\", \"rating\"], inplace=True)\n",
        "\n",
        "anime_df[\"genre\"] = anime_df[\"genre\"].replace(np.nan, \"undefinied\")\n",
        "anime_df[\"type\"] = anime_df[\"type\"].replace(np.nan, \"undefinied\")\n",
        "# Replace all instances of nan or none or null in the dataset to prevent errors \n",
        "#anime_df.replace([None, nan, null], value=\"undefinied\")\n",
        "anime_df[anime_df.genre == \"undefinied\"]"
      ],
      "execution_count": 13,
      "outputs": [
        {
          "output_type": "execute_result",
          "data": {
            "text/html": [
              "<div>\n",
              "<style scoped>\n",
              "    .dataframe tbody tr th:only-of-type {\n",
              "        vertical-align: middle;\n",
              "    }\n",
              "\n",
              "    .dataframe tbody tr th {\n",
              "        vertical-align: top;\n",
              "    }\n",
              "\n",
              "    .dataframe thead th {\n",
              "        text-align: right;\n",
              "    }\n",
              "</style>\n",
              "<table border=\"1\" class=\"dataframe\">\n",
              "  <thead>\n",
              "    <tr style=\"text-align: right;\">\n",
              "      <th></th>\n",
              "      <th>anime_id</th>\n",
              "      <th>name</th>\n",
              "      <th>genre</th>\n",
              "      <th>type</th>\n",
              "      <th>episodes</th>\n",
              "    </tr>\n",
              "  </thead>\n",
              "  <tbody>\n",
              "    <tr>\n",
              "      <th>2844</th>\n",
              "      <td>33242</td>\n",
              "      <td>IS: Infinite Stratos 2 - Infinite Wedding</td>\n",
              "      <td>undefinied</td>\n",
              "      <td>Special</td>\n",
              "      <td>1</td>\n",
              "    </tr>\n",
              "    <tr>\n",
              "      <th>3541</th>\n",
              "      <td>33589</td>\n",
              "      <td>ViVid Strike!</td>\n",
              "      <td>undefinied</td>\n",
              "      <td>TV</td>\n",
              "      <td>12</td>\n",
              "    </tr>\n",
              "    <tr>\n",
              "      <th>6040</th>\n",
              "      <td>29765</td>\n",
              "      <td>Metropolis (2009)</td>\n",
              "      <td>undefinied</td>\n",
              "      <td>Movie</td>\n",
              "      <td>1</td>\n",
              "    </tr>\n",
              "    <tr>\n",
              "      <th>6646</th>\n",
              "      <td>32695</td>\n",
              "      <td>Match Shoujo</td>\n",
              "      <td>undefinied</td>\n",
              "      <td>ONA</td>\n",
              "      <td>1</td>\n",
              "    </tr>\n",
              "    <tr>\n",
              "      <th>7018</th>\n",
              "      <td>33187</td>\n",
              "      <td>Katsudou Shashin</td>\n",
              "      <td>undefinied</td>\n",
              "      <td>Movie</td>\n",
              "      <td>1</td>\n",
              "    </tr>\n",
              "    <tr>\n",
              "      <th>...</th>\n",
              "      <td>...</td>\n",
              "      <td>...</td>\n",
              "      <td>...</td>\n",
              "      <td>...</td>\n",
              "      <td>...</td>\n",
              "    </tr>\n",
              "    <tr>\n",
              "      <th>11070</th>\n",
              "      <td>32032</td>\n",
              "      <td>Seikaisuru Kado</td>\n",
              "      <td>undefinied</td>\n",
              "      <td>undefinied</td>\n",
              "      <td>Unknown</td>\n",
              "    </tr>\n",
              "    <tr>\n",
              "      <th>11086</th>\n",
              "      <td>34310</td>\n",
              "      <td>Tamagotchi Movie: Tanpen Himitsu no Otodoke Da...</td>\n",
              "      <td>undefinied</td>\n",
              "      <td>Movie</td>\n",
              "      <td>1</td>\n",
              "    </tr>\n",
              "    <tr>\n",
              "      <th>11097</th>\n",
              "      <td>34474</td>\n",
              "      <td>Tsukipro The Animation</td>\n",
              "      <td>undefinied</td>\n",
              "      <td>TV</td>\n",
              "      <td>Unknown</td>\n",
              "    </tr>\n",
              "    <tr>\n",
              "      <th>11112</th>\n",
              "      <td>33035</td>\n",
              "      <td>Yuyushiki Special</td>\n",
              "      <td>undefinied</td>\n",
              "      <td>Special</td>\n",
              "      <td>1</td>\n",
              "    </tr>\n",
              "    <tr>\n",
              "      <th>11113</th>\n",
              "      <td>33390</td>\n",
              "      <td>Zunda Horizon</td>\n",
              "      <td>undefinied</td>\n",
              "      <td>Movie</td>\n",
              "      <td>1</td>\n",
              "    </tr>\n",
              "  </tbody>\n",
              "</table>\n",
              "<p>62 rows × 5 columns</p>\n",
              "</div>"
            ],
            "text/plain": [
              "       anime_id  ... episodes\n",
              "2844      33242  ...        1\n",
              "3541      33589  ...       12\n",
              "6040      29765  ...        1\n",
              "6646      32695  ...        1\n",
              "7018      33187  ...        1\n",
              "...         ...  ...      ...\n",
              "11070     32032  ...  Unknown\n",
              "11086     34310  ...        1\n",
              "11097     34474  ...  Unknown\n",
              "11112     33035  ...        1\n",
              "11113     33390  ...        1\n",
              "\n",
              "[62 rows x 5 columns]"
            ]
          },
          "metadata": {
            "tags": []
          },
          "execution_count": 13
        }
      ]
    },
    {
      "cell_type": "code",
      "metadata": {
        "colab": {
          "base_uri": "https://localhost:8080/"
        },
        "id": "5OgkS3SBdIEN",
        "outputId": "6fdbc322-1f79-4dc0-ffba-c694f3cc8316"
      },
      "source": [
        "# print ratings_df\n",
        "\n",
        "#Replace -1 with NaN as we dont care about people who watched a specific anime but didnt rate it \n",
        "rating_df[\"rating\"] = rating_df[\"rating\"].replace( -1, np.nan)\n",
        "# Total amount of Users who rated Anime\n",
        "rating_df[\"user_id\"].unique()\n",
        "print(rating_df)"
      ],
      "execution_count": 14,
      "outputs": [
        {
          "output_type": "stream",
          "text": [
            "         user_id  anime_id  rating\n",
            "0              1        20     NaN\n",
            "1              1        24     NaN\n",
            "2              1        79     NaN\n",
            "3              1       226     NaN\n",
            "4              1       241     NaN\n",
            "...          ...       ...     ...\n",
            "7813732    73515     16512     7.0\n",
            "7813733    73515     17187     9.0\n",
            "7813734    73515     22145    10.0\n",
            "7813735    73516       790     9.0\n",
            "7813736    73516      8074     9.0\n",
            "\n",
            "[7813737 rows x 3 columns]\n"
          ],
          "name": "stdout"
        }
      ]
    },
    {
      "cell_type": "code",
      "metadata": {
        "colab": {
          "base_uri": "https://localhost:8080/"
        },
        "id": "3RZYsO_efRuD",
        "outputId": "62f6fb12-55fd-425a-8ff7-61533c778734"
      },
      "source": [
        "# Total amount of Anime Genre in this dataset\n",
        "len(anime_df[\"genre\"].unique())"
      ],
      "execution_count": 15,
      "outputs": [
        {
          "output_type": "execute_result",
          "data": {
            "text/plain": [
              "3265"
            ]
          },
          "metadata": {
            "tags": []
          },
          "execution_count": 15
        }
      ]
    },
    {
      "cell_type": "code",
      "metadata": {
        "id": "Fjd2BhcXQfJf",
        "colab": {
          "base_uri": "https://localhost:8080/"
        },
        "outputId": "0404a3ff-2a87-447f-e477-e8d29b011a9d"
      },
      "source": [
        "# change datatype of genre from string to list\n",
        "for index, genre in enumerate(anime_df[\"genre\"]):\n",
        "  # create string without whitespaces, by splitting at every space and rejoin to a string\n",
        "  genres_stripped = \"\".join(anime_df[\"genre\"][index].split(\" \"))\n",
        "\n",
        "  # split the string at every comma -> new datatype: list\n",
        "  anime_df[\"genre\"][index] = genres_stripped.split(\",\")\n"
      ],
      "execution_count": 16,
      "outputs": [
        {
          "output_type": "stream",
          "text": [
            "/usr/local/lib/python3.7/dist-packages/ipykernel_launcher.py:7: SettingWithCopyWarning: \n",
            "A value is trying to be set on a copy of a slice from a DataFrame\n",
            "\n",
            "See the caveats in the documentation: https://pandas.pydata.org/pandas-docs/stable/user_guide/indexing.html#returning-a-view-versus-a-copy\n",
            "  import sys\n"
          ],
          "name": "stderr"
        }
      ]
    },
    {
      "cell_type": "code",
      "metadata": {
        "colab": {
          "base_uri": "https://localhost:8080/"
        },
        "id": "1WQNrOm8uliQ",
        "outputId": "3220a494-1284-4de8-bbe9-06b9d704f06d"
      },
      "source": [
        "print(anime_df[\"genre\"][1000:1010])"
      ],
      "execution_count": 17,
      "outputs": [
        {
          "output_type": "stream",
          "text": [
            "1000                                  [Drama, Historical]\n",
            "1001                        [Comedy, School, SliceofLife]\n",
            "1002             [Comedy, Ecchi, Romance, School, Seinen]\n",
            "1003      [Action, Drama, Fantasy, Romance, Supernatural]\n",
            "1004    [Action, Adventure, Drama, Military, Sci-Fi, S...\n",
            "1005             [Drama, Historical, School, SliceofLife]\n",
            "1006    [Action, Adventure, Comedy, Ecchi, Fantasy, Ha...\n",
            "1007                    [Action, Comedy, School, Shounen]\n",
            "1008            [Action, Adventure, Mecha, Music, Sci-Fi]\n",
            "1009        [Adventure, Comedy, Fantasy, Sci-Fi, Shounen]\n",
            "Name: genre, dtype: object\n"
          ],
          "name": "stdout"
        }
      ]
    },
    {
      "cell_type": "markdown",
      "metadata": {
        "id": "Tb3uZWV431SA"
      },
      "source": [
        "## 5. Data transformation\n",
        "\n",
        "In this step datafields are converted to fine granular elements. Also dataframes are combined, so that the data is prepared for processing in the model."
      ]
    },
    {
      "cell_type": "code",
      "metadata": {
        "id": "9-qtSksAdN98"
      },
      "source": [
        "# Now we will merge the two DataFrames, so we only have to handle one \n",
        "anime_with_ratings = pd.merge(rating_df, anime_df, on=\"anime_id\")\n",
        "\n",
        "# use regular index 1 to n\n",
        "anime_with_ratings.reset_index(level=0, inplace=True)"
      ],
      "execution_count": 18,
      "outputs": []
    },
    {
      "cell_type": "code",
      "metadata": {
        "id": "YrXnb7rZpw5L",
        "colab": {
          "base_uri": "https://localhost:8080/",
          "height": 419
        },
        "outputId": "c12036b0-3ec8-4176-fbf1-fc5e2d7d8079"
      },
      "source": [
        "anime_with_ratings"
      ],
      "execution_count": 19,
      "outputs": [
        {
          "output_type": "execute_result",
          "data": {
            "text/html": [
              "<div>\n",
              "<style scoped>\n",
              "    .dataframe tbody tr th:only-of-type {\n",
              "        vertical-align: middle;\n",
              "    }\n",
              "\n",
              "    .dataframe tbody tr th {\n",
              "        vertical-align: top;\n",
              "    }\n",
              "\n",
              "    .dataframe thead th {\n",
              "        text-align: right;\n",
              "    }\n",
              "</style>\n",
              "<table border=\"1\" class=\"dataframe\">\n",
              "  <thead>\n",
              "    <tr style=\"text-align: right;\">\n",
              "      <th></th>\n",
              "      <th>index</th>\n",
              "      <th>user_id</th>\n",
              "      <th>anime_id</th>\n",
              "      <th>rating</th>\n",
              "      <th>name</th>\n",
              "      <th>genre</th>\n",
              "      <th>type</th>\n",
              "      <th>episodes</th>\n",
              "    </tr>\n",
              "  </thead>\n",
              "  <tbody>\n",
              "    <tr>\n",
              "      <th>0</th>\n",
              "      <td>0</td>\n",
              "      <td>1</td>\n",
              "      <td>20</td>\n",
              "      <td>NaN</td>\n",
              "      <td>Naruto</td>\n",
              "      <td>[Action, Comedy, MartialArts, Shounen, SuperPo...</td>\n",
              "      <td>TV</td>\n",
              "      <td>220</td>\n",
              "    </tr>\n",
              "    <tr>\n",
              "      <th>1</th>\n",
              "      <td>1</td>\n",
              "      <td>3</td>\n",
              "      <td>20</td>\n",
              "      <td>8.0</td>\n",
              "      <td>Naruto</td>\n",
              "      <td>[Action, Comedy, MartialArts, Shounen, SuperPo...</td>\n",
              "      <td>TV</td>\n",
              "      <td>220</td>\n",
              "    </tr>\n",
              "    <tr>\n",
              "      <th>2</th>\n",
              "      <td>2</td>\n",
              "      <td>5</td>\n",
              "      <td>20</td>\n",
              "      <td>6.0</td>\n",
              "      <td>Naruto</td>\n",
              "      <td>[Action, Comedy, MartialArts, Shounen, SuperPo...</td>\n",
              "      <td>TV</td>\n",
              "      <td>220</td>\n",
              "    </tr>\n",
              "    <tr>\n",
              "      <th>3</th>\n",
              "      <td>3</td>\n",
              "      <td>6</td>\n",
              "      <td>20</td>\n",
              "      <td>NaN</td>\n",
              "      <td>Naruto</td>\n",
              "      <td>[Action, Comedy, MartialArts, Shounen, SuperPo...</td>\n",
              "      <td>TV</td>\n",
              "      <td>220</td>\n",
              "    </tr>\n",
              "    <tr>\n",
              "      <th>4</th>\n",
              "      <td>4</td>\n",
              "      <td>10</td>\n",
              "      <td>20</td>\n",
              "      <td>NaN</td>\n",
              "      <td>Naruto</td>\n",
              "      <td>[Action, Comedy, MartialArts, Shounen, SuperPo...</td>\n",
              "      <td>TV</td>\n",
              "      <td>220</td>\n",
              "    </tr>\n",
              "    <tr>\n",
              "      <th>...</th>\n",
              "      <td>...</td>\n",
              "      <td>...</td>\n",
              "      <td>...</td>\n",
              "      <td>...</td>\n",
              "      <td>...</td>\n",
              "      <td>...</td>\n",
              "      <td>...</td>\n",
              "      <td>...</td>\n",
              "    </tr>\n",
              "    <tr>\n",
              "      <th>7813722</th>\n",
              "      <td>7813722</td>\n",
              "      <td>65682</td>\n",
              "      <td>30450</td>\n",
              "      <td>8.0</td>\n",
              "      <td>Dr. Slump: Hoyoyo! Arale no Himitsu Dai Koukai...</td>\n",
              "      <td>[Comedy, Sci-Fi, Shounen]</td>\n",
              "      <td>Special</td>\n",
              "      <td>1</td>\n",
              "    </tr>\n",
              "    <tr>\n",
              "      <th>7813723</th>\n",
              "      <td>7813723</td>\n",
              "      <td>69497</td>\n",
              "      <td>33484</td>\n",
              "      <td>10.0</td>\n",
              "      <td>Shiroi Zou</td>\n",
              "      <td>[Action, Historical, Kids]</td>\n",
              "      <td>Movie</td>\n",
              "      <td>1</td>\n",
              "    </tr>\n",
              "    <tr>\n",
              "      <th>7813724</th>\n",
              "      <td>7813724</td>\n",
              "      <td>70463</td>\n",
              "      <td>29481</td>\n",
              "      <td>NaN</td>\n",
              "      <td>Kakinoki Mokkii</td>\n",
              "      <td>[Fantasy, Kids]</td>\n",
              "      <td>Special</td>\n",
              "      <td>1</td>\n",
              "    </tr>\n",
              "    <tr>\n",
              "      <th>7813725</th>\n",
              "      <td>7813725</td>\n",
              "      <td>72404</td>\n",
              "      <td>34412</td>\n",
              "      <td>NaN</td>\n",
              "      <td>Hashiri Hajimeta bakari no Kimi ni</td>\n",
              "      <td>[Music]</td>\n",
              "      <td>Music</td>\n",
              "      <td>1</td>\n",
              "    </tr>\n",
              "    <tr>\n",
              "      <th>7813726</th>\n",
              "      <td>7813726</td>\n",
              "      <td>72800</td>\n",
              "      <td>30738</td>\n",
              "      <td>4.0</td>\n",
              "      <td>Gamba: Gamba to Nakama-tachi</td>\n",
              "      <td>[Adventure, Kids]</td>\n",
              "      <td>Movie</td>\n",
              "      <td>1</td>\n",
              "    </tr>\n",
              "  </tbody>\n",
              "</table>\n",
              "<p>7813727 rows × 8 columns</p>\n",
              "</div>"
            ],
            "text/plain": [
              "           index  user_id  ...     type  episodes\n",
              "0              0        1  ...       TV       220\n",
              "1              1        3  ...       TV       220\n",
              "2              2        5  ...       TV       220\n",
              "3              3        6  ...       TV       220\n",
              "4              4       10  ...       TV       220\n",
              "...          ...      ...  ...      ...       ...\n",
              "7813722  7813722    65682  ...  Special         1\n",
              "7813723  7813723    69497  ...    Movie         1\n",
              "7813724  7813724    70463  ...  Special         1\n",
              "7813725  7813725    72404  ...    Music         1\n",
              "7813726  7813726    72800  ...    Movie         1\n",
              "\n",
              "[7813727 rows x 8 columns]"
            ]
          },
          "metadata": {
            "tags": []
          },
          "execution_count": 19
        }
      ]
    },
    {
      "cell_type": "markdown",
      "metadata": {
        "id": "xYT5DuUs7h84"
      },
      "source": [
        "## 6. Advanced Data Exploration \n",
        "The transformed data will be analysed to see which similarities and patterns might occur. Also assumptions about the necessary model and the challenges that may arise while training it can be made. Furthermore, the advanced exploration of the data can be used to assess the performance of the model in later steps."
      ]
    },
    {
      "cell_type": "markdown",
      "metadata": {
        "id": "3Fv5fafLO9K2"
      },
      "source": [
        "Seaborn library will be used to visualize some of the data to get an overview over the content. Matplotlib will serve the same purpose."
      ]
    },
    {
      "cell_type": "code",
      "metadata": {
        "colab": {
          "base_uri": "https://localhost:8080/"
        },
        "id": "VkxDCpOOO8Kb",
        "outputId": "3f28aa4e-fe37-4f2b-b896-abbee0e0b45a"
      },
      "source": [
        "# Install seaborn and matplotlib, if theye aren't installed already (usefull for local use of the notebook)\n",
        "!pip3 install seaborn matplotlib"
      ],
      "execution_count": 20,
      "outputs": [
        {
          "output_type": "stream",
          "text": [
            "Requirement already satisfied: seaborn in /usr/local/lib/python3.7/dist-packages (0.11.1)\n",
            "Requirement already satisfied: matplotlib in /usr/local/lib/python3.7/dist-packages (3.2.2)\n",
            "Requirement already satisfied: scipy>=1.0 in /usr/local/lib/python3.7/dist-packages (from seaborn) (1.4.1)\n",
            "Requirement already satisfied: pandas>=0.23 in /usr/local/lib/python3.7/dist-packages (from seaborn) (1.1.5)\n",
            "Requirement already satisfied: numpy>=1.15 in /usr/local/lib/python3.7/dist-packages (from seaborn) (1.19.5)\n",
            "Requirement already satisfied: kiwisolver>=1.0.1 in /usr/local/lib/python3.7/dist-packages (from matplotlib) (1.3.1)\n",
            "Requirement already satisfied: python-dateutil>=2.1 in /usr/local/lib/python3.7/dist-packages (from matplotlib) (2.8.1)\n",
            "Requirement already satisfied: pyparsing!=2.0.4,!=2.1.2,!=2.1.6,>=2.0.1 in /usr/local/lib/python3.7/dist-packages (from matplotlib) (2.4.7)\n",
            "Requirement already satisfied: cycler>=0.10 in /usr/local/lib/python3.7/dist-packages (from matplotlib) (0.10.0)\n",
            "Requirement already satisfied: pytz>=2017.2 in /usr/local/lib/python3.7/dist-packages (from pandas>=0.23->seaborn) (2018.9)\n",
            "Requirement already satisfied: six>=1.5 in /usr/local/lib/python3.7/dist-packages (from python-dateutil>=2.1->matplotlib) (1.15.0)\n"
          ],
          "name": "stdout"
        }
      ]
    },
    {
      "cell_type": "code",
      "metadata": {
        "id": "aPFFBfBoXh08"
      },
      "source": [
        "# packages for data visualization\n",
        "import seaborn as sns\n",
        "import matplotlib.pyplot as plt\n",
        "\n",
        "\n",
        "%matplotlib inline"
      ],
      "execution_count": 21,
      "outputs": []
    },
    {
      "cell_type": "code",
      "metadata": {
        "id": "YvKlfIKSqQCQ",
        "colab": {
          "base_uri": "https://localhost:8080/"
        },
        "outputId": "92bcade5-a8e5-45f1-c6c3-19976df87aef"
      },
      "source": [
        "#Count all Genres in our Data-Set\n",
        "\n",
        "# This dict is used to count how often which genre is in the dataset\n",
        "genres_dict = {}\n",
        "\n",
        "# iterate through list of animes, each anime has a list of genres\n",
        "for genres in anime_df[\"genre\"]:\n",
        "  # iterate through the genres of each anime\n",
        "  for genre in genres:\n",
        "    # if the genre was already observed, increase the count by one\n",
        "    if genre in genres_dict.keys():\n",
        "      genres_dict[genre] += 1\n",
        "    # if the genre hasn't been observed yet, initilize with 1\n",
        "    else:\n",
        "      genres_dict[genre] = 1\n",
        "  \n",
        "print(genres_dict)"
      ],
      "execution_count": 22,
      "outputs": [
        {
          "output_type": "stream",
          "text": [
            "{'Drama': 2016, 'Romance': 1464, 'School': 1220, 'Supernatural': 1037, 'Action': 2845, 'Adventure': 2348, 'Fantasy': 2309, 'Magic': 778, 'Military': 426, 'Shounen': 1712, 'Comedy': 4645, 'Historical': 806, 'Parody': 408, 'Samurai': 148, 'Sci-Fi': 2070, 'Thriller': 87, 'Sports': 543, 'SuperPower': 465, 'Space': 381, 'SliceofLife': 1220, 'Mecha': 944, 'Music': 860, 'Mystery': 495, 'Seinen': 547, 'MartialArts': 265, 'Vampire': 102, 'Shoujo': 603, 'Horror': 369, 'Police': 197, 'Psychological': 229, 'Demons': 294, 'Ecchi': 637, 'Josei': 54, 'ShounenAi': 65, 'Game': 181, 'Dementia': 240, 'Harem': 317, 'Cars': 72, 'Kids': 1609, 'ShoujoAi': 55, 'undefinied': 62, 'Hentai': 1141, 'Yaoi': 39, 'Yuri': 42}\n"
          ],
          "name": "stdout"
        }
      ]
    },
    {
      "cell_type": "code",
      "metadata": {
        "id": "WrfSgjzD6b5C"
      },
      "source": [
        "#Show Top 10 Genres in our Data-Set\n",
        "from collections import Counter\n",
        "# sort the genres by how often they were counted in genres_dict\n",
        "# dict.items() returns a tuple for each key/value pair, so x[0] is the key and x[1] is the value \n",
        "top10_genres= sorted(genres_dict.items(), key=lambda x: x[1], reverse=True)[:10]\n",
        "top10_genres\n",
        "\n",
        "# Read title and count from each tuple\n",
        "top10_genres_title = [ x[0] for x in top10_genres ]\n",
        "top10_genres_count = [ x[1] for x in top10_genres ]"
      ],
      "execution_count": 23,
      "outputs": []
    },
    {
      "cell_type": "code",
      "metadata": {
        "id": "V6mlGt8AwEEF",
        "colab": {
          "base_uri": "https://localhost:8080/",
          "height": 463
        },
        "outputId": "cd171f8e-6aa2-4dd4-f1a9-75c1dd81e0f2"
      },
      "source": [
        "#Plot results in a bar chart\n",
        "fig = plt.figure(figsize = (14, 6))\n",
        "plt.xlabel(\"Genre\")\n",
        "plt.ylabel(\"Count\")\n",
        "plt.title(\"Top 10 Anime-Genres\")\n",
        "plt.xticks(rotation=90)\n",
        "plt.bar(height=top10_genres_count , x=top10_genres_title )"
      ],
      "execution_count": 24,
      "outputs": [
        {
          "output_type": "execute_result",
          "data": {
            "text/plain": [
              "<BarContainer object of 10 artists>"
            ]
          },
          "metadata": {
            "tags": []
          },
          "execution_count": 24
        },
        {
          "output_type": "display_data",
          "data": {
            "image/png": "[encoded data removed]",
            "text/plain": [
              "<Figure size 1008x432 with 1 Axes>"
            ]
          },
          "metadata": {
            "tags": [],
            "needs_background": "light"
          }
        }
      ]
    },
    {
      "cell_type": "code",
      "metadata": {
        "id": "-FgfxjY5xcyU",
        "colab": {
          "base_uri": "https://localhost:8080/"
        },
        "outputId": "c0baea0e-b2e2-40ca-a78d-98e9650c03ce"
      },
      "source": [
        "from collections import Counter\n",
        "\n",
        "#Count how often a specific type appears in our data set - use the anime dataframe with unique entries\n",
        "type_count = anime_df[\"type\"].value_counts()\n",
        "print(type_count)\n",
        "type_name= Counter(anime_df[\"type\"])\n",
        "type_name= list(sorted(type_name, key=type_name.get, reverse=True))\n",
        "print(type_name)"
      ],
      "execution_count": 25,
      "outputs": [
        {
          "output_type": "stream",
          "text": [
            "TV            3787\n",
            "OVA           3311\n",
            "Movie         2348\n",
            "Special       1676\n",
            "ONA            659\n",
            "Music          488\n",
            "undefinied      25\n",
            "Name: type, dtype: int64\n",
            "['TV', 'OVA', 'Movie', 'Special', 'ONA', 'Music', 'undefinied']\n"
          ],
          "name": "stdout"
        }
      ]
    },
    {
      "cell_type": "code",
      "metadata": {
        "id": "u3kZ-9v3yDr7",
        "colab": {
          "base_uri": "https://localhost:8080/",
          "height": 448
        },
        "outputId": "d0cdf153-2e68-4388-9457-3ec9de2b6b7b"
      },
      "source": [
        "fig = plt.figure(figsize = (14, 6))\n",
        "plt.xlabel(\"Type Name\")\n",
        "plt.ylabel(\"Count of Type\")\n",
        "plt.title(\"Anime type per count\")\n",
        "plt.xticks(rotation=90)\n",
        "plt.gcf().axes[0].yaxis.get_major_formatter().set_scientific(False)\n",
        "plt.bar(height=type_count,x=type_name)\n",
        "plt.show()"
      ],
      "execution_count": 26,
      "outputs": [
        {
          "output_type": "display_data",
          "data": {
            "image/png": "[encoded data removed]",
            "text/plain": [
              "<Figure size 1008x432 with 1 Axes>"
            ]
          },
          "metadata": {
            "tags": [],
            "needs_background": "light"
          }
        }
      ]
    },
    {
      "cell_type": "code",
      "metadata": {
        "id": "oET3hURWGwAq",
        "colab": {
          "base_uri": "https://localhost:8080/",
          "height": 608
        },
        "outputId": "8545e822-568a-4f7a-d0a0-241f081b0b3b"
      },
      "source": [
        "#Count Episodes in Type TV / How many Series got a specific amount of episodes?\n",
        "# Use the anime dataframe with unique entries\n",
        "fig = plt.figure(figsize = (14, 6))\n",
        "\n",
        "#Show only rows which have the type \"TV\"\n",
        "tv = anime_df[anime_df.type == \"TV\"]\n",
        "print(tv.episodes.head())\n",
        "episodes_count = tv[\"episodes\"].value_counts()\n",
        "print(episodes_count.head())\n",
        "e_t10 = episodes_count[:10]\n",
        "plt.xlabel(\"Amount of Episodes\")\n",
        "plt.ylabel(\"Count of Animes\")\n",
        "plt.title(\"How many Episodes do most of the anime-series have?\")\n",
        "plt.gcf().axes[0].yaxis.get_major_formatter().set_scientific(False)\n",
        "plt.bar(height=e_t10, x=list(e_t10.index))\n",
        "plt.show()"
      ],
      "execution_count": 27,
      "outputs": [
        {
          "output_type": "stream",
          "text": [
            "1    64\n",
            "2    51\n",
            "3    24\n",
            "4    51\n",
            "5    10\n",
            "Name: episodes, dtype: object\n",
            "12         747\n",
            "13         518\n",
            "26         497\n",
            "Unknown    209\n",
            "52         175\n",
            "Name: episodes, dtype: int64\n"
          ],
          "name": "stdout"
        },
        {
          "output_type": "display_data",
          "data": {
            "image/png": "[encoded data removed]",
            "text/plain": [
              "<Figure size 1008x432 with 1 Axes>"
            ]
          },
          "metadata": {
            "tags": [],
            "needs_background": "light"
          }
        }
      ]
    },
    {
      "cell_type": "code",
      "metadata": {
        "colab": {
          "base_uri": "https://localhost:8080/"
        },
        "id": "EiJVQoDFDSvq",
        "outputId": "2133c2ef-f486-4338-edfa-26190e836f69"
      },
      "source": [
        "anime_with_ratings.columns"
      ],
      "execution_count": 28,
      "outputs": [
        {
          "output_type": "execute_result",
          "data": {
            "text/plain": [
              "Index(['index', 'user_id', 'anime_id', 'rating', 'name', 'genre', 'type',\n",
              "       'episodes'],\n",
              "      dtype='object')"
            ]
          },
          "metadata": {
            "tags": []
          },
          "execution_count": 28
        }
      ]
    },
    {
      "cell_type": "code",
      "metadata": {
        "colab": {
          "base_uri": "https://localhost:8080/",
          "height": 592
        },
        "id": "ZyxPqmJn4P2F",
        "outputId": "e498b120-1221-4713-ec5c-99eca24f2ac4"
      },
      "source": [
        "plt.figure(figsize=(9,9))\n",
        "a = anime_with_ratings[[\"type\", \"episodes\", \"rating\"]].groupby([\"episodes\", \"type\"]).mean()\n",
        "plt.xlabel('Anime_id', size = 15)\n",
        "plt.ylabel('User_id', size = 15)\n",
        "plt.title('w', size = 15)\n",
        "#sns.heatmap(a,index =\"type\", columns=\"anime_id\", values =\"rating\", annot=True, fmt=\".1f\", linewidths=.5, square = True, cmap = 'Blues_r');"
      ],
      "execution_count": 29,
      "outputs": [
        {
          "output_type": "execute_result",
          "data": {
            "text/plain": [
              "Text(0.5, 1.0, 'w')"
            ]
          },
          "metadata": {
            "tags": []
          },
          "execution_count": 29
        },
        {
          "output_type": "display_data",
          "data": {
            "image/png": "[encoded data removed]",
            "text/plain": [
              "<Figure size 648x648 with 1 Axes>"
            ]
          },
          "metadata": {
            "tags": [],
            "needs_background": "light"
          }
        }
      ]
    },
    {
      "cell_type": "code",
      "metadata": {
        "id": "ilxZ_CFp3-wj"
      },
      "source": [
        "# anime_with_ratings_grouped = anime_with_ratings[[\"user_id\", \"rating_y\", \"name\"]].groupby([\"rating_y\", \"name\"]).count()\n",
        "#a = anime_with_ratings[[\"genre\", \"anime_id\", \"rating\"]].groupby([\"anime_id\", \"type\"]).mean()\n",
        "#a"
      ],
      "execution_count": 30,
      "outputs": []
    },
    {
      "cell_type": "code",
      "metadata": {
        "id": "TuRAqi1B12IS"
      },
      "source": [
        "#sns.heatmap(sorted_types_rated, title = \"Most rated types\", xlabel = \"\", ylabel= \"\")"
      ],
      "execution_count": 31,
      "outputs": []
    },
    {
      "cell_type": "code",
      "metadata": {
        "id": "-FRbdEsKsdh3",
        "colab": {
          "base_uri": "https://localhost:8080/",
          "height": 297
        },
        "outputId": "18ff2d1c-2bc2-48a2-a884-b58703074a24"
      },
      "source": [
        "#Create a groupby to see which Type got rated the most\n",
        "types_rated = anime_with_ratings[[\"type\", \"rating\"]].groupby([\"type\"]).count()\n",
        "types_rated.rating\n",
        "#sort via the values\n",
        "sorted_types_rated = types_rated.sort_values(\"rating\")\n",
        "sorted_types_rated"
      ],
      "execution_count": 32,
      "outputs": [
        {
          "output_type": "execute_result",
          "data": {
            "text/html": [
              "<div>\n",
              "<style scoped>\n",
              "    .dataframe tbody tr th:only-of-type {\n",
              "        vertical-align: middle;\n",
              "    }\n",
              "\n",
              "    .dataframe tbody tr th {\n",
              "        vertical-align: top;\n",
              "    }\n",
              "\n",
              "    .dataframe thead th {\n",
              "        text-align: right;\n",
              "    }\n",
              "</style>\n",
              "<table border=\"1\" class=\"dataframe\">\n",
              "  <thead>\n",
              "    <tr style=\"text-align: right;\">\n",
              "      <th></th>\n",
              "      <th>rating</th>\n",
              "    </tr>\n",
              "    <tr>\n",
              "      <th>type</th>\n",
              "      <th></th>\n",
              "    </tr>\n",
              "  </thead>\n",
              "  <tbody>\n",
              "    <tr>\n",
              "      <th>undefinied</th>\n",
              "      <td>4</td>\n",
              "    </tr>\n",
              "    <tr>\n",
              "      <th>Music</th>\n",
              "      <td>19871</td>\n",
              "    </tr>\n",
              "    <tr>\n",
              "      <th>ONA</th>\n",
              "      <td>72123</td>\n",
              "    </tr>\n",
              "    <tr>\n",
              "      <th>Special</th>\n",
              "      <td>421628</td>\n",
              "    </tr>\n",
              "    <tr>\n",
              "      <th>OVA</th>\n",
              "      <td>617166</td>\n",
              "    </tr>\n",
              "    <tr>\n",
              "      <th>Movie</th>\n",
              "      <td>842153</td>\n",
              "    </tr>\n",
              "    <tr>\n",
              "      <th>TV</th>\n",
              "      <td>4364294</td>\n",
              "    </tr>\n",
              "  </tbody>\n",
              "</table>\n",
              "</div>"
            ],
            "text/plain": [
              "             rating\n",
              "type               \n",
              "undefinied        4\n",
              "Music         19871\n",
              "ONA           72123\n",
              "Special      421628\n",
              "OVA          617166\n",
              "Movie        842153\n",
              "TV          4364294"
            ]
          },
          "metadata": {
            "tags": []
          },
          "execution_count": 32
        }
      ]
    },
    {
      "cell_type": "code",
      "metadata": {
        "id": "SIx0kOAD3Oab"
      },
      "source": [
        ""
      ],
      "execution_count": 32,
      "outputs": []
    },
    {
      "cell_type": "code",
      "metadata": {
        "id": "lXdRqZ7R7dSv",
        "colab": {
          "base_uri": "https://localhost:8080/",
          "height": 465
        },
        "outputId": "d6936ad5-9c4d-4da0-e084-6b70a6fdea8f"
      },
      "source": [
        "#Plot which anime type got rated the most\n",
        "fig = plt.figure(figsize = (14, 6))\n",
        "plt.xlabel(\"Type\")\n",
        "plt.ylabel(\"Count\")\n",
        "plt.title(\"Which type got rated the most?\")\n",
        "plt.xticks(rotation=90)\n",
        "plt.gcf().axes[0].yaxis.get_major_formatter().set_scientific(False)\n",
        "plt.bar(height=sorted_types_rated.rating, x=sorted_types_rated.index)"
      ],
      "execution_count": 33,
      "outputs": [
        {
          "output_type": "execute_result",
          "data": {
            "text/plain": [
              "<BarContainer object of 7 artists>"
            ]
          },
          "metadata": {
            "tags": []
          },
          "execution_count": 33
        },
        {
          "output_type": "display_data",
          "data": {
            "image/png": "[encoded data removed]",
            "text/plain": [
              "<Figure size 1008x432 with 1 Axes>"
            ]
          },
          "metadata": {
            "tags": [],
            "needs_background": "light"
          }
        }
      ]
    },
    {
      "cell_type": "code",
      "metadata": {
        "id": "_dbY4sM-s-QU",
        "colab": {
          "base_uri": "https://localhost:8080/",
          "height": 297
        },
        "outputId": "8e76ddc8-888b-4035-c4ab-05321bcd95a7"
      },
      "source": [
        "#Get mean-values for each anime type via groupby \n",
        "meanrating_of_type = anime_with_ratings[[\"type\", \"rating\"]].groupby([\"type\"]).mean()\n",
        "meanrating_of_type\n",
        "#Sort ratings for types with sort_values\n",
        "sorted_meanrating_of_type = meanrating_of_type.sort_values(\"rating\")\n",
        "sorted_meanrating_of_type"
      ],
      "execution_count": 34,
      "outputs": [
        {
          "output_type": "execute_result",
          "data": {
            "text/html": [
              "<div>\n",
              "<style scoped>\n",
              "    .dataframe tbody tr th:only-of-type {\n",
              "        vertical-align: middle;\n",
              "    }\n",
              "\n",
              "    .dataframe tbody tr th {\n",
              "        vertical-align: top;\n",
              "    }\n",
              "\n",
              "    .dataframe thead th {\n",
              "        text-align: right;\n",
              "    }\n",
              "</style>\n",
              "<table border=\"1\" class=\"dataframe\">\n",
              "  <thead>\n",
              "    <tr style=\"text-align: right;\">\n",
              "      <th></th>\n",
              "      <th>rating</th>\n",
              "    </tr>\n",
              "    <tr>\n",
              "      <th>type</th>\n",
              "      <th></th>\n",
              "    </tr>\n",
              "  </thead>\n",
              "  <tbody>\n",
              "    <tr>\n",
              "      <th>Music</th>\n",
              "      <td>7.214282</td>\n",
              "    </tr>\n",
              "    <tr>\n",
              "      <th>ONA</th>\n",
              "      <td>7.229122</td>\n",
              "    </tr>\n",
              "    <tr>\n",
              "      <th>OVA</th>\n",
              "      <td>7.334584</td>\n",
              "    </tr>\n",
              "    <tr>\n",
              "      <th>Special</th>\n",
              "      <td>7.463639</td>\n",
              "    </tr>\n",
              "    <tr>\n",
              "      <th>TV</th>\n",
              "      <td>7.899160</td>\n",
              "    </tr>\n",
              "    <tr>\n",
              "      <th>Movie</th>\n",
              "      <td>7.922243</td>\n",
              "    </tr>\n",
              "    <tr>\n",
              "      <th>undefinied</th>\n",
              "      <td>8.500000</td>\n",
              "    </tr>\n",
              "  </tbody>\n",
              "</table>\n",
              "</div>"
            ],
            "text/plain": [
              "              rating\n",
              "type                \n",
              "Music       7.214282\n",
              "ONA         7.229122\n",
              "OVA         7.334584\n",
              "Special     7.463639\n",
              "TV          7.899160\n",
              "Movie       7.922243\n",
              "undefinied  8.500000"
            ]
          },
          "metadata": {
            "tags": []
          },
          "execution_count": 34
        }
      ]
    },
    {
      "cell_type": "code",
      "metadata": {
        "id": "z-2Q4Zr_DrKk",
        "colab": {
          "base_uri": "https://localhost:8080/",
          "height": 465
        },
        "outputId": "a94a3b37-b2f2-47e3-d493-e17f4e6ca78c"
      },
      "source": [
        "#Plot Bar chart for the mean rating for each anime type\n",
        "fig = plt.figure(figsize = (14, 6))\n",
        "plt.xlabel(\"Type\")\n",
        "plt.ylabel(\"Mean-rating\")\n",
        "plt.title(\"Mean rating for each type?\")\n",
        "plt.xticks(rotation=90)\n",
        "plt.gcf().axes[0].yaxis.get_major_formatter().set_scientific(False)\n",
        "plt.bar(height=sorted_meanrating_of_type.rating, x=sorted_meanrating_of_type.index)\n",
        "\n",
        "# ----------------------------------------------------------\n",
        "# Keep in mind that \"undefined\" only has 4 ratings in total!\n",
        "# ----------------------------------------------------------"
      ],
      "execution_count": 35,
      "outputs": [
        {
          "output_type": "execute_result",
          "data": {
            "text/plain": [
              "<BarContainer object of 7 artists>"
            ]
          },
          "metadata": {
            "tags": []
          },
          "execution_count": 35
        },
        {
          "output_type": "display_data",
          "data": {
            "image/png": "[encoded data removed]",
            "text/plain": [
              "<Figure size 1008x432 with 1 Axes>"
            ]
          },
          "metadata": {
            "tags": [],
            "needs_background": "light"
          }
        }
      ]
    },
    {
      "cell_type": "code",
      "metadata": {
        "id": "p2pZvYKdvTof",
        "colab": {
          "base_uri": "https://localhost:8080/"
        },
        "outputId": "a8e8f65c-9274-419c-f02d-9bb45242c10d"
      },
      "source": [
        "#c1 = anime_with_ratings[[\"genre\", \"rating\"]].groupby([\"genre\"]).count()\n",
        "#Create a rating matrix, which we can then use for our model\n",
        "\n",
        "#We have not used the whole dataset here, otherwise the system would be overloaded.\n",
        "rating_matrix = rating_df[[\"user_id\",\"anime_id\", \"rating\"]][:2000000]\n",
        "\n",
        "#Creating the matrix with pivot table function \n",
        "rating_matrix = rating_matrix.pivot_table(index=\"user_id\",columns=\"anime_id\",values=\"rating\")\n",
        "# convert to sparse matrix \n",
        "rating_matrix = rating_matrix.astype(pd.SparseDtype(\"float\", np.nan))\n",
        "print(rating_matrix)\n",
        "\n",
        "# # convert to numpy matrix\n",
        "# rating_matrix.to_numpy()\n",
        "# print(rating_matrix)"
      ],
      "execution_count": 36,
      "outputs": [
        {
          "output_type": "stream",
          "text": [
            "anime_id  1      5      6      7      8      ...  34240  34283  34324  34325  34475\n",
            "user_id                                      ...                                   \n",
            "1           NaN    NaN    NaN    NaN    NaN  ...    NaN    NaN    NaN    NaN    NaN\n",
            "2           NaN    NaN    NaN    NaN    NaN  ...    NaN    NaN    NaN    NaN    NaN\n",
            "3           NaN    NaN    NaN    NaN    NaN  ...    NaN    NaN    NaN    NaN    NaN\n",
            "5           NaN    NaN    8.0    NaN    NaN  ...    NaN    NaN    NaN    NaN    NaN\n",
            "7           NaN    NaN    NaN    NaN    NaN  ...    NaN    NaN    NaN    NaN    NaN\n",
            "...         ...    ...    ...    ...    ...  ...    ...    ...    ...    ...    ...\n",
            "19380       9.0    9.0    9.0    NaN    NaN  ...    NaN    NaN    NaN    NaN    NaN\n",
            "19381       NaN    NaN    NaN    NaN    NaN  ...    NaN    NaN    NaN    NaN    NaN\n",
            "19382       NaN    NaN    NaN    NaN    NaN  ...    NaN    NaN    NaN    NaN    NaN\n",
            "19383       NaN    NaN    NaN    NaN    NaN  ...    NaN    NaN    NaN    NaN    NaN\n",
            "19384       NaN    NaN    NaN    NaN    NaN  ...    NaN    NaN    NaN    NaN    NaN\n",
            "\n",
            "[18313 rows x 9008 columns]\n"
          ],
          "name": "stdout"
        }
      ]
    },
    {
      "cell_type": "code",
      "metadata": {
        "colab": {
          "base_uri": "https://localhost:8080/",
          "height": 323
        },
        "id": "atmjLIHIBazT",
        "outputId": "19a99c80-fc83-4a3b-86b2-54a6a730e8f3"
      },
      "source": [
        "sns.heatmap(rating_matrix[:100], cmap=\"RdYlGn\", vmin=0, vmax=10)"
      ],
      "execution_count": 37,
      "outputs": [
        {
          "output_type": "execute_result",
          "data": {
            "text/plain": [
              "<matplotlib.axes._subplots.AxesSubplot at 0x7f6420e7c710>"
            ]
          },
          "metadata": {
            "tags": []
          },
          "execution_count": 37
        },
        {
          "output_type": "display_data",
          "data": {
            "image/png": "[encoded data removed]",
            "text/plain": [
              "<Figure size 432x288 with 2 Axes>"
            ]
          },
          "metadata": {
            "tags": [],
            "needs_background": "light"
          }
        }
      ]
    },
    {
      "cell_type": "code",
      "metadata": {
        "colab": {
          "base_uri": "https://localhost:8080/"
        },
        "id": "iIEhDoAkKv-S",
        "outputId": "2d6709f7-c4e8-4f25-a10f-49ad43267aed"
      },
      "source": [
        "#We have not used the whole dataset here, otherwise the system would be overloaded.\n",
        "episodes_matrix = anime_with_ratings[[\"episodes\",\"anime_id\", \"rating\"]]\n",
        "\n",
        "#Creating the matrix with pivot table function \n",
        "episodes_matrix = episodes_matrix.pivot_table(index=\"anime_id\",columns=\"episodes\",values=\"rating\")\n",
        "print(episodes_matrix)\n",
        "\n",
        "# convert to numpy matrix\n",
        "episodes_matrix.to_numpy()\n",
        "print(episodes_matrix)\n",
        "\n",
        "#sns.heatmap(episodes_matrix, cmap=\"RdYlGn\")"
      ],
      "execution_count": 38,
      "outputs": [
        {
          "output_type": "stream",
          "text": [
            "episodes         1  10  100  1006  101  102  ...  95  96  97  98  99  Unknown\n",
            "anime_id                                     ...                             \n",
            "1              NaN NaN  NaN   NaN  NaN  NaN  ... NaN NaN NaN NaN NaN      NaN\n",
            "5         8.439724 NaN  NaN   NaN  NaN  NaN  ... NaN NaN NaN NaN NaN      NaN\n",
            "6              NaN NaN  NaN   NaN  NaN  NaN  ... NaN NaN NaN NaN NaN      NaN\n",
            "7              NaN NaN  NaN   NaN  NaN  NaN  ... NaN NaN NaN NaN NaN      NaN\n",
            "8              NaN NaN  NaN   NaN  NaN  NaN  ... NaN NaN NaN NaN NaN      NaN\n",
            "...            ...  ..  ...   ...  ...  ...  ...  ..  ..  ..  ..  ..      ...\n",
            "34324     5.909091 NaN  NaN   NaN  NaN  NaN  ... NaN NaN NaN NaN NaN      NaN\n",
            "34325          NaN NaN  NaN   NaN  NaN  NaN  ... NaN NaN NaN NaN NaN      NaN\n",
            "34349          NaN NaN  NaN   NaN  NaN  NaN  ... NaN NaN NaN NaN NaN      NaN\n",
            "34367     5.250000 NaN  NaN   NaN  NaN  NaN  ... NaN NaN NaN NaN NaN      NaN\n",
            "34475     6.666667 NaN  NaN   NaN  NaN  NaN  ... NaN NaN NaN NaN NaN      NaN\n",
            "\n",
            "[9926 rows x 178 columns]\n",
            "episodes         1  10  100  1006  101  102  ...  95  96  97  98  99  Unknown\n",
            "anime_id                                     ...                             \n",
            "1              NaN NaN  NaN   NaN  NaN  NaN  ... NaN NaN NaN NaN NaN      NaN\n",
            "5         8.439724 NaN  NaN   NaN  NaN  NaN  ... NaN NaN NaN NaN NaN      NaN\n",
            "6              NaN NaN  NaN   NaN  NaN  NaN  ... NaN NaN NaN NaN NaN      NaN\n",
            "7              NaN NaN  NaN   NaN  NaN  NaN  ... NaN NaN NaN NaN NaN      NaN\n",
            "8              NaN NaN  NaN   NaN  NaN  NaN  ... NaN NaN NaN NaN NaN      NaN\n",
            "...            ...  ..  ...   ...  ...  ...  ...  ..  ..  ..  ..  ..      ...\n",
            "34324     5.909091 NaN  NaN   NaN  NaN  NaN  ... NaN NaN NaN NaN NaN      NaN\n",
            "34325          NaN NaN  NaN   NaN  NaN  NaN  ... NaN NaN NaN NaN NaN      NaN\n",
            "34349          NaN NaN  NaN   NaN  NaN  NaN  ... NaN NaN NaN NaN NaN      NaN\n",
            "34367     5.250000 NaN  NaN   NaN  NaN  NaN  ... NaN NaN NaN NaN NaN      NaN\n",
            "34475     6.666667 NaN  NaN   NaN  NaN  NaN  ... NaN NaN NaN NaN NaN      NaN\n",
            "\n",
            "[9926 rows x 178 columns]\n"
          ],
          "name": "stdout"
        }
      ]
    },
    {
      "cell_type": "code",
      "metadata": {
        "colab": {
          "base_uri": "https://localhost:8080/",
          "height": 419
        },
        "id": "z7ji6vOQz75S",
        "outputId": "1c99880e-480f-4c7b-d8b6-c540a3a39874"
      },
      "source": [
        "anime_with_ratings"
      ],
      "execution_count": 39,
      "outputs": [
        {
          "output_type": "execute_result",
          "data": {
            "text/html": [
              "<div>\n",
              "<style scoped>\n",
              "    .dataframe tbody tr th:only-of-type {\n",
              "        vertical-align: middle;\n",
              "    }\n",
              "\n",
              "    .dataframe tbody tr th {\n",
              "        vertical-align: top;\n",
              "    }\n",
              "\n",
              "    .dataframe thead th {\n",
              "        text-align: right;\n",
              "    }\n",
              "</style>\n",
              "<table border=\"1\" class=\"dataframe\">\n",
              "  <thead>\n",
              "    <tr style=\"text-align: right;\">\n",
              "      <th></th>\n",
              "      <th>index</th>\n",
              "      <th>user_id</th>\n",
              "      <th>anime_id</th>\n",
              "      <th>rating</th>\n",
              "      <th>name</th>\n",
              "      <th>genre</th>\n",
              "      <th>type</th>\n",
              "      <th>episodes</th>\n",
              "    </tr>\n",
              "  </thead>\n",
              "  <tbody>\n",
              "    <tr>\n",
              "      <th>0</th>\n",
              "      <td>0</td>\n",
              "      <td>1</td>\n",
              "      <td>20</td>\n",
              "      <td>NaN</td>\n",
              "      <td>Naruto</td>\n",
              "      <td>[Action, Comedy, MartialArts, Shounen, SuperPo...</td>\n",
              "      <td>TV</td>\n",
              "      <td>220</td>\n",
              "    </tr>\n",
              "    <tr>\n",
              "      <th>1</th>\n",
              "      <td>1</td>\n",
              "      <td>3</td>\n",
              "      <td>20</td>\n",
              "      <td>8.0</td>\n",
              "      <td>Naruto</td>\n",
              "      <td>[Action, Comedy, MartialArts, Shounen, SuperPo...</td>\n",
              "      <td>TV</td>\n",
              "      <td>220</td>\n",
              "    </tr>\n",
              "    <tr>\n",
              "      <th>2</th>\n",
              "      <td>2</td>\n",
              "      <td>5</td>\n",
              "      <td>20</td>\n",
              "      <td>6.0</td>\n",
              "      <td>Naruto</td>\n",
              "      <td>[Action, Comedy, MartialArts, Shounen, SuperPo...</td>\n",
              "      <td>TV</td>\n",
              "      <td>220</td>\n",
              "    </tr>\n",
              "    <tr>\n",
              "      <th>3</th>\n",
              "      <td>3</td>\n",
              "      <td>6</td>\n",
              "      <td>20</td>\n",
              "      <td>NaN</td>\n",
              "      <td>Naruto</td>\n",
              "      <td>[Action, Comedy, MartialArts, Shounen, SuperPo...</td>\n",
              "      <td>TV</td>\n",
              "      <td>220</td>\n",
              "    </tr>\n",
              "    <tr>\n",
              "      <th>4</th>\n",
              "      <td>4</td>\n",
              "      <td>10</td>\n",
              "      <td>20</td>\n",
              "      <td>NaN</td>\n",
              "      <td>Naruto</td>\n",
              "      <td>[Action, Comedy, MartialArts, Shounen, SuperPo...</td>\n",
              "      <td>TV</td>\n",
              "      <td>220</td>\n",
              "    </tr>\n",
              "    <tr>\n",
              "      <th>...</th>\n",
              "      <td>...</td>\n",
              "      <td>...</td>\n",
              "      <td>...</td>\n",
              "      <td>...</td>\n",
              "      <td>...</td>\n",
              "      <td>...</td>\n",
              "      <td>...</td>\n",
              "      <td>...</td>\n",
              "    </tr>\n",
              "    <tr>\n",
              "      <th>7813722</th>\n",
              "      <td>7813722</td>\n",
              "      <td>65682</td>\n",
              "      <td>30450</td>\n",
              "      <td>8.0</td>\n",
              "      <td>Dr. Slump: Hoyoyo! Arale no Himitsu Dai Koukai...</td>\n",
              "      <td>[Comedy, Sci-Fi, Shounen]</td>\n",
              "      <td>Special</td>\n",
              "      <td>1</td>\n",
              "    </tr>\n",
              "    <tr>\n",
              "      <th>7813723</th>\n",
              "      <td>7813723</td>\n",
              "      <td>69497</td>\n",
              "      <td>33484</td>\n",
              "      <td>10.0</td>\n",
              "      <td>Shiroi Zou</td>\n",
              "      <td>[Action, Historical, Kids]</td>\n",
              "      <td>Movie</td>\n",
              "      <td>1</td>\n",
              "    </tr>\n",
              "    <tr>\n",
              "      <th>7813724</th>\n",
              "      <td>7813724</td>\n",
              "      <td>70463</td>\n",
              "      <td>29481</td>\n",
              "      <td>NaN</td>\n",
              "      <td>Kakinoki Mokkii</td>\n",
              "      <td>[Fantasy, Kids]</td>\n",
              "      <td>Special</td>\n",
              "      <td>1</td>\n",
              "    </tr>\n",
              "    <tr>\n",
              "      <th>7813725</th>\n",
              "      <td>7813725</td>\n",
              "      <td>72404</td>\n",
              "      <td>34412</td>\n",
              "      <td>NaN</td>\n",
              "      <td>Hashiri Hajimeta bakari no Kimi ni</td>\n",
              "      <td>[Music]</td>\n",
              "      <td>Music</td>\n",
              "      <td>1</td>\n",
              "    </tr>\n",
              "    <tr>\n",
              "      <th>7813726</th>\n",
              "      <td>7813726</td>\n",
              "      <td>72800</td>\n",
              "      <td>30738</td>\n",
              "      <td>4.0</td>\n",
              "      <td>Gamba: Gamba to Nakama-tachi</td>\n",
              "      <td>[Adventure, Kids]</td>\n",
              "      <td>Movie</td>\n",
              "      <td>1</td>\n",
              "    </tr>\n",
              "  </tbody>\n",
              "</table>\n",
              "<p>7813727 rows × 8 columns</p>\n",
              "</div>"
            ],
            "text/plain": [
              "           index  user_id  ...     type  episodes\n",
              "0              0        1  ...       TV       220\n",
              "1              1        3  ...       TV       220\n",
              "2              2        5  ...       TV       220\n",
              "3              3        6  ...       TV       220\n",
              "4              4       10  ...       TV       220\n",
              "...          ...      ...  ...      ...       ...\n",
              "7813722  7813722    65682  ...  Special         1\n",
              "7813723  7813723    69497  ...    Movie         1\n",
              "7813724  7813724    70463  ...  Special         1\n",
              "7813725  7813725    72404  ...    Music         1\n",
              "7813726  7813726    72800  ...    Movie         1\n",
              "\n",
              "[7813727 rows x 8 columns]"
            ]
          },
          "metadata": {
            "tags": []
          },
          "execution_count": 39
        }
      ]
    },
    {
      "cell_type": "code",
      "metadata": {
        "id": "_kMaz3QItoqB",
        "colab": {
          "base_uri": "https://localhost:8080/",
          "height": 419
        },
        "outputId": "58a663ab-fa85-44c1-bb06-11f784f9f112"
      },
      "source": [
        "#Überprüfen ob die Werte so auch wirklich stimmen oder nicht\n",
        "rating_df[rating_df.anime_id == 20]"
      ],
      "execution_count": 40,
      "outputs": [
        {
          "output_type": "execute_result",
          "data": {
            "text/html": [
              "<div>\n",
              "<style scoped>\n",
              "    .dataframe tbody tr th:only-of-type {\n",
              "        vertical-align: middle;\n",
              "    }\n",
              "\n",
              "    .dataframe tbody tr th {\n",
              "        vertical-align: top;\n",
              "    }\n",
              "\n",
              "    .dataframe thead th {\n",
              "        text-align: right;\n",
              "    }\n",
              "</style>\n",
              "<table border=\"1\" class=\"dataframe\">\n",
              "  <thead>\n",
              "    <tr style=\"text-align: right;\">\n",
              "      <th></th>\n",
              "      <th>user_id</th>\n",
              "      <th>anime_id</th>\n",
              "      <th>rating</th>\n",
              "    </tr>\n",
              "  </thead>\n",
              "  <tbody>\n",
              "    <tr>\n",
              "      <th>0</th>\n",
              "      <td>1</td>\n",
              "      <td>20</td>\n",
              "      <td>NaN</td>\n",
              "    </tr>\n",
              "    <tr>\n",
              "      <th>156</th>\n",
              "      <td>3</td>\n",
              "      <td>20</td>\n",
              "      <td>8.0</td>\n",
              "    </tr>\n",
              "    <tr>\n",
              "      <th>306</th>\n",
              "      <td>5</td>\n",
              "      <td>20</td>\n",
              "      <td>6.0</td>\n",
              "    </tr>\n",
              "    <tr>\n",
              "      <th>769</th>\n",
              "      <td>6</td>\n",
              "      <td>20</td>\n",
              "      <td>NaN</td>\n",
              "    </tr>\n",
              "    <tr>\n",
              "      <th>1162</th>\n",
              "      <td>10</td>\n",
              "      <td>20</td>\n",
              "      <td>NaN</td>\n",
              "    </tr>\n",
              "    <tr>\n",
              "      <th>...</th>\n",
              "      <td>...</td>\n",
              "      <td>...</td>\n",
              "      <td>...</td>\n",
              "    </tr>\n",
              "    <tr>\n",
              "      <th>7811138</th>\n",
              "      <td>73495</td>\n",
              "      <td>20</td>\n",
              "      <td>7.0</td>\n",
              "    </tr>\n",
              "    <tr>\n",
              "      <th>7811298</th>\n",
              "      <td>73496</td>\n",
              "      <td>20</td>\n",
              "      <td>10.0</td>\n",
              "    </tr>\n",
              "    <tr>\n",
              "      <th>7811299</th>\n",
              "      <td>73497</td>\n",
              "      <td>20</td>\n",
              "      <td>8.0</td>\n",
              "    </tr>\n",
              "    <tr>\n",
              "      <th>7811363</th>\n",
              "      <td>73499</td>\n",
              "      <td>20</td>\n",
              "      <td>8.0</td>\n",
              "    </tr>\n",
              "    <tr>\n",
              "      <th>7811963</th>\n",
              "      <td>73500</td>\n",
              "      <td>20</td>\n",
              "      <td>8.0</td>\n",
              "    </tr>\n",
              "  </tbody>\n",
              "</table>\n",
              "<p>25925 rows × 3 columns</p>\n",
              "</div>"
            ],
            "text/plain": [
              "         user_id  anime_id  rating\n",
              "0              1        20     NaN\n",
              "156            3        20     8.0\n",
              "306            5        20     6.0\n",
              "769            6        20     NaN\n",
              "1162          10        20     NaN\n",
              "...          ...       ...     ...\n",
              "7811138    73495        20     7.0\n",
              "7811298    73496        20    10.0\n",
              "7811299    73497        20     8.0\n",
              "7811363    73499        20     8.0\n",
              "7811963    73500        20     8.0\n",
              "\n",
              "[25925 rows x 3 columns]"
            ]
          },
          "metadata": {
            "tags": []
          },
          "execution_count": 40
        }
      ]
    },
    {
      "cell_type": "code",
      "metadata": {
        "id": "usPAtnaKDtQA"
      },
      "source": [
        "#sns.heatmap(anime_with_ratings_grouped, columns=\"user_id\")"
      ],
      "execution_count": 41,
      "outputs": []
    },
    {
      "cell_type": "markdown",
      "metadata": {
        "id": "okxxiQqo90EC"
      },
      "source": [
        "## 6. Model selection & implementation\n",
        "Model selection will contain a discussion about considerations that were made to select a fitting model for this dataset and context. It will also provide the scientific foundation for the selected model and any further considerations that went into the model selection and appropriate metrics that are derived from the model or fed into the model. "
      ]
    },
    {
      "cell_type": "markdown",
      "metadata": {
        "id": "7CUdK82rZbDr"
      },
      "source": [
        "Recommendation systems methods are divided into two categories, that we want to address, before stating which method we chose.\n",
        "\n",
        "#### **1. Collaborative Filtering**\n",
        "This approach is based on user-item interactions like ratings, likes and dislikes for a certain item. The basic idea is that users with a similar taste (in this example similar ratings for items) can be identified. Based on those neighbouring / similar users and their content interactions, recommendations can be made. ([Burke et al., 2011](https://ojs.aaai.org/index.php/aimagazine/article/view/2361))\n",
        "\n",
        "Such user-item interactions are stored in the so called \"user-item matrix\", where the columns represent the users and the row represent the items or vice versa. The entries in each cell represent the interaction between the item and the user in numeric values, like a rating from 1 to 10. The user-item matrix is sparse, because there are many user-item interactions that didn't occur, yet. The class of collaborative filtering definies how the user-item matrix is populated. These collaborative filtering classes are: memory based and model based.([Xu et al., 2012](https://citeseerx.ist.psu.edu/viewdoc/download?doi=10.1.1.461.2978&rep=rep1&type=pdf))\n",
        "\n",
        "##### **memory based**\n",
        "Memory based collaborative filtering uses similarity metrics to find users with similar preferences from the sparse user-item matrix. According to [Stephen et al., 2017](https://researchrepository.murdoch.edu.au/id/eprint/38661/1/a32-Stephen.pdf) the memory based approach can be represented by 3 steps:\n",
        "1. Calculate a similarity measure between two users or two items\n",
        "2. Predict the user-item interaction based on a weighted average over all ratings of the user or item\n",
        "3. Generate a top X ranking based on that user or item\n",
        "\n",
        "\n",
        "##### **model based**\n",
        "The model based approach uses machine learning to build a model that can describe the user preferences that are already present in the user-item matrix. That model is then used to fill in the gaps in the user-item matrix and therefore predict how different users would interact with a certain item.\n",
        "That information is then used to give recommendations to the user. ([Yu et al., 2004](http://citeseerx.ist.psu.edu/viewdoc/download?doi=10.1.1.329.8903&rep=rep1&type=pdf))\n",
        "\n",
        "\n",
        "\n",
        "</br>\n",
        "</br>\n",
        "\n",
        "#### **2. Content-based filtering**\n",
        "This approach analyses the user preferences and tries to find similarities in the prefered items of that specific user ([Reddy et al., 2019](https://www.academia.edu/download/62049148/contentbased20200209-27698-l8hk2i.pdf)). It does so by using attributes of the prefered items such as genre, brand, publisher, type and so on. Therefore, the user profile is based on inherent information of the items prefered by them, in contrast to collaborative filtering, where the user profile is based on other users preferences.\n",
        "\n",
        "According to [Reddy et al., 2019](https://www.academia.edu/download/62049148/contentbased20200209-27698-l8hk2i.pdf) there are three methods of content based filtering:\n",
        "\n",
        "1. **Wrapper methods** that split features of the items into subsets and evaluates which subset is most relevant\n",
        "2. **Filter Methods** that rank the relevance of features with a heuristic\n",
        "3. **Embedded Methods** use a Machine Learning algorithm that selects relevant features during the training phase\n"
      ]
    },
    {
      "cell_type": "markdown",
      "metadata": {
        "id": "sSdJa665_0C9"
      },
      "source": [
        "### **Selecting the model**\n",
        "\n",
        "After what has been learned about different approaches to recommender systems, which method is the best fit for the dataset and the context of anime recommendation.\n",
        "\n",
        "First of all both content-based filtering and collaborative filtering would be possible, as the dataset has some features for each anime and also thousands of preferences for different users.\n",
        "\n",
        "Based on the [this](https://arxiv.org/pdf/1905.01395.pdf) study by Rendle et al. in 2019 Matrix factorization is not only a baseline model for recomender systems, but can even outperform newly proposed models if used properly. Rendle et al. research also indicates that matrix factorization is a good fit for datasets such as the Netflix Prize as seen in [this](https://citeseerx.ist.psu.edu/viewdoc/download?doi=10.1.1.115.6998&rep=rep1&type=pdf) paper or the movielense dataset. Both of these datasets have similar features as the anime dataset, that is used in this Jupyter Notebook.\n"
      ]
    },
    {
      "cell_type": "markdown",
      "metadata": {
        "id": "st-xNbJQb_zL"
      },
      "source": [
        "The general mechanics of matrix factorization are, that we have a sparse matrix with user ratings. It is sparse because there are alot of anime that many users haven't watched. In other words there are many user-anime combinations, but only few of them occured and resulted in a user rating an anime.\n",
        "\n",
        "The objective of matrix factorization is to fill the sparse matrix. This is achieved by splitting the matrix $M$ into factors $A$ and $B$, that when multiplied, result in approximately the same Matrix:\n",
        "\n",
        "$ M \\approx A \\times B $\n",
        "\n",
        "In this context:\n",
        "\n",
        "$A = \\begin{pmatrix}\n",
        "User1 & \\dots & UserN\\\\\n",
        "\\dots & \\dots & \\dots\\\\\n",
        "value_{1m} & \\dots & value_{nm}\n",
        "\\end{pmatrix}$  is called User-Feature Matrix \n",
        "\n",
        "\n",
        "$B = \\begin{pmatrix}\n",
        "Anime1 & \\dots & AnimeN\\\\\n",
        "\\dots & \\dots & \\dots\\\\\n",
        "value_{1m} & \\dots & value_{nm}\n",
        "\\end{pmatrix}$  is called Anime-Feature Matrix \n",
        "\n",
        "\n",
        "This will result in the empty cells of the Matrix also beeing populated. To fit the factors, so that they can represent the entries in matrix $M$ as good as possible, a cost function is used to optimize $A$ and $B$."
      ]
    },
    {
      "cell_type": "markdown",
      "metadata": {
        "id": "n56KmsmzbmO6"
      },
      "source": [
        "The next step is to build a matrix factorization class, that we can use to fit, train and use the model. First of all a cost function for the matrix factorization model needs to be implemented. Mean squared Error will be used for this task."
      ]
    },
    {
      "cell_type": "code",
      "metadata": {
        "id": "kA4tCoyfExDE",
        "colab": {
          "base_uri": "https://localhost:8080/"
        },
        "outputId": "f34cab53-e795-412f-9773-ef234d9a78f3"
      },
      "source": [
        "#Only use tensorflow 1\n",
        "import tensorflow.compat.v1 as tf\n",
        "tf.disable_v2_behavior()"
      ],
      "execution_count": 42,
      "outputs": [
        {
          "output_type": "stream",
          "text": [
            "WARNING:tensorflow:From /usr/local/lib/python3.7/dist-packages/tensorflow/python/compat/v2_compat.py:96: disable_resource_variables (from tensorflow.python.ops.variable_scope) is deprecated and will be removed in a future version.\n",
            "Instructions for updating:\n",
            "non-resource variables are not supported in the long term\n"
          ],
          "name": "stdout"
        }
      ]
    },
    {
      "cell_type": "code",
      "metadata": {
        "id": "gFvVlk1gb0ab"
      },
      "source": [
        "class MFModel():\n",
        "  \"\"\"\n",
        "  Model to fit, train and apply matrix factorisation for anime recommendation.\n",
        "  The Matrix should have the structure users (rows) x animes (columns)\n",
        "\n",
        "  Parameters:\n",
        "  ----\n",
        "  matrix: Matrix with dimensions N x M where N = users, M = animes\n",
        "  num_features: number of features that user- and anime-feature matrix will have. More features are computational expensive, but result in fine granular results\n",
        "  \"\"\"\n",
        "\n",
        "  def __init__(self, matrix, num_features):\n",
        "    #### Init data structures ####\n",
        "    # save the dataframe, as it can be used for further data manipulation \n",
        "    # change the index to sequential ids, as we don't care about anime and user ids in this step\n",
        "    self.df_matrix = self.reindex_matrix(matrix)\n",
        "    # save the matrix as a tensorflow tensor\n",
        "    self.matrix= tf.convert_to_tensor(matrix, dtype=tf.float16)\n",
        "    print(f\"TensorFlow Matrix with shape {matrix.shape} was created\")\n",
        "   \n",
        "    # Data split, that can be used with train_split() function\n",
        "    self.split_data = {\n",
        "        \"train\": None, # will hold the train tensor\n",
        "        \"test\": None # will hold test tensor\n",
        "        }\n",
        "    self.feature_matrices = {\n",
        "        \"train\": {          # both feature matrices for the train dataset\n",
        "            \"users\": None,\n",
        "            \"animes\": None\n",
        "        },\n",
        "        \"test\": {           # both feature matrices for the test dataset\n",
        "            \"users\": None,\n",
        "            \"animes\": None\n",
        "        }\n",
        "    }\n",
        "\n",
        "    #### Metadata ####\n",
        "    # num of rows = num of users\n",
        "    self.num_users = matrix.shape[0]\n",
        "    # num of columns = num of animes\n",
        "    self.num_animes = matrix.shape[1]\n",
        "    self.num_cells = self.num_animes * self.num_users\n",
        "    self.num_features = num_features\n",
        "    # mean of matrix rating, ignoring NaN\n",
        "    self.mean = np.nanmean(matrix.values)\n",
        "    print(f\"The mean of the input matrix is: {self.mean}\")\n",
        "    # standard deviation of matrix ratings, ignoring NaN\n",
        "    self.std = np.nanstd(matrix.values)\n",
        "    print(f\"The standard deviation of the input matrix is: {self.std}\")\n",
        "\n",
        "  def reindex_matrix(self, mat):\n",
        "    \"\"\"\n",
        "    Takes a input matrix and replaces the column and row indices with sequential indices that start with 0.\n",
        "\n",
        "    Param\n",
        "    ---- \n",
        "    mat: A 2-D pandas dataframe\n",
        "    \"\"\"\n",
        "    num_rows = mat.shape[0]\n",
        "    num_cols = mat.shape[1]\n",
        "    mat_cp = pd.DataFrame(data=mat, index=range(num_rows), columns=range(num_cols))\n",
        "    print(mat_cp.index)\n",
        "    return mat_cp\n",
        "\n",
        "\n",
        "\n",
        "  def init_feature_matrices(self):\n",
        "    \"\"\"\n",
        "    Initilizes feature matrices for train and test tensors.\n",
        "    Where the feature matrices have shape:\n",
        "    user feature matrix: (USERS x Features) \n",
        "    anime feature matrix: (Features x ANIMES) \n",
        "    So that rating_matrix is approximately (USERS x Features) X (Features x ANIMES) \n",
        "    \"\"\"\n",
        "    #### Init train matrices ####\n",
        "    # shape of train tensor\n",
        "    train_users, train_animes = self.split_data[\"train\"].shape # shape is USERS x ANIMES\n",
        "    self.feature_matrices[\"train\"][\"users\"] = tf.random.normal(\n",
        "        [train_users, self.num_features], # shape USERS x Features\n",
        "        mean=self.mean, stddev=self.std, dtype=tf.float16\n",
        "        )\n",
        "    self.feature_matrices[\"train\"][\"animes\"] = tf.random.normal(\n",
        "        [self.num_features, train_animes], # shape Features x ANIMES\n",
        "        mean=self.mean, stddev=self.std, dtype=tf.float16\n",
        "        )\n",
        "    \n",
        "    #### Init test matrices ####\n",
        "    test_users, test_animes = self.split_data[\"test\"].shape # shape is USERS x ANIMES\n",
        "    self.feature_matrices[\"test\"][\"users\"] = tf.random.normal(\n",
        "        [test_users, self.num_features], # shape USERS x Features\n",
        "        mean=self.mean, stddev=self.std, dtype=tf.float16\n",
        "        )\n",
        "    self.feature_matrices[\"test\"][\"animes\"] = tf.random.normal(\n",
        "        [self.num_features, test_animes], # shape Features x ANIMES\n",
        "        mean=self.mean, stddev=self.std, dtype=tf.float16\n",
        "        )\n",
        "\n",
        "  def train_split(self, train=0.7):\n",
        "    \"\"\"\n",
        "    Split dataframe into training and test data.\n",
        "\n",
        "    Param\n",
        "    ---\n",
        "    train: percentage of tensor data, that will be training data\n",
        "    test: 1 - train is automatically used for test percentage\n",
        "    \"\"\"\n",
        "    if train > 1.0:\n",
        "      raise ValueError(\"Please insert valid data split. Train and test data should sum up to 100%\")\n",
        "    \n",
        "    # assign train % of the dataframe to train dataset\n",
        "    train_df = self.df_matrix.sample(frac=train)\n",
        "    # assign rest of the dataset to test dataset and shuffle the data\n",
        "    test_df = self.df_matrix.drop(train_df.index).sample(frac=1.0)\n",
        "\n",
        "    # convert to tensor and save in instance\n",
        "    self.split_data[\"train\"] = tf.convert_to_tensor(train_df, dtype=tf.float16)\n",
        "    self.split_data[\"test\"] = tf.convert_to_tensor(test_df, dtype=tf.float16)\n",
        "\n",
        "    # create anime and user feature matrices for the fresh split\n",
        "    self.init_feature_matrices()\n",
        "\n",
        "\n",
        "  def transform_matrix(self, matrix):\n",
        "    \"\"\"\n",
        "    Transforms the matrix to encorporate percentage values, as rating values between 0 and 1 \n",
        "    are not prone for arithmetic overflow and extensive memory usage. Arithmetic underflow is not\n",
        "    a problem, because each iteration only two values are multiplied.\n",
        "    \"\"\"\n",
        "    # find max and min entry and ignore nan values\n",
        "    max = np.nanmax(matrix)\n",
        "    min = np.nanmin(matrix)\n",
        "    return (matrix - min)/(max - min) \n",
        "\n",
        "  # MSE Cost function for matrix factorization\n",
        "  def mse(self, split=\"train\"):\n",
        "    '''\n",
        "    Calculates the mean square error between the product of anime-feature x user-feature and the corresponding cell in Matrix M, based on data that was fit to the object.\n",
        "\n",
        "    Param\n",
        "    ---\n",
        "    split: str that specifies if train or test dataset should be used to calculate mse\n",
        "    '''\n",
        "    # user and anime matrices for the selected datasplit (train or test)\n",
        "    user_mat = self.feature_matrices[split][\"users\"]\n",
        "    anime_mat = self.feature_matrices[split][\"animes\"]\n",
        "    # Original train or test tensor\n",
        "    orig_mat = self.split_data[split]\n",
        "\n",
        "    # multiply the feature matrices\n",
        "    pred = tf.matmul(user_mat, anime_mat)\n",
        "    \n",
        "    print(f\"\\nShape of predicted matrix is: {pred.shape}\")\n",
        "    print(f\"Shape of {split} matrix is: {orig_mat.shape}\")\n",
        "\n",
        "    # calculate mse between original matrix and predictions\n",
        "    mse = tf.losses.mean_squared_error(orig_mat, pred)\n",
        "    return mse\n",
        "\n"
      ],
      "execution_count": 92,
      "outputs": []
    },
    {
      "cell_type": "code",
      "metadata": {
        "colab": {
          "base_uri": "https://localhost:8080/"
        },
        "id": "KzjaTOR64KSy",
        "outputId": "875f8f3e-c1c0-4f4d-e908-ee90fa93406b"
      },
      "source": [
        "model = MFModel(rating_matrix, 5)\n",
        "model.train_split(train=0.5)\n",
        "mse = model.mse(split=\"train\")\n",
        "\n",
        "with tf.Session():\n",
        "  print(mse.eval())"
      ],
      "execution_count": null,
      "outputs": [
        {
          "output_type": "stream",
          "text": [
            "RangeIndex(start=0, stop=18313, step=1)\n",
            "TensorFlow Matrix with shape (18313, 9008) was created\n",
            "The mean of the input matrix is: 7.805602508792049\n",
            "The standard deviation of the input matrix is: 1.575769122654774\n",
            "\n",
            "Shape of predicted matrix is: (9156, 9008)\n",
            "Shape of train matrix is: (9156, 9008)\n"
          ],
          "name": "stdout"
        }
      ]
    },
    {
      "cell_type": "code",
      "metadata": {
        "colab": {
          "base_uri": "https://localhost:8080/"
        },
        "id": "MoTXaEFpOboJ",
        "outputId": "ad87c27f-1704-4714-e970-da44fd1c0b17"
      },
      "source": [
        "with tf.Session():\n",
        "  print(model.split_data[\"train\"].eval())"
      ],
      "execution_count": 45,
      "outputs": [
        {
          "output_type": "stream",
          "text": [
            "[[nan nan nan ... nan nan nan]\n",
            " [nan nan nan ... nan nan nan]\n",
            " [nan nan nan ... nan nan nan]\n",
            " ...\n",
            " [nan nan  9. ... nan nan nan]\n",
            " [nan nan nan ... nan nan nan]\n",
            " [nan nan nan ... nan nan nan]]\n"
          ],
          "name": "stdout"
        }
      ]
    },
    {
      "cell_type": "code",
      "metadata": {
        "colab": {
          "base_uri": "https://localhost:8080/",
          "height": 374
        },
        "id": "wbOmnS8RwZOJ",
        "outputId": "ce8137e5-4fb6-4b8c-d063-3f5f3b52a3f6"
      },
      "source": [
        "# def build_sparse_tensor_from_df(self, df):\n",
        "indices = []\n",
        "values = []\n",
        "# iterate through every row of the dataframe, create consecutive ids and \n",
        "# ignore the indexing with user and anime ids, as they are not consecutive and they dont start with 0\n",
        "for id_row, row in enumerate(rating_matrix.itertuples(index=False)):\n",
        "  for id_col, item in enumerate(row):\n",
        "    if not np.isnan(item):\n",
        "      indices.append([id_row, id_col])\n",
        "      values.append(item)\n",
        "      # print(f\"id=[{id_row},{id_col}]   value={item}\")\n",
        "print(indices)"
      ],
      "execution_count": 63,
      "outputs": [
        {
          "output_type": "error",
          "ename": "KeyboardInterrupt",
          "evalue": "ignored",
          "traceback": [
            "\u001b[0;31m---------------------------------------------------------------------------\u001b[0m",
            "\u001b[0;31mKeyboardInterrupt\u001b[0m                         Traceback (most recent call last)",
            "\u001b[0;32m<ipython-input-63-06b74ff9e9be>\u001b[0m in \u001b[0;36m<module>\u001b[0;34m()\u001b[0m\n\u001b[1;32m      4\u001b[0m \u001b[0;31m# iterate through every row of the dataframe, create consecutive ids and\u001b[0m\u001b[0;34m\u001b[0m\u001b[0;34m\u001b[0m\u001b[0;34m\u001b[0m\u001b[0m\n\u001b[1;32m      5\u001b[0m \u001b[0;31m# ignore the indexing with user and anime ids, as they are not consecutive and they dont start with 0\u001b[0m\u001b[0;34m\u001b[0m\u001b[0;34m\u001b[0m\u001b[0;34m\u001b[0m\u001b[0m\n\u001b[0;32m----> 6\u001b[0;31m \u001b[0;32mfor\u001b[0m \u001b[0mid_row\u001b[0m\u001b[0;34m,\u001b[0m \u001b[0mrow\u001b[0m \u001b[0;32min\u001b[0m \u001b[0menumerate\u001b[0m\u001b[0;34m(\u001b[0m\u001b[0mrating_matrix\u001b[0m\u001b[0;34m.\u001b[0m\u001b[0mitertuples\u001b[0m\u001b[0;34m(\u001b[0m\u001b[0mindex\u001b[0m\u001b[0;34m=\u001b[0m\u001b[0;32mFalse\u001b[0m\u001b[0;34m)\u001b[0m\u001b[0;34m)\u001b[0m\u001b[0;34m:\u001b[0m\u001b[0;34m\u001b[0m\u001b[0;34m\u001b[0m\u001b[0m\n\u001b[0m\u001b[1;32m      7\u001b[0m   \u001b[0;32mfor\u001b[0m \u001b[0mid_col\u001b[0m\u001b[0;34m,\u001b[0m \u001b[0mitem\u001b[0m \u001b[0;32min\u001b[0m \u001b[0menumerate\u001b[0m\u001b[0;34m(\u001b[0m\u001b[0mrow\u001b[0m\u001b[0;34m)\u001b[0m\u001b[0;34m:\u001b[0m\u001b[0;34m\u001b[0m\u001b[0;34m\u001b[0m\u001b[0m\n\u001b[1;32m      8\u001b[0m     \u001b[0;32mif\u001b[0m \u001b[0;32mnot\u001b[0m \u001b[0mnp\u001b[0m\u001b[0;34m.\u001b[0m\u001b[0misnan\u001b[0m\u001b[0;34m(\u001b[0m\u001b[0mitem\u001b[0m\u001b[0;34m)\u001b[0m\u001b[0;34m:\u001b[0m\u001b[0;34m\u001b[0m\u001b[0;34m\u001b[0m\u001b[0m\n",
            "\u001b[0;32m/usr/local/lib/python3.7/dist-packages/pandas/core/arrays/base.py\u001b[0m in \u001b[0;36m__iter__\u001b[0;34m(self)\u001b[0m\n\u001b[1;32m    334\u001b[0m         \u001b[0;31m# calls to ``__getitem__``, which may be slower than necessary.\u001b[0m\u001b[0;34m\u001b[0m\u001b[0;34m\u001b[0m\u001b[0;34m\u001b[0m\u001b[0m\n\u001b[1;32m    335\u001b[0m         \u001b[0;32mfor\u001b[0m \u001b[0mi\u001b[0m \u001b[0;32min\u001b[0m \u001b[0mrange\u001b[0m\u001b[0;34m(\u001b[0m\u001b[0mlen\u001b[0m\u001b[0;34m(\u001b[0m\u001b[0mself\u001b[0m\u001b[0;34m)\u001b[0m\u001b[0;34m)\u001b[0m\u001b[0;34m:\u001b[0m\u001b[0;34m\u001b[0m\u001b[0;34m\u001b[0m\u001b[0m\n\u001b[0;32m--> 336\u001b[0;31m             \u001b[0;32myield\u001b[0m \u001b[0mself\u001b[0m\u001b[0;34m[\u001b[0m\u001b[0mi\u001b[0m\u001b[0;34m]\u001b[0m\u001b[0;34m\u001b[0m\u001b[0;34m\u001b[0m\u001b[0m\n\u001b[0m\u001b[1;32m    337\u001b[0m \u001b[0;34m\u001b[0m\u001b[0m\n\u001b[1;32m    338\u001b[0m     \u001b[0;32mdef\u001b[0m \u001b[0m__eq__\u001b[0m\u001b[0;34m(\u001b[0m\u001b[0mself\u001b[0m\u001b[0;34m,\u001b[0m \u001b[0mother\u001b[0m\u001b[0;34m:\u001b[0m \u001b[0mAny\u001b[0m\u001b[0;34m)\u001b[0m \u001b[0;34m->\u001b[0m \u001b[0mArrayLike\u001b[0m\u001b[0;34m:\u001b[0m\u001b[0;34m\u001b[0m\u001b[0;34m\u001b[0m\u001b[0m\n",
            "\u001b[0;32m/usr/local/lib/python3.7/dist-packages/pandas/core/arrays/sparse/array.py\u001b[0m in \u001b[0;36m__getitem__\u001b[0;34m(self, key)\u001b[0m\n\u001b[1;32m    772\u001b[0m \u001b[0;34m\u001b[0m\u001b[0m\n\u001b[1;32m    773\u001b[0m         \u001b[0;32mif\u001b[0m \u001b[0mis_integer\u001b[0m\u001b[0;34m(\u001b[0m\u001b[0mkey\u001b[0m\u001b[0;34m)\u001b[0m\u001b[0;34m:\u001b[0m\u001b[0;34m\u001b[0m\u001b[0;34m\u001b[0m\u001b[0m\n\u001b[0;32m--> 774\u001b[0;31m             \u001b[0;32mreturn\u001b[0m \u001b[0mself\u001b[0m\u001b[0;34m.\u001b[0m\u001b[0m_get_val_at\u001b[0m\u001b[0;34m(\u001b[0m\u001b[0mkey\u001b[0m\u001b[0;34m)\u001b[0m\u001b[0;34m\u001b[0m\u001b[0;34m\u001b[0m\u001b[0m\n\u001b[0m\u001b[1;32m    775\u001b[0m         \u001b[0;32melif\u001b[0m \u001b[0misinstance\u001b[0m\u001b[0;34m(\u001b[0m\u001b[0mkey\u001b[0m\u001b[0;34m,\u001b[0m \u001b[0mtuple\u001b[0m\u001b[0;34m)\u001b[0m\u001b[0;34m:\u001b[0m\u001b[0;34m\u001b[0m\u001b[0;34m\u001b[0m\u001b[0m\n\u001b[1;32m    776\u001b[0m             \u001b[0mdata_slice\u001b[0m \u001b[0;34m=\u001b[0m \u001b[0mself\u001b[0m\u001b[0;34m.\u001b[0m\u001b[0mto_dense\u001b[0m\u001b[0;34m(\u001b[0m\u001b[0;34m)\u001b[0m\u001b[0;34m[\u001b[0m\u001b[0mkey\u001b[0m\u001b[0;34m]\u001b[0m\u001b[0;34m\u001b[0m\u001b[0;34m\u001b[0m\u001b[0m\n",
            "\u001b[0;31mKeyboardInterrupt\u001b[0m: "
          ]
        }
      ]
    },
    {
      "cell_type": "code",
      "metadata": {
        "colab": {
          "base_uri": "https://localhost:8080/"
        },
        "id": "r3Q2mpn4PAJj",
        "outputId": "e9c70072-c79a-4a0a-a94d-eff6fcb6bceb"
      },
      "source": [
        "# not_na_x, not_na_y = np.where(rating_matrix.notna())\n",
        "# id = [[x_id, not_na_y[y_entry]] for y_entry, x_id in enumerate(not_na_x)]\n",
        "# print(id)"
      ],
      "execution_count": null,
      "outputs": [
        {
          "output_type": "stream",
          "text": [
            "IOPub data rate exceeded.\n",
            "The notebook server will temporarily stop sending output\n",
            "to the client in order to avoid crashing it.\n",
            "To change this limit, set the config variable\n",
            "`--NotebookApp.iopub_data_rate_limit`.\n",
            "\n",
            "Current values:\n",
            "NotebookApp.iopub_data_rate_limit=1000000.0 (bytes/sec)\n",
            "NotebookApp.rate_limit_window=3.0 (secs)\n",
            "\n"
          ],
          "name": "stderr"
        }
      ]
    },
    {
      "cell_type": "markdown",
      "metadata": {
        "id": "lK1_1q0u-u8y"
      },
      "source": [
        "## 7. Model training \n",
        "The dataset will be split into train and test samples and the model will be trained to give anime recommendations based on any users data."
      ]
    },
    {
      "cell_type": "code",
      "metadata": {
        "id": "nUYkgm6Egwwx"
      },
      "source": [
        "from sklearn.metrics.pairwise import cosine_similarity\n",
        "from sklearn.feature_extraction.text import CountVectorizer\n",
        "\n",
        "#Make sure that the columns have the right type before appending them\n",
        "testing[\"genre\"] = testing[\"genre\"].replace(np.nan, \"undefinied\")\n",
        "testing[\"type\"] = testing[\"type\"].replace(np.nan, \"undefinied\")\n",
        "\n",
        "testing[\"name\"] =testing[\"name\"].astype(str)\n",
        "testing[\"type\"] = testing[\"type\"].astype(str)\n",
        "testing[\"genre\"] = testing[\"genre\"].astype(str)\n",
        "\n",
        "#function which creates the column with the important informations automatically\n",
        "'''def get_important_features(data):\n",
        "  important_features= []\n",
        "\n",
        "  for i in range(0, data.shape[0]):\n",
        "      important_features.append(data[\"name\"][i]+ ' ' +data[\"type\"][i]) \n",
        "    \n",
        "  return get_important_features'''\n",
        "\n",
        "#Check if all columns have some values\n",
        "colums=[\"name\", \"type\", \"genre\"]\n",
        "\n",
        "#If there are Null Values contained in the DataFrame, an TypeError with messame \"Not String\" will occure\n",
        "if testing[colums].isnull().values.any():\n",
        "  raise TypeError('NotString')\n",
        "\n",
        "\n",
        "\n",
        "\n",
        "#Get the important features for each row\n",
        "#testing[\"important_feats\"] = get_important_features(testing)\n",
        "testing"
      ],
      "execution_count": null,
      "outputs": []
    },
    {
      "cell_type": "code",
      "metadata": {
        "id": "zn2kyFUAbEf9"
      },
      "source": [
        "#Alternative way as the function does not work\n",
        "testing[\"important_feats\"] = testing[\"name\"]+ ' ' + testing[\"type\"]+ ' ' + testing[\"genre\"]\n",
        "testing"
      ],
      "execution_count": null,
      "outputs": []
    },
    {
      "cell_type": "code",
      "metadata": {
        "id": "iq-9KQidnyAd"
      },
      "source": [
        "#Fitting the column with the important informations in cosine\n",
        "cm = CountVectorizer().fit_transform(testing[\"important_feats\"][:20000])\n",
        "cs = cosine_similarity(cm)\n",
        "print(cs)"
      ],
      "execution_count": null,
      "outputs": []
    },
    {
      "cell_type": "code",
      "metadata": {
        "id": "NlElLKbrxSAb"
      },
      "source": [
        "#Choosing a Anime \n",
        "anime_name = testing[\"name\"][0]\n",
        "anime_name\n",
        "print(anime_name)\n",
        "\n",
        "#Getting the Id from the Anime\n",
        "anime_id =  testing[testing.name==anime_name][\"anime_id\"].values[0]\n",
        "anime_id"
      ],
      "execution_count": null,
      "outputs": []
    },
    {
      "cell_type": "code",
      "metadata": {
        "id": "khe1jYdDxnPD"
      },
      "source": [
        "#Printing the highest Scores/Similaritys for our Anime\n",
        "scores = list(enumerate(cs[anime_id][:20000]))\n",
        "sorted_scores = sorted(scores, key = lambda x:x[1], reverse=True)\n",
        "# Top 4\n",
        "sorted_scores = sorted_scores[1:5] \n",
        "sorted_scores"
      ],
      "execution_count": null,
      "outputs": []
    },
    {
      "cell_type": "code",
      "metadata": {
        "id": "vUYKa4Zk4Nzj"
      },
      "source": [
        "#Printing the Top 4 recommended Animes\n",
        "j = 0\n",
        "print(\"The 4 Most recommended animes for you, because you liked\" + ' '+ anime_name + ' ' +\"are:\\n\")\n",
        "for item in sorted_scores:\n",
        "    anime_title =  testing[testing.anime_id==item[0]][\"name\"].values[0]\n",
        "    print(j+1, anime_title)\n",
        "    j = j+1\n",
        "    if j>=4:\n",
        "        break\n",
        "\n",
        "\n",
        "#--------Da ich es erstmal nur bis row 20000 beschränkt habe wird nur 1 Anime angezeigt nicht wundern + Fehlercode"
      ],
      "execution_count": null,
      "outputs": []
    }
  ]
}