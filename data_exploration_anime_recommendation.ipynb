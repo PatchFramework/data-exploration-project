{
  "nbformat": 4,
  "nbformat_minor": 0,
  "metadata": {
    "colab": {
      "name": "data_exploration_anime_recommendation.ipynb",
      "provenance": [],
      "collapsed_sections": [],
      "include_colab_link": true
    },
    "kernelspec": {
      "name": "python3",
      "display_name": "Python 3"
    },
    "language_info": {
      "name": "python"
    }
  },
  "cells": [
    {
      "cell_type": "markdown",
      "metadata": {
        "id": "view-in-github",
        "colab_type": "text"
      },
      "source": [
        "<a href=\"https://colab.research.google.com/github/PatchFramework/data-exploration-project/blob/main/data_exploration_anime_recommendation.ipynb\" target=\"_parent\"><img src=\"https://colab.research.google.com/assets/colab-badge.svg\" alt=\"Open In Colab\"/></a>"
      ]
    },
    {
      "cell_type": "markdown",
      "metadata": {
        "id": "Rzw28uoCArNf"
      },
      "source": [
        "# Data Exploration Project - Anime Recommendation\n",
        "#### Team: PostgreSQL (Can Berkil, Canberk Alkan, Dominic Viola)\n",
        "This Jupyter Notebook is designed to run on Google Colab, as it provides a standardized Linux environment and preinstalled applications. It contains the code that is used to download and analyse an Anime dataset. Afterwards the dataset is used to build a recommendation engine.\n",
        "\n",
        "\n",
        "\n",
        "## Development Notes:\n",
        "\n",
        "ToDo:\n",
        "\n",
        "1. Headings and their content for: \n",
        "- Data selection (why did we choose this dataset? <- use information from Canberks PowerPoint) <- Canberk\n",
        "- Data cleaning \n",
        "- Data transformation \n",
        "- Data exploration\n",
        "- Model selection (papers to determine suitable algorithms)"
      ]
    },
    {
      "cell_type": "markdown",
      "metadata": {
        "id": "3v-IL0_xBbqQ"
      },
      "source": [
        "## 1. Download the dataset\n",
        "The dataset is from Kaggle you can find general information about it [here](https://www.kaggle.com/CooperUnion/anime-recommendations-database?select=rating.csv).\n",
        "\n",
        "I downloaded the dataset to my private google drive and created a public link to ensure that the dataset is available. This is in compliance with the dataset's Creative Commons License."
      ]
    },
    {
      "cell_type": "code",
      "metadata": {
        "colab": {
          "base_uri": "https://localhost:8080/"
        },
        "id": "3HcqT7OUAp6T",
        "outputId": "fc15cee6-e62b-4881-fed0-03812cf47736"
      },
      "source": [
        "# Download the dataset from my google drive\n",
        "!gdown --id 1XPYCQvsGq4cKp1liPmxPDd7QkU04Kj4X -O ./anime_dataset.zip\n",
        "!ls"
      ],
      "execution_count": null,
      "outputs": [
        {
          "output_type": "stream",
          "text": [
            "Downloading...\n",
            "From: https://drive.google.com/uc?id=1XPYCQvsGq4cKp1liPmxPDd7QkU04Kj4X\n",
            "To: /content/anime_dataset.zip\n",
            "26.3MB [00:00, 56.5MB/s]\n",
            "anime_dataset.zip  sample_data\n"
          ],
          "name": "stdout"
        }
      ]
    },
    {
      "cell_type": "code",
      "metadata": {
        "colab": {
          "base_uri": "https://localhost:8080/"
        },
        "id": "oHupRaEjOzcI",
        "outputId": "4f1e1b9d-803f-49d6-fd4d-95d895c16a03"
      },
      "source": [
        "# create a directory for the data\n",
        "!mkdir data\n",
        "\n",
        "# after downloading the dataset as a zip unzip the dataset into the new folder\n",
        "# only execute if unzipped anime.csv doesn't already exist (cell can be re-run easier)\n",
        "! [ ! -f data/anime.csv ] && unzip anime_dataset.zip -d ./data/\n",
        "\n",
        "!ls data"
      ],
      "execution_count": null,
      "outputs": [
        {
          "output_type": "stream",
          "text": [
            "Archive:  anime_dataset.zip\n",
            "  inflating: ./data/anime.csv        \n",
            "  inflating: ./data/rating.csv       \n",
            "anime.csv  rating.csv\n"
          ],
          "name": "stdout"
        }
      ]
    },
    {
      "cell_type": "markdown",
      "metadata": {
        "id": "dqcTy8dO2nAG"
      },
      "source": [
        "## 2. Data Selection\n",
        "\n",
        "This section will shed a light on why [this](https://www.kaggle.com/CooperUnion/anime-recommendations-database?select=rating.csv) dataset was choosen and what the characteristics of the dataset are."
      ]
    },
    {
      "cell_type": "markdown",
      "metadata": {
        "id": "9u3x04FIWw2i"
      },
      "source": [
        "## 3. Fundamental dataset exploration\n",
        "\n",
        "Now the content and structure of this dataset will explored.\n",
        "\n",
        "\n",
        "Lets see how the csv files that were downloaded are structured.\n",
        "Lets look at the first few lines of each file with the linux command \"head\".\n",
        "\n",
        "The goal is to find information about:\n",
        "- column names\n",
        "- datatypes  \n",
        "- the seperator (we need it for pandas later)\n",
        "- how the CSV files are connected\n"
      ]
    },
    {
      "cell_type": "code",
      "metadata": {
        "colab": {
          "base_uri": "https://localhost:8080/"
        },
        "id": "nMWfjtMtbJrC",
        "outputId": "702db5a4-c0d1-41ba-ef75-b524d05bb1b6"
      },
      "source": [
        "!head -5 data/anime.csv"
      ],
      "execution_count": null,
      "outputs": [
        {
          "output_type": "stream",
          "text": [
            "anime_id,name,genre,type,episodes,rating,members\r\n",
            "32281,Kimi no Na wa.,\"Drama, Romance, School, Supernatural\",Movie,1,9.37,200630\r\n",
            "5114,Fullmetal Alchemist: Brotherhood,\"Action, Adventure, Drama, Fantasy, Magic, Military, Shounen\",TV,64,9.26,793665\r\n",
            "28977,Gintama°,\"Action, Comedy, Historical, Parody, Samurai, Sci-Fi, Shounen\",TV,51,9.25,114262\r\n",
            "9253,Steins;Gate,\"Sci-Fi, Thriller\",TV,24,9.17,673572\r\n"
          ],
          "name": "stdout"
        }
      ]
    },
    {
      "cell_type": "code",
      "metadata": {
        "colab": {
          "base_uri": "https://localhost:8080/"
        },
        "id": "yuBPEKNkbguT",
        "outputId": "48debca1-bee6-48a7-ebb1-f4729b01664d"
      },
      "source": [
        "!head -5 data/rating.csv"
      ],
      "execution_count": null,
      "outputs": [
        {
          "output_type": "stream",
          "text": [
            "user_id,anime_id,rating\r\n",
            "1,20,-1\r\n",
            "1,24,-1\r\n",
            "1,79,-1\r\n",
            "1,226,-1\r\n"
          ],
          "name": "stdout"
        }
      ]
    },
    {
      "cell_type": "markdown",
      "metadata": {
        "id": "yg4epuioffek"
      },
      "source": [
        "What can be learned from this first peak into the dataset:\n",
        "1. Columns in anime.csv\n",
        "- \"anime_id\" is the identifier for each anime\n",
        "- \"name\" contains the name as a string but without quotes\n",
        "- \"genre\" contains all genres that the anime is part of, quotes are used, so that the comma seperated genres are not confused with csv fields\n",
        "- \"type\" shows which medium type the anime is \n",
        "- \"rating\" seems to be a general rating from 1 to 10\n",
        "- \"members\" ?\n",
        "\n",
        "2. Columns in rating.csv\n",
        "- \"user\" is the id of the user, that gave the rating\n",
        "- \"anime_id\" is the identifier of the anime, this is the connecting field to anime.csv\n",
        "- \"rating\" is the rating that the user gave the anime. There is -1 as an entry which can't be an actual rating, so -1 could mean, that the user didn't rate the anime\n",
        "\n",
        "3. The seperator is a comma for both csv-files\n"
      ]
    },
    {
      "cell_type": "markdown",
      "metadata": {
        "id": "8ZWI2mle3MVG"
      },
      "source": [
        "## 4. Data Cleaning\n",
        "Unnecessary fields will be dropped from the dataset, the dataset will be checked for inconsistencies and redundancies. Also fields with incorrect datatypes will be fixed."
      ]
    },
    {
      "cell_type": "markdown",
      "metadata": {
        "id": "Ry03L9-6dUU6"
      },
      "source": [
        "We will use the following libraries to process the data:\n",
        "1. Pandas: To save the dataset to dataframes for easier handling and manipulation in python\n",
        "2. Seaborn: Visualize some of the data to get an overview over the content"
      ]
    },
    {
      "cell_type": "code",
      "metadata": {
        "colab": {
          "base_uri": "https://localhost:8080/"
        },
        "id": "c_tL5XJUZR7C",
        "outputId": "96f2db23-8f15-4928-f180-b54bfac27787"
      },
      "source": [
        "# Install the library packages (might be already installed)\n",
        "!pip3 install pandas seaborn"
      ],
      "execution_count": null,
      "outputs": [
        {
          "output_type": "stream",
          "text": [
            "Requirement already satisfied: pandas in /usr/local/lib/python3.7/dist-packages (1.1.5)\n",
            "Requirement already satisfied: seaborn in /usr/local/lib/python3.7/dist-packages (0.11.1)\n",
            "Requirement already satisfied: numpy>=1.15.4 in /usr/local/lib/python3.7/dist-packages (from pandas) (1.19.5)\n",
            "Requirement already satisfied: python-dateutil>=2.7.3 in /usr/local/lib/python3.7/dist-packages (from pandas) (2.8.1)\n",
            "Requirement already satisfied: pytz>=2017.2 in /usr/local/lib/python3.7/dist-packages (from pandas) (2018.9)\n",
            "Requirement already satisfied: matplotlib>=2.2 in /usr/local/lib/python3.7/dist-packages (from seaborn) (3.2.2)\n",
            "Requirement already satisfied: scipy>=1.0 in /usr/local/lib/python3.7/dist-packages (from seaborn) (1.4.1)\n",
            "Requirement already satisfied: six>=1.5 in /usr/local/lib/python3.7/dist-packages (from python-dateutil>=2.7.3->pandas) (1.15.0)\n",
            "Requirement already satisfied: kiwisolver>=1.0.1 in /usr/local/lib/python3.7/dist-packages (from matplotlib>=2.2->seaborn) (1.3.1)\n",
            "Requirement already satisfied: cycler>=0.10 in /usr/local/lib/python3.7/dist-packages (from matplotlib>=2.2->seaborn) (0.10.0)\n",
            "Requirement already satisfied: pyparsing!=2.0.4,!=2.1.2,!=2.1.6,>=2.0.1 in /usr/local/lib/python3.7/dist-packages (from matplotlib>=2.2->seaborn) (2.4.7)\n"
          ],
          "name": "stdout"
        }
      ]
    },
    {
      "cell_type": "code",
      "metadata": {
        "id": "ROdLlGUlZiS_"
      },
      "source": [
        "import pandas as pd\n",
        "import numpy as np"
      ],
      "execution_count": null,
      "outputs": []
    },
    {
      "cell_type": "code",
      "metadata": {
        "id": "K5l2xjXrai0c"
      },
      "source": [
        "anime_df = pd.read_csv(\"data/anime.csv\")\n",
        "rating_df = pd.read_csv(\"data/rating.csv\")"
      ],
      "execution_count": null,
      "outputs": []
    },
    {
      "cell_type": "code",
      "metadata": {
        "colab": {
          "base_uri": "https://localhost:8080/"
        },
        "id": "20Ptu8U5bEc6",
        "outputId": "c74050b3-b0a8-4300-c829-6483a72d1fc9"
      },
      "source": [
        "# Total amount of Anime in this dataset\n",
        "len(anime_df[\"anime_id\"])"
      ],
      "execution_count": null,
      "outputs": [
        {
          "output_type": "execute_result",
          "data": {
            "text/plain": [
              "12294"
            ]
          },
          "metadata": {
            "tags": []
          },
          "execution_count": 8
        }
      ]
    },
    {
      "cell_type": "code",
      "metadata": {
        "colab": {
          "base_uri": "https://localhost:8080/",
          "height": 422
        },
        "id": "ExnAcyW--56S",
        "outputId": "28c6478a-01e6-4154-9478-a60f90c1002a"
      },
      "source": [
        "anime_df"
      ],
      "execution_count": null,
      "outputs": [
        {
          "output_type": "execute_result",
          "data": {
            "text/html": [
              "<div>\n",
              "<style scoped>\n",
              "    .dataframe tbody tr th:only-of-type {\n",
              "        vertical-align: middle;\n",
              "    }\n",
              "\n",
              "    .dataframe tbody tr th {\n",
              "        vertical-align: top;\n",
              "    }\n",
              "\n",
              "    .dataframe thead th {\n",
              "        text-align: right;\n",
              "    }\n",
              "</style>\n",
              "<table border=\"1\" class=\"dataframe\">\n",
              "  <thead>\n",
              "    <tr style=\"text-align: right;\">\n",
              "      <th></th>\n",
              "      <th>anime_id</th>\n",
              "      <th>name</th>\n",
              "      <th>genre</th>\n",
              "      <th>type</th>\n",
              "      <th>episodes</th>\n",
              "      <th>rating</th>\n",
              "      <th>members</th>\n",
              "    </tr>\n",
              "  </thead>\n",
              "  <tbody>\n",
              "    <tr>\n",
              "      <th>0</th>\n",
              "      <td>32281</td>\n",
              "      <td>Kimi no Na wa.</td>\n",
              "      <td>Drama, Romance, School, Supernatural</td>\n",
              "      <td>Movie</td>\n",
              "      <td>1</td>\n",
              "      <td>9.37</td>\n",
              "      <td>200630</td>\n",
              "    </tr>\n",
              "    <tr>\n",
              "      <th>1</th>\n",
              "      <td>5114</td>\n",
              "      <td>Fullmetal Alchemist: Brotherhood</td>\n",
              "      <td>Action, Adventure, Drama, Fantasy, Magic, Mili...</td>\n",
              "      <td>TV</td>\n",
              "      <td>64</td>\n",
              "      <td>9.26</td>\n",
              "      <td>793665</td>\n",
              "    </tr>\n",
              "    <tr>\n",
              "      <th>2</th>\n",
              "      <td>28977</td>\n",
              "      <td>Gintama°</td>\n",
              "      <td>Action, Comedy, Historical, Parody, Samurai, S...</td>\n",
              "      <td>TV</td>\n",
              "      <td>51</td>\n",
              "      <td>9.25</td>\n",
              "      <td>114262</td>\n",
              "    </tr>\n",
              "    <tr>\n",
              "      <th>3</th>\n",
              "      <td>9253</td>\n",
              "      <td>Steins;Gate</td>\n",
              "      <td>Sci-Fi, Thriller</td>\n",
              "      <td>TV</td>\n",
              "      <td>24</td>\n",
              "      <td>9.17</td>\n",
              "      <td>673572</td>\n",
              "    </tr>\n",
              "    <tr>\n",
              "      <th>4</th>\n",
              "      <td>9969</td>\n",
              "      <td>Gintama&amp;#039;</td>\n",
              "      <td>Action, Comedy, Historical, Parody, Samurai, S...</td>\n",
              "      <td>TV</td>\n",
              "      <td>51</td>\n",
              "      <td>9.16</td>\n",
              "      <td>151266</td>\n",
              "    </tr>\n",
              "    <tr>\n",
              "      <th>...</th>\n",
              "      <td>...</td>\n",
              "      <td>...</td>\n",
              "      <td>...</td>\n",
              "      <td>...</td>\n",
              "      <td>...</td>\n",
              "      <td>...</td>\n",
              "      <td>...</td>\n",
              "    </tr>\n",
              "    <tr>\n",
              "      <th>12289</th>\n",
              "      <td>9316</td>\n",
              "      <td>Toushindai My Lover: Minami tai Mecha-Minami</td>\n",
              "      <td>Hentai</td>\n",
              "      <td>OVA</td>\n",
              "      <td>1</td>\n",
              "      <td>4.15</td>\n",
              "      <td>211</td>\n",
              "    </tr>\n",
              "    <tr>\n",
              "      <th>12290</th>\n",
              "      <td>5543</td>\n",
              "      <td>Under World</td>\n",
              "      <td>Hentai</td>\n",
              "      <td>OVA</td>\n",
              "      <td>1</td>\n",
              "      <td>4.28</td>\n",
              "      <td>183</td>\n",
              "    </tr>\n",
              "    <tr>\n",
              "      <th>12291</th>\n",
              "      <td>5621</td>\n",
              "      <td>Violence Gekiga David no Hoshi</td>\n",
              "      <td>Hentai</td>\n",
              "      <td>OVA</td>\n",
              "      <td>4</td>\n",
              "      <td>4.88</td>\n",
              "      <td>219</td>\n",
              "    </tr>\n",
              "    <tr>\n",
              "      <th>12292</th>\n",
              "      <td>6133</td>\n",
              "      <td>Violence Gekiga Shin David no Hoshi: Inma Dens...</td>\n",
              "      <td>Hentai</td>\n",
              "      <td>OVA</td>\n",
              "      <td>1</td>\n",
              "      <td>4.98</td>\n",
              "      <td>175</td>\n",
              "    </tr>\n",
              "    <tr>\n",
              "      <th>12293</th>\n",
              "      <td>26081</td>\n",
              "      <td>Yasuji no Pornorama: Yacchimae!!</td>\n",
              "      <td>Hentai</td>\n",
              "      <td>Movie</td>\n",
              "      <td>1</td>\n",
              "      <td>5.46</td>\n",
              "      <td>142</td>\n",
              "    </tr>\n",
              "  </tbody>\n",
              "</table>\n",
              "<p>12294 rows × 7 columns</p>\n",
              "</div>"
            ],
            "text/plain": [
              "       anime_id  ... members\n",
              "0         32281  ...  200630\n",
              "1          5114  ...  793665\n",
              "2         28977  ...  114262\n",
              "3          9253  ...  673572\n",
              "4          9969  ...  151266\n",
              "...         ...  ...     ...\n",
              "12289      9316  ...     211\n",
              "12290      5543  ...     183\n",
              "12291      5621  ...     219\n",
              "12292      6133  ...     175\n",
              "12293     26081  ...     142\n",
              "\n",
              "[12294 rows x 7 columns]"
            ]
          },
          "metadata": {
            "tags": []
          },
          "execution_count": 9
        }
      ]
    },
    {
      "cell_type": "code",
      "metadata": {
        "colab": {
          "base_uri": "https://localhost:8080/",
          "height": 35
        },
        "id": "vhMAh4uAo0Fk",
        "outputId": "c6aa35ac-7982-43a4-bc16-f3f20a5b2da8"
      },
      "source": [
        "# Existing columns in anime_df and rating_df\n",
        "anime_df.columns\n",
        "rating_df.columns\n",
        "\n",
        "\"\"\"\n",
        "Keep in mind that both anime_df and rating_df do have the attribute \"anime_id\".\n",
        "This will be important to merge both DataFrames.\n",
        "\"\"\""
      ],
      "execution_count": null,
      "outputs": [
        {
          "output_type": "execute_result",
          "data": {
            "application/vnd.google.colaboratory.intrinsic+json": {
              "type": "string"
            },
            "text/plain": [
              "'\\nKeep in mind that both anime_df and rating_df do have the attribute \"anime_id\".\\nThis will be important to merge both DataFrames.\\n'"
            ]
          },
          "metadata": {
            "tags": []
          },
          "execution_count": 10
        }
      ]
    },
    {
      "cell_type": "code",
      "metadata": {
        "id": "7rYWXT60cgg_",
        "colab": {
          "base_uri": "https://localhost:8080/",
          "height": 422
        },
        "outputId": "f7c32ad8-5590-41a6-9109-46c8d8474169"
      },
      "source": [
        "# Since members is not needed for the data analysis, it can be dropped\n",
        "#anime_df.drop(columns=[\"members\"], inplace=True)\n",
        "\n",
        "anime_df[\"genre\"] = anime_df[\"genre\"].replace(np.nan, \"undefinied\")\n",
        "anime_df[\"rating\"] = anime_df[\"rating\"].replace(np.nan, \"undefinied\")\n",
        "anime_df[\"type\"] = anime_df[\"type\"].replace(np.nan, \"undefinied\")\n",
        "# Replace all instances of nan or none or null in the dataset to prevent errors \n",
        "#anime_df.replace([None, nan, null], value=\"undefinied\")\n",
        "anime_df[anime_df.genre == \"undefinied\"]"
      ],
      "execution_count": null,
      "outputs": [
        {
          "output_type": "execute_result",
          "data": {
            "text/html": [
              "<div>\n",
              "<style scoped>\n",
              "    .dataframe tbody tr th:only-of-type {\n",
              "        vertical-align: middle;\n",
              "    }\n",
              "\n",
              "    .dataframe tbody tr th {\n",
              "        vertical-align: top;\n",
              "    }\n",
              "\n",
              "    .dataframe thead th {\n",
              "        text-align: right;\n",
              "    }\n",
              "</style>\n",
              "<table border=\"1\" class=\"dataframe\">\n",
              "  <thead>\n",
              "    <tr style=\"text-align: right;\">\n",
              "      <th></th>\n",
              "      <th>anime_id</th>\n",
              "      <th>name</th>\n",
              "      <th>genre</th>\n",
              "      <th>type</th>\n",
              "      <th>episodes</th>\n",
              "      <th>rating</th>\n",
              "      <th>members</th>\n",
              "    </tr>\n",
              "  </thead>\n",
              "  <tbody>\n",
              "    <tr>\n",
              "      <th>2844</th>\n",
              "      <td>33242</td>\n",
              "      <td>IS: Infinite Stratos 2 - Infinite Wedding</td>\n",
              "      <td>undefinied</td>\n",
              "      <td>Special</td>\n",
              "      <td>1</td>\n",
              "      <td>7.15</td>\n",
              "      <td>6604</td>\n",
              "    </tr>\n",
              "    <tr>\n",
              "      <th>3541</th>\n",
              "      <td>33589</td>\n",
              "      <td>ViVid Strike!</td>\n",
              "      <td>undefinied</td>\n",
              "      <td>TV</td>\n",
              "      <td>12</td>\n",
              "      <td>6.96</td>\n",
              "      <td>12345</td>\n",
              "    </tr>\n",
              "    <tr>\n",
              "      <th>6040</th>\n",
              "      <td>29765</td>\n",
              "      <td>Metropolis (2009)</td>\n",
              "      <td>undefinied</td>\n",
              "      <td>Movie</td>\n",
              "      <td>1</td>\n",
              "      <td>6.27</td>\n",
              "      <td>313</td>\n",
              "    </tr>\n",
              "    <tr>\n",
              "      <th>6646</th>\n",
              "      <td>32695</td>\n",
              "      <td>Match Shoujo</td>\n",
              "      <td>undefinied</td>\n",
              "      <td>ONA</td>\n",
              "      <td>1</td>\n",
              "      <td>6.02</td>\n",
              "      <td>242</td>\n",
              "    </tr>\n",
              "    <tr>\n",
              "      <th>7018</th>\n",
              "      <td>33187</td>\n",
              "      <td>Katsudou Shashin</td>\n",
              "      <td>undefinied</td>\n",
              "      <td>Movie</td>\n",
              "      <td>1</td>\n",
              "      <td>5.79</td>\n",
              "      <td>607</td>\n",
              "    </tr>\n",
              "    <tr>\n",
              "      <th>...</th>\n",
              "      <td>...</td>\n",
              "      <td>...</td>\n",
              "      <td>...</td>\n",
              "      <td>...</td>\n",
              "      <td>...</td>\n",
              "      <td>...</td>\n",
              "      <td>...</td>\n",
              "    </tr>\n",
              "    <tr>\n",
              "      <th>11070</th>\n",
              "      <td>32032</td>\n",
              "      <td>Seikaisuru Kado</td>\n",
              "      <td>undefinied</td>\n",
              "      <td>undefinied</td>\n",
              "      <td>Unknown</td>\n",
              "      <td>undefinied</td>\n",
              "      <td>1797</td>\n",
              "    </tr>\n",
              "    <tr>\n",
              "      <th>11086</th>\n",
              "      <td>34310</td>\n",
              "      <td>Tamagotchi Movie: Tanpen Himitsu no Otodoke Da...</td>\n",
              "      <td>undefinied</td>\n",
              "      <td>Movie</td>\n",
              "      <td>1</td>\n",
              "      <td>undefinied</td>\n",
              "      <td>51</td>\n",
              "    </tr>\n",
              "    <tr>\n",
              "      <th>11097</th>\n",
              "      <td>34474</td>\n",
              "      <td>Tsukipro The Animation</td>\n",
              "      <td>undefinied</td>\n",
              "      <td>TV</td>\n",
              "      <td>Unknown</td>\n",
              "      <td>undefinied</td>\n",
              "      <td>843</td>\n",
              "    </tr>\n",
              "    <tr>\n",
              "      <th>11112</th>\n",
              "      <td>33035</td>\n",
              "      <td>Yuyushiki Special</td>\n",
              "      <td>undefinied</td>\n",
              "      <td>Special</td>\n",
              "      <td>1</td>\n",
              "      <td>undefinied</td>\n",
              "      <td>2294</td>\n",
              "    </tr>\n",
              "    <tr>\n",
              "      <th>11113</th>\n",
              "      <td>33390</td>\n",
              "      <td>Zunda Horizon</td>\n",
              "      <td>undefinied</td>\n",
              "      <td>Movie</td>\n",
              "      <td>1</td>\n",
              "      <td>undefinied</td>\n",
              "      <td>160</td>\n",
              "    </tr>\n",
              "  </tbody>\n",
              "</table>\n",
              "<p>62 rows × 7 columns</p>\n",
              "</div>"
            ],
            "text/plain": [
              "       anime_id  ... members\n",
              "2844      33242  ...    6604\n",
              "3541      33589  ...   12345\n",
              "6040      29765  ...     313\n",
              "6646      32695  ...     242\n",
              "7018      33187  ...     607\n",
              "...         ...  ...     ...\n",
              "11070     32032  ...    1797\n",
              "11086     34310  ...      51\n",
              "11097     34474  ...     843\n",
              "11112     33035  ...    2294\n",
              "11113     33390  ...     160\n",
              "\n",
              "[62 rows x 7 columns]"
            ]
          },
          "metadata": {
            "tags": []
          },
          "execution_count": 11
        }
      ]
    },
    {
      "cell_type": "code",
      "metadata": {
        "colab": {
          "base_uri": "https://localhost:8080/"
        },
        "id": "5OgkS3SBdIEN",
        "outputId": "c21ab03c-2a33-4f51-8957-10732c4615d8"
      },
      "source": [
        "# Total amount of Users who rated Anime\n",
        "rating_df[\"user_id\"].unique()"
      ],
      "execution_count": null,
      "outputs": [
        {
          "output_type": "execute_result",
          "data": {
            "text/plain": [
              "array([    1,     2,     3, ..., 73514, 73515, 73516])"
            ]
          },
          "metadata": {
            "tags": []
          },
          "execution_count": 12
        }
      ]
    },
    {
      "cell_type": "code",
      "metadata": {
        "colab": {
          "base_uri": "https://localhost:8080/"
        },
        "id": "3RZYsO_efRuD",
        "outputId": "5757669f-0c90-47e2-9bd9-71b05a40d240"
      },
      "source": [
        "# Total amount of Anime Genre in this dataset\n",
        "len(anime_df[\"genre\"].unique())"
      ],
      "execution_count": null,
      "outputs": [
        {
          "output_type": "execute_result",
          "data": {
            "text/plain": [
              "3265"
            ]
          },
          "metadata": {
            "tags": []
          },
          "execution_count": 13
        }
      ]
    },
    {
      "cell_type": "code",
      "metadata": {
        "id": "Fjd2BhcXQfJf",
        "colab": {
          "base_uri": "https://localhost:8080/"
        },
        "outputId": "39317f4b-95df-460d-d82a-f8e81c3470d6"
      },
      "source": [
        "# change datatype of genre from string to list\n",
        "for index, genre in enumerate(anime_df[\"genre\"]):\n",
        "  # create string without whitespaces, by splitting at every space and rejoin to a string\n",
        "  genres_stripped = \"\".join(anime_df[\"genre\"][index].split(\" \"))\n",
        "\n",
        "  # split the string at every comma -> new datatype: list\n",
        "  anime_df[\"genre\"][index] = genres_stripped.split(\",\")\n"
      ],
      "execution_count": null,
      "outputs": [
        {
          "output_type": "stream",
          "text": [
            "/usr/local/lib/python3.7/dist-packages/ipykernel_launcher.py:7: SettingWithCopyWarning: \n",
            "A value is trying to be set on a copy of a slice from a DataFrame\n",
            "\n",
            "See the caveats in the documentation: https://pandas.pydata.org/pandas-docs/stable/user_guide/indexing.html#returning-a-view-versus-a-copy\n",
            "  import sys\n"
          ],
          "name": "stderr"
        }
      ]
    },
    {
      "cell_type": "code",
      "metadata": {
        "colab": {
          "base_uri": "https://localhost:8080/"
        },
        "id": "1WQNrOm8uliQ",
        "outputId": "e4673657-b7ac-45ab-fa51-21e679f79720"
      },
      "source": [
        "print(anime_df[\"genre\"][1000:1010])"
      ],
      "execution_count": null,
      "outputs": [
        {
          "output_type": "stream",
          "text": [
            "1000                                  [Drama, Historical]\n",
            "1001                        [Comedy, School, SliceofLife]\n",
            "1002             [Comedy, Ecchi, Romance, School, Seinen]\n",
            "1003      [Action, Drama, Fantasy, Romance, Supernatural]\n",
            "1004    [Action, Adventure, Drama, Military, Sci-Fi, S...\n",
            "1005             [Drama, Historical, School, SliceofLife]\n",
            "1006    [Action, Adventure, Comedy, Ecchi, Fantasy, Ha...\n",
            "1007                    [Action, Comedy, School, Shounen]\n",
            "1008            [Action, Adventure, Mecha, Music, Sci-Fi]\n",
            "1009        [Adventure, Comedy, Fantasy, Sci-Fi, Shounen]\n",
            "Name: genre, dtype: object\n"
          ],
          "name": "stdout"
        }
      ]
    },
    {
      "cell_type": "markdown",
      "metadata": {
        "id": "Tb3uZWV431SA"
      },
      "source": [
        "## 5. Data transformation\n",
        "\n",
        "In this step datafields are converted to fine granular elements. Also dataframes are combined, so that the data is prepared for processing in the model."
      ]
    },
    {
      "cell_type": "code",
      "metadata": {
        "id": "9-qtSksAdN98"
      },
      "source": [
        "# Now we will merge the two DataFrames, so we only have to handle one \n",
        "anime_with_ratings = pd.merge(rating_df, anime_df, on=\"anime_id\")"
      ],
      "execution_count": null,
      "outputs": []
    },
    {
      "cell_type": "code",
      "metadata": {
        "id": "YrXnb7rZpw5L",
        "colab": {
          "base_uri": "https://localhost:8080/",
          "height": 422
        },
        "outputId": "aa097929-42d0-49d6-f326-cd99c11a23e1"
      },
      "source": [
        "anime_with_ratings"
      ],
      "execution_count": null,
      "outputs": [
        {
          "output_type": "execute_result",
          "data": {
            "text/html": [
              "<div>\n",
              "<style scoped>\n",
              "    .dataframe tbody tr th:only-of-type {\n",
              "        vertical-align: middle;\n",
              "    }\n",
              "\n",
              "    .dataframe tbody tr th {\n",
              "        vertical-align: top;\n",
              "    }\n",
              "\n",
              "    .dataframe thead th {\n",
              "        text-align: right;\n",
              "    }\n",
              "</style>\n",
              "<table border=\"1\" class=\"dataframe\">\n",
              "  <thead>\n",
              "    <tr style=\"text-align: right;\">\n",
              "      <th></th>\n",
              "      <th>user_id</th>\n",
              "      <th>anime_id</th>\n",
              "      <th>rating_x</th>\n",
              "      <th>name</th>\n",
              "      <th>genre</th>\n",
              "      <th>type</th>\n",
              "      <th>episodes</th>\n",
              "      <th>rating_y</th>\n",
              "      <th>members</th>\n",
              "    </tr>\n",
              "  </thead>\n",
              "  <tbody>\n",
              "    <tr>\n",
              "      <th>0</th>\n",
              "      <td>1</td>\n",
              "      <td>20</td>\n",
              "      <td>-1</td>\n",
              "      <td>Naruto</td>\n",
              "      <td>[Action, Comedy, MartialArts, Shounen, SuperPo...</td>\n",
              "      <td>TV</td>\n",
              "      <td>220</td>\n",
              "      <td>7.81</td>\n",
              "      <td>683297</td>\n",
              "    </tr>\n",
              "    <tr>\n",
              "      <th>1</th>\n",
              "      <td>3</td>\n",
              "      <td>20</td>\n",
              "      <td>8</td>\n",
              "      <td>Naruto</td>\n",
              "      <td>[Action, Comedy, MartialArts, Shounen, SuperPo...</td>\n",
              "      <td>TV</td>\n",
              "      <td>220</td>\n",
              "      <td>7.81</td>\n",
              "      <td>683297</td>\n",
              "    </tr>\n",
              "    <tr>\n",
              "      <th>2</th>\n",
              "      <td>5</td>\n",
              "      <td>20</td>\n",
              "      <td>6</td>\n",
              "      <td>Naruto</td>\n",
              "      <td>[Action, Comedy, MartialArts, Shounen, SuperPo...</td>\n",
              "      <td>TV</td>\n",
              "      <td>220</td>\n",
              "      <td>7.81</td>\n",
              "      <td>683297</td>\n",
              "    </tr>\n",
              "    <tr>\n",
              "      <th>3</th>\n",
              "      <td>6</td>\n",
              "      <td>20</td>\n",
              "      <td>-1</td>\n",
              "      <td>Naruto</td>\n",
              "      <td>[Action, Comedy, MartialArts, Shounen, SuperPo...</td>\n",
              "      <td>TV</td>\n",
              "      <td>220</td>\n",
              "      <td>7.81</td>\n",
              "      <td>683297</td>\n",
              "    </tr>\n",
              "    <tr>\n",
              "      <th>4</th>\n",
              "      <td>10</td>\n",
              "      <td>20</td>\n",
              "      <td>-1</td>\n",
              "      <td>Naruto</td>\n",
              "      <td>[Action, Comedy, MartialArts, Shounen, SuperPo...</td>\n",
              "      <td>TV</td>\n",
              "      <td>220</td>\n",
              "      <td>7.81</td>\n",
              "      <td>683297</td>\n",
              "    </tr>\n",
              "    <tr>\n",
              "      <th>...</th>\n",
              "      <td>...</td>\n",
              "      <td>...</td>\n",
              "      <td>...</td>\n",
              "      <td>...</td>\n",
              "      <td>...</td>\n",
              "      <td>...</td>\n",
              "      <td>...</td>\n",
              "      <td>...</td>\n",
              "      <td>...</td>\n",
              "    </tr>\n",
              "    <tr>\n",
              "      <th>7813722</th>\n",
              "      <td>65682</td>\n",
              "      <td>30450</td>\n",
              "      <td>8</td>\n",
              "      <td>Dr. Slump: Hoyoyo! Arale no Himitsu Dai Koukai...</td>\n",
              "      <td>[Comedy, Sci-Fi, Shounen]</td>\n",
              "      <td>Special</td>\n",
              "      <td>1</td>\n",
              "      <td>6.17</td>\n",
              "      <td>248</td>\n",
              "    </tr>\n",
              "    <tr>\n",
              "      <th>7813723</th>\n",
              "      <td>69497</td>\n",
              "      <td>33484</td>\n",
              "      <td>10</td>\n",
              "      <td>Shiroi Zou</td>\n",
              "      <td>[Action, Historical, Kids]</td>\n",
              "      <td>Movie</td>\n",
              "      <td>1</td>\n",
              "      <td>4.71</td>\n",
              "      <td>45</td>\n",
              "    </tr>\n",
              "    <tr>\n",
              "      <th>7813724</th>\n",
              "      <td>70463</td>\n",
              "      <td>29481</td>\n",
              "      <td>-1</td>\n",
              "      <td>Kakinoki Mokkii</td>\n",
              "      <td>[Fantasy, Kids]</td>\n",
              "      <td>Special</td>\n",
              "      <td>1</td>\n",
              "      <td>4.33</td>\n",
              "      <td>61</td>\n",
              "    </tr>\n",
              "    <tr>\n",
              "      <th>7813725</th>\n",
              "      <td>72404</td>\n",
              "      <td>34412</td>\n",
              "      <td>-1</td>\n",
              "      <td>Hashiri Hajimeta bakari no Kimi ni</td>\n",
              "      <td>[Music]</td>\n",
              "      <td>Music</td>\n",
              "      <td>1</td>\n",
              "      <td>6.76</td>\n",
              "      <td>239</td>\n",
              "    </tr>\n",
              "    <tr>\n",
              "      <th>7813726</th>\n",
              "      <td>72800</td>\n",
              "      <td>30738</td>\n",
              "      <td>4</td>\n",
              "      <td>Gamba: Gamba to Nakama-tachi</td>\n",
              "      <td>[Adventure, Kids]</td>\n",
              "      <td>Movie</td>\n",
              "      <td>1</td>\n",
              "      <td>5.55</td>\n",
              "      <td>185</td>\n",
              "    </tr>\n",
              "  </tbody>\n",
              "</table>\n",
              "<p>7813727 rows × 9 columns</p>\n",
              "</div>"
            ],
            "text/plain": [
              "         user_id  anime_id  rating_x  ... episodes rating_y members\n",
              "0              1        20        -1  ...      220     7.81  683297\n",
              "1              3        20         8  ...      220     7.81  683297\n",
              "2              5        20         6  ...      220     7.81  683297\n",
              "3              6        20        -1  ...      220     7.81  683297\n",
              "4             10        20        -1  ...      220     7.81  683297\n",
              "...          ...       ...       ...  ...      ...      ...     ...\n",
              "7813722    65682     30450         8  ...        1     6.17     248\n",
              "7813723    69497     33484        10  ...        1     4.71      45\n",
              "7813724    70463     29481        -1  ...        1     4.33      61\n",
              "7813725    72404     34412        -1  ...        1     6.76     239\n",
              "7813726    72800     30738         4  ...        1     5.55     185\n",
              "\n",
              "[7813727 rows x 9 columns]"
            ]
          },
          "metadata": {
            "tags": []
          },
          "execution_count": 17
        }
      ]
    },
    {
      "cell_type": "markdown",
      "metadata": {
        "id": "xYT5DuUs7h84"
      },
      "source": [
        "## 6. Advanced Data Exploration \n",
        "The transformed data will be analysed to see which similarities and patterns might occur. Also assumptions about the necessary model and the challenges that may arise while training it can be made. Furthermore, the advanced exploration of the data can be used to assess the performance of the model in later steps."
      ]
    },
    {
      "cell_type": "code",
      "metadata": {
        "id": "aPFFBfBoXh08"
      },
      "source": [
        "# packages for data visualization\n",
        "import seaborn as sns\n",
        "import matplotlib.pyplot as plt\n",
        "\n",
        "\n",
        "%matplotlib inline"
      ],
      "execution_count": null,
      "outputs": []
    },
    {
      "cell_type": "code",
      "metadata": {
        "id": "YvKlfIKSqQCQ",
        "colab": {
          "base_uri": "https://localhost:8080/"
        },
        "outputId": "c04f14be-5ce6-4c67-85f1-61765a8b3ffd"
      },
      "source": [
        "#Count all Genres in our Data-Set\n",
        "\n",
        "# This dict is used to count how often which genre is in the dataset\n",
        "genres_dict = {}\n",
        "\n",
        "# iterate through list of animes, each anime has a list of genres\n",
        "for genres in anime_df[\"genre\"]:\n",
        "  # iterate through the genres of each anime\n",
        "  for genre in genres:\n",
        "    # if the genre was already observed, increase the count by one\n",
        "    if genre in genres_dict.keys():\n",
        "      genres_dict[genre] += 1\n",
        "    # if the genre hasn't been observed yet, initilize with 1\n",
        "    else:\n",
        "      genres_dict[genre] = 1\n",
        "  \n",
        "print(genres_dict)"
      ],
      "execution_count": null,
      "outputs": [
        {
          "output_type": "stream",
          "text": [
            "{'Drama': 2016, 'Romance': 1464, 'School': 1220, 'Supernatural': 1037, 'Action': 2845, 'Adventure': 2348, 'Fantasy': 2309, 'Magic': 778, 'Military': 426, 'Shounen': 1712, 'Comedy': 4645, 'Historical': 806, 'Parody': 408, 'Samurai': 148, 'Sci-Fi': 2070, 'Thriller': 87, 'Sports': 543, 'SuperPower': 465, 'Space': 381, 'SliceofLife': 1220, 'Mecha': 944, 'Music': 860, 'Mystery': 495, 'Seinen': 547, 'MartialArts': 265, 'Vampire': 102, 'Shoujo': 603, 'Horror': 369, 'Police': 197, 'Psychological': 229, 'Demons': 294, 'Ecchi': 637, 'Josei': 54, 'ShounenAi': 65, 'Game': 181, 'Dementia': 240, 'Harem': 317, 'Cars': 72, 'Kids': 1609, 'ShoujoAi': 55, 'undefinied': 62, 'Hentai': 1141, 'Yaoi': 39, 'Yuri': 42}\n"
          ],
          "name": "stdout"
        }
      ]
    },
    {
      "cell_type": "code",
      "metadata": {
        "id": "WrfSgjzD6b5C"
      },
      "source": [
        "#Show Top 10 Genres in our Data-Set\n",
        "from collections import Counter\n",
        "# sort the genres by how often they were counted in genres_dict\n",
        "# dict.items() returns a tuple for each key/value pair, so x[0] is the key and x[1] is the value \n",
        "top10_genres= sorted(genres_dict.items(), key=lambda x: x[1], reverse=True)[:10]\n",
        "top10_genres\n",
        "\n",
        "# Read title and count from each tuple\n",
        "top10_genres_title = [ x[0] for x in top10_genres ]\n",
        "top10_genres_count = [ x[1] for x in top10_genres ]"
      ],
      "execution_count": null,
      "outputs": []
    },
    {
      "cell_type": "code",
      "metadata": {
        "id": "V6mlGt8AwEEF",
        "colab": {
          "base_uri": "https://localhost:8080/",
          "height": 465
        },
        "outputId": "a1909d75-8ef7-4f55-b71d-2f04eb08d23f"
      },
      "source": [
        "#Plot results in a bar chart\n",
        "fig = plt.figure(figsize = (14, 6))\n",
        "plt.xlabel(\"Genre\")\n",
        "plt.ylabel(\"Count\")\n",
        "plt.title(\"Top 10 Anime-Genres\")\n",
        "plt.xticks(rotation=90)\n",
        "plt.bar(height=top10_genres_count , x=top10_genres_title )"
      ],
      "execution_count": null,
      "outputs": [
        {
          "output_type": "execute_result",
          "data": {
            "text/plain": [
              "<BarContainer object of 10 artists>"
            ]
          },
          "metadata": {
            "tags": []
          },
          "execution_count": 22
        },
        {
          "output_type": "display_data",
          "data": {
            "image/png": "[encoded data removed]",
            "text/plain": [
              "<Figure size 1008x432 with 1 Axes>"
            ]
          },
          "metadata": {
            "tags": [],
            "needs_background": "light"
          }
        }
      ]
    },
    {
      "cell_type": "code",
      "metadata": {
        "id": "-FgfxjY5xcyU",
        "colab": {
          "base_uri": "https://localhost:8080/"
        },
        "outputId": "738b76fd-8003-4c7d-ba19-533f8e47f422"
      },
      "source": [
        "from collections import Counter\n",
        "\n",
        "#Count how often a specific type appears in our data set\n",
        "type_count = anime_with_ratings[\"type\"].value_counts()\n",
        "type_count\n",
        "type_name= Counter(anime_with_ratings[\"type\"])\n",
        "type_name= list(sorted(type_name, key=type_name.get, reverse=True))\n",
        "type_name"
      ],
      "execution_count": null,
      "outputs": [
        {
          "output_type": "execute_result",
          "data": {
            "text/plain": [
              "['TV', 'Movie', 'OVA', 'Special', 'ONA', 'Music', 'undefinied']"
            ]
          },
          "metadata": {
            "tags": []
          },
          "execution_count": 23
        }
      ]
    },
    {
      "cell_type": "code",
      "metadata": {
        "id": "u3kZ-9v3yDr7",
        "colab": {
          "base_uri": "https://localhost:8080/",
          "height": 448
        },
        "outputId": "4d0ab245-c9f9-4d66-a942-06be9a478c1b"
      },
      "source": [
        "fig = plt.figure(figsize = (14, 6))\n",
        "plt.xlabel(\"Type Name\")\n",
        "plt.ylabel(\"Count of Type\")\n",
        "plt.title(\"Anime type per count\")\n",
        "plt.xticks(rotation=90)\n",
        "plt.gcf().axes[0].yaxis.get_major_formatter().set_scientific(False)\n",
        "plt.bar(height=type_count,x=type_name)\n",
        "plt.show()"
      ],
      "execution_count": null,
      "outputs": [
        {
          "output_type": "display_data",
          "data": {
            "image/png": "[encoded data removed]",
            "text/plain": [
              "<Figure size 1008x432 with 1 Axes>"
            ]
          },
          "metadata": {
            "tags": [],
            "needs_background": "light"
          }
        }
      ]
    },
    {
      "cell_type": "code",
      "metadata": {
        "id": "oET3hURWGwAq",
        "colab": {
          "base_uri": "https://localhost:8080/",
          "height": 404
        },
        "outputId": "8c96f522-6d5c-4bf7-81c0-d179a4f0c776"
      },
      "source": [
        "#Count Episodes in Type TV / How many Series got a specific amount of episodes?\n",
        "fig = plt.figure(figsize = (14, 6))\n",
        "tv = anime_with_ratings[anime_with_ratings.type == \"TV\"]\n",
        "episodes_count = tv[\"episodes\"].value_counts()\n",
        "e_t10 = episodes_count[:10]\n",
        "plt.xlabel(\"Amount of Episodes\")\n",
        "plt.ylabel(\"Count of Animes\")\n",
        "plt.title(\"How many Episodes do most of the anime-series have?\")\n",
        "plt.gcf().axes[0].yaxis.get_major_formatter().set_scientific(False)\n",
        "plt.bar(height=e_t10, x=list(e_t10.index))\n",
        "plt.show()"
      ],
      "execution_count": null,
      "outputs": [
        {
          "output_type": "display_data",
          "data": {
            "image/png": "[encoded data removed]",
            "text/plain": [
              "<Figure size 1008x432 with 1 Axes>"
            ]
          },
          "metadata": {
            "tags": [],
            "needs_background": "light"
          }
        }
      ]
    },
    {
      "cell_type": "code",
      "metadata": {
        "colab": {
          "base_uri": "https://localhost:8080/"
        },
        "id": "EiJVQoDFDSvq",
        "outputId": "8423c7e5-e187-408d-998c-78f652a1d803"
      },
      "source": [
        "anime_with_ratings.columns"
      ],
      "execution_count": null,
      "outputs": [
        {
          "output_type": "execute_result",
          "data": {
            "text/plain": [
              "Index(['user_id', 'anime_id', 'rating_x', 'name', 'genre', 'type', 'episodes',\n",
              "       'rating_y', 'members'],\n",
              "      dtype='object')"
            ]
          },
          "metadata": {
            "tags": []
          },
          "execution_count": 26
        }
      ]
    },
    {
      "cell_type": "code",
      "metadata": {
        "id": "eA2Db64aMXfX",
        "colab": {
          "base_uri": "https://localhost:8080/",
          "height": 454
        },
        "outputId": "341ce2da-aae5-4041-e901-86a45671dd56"
      },
      "source": [
        "   anime_with_ratings_grouped = anime_with_ratings[[\"user_id\", \"rating_y\", \"name\"]].groupby([\"rating_y\", \"name\"]).count()\n",
        "   anime_with_ratings_grouped"
      ],
      "execution_count": null,
      "outputs": [
        {
          "output_type": "execute_result",
          "data": {
            "text/html": [
              "<div>\n",
              "<style scoped>\n",
              "    .dataframe tbody tr th:only-of-type {\n",
              "        vertical-align: middle;\n",
              "    }\n",
              "\n",
              "    .dataframe tbody tr th {\n",
              "        vertical-align: top;\n",
              "    }\n",
              "\n",
              "    .dataframe thead th {\n",
              "        text-align: right;\n",
              "    }\n",
              "</style>\n",
              "<table border=\"1\" class=\"dataframe\">\n",
              "  <thead>\n",
              "    <tr style=\"text-align: right;\">\n",
              "      <th></th>\n",
              "      <th></th>\n",
              "      <th>user_id</th>\n",
              "    </tr>\n",
              "    <tr>\n",
              "      <th>rating_y</th>\n",
              "      <th>anime_id</th>\n",
              "      <th></th>\n",
              "    </tr>\n",
              "  </thead>\n",
              "  <tbody>\n",
              "    <tr>\n",
              "      <th>1.67</th>\n",
              "      <th>34476</th>\n",
              "      <td>1</td>\n",
              "    </tr>\n",
              "    <tr>\n",
              "      <th>1.92</th>\n",
              "      <th>20007</th>\n",
              "      <td>2</td>\n",
              "    </tr>\n",
              "    <tr>\n",
              "      <th>2.0</th>\n",
              "      <th>3287</th>\n",
              "      <td>237</td>\n",
              "    </tr>\n",
              "    <tr>\n",
              "      <th>2.14</th>\n",
              "      <th>13405</th>\n",
              "      <td>91</td>\n",
              "    </tr>\n",
              "    <tr>\n",
              "      <th>2.37</th>\n",
              "      <th>413</th>\n",
              "      <td>1131</td>\n",
              "    </tr>\n",
              "    <tr>\n",
              "      <th>...</th>\n",
              "      <th>...</th>\n",
              "      <td>...</td>\n",
              "    </tr>\n",
              "    <tr>\n",
              "      <th>9.37</th>\n",
              "      <th>32281</th>\n",
              "      <td>2199</td>\n",
              "    </tr>\n",
              "    <tr>\n",
              "      <th>9.5</th>\n",
              "      <th>23005</th>\n",
              "      <td>1</td>\n",
              "    </tr>\n",
              "    <tr>\n",
              "      <th rowspan=\"3\" valign=\"top\">undefinied</th>\n",
              "      <th>9488</th>\n",
              "      <td>1</td>\n",
              "    </tr>\n",
              "    <tr>\n",
              "      <th>30484</th>\n",
              "      <td>4</td>\n",
              "    </tr>\n",
              "    <tr>\n",
              "      <th>33674</th>\n",
              "      <td>1</td>\n",
              "    </tr>\n",
              "  </tbody>\n",
              "</table>\n",
              "<p>11197 rows × 1 columns</p>\n",
              "</div>"
            ],
            "text/plain": [
              "                     user_id\n",
              "rating_y   anime_id         \n",
              "1.67       34476           1\n",
              "1.92       20007           2\n",
              "2.0        3287          237\n",
              "2.14       13405          91\n",
              "2.37       413          1131\n",
              "...                      ...\n",
              "9.37       32281        2199\n",
              "9.5        23005           1\n",
              "undefinied 9488            1\n",
              "           30484           4\n",
              "           33674           1\n",
              "\n",
              "[11197 rows x 1 columns]"
            ]
          },
          "metadata": {
            "tags": []
          },
          "execution_count": 27
        }
      ]
    },
    {
      "cell_type": "code",
      "metadata": {
        "colab": {
          "base_uri": "https://localhost:8080/",
          "height": 574
        },
        "id": "usPAtnaKDtQA",
        "outputId": "214a2116-76e9-40f9-d6d5-03d10cfafbce"
      },
      "source": [
        "sns.heatmap(anime_with_ratings_grouped, index =\"name\", columns=\"rating_y\", values =\"name\", title = \"test\", xlabel = \"test\", ylabel= \"test\")"
      ],
      "execution_count": null,
      "outputs": [
        {
          "output_type": "error",
          "ename": "AttributeError",
          "evalue": "ignored",
          "traceback": [
            "\u001b[0;31m---------------------------------------------------------------------------\u001b[0m",
            "\u001b[0;31mAttributeError\u001b[0m                            Traceback (most recent call last)",
            "\u001b[0;32m<ipython-input-29-df25b3f3708e>\u001b[0m in \u001b[0;36m<module>\u001b[0;34m()\u001b[0m\n\u001b[0;32m----> 1\u001b[0;31m \u001b[0msns\u001b[0m\u001b[0;34m.\u001b[0m\u001b[0mheatmap\u001b[0m\u001b[0;34m(\u001b[0m\u001b[0manime_with_ratings_grouped\u001b[0m\u001b[0;34m,\u001b[0m \u001b[0mindex\u001b[0m \u001b[0;34m=\u001b[0m\u001b[0;34m\"name\"\u001b[0m\u001b[0;34m,\u001b[0m \u001b[0mcolumns\u001b[0m\u001b[0;34m=\u001b[0m\u001b[0;34m\"rating_y\"\u001b[0m\u001b[0;34m,\u001b[0m \u001b[0mvalues\u001b[0m \u001b[0;34m=\u001b[0m\u001b[0;34m\"name\"\u001b[0m\u001b[0;34m,\u001b[0m \u001b[0mtitle\u001b[0m \u001b[0;34m=\u001b[0m \u001b[0;34m\"test\"\u001b[0m\u001b[0;34m,\u001b[0m \u001b[0mxlabel\u001b[0m \u001b[0;34m=\u001b[0m \u001b[0;34m\"test\"\u001b[0m\u001b[0;34m,\u001b[0m \u001b[0mylabel\u001b[0m\u001b[0;34m=\u001b[0m \u001b[0;34m\"test\"\u001b[0m\u001b[0;34m)\u001b[0m\u001b[0;34m\u001b[0m\u001b[0;34m\u001b[0m\u001b[0m\n\u001b[0m",
            "\u001b[0;32m/usr/local/lib/python3.7/dist-packages/seaborn/_decorators.py\u001b[0m in \u001b[0;36minner_f\u001b[0;34m(*args, **kwargs)\u001b[0m\n\u001b[1;32m     44\u001b[0m             )\n\u001b[1;32m     45\u001b[0m         \u001b[0mkwargs\u001b[0m\u001b[0;34m.\u001b[0m\u001b[0mupdate\u001b[0m\u001b[0;34m(\u001b[0m\u001b[0;34m{\u001b[0m\u001b[0mk\u001b[0m\u001b[0;34m:\u001b[0m \u001b[0marg\u001b[0m \u001b[0;32mfor\u001b[0m \u001b[0mk\u001b[0m\u001b[0;34m,\u001b[0m \u001b[0marg\u001b[0m \u001b[0;32min\u001b[0m \u001b[0mzip\u001b[0m\u001b[0;34m(\u001b[0m\u001b[0msig\u001b[0m\u001b[0;34m.\u001b[0m\u001b[0mparameters\u001b[0m\u001b[0;34m,\u001b[0m \u001b[0margs\u001b[0m\u001b[0;34m)\u001b[0m\u001b[0;34m}\u001b[0m\u001b[0;34m)\u001b[0m\u001b[0;34m\u001b[0m\u001b[0;34m\u001b[0m\u001b[0m\n\u001b[0;32m---> 46\u001b[0;31m         \u001b[0;32mreturn\u001b[0m \u001b[0mf\u001b[0m\u001b[0;34m(\u001b[0m\u001b[0;34m**\u001b[0m\u001b[0mkwargs\u001b[0m\u001b[0;34m)\u001b[0m\u001b[0;34m\u001b[0m\u001b[0;34m\u001b[0m\u001b[0m\n\u001b[0m\u001b[1;32m     47\u001b[0m     \u001b[0;32mreturn\u001b[0m \u001b[0minner_f\u001b[0m\u001b[0;34m\u001b[0m\u001b[0;34m\u001b[0m\u001b[0m\n\u001b[1;32m     48\u001b[0m \u001b[0;34m\u001b[0m\u001b[0m\n",
            "\u001b[0;32m/usr/local/lib/python3.7/dist-packages/seaborn/matrix.py\u001b[0m in \u001b[0;36mheatmap\u001b[0;34m(data, vmin, vmax, cmap, center, robust, annot, fmt, annot_kws, linewidths, linecolor, cbar, cbar_kws, cbar_ax, square, xticklabels, yticklabels, mask, ax, **kwargs)\u001b[0m\n\u001b[1;32m    546\u001b[0m     \u001b[0;32mif\u001b[0m \u001b[0msquare\u001b[0m\u001b[0;34m:\u001b[0m\u001b[0;34m\u001b[0m\u001b[0;34m\u001b[0m\u001b[0m\n\u001b[1;32m    547\u001b[0m         \u001b[0max\u001b[0m\u001b[0;34m.\u001b[0m\u001b[0mset_aspect\u001b[0m\u001b[0;34m(\u001b[0m\u001b[0;34m\"equal\"\u001b[0m\u001b[0;34m)\u001b[0m\u001b[0;34m\u001b[0m\u001b[0;34m\u001b[0m\u001b[0m\n\u001b[0;32m--> 548\u001b[0;31m     \u001b[0mplotter\u001b[0m\u001b[0;34m.\u001b[0m\u001b[0mplot\u001b[0m\u001b[0;34m(\u001b[0m\u001b[0max\u001b[0m\u001b[0;34m,\u001b[0m \u001b[0mcbar_ax\u001b[0m\u001b[0;34m,\u001b[0m \u001b[0mkwargs\u001b[0m\u001b[0;34m)\u001b[0m\u001b[0;34m\u001b[0m\u001b[0;34m\u001b[0m\u001b[0m\n\u001b[0m\u001b[1;32m    549\u001b[0m     \u001b[0;32mreturn\u001b[0m \u001b[0max\u001b[0m\u001b[0;34m\u001b[0m\u001b[0;34m\u001b[0m\u001b[0m\n\u001b[1;32m    550\u001b[0m \u001b[0;34m\u001b[0m\u001b[0m\n",
            "\u001b[0;32m/usr/local/lib/python3.7/dist-packages/seaborn/matrix.py\u001b[0m in \u001b[0;36mplot\u001b[0;34m(self, ax, cax, kws)\u001b[0m\n\u001b[1;32m    296\u001b[0m \u001b[0;34m\u001b[0m\u001b[0m\n\u001b[1;32m    297\u001b[0m         \u001b[0;31m# Draw the heatmap\u001b[0m\u001b[0;34m\u001b[0m\u001b[0;34m\u001b[0m\u001b[0;34m\u001b[0m\u001b[0m\n\u001b[0;32m--> 298\u001b[0;31m         \u001b[0mmesh\u001b[0m \u001b[0;34m=\u001b[0m \u001b[0max\u001b[0m\u001b[0;34m.\u001b[0m\u001b[0mpcolormesh\u001b[0m\u001b[0;34m(\u001b[0m\u001b[0mself\u001b[0m\u001b[0;34m.\u001b[0m\u001b[0mplot_data\u001b[0m\u001b[0;34m,\u001b[0m \u001b[0mcmap\u001b[0m\u001b[0;34m=\u001b[0m\u001b[0mself\u001b[0m\u001b[0;34m.\u001b[0m\u001b[0mcmap\u001b[0m\u001b[0;34m,\u001b[0m \u001b[0;34m**\u001b[0m\u001b[0mkws\u001b[0m\u001b[0;34m)\u001b[0m\u001b[0;34m\u001b[0m\u001b[0;34m\u001b[0m\u001b[0m\n\u001b[0m\u001b[1;32m    299\u001b[0m \u001b[0;34m\u001b[0m\u001b[0m\n\u001b[1;32m    300\u001b[0m         \u001b[0;31m# Set the axis limits\u001b[0m\u001b[0;34m\u001b[0m\u001b[0;34m\u001b[0m\u001b[0;34m\u001b[0m\u001b[0m\n",
            "\u001b[0;32m/usr/local/lib/python3.7/dist-packages/matplotlib/__init__.py\u001b[0m in \u001b[0;36minner\u001b[0;34m(ax, data, *args, **kwargs)\u001b[0m\n\u001b[1;32m   1563\u001b[0m     \u001b[0;32mdef\u001b[0m \u001b[0minner\u001b[0m\u001b[0;34m(\u001b[0m\u001b[0max\u001b[0m\u001b[0;34m,\u001b[0m \u001b[0;34m*\u001b[0m\u001b[0margs\u001b[0m\u001b[0;34m,\u001b[0m \u001b[0mdata\u001b[0m\u001b[0;34m=\u001b[0m\u001b[0;32mNone\u001b[0m\u001b[0;34m,\u001b[0m \u001b[0;34m**\u001b[0m\u001b[0mkwargs\u001b[0m\u001b[0;34m)\u001b[0m\u001b[0;34m:\u001b[0m\u001b[0;34m\u001b[0m\u001b[0;34m\u001b[0m\u001b[0m\n\u001b[1;32m   1564\u001b[0m         \u001b[0;32mif\u001b[0m \u001b[0mdata\u001b[0m \u001b[0;32mis\u001b[0m \u001b[0;32mNone\u001b[0m\u001b[0;34m:\u001b[0m\u001b[0;34m\u001b[0m\u001b[0;34m\u001b[0m\u001b[0m\n\u001b[0;32m-> 1565\u001b[0;31m             \u001b[0;32mreturn\u001b[0m \u001b[0mfunc\u001b[0m\u001b[0;34m(\u001b[0m\u001b[0max\u001b[0m\u001b[0;34m,\u001b[0m \u001b[0;34m*\u001b[0m\u001b[0mmap\u001b[0m\u001b[0;34m(\u001b[0m\u001b[0msanitize_sequence\u001b[0m\u001b[0;34m,\u001b[0m \u001b[0margs\u001b[0m\u001b[0;34m)\u001b[0m\u001b[0;34m,\u001b[0m \u001b[0;34m**\u001b[0m\u001b[0mkwargs\u001b[0m\u001b[0;34m)\u001b[0m\u001b[0;34m\u001b[0m\u001b[0;34m\u001b[0m\u001b[0m\n\u001b[0m\u001b[1;32m   1566\u001b[0m \u001b[0;34m\u001b[0m\u001b[0m\n\u001b[1;32m   1567\u001b[0m         \u001b[0mbound\u001b[0m \u001b[0;34m=\u001b[0m \u001b[0mnew_sig\u001b[0m\u001b[0;34m.\u001b[0m\u001b[0mbind\u001b[0m\u001b[0;34m(\u001b[0m\u001b[0max\u001b[0m\u001b[0;34m,\u001b[0m \u001b[0;34m*\u001b[0m\u001b[0margs\u001b[0m\u001b[0;34m,\u001b[0m \u001b[0;34m**\u001b[0m\u001b[0mkwargs\u001b[0m\u001b[0;34m)\u001b[0m\u001b[0;34m\u001b[0m\u001b[0;34m\u001b[0m\u001b[0m\n",
            "\u001b[0;32m/usr/local/lib/python3.7/dist-packages/matplotlib/axes/_axes.py\u001b[0m in \u001b[0;36mpcolormesh\u001b[0;34m(self, alpha, norm, cmap, vmin, vmax, shading, antialiased, *args, **kwargs)\u001b[0m\n\u001b[1;32m   6116\u001b[0m         collection = mcoll.QuadMesh(Nx - 1, Ny - 1, coords,\n\u001b[1;32m   6117\u001b[0m                                     \u001b[0mantialiased\u001b[0m\u001b[0;34m=\u001b[0m\u001b[0mantialiased\u001b[0m\u001b[0;34m,\u001b[0m \u001b[0mshading\u001b[0m\u001b[0;34m=\u001b[0m\u001b[0mshading\u001b[0m\u001b[0;34m,\u001b[0m\u001b[0;34m\u001b[0m\u001b[0;34m\u001b[0m\u001b[0m\n\u001b[0;32m-> 6118\u001b[0;31m                                     **kwargs)\n\u001b[0m\u001b[1;32m   6119\u001b[0m         \u001b[0mcollection\u001b[0m\u001b[0;34m.\u001b[0m\u001b[0mset_alpha\u001b[0m\u001b[0;34m(\u001b[0m\u001b[0malpha\u001b[0m\u001b[0;34m)\u001b[0m\u001b[0;34m\u001b[0m\u001b[0;34m\u001b[0m\u001b[0m\n\u001b[1;32m   6120\u001b[0m         \u001b[0mcollection\u001b[0m\u001b[0;34m.\u001b[0m\u001b[0mset_array\u001b[0m\u001b[0;34m(\u001b[0m\u001b[0mC\u001b[0m\u001b[0;34m)\u001b[0m\u001b[0;34m\u001b[0m\u001b[0;34m\u001b[0m\u001b[0m\n",
            "\u001b[0;32m/usr/local/lib/python3.7/dist-packages/matplotlib/collections.py\u001b[0m in \u001b[0;36m__init__\u001b[0;34m(self, meshWidth, meshHeight, coordinates, antialiased, shading, **kwargs)\u001b[0m\n\u001b[1;32m   1939\u001b[0m     def __init__(self, meshWidth, meshHeight, coordinates,\n\u001b[1;32m   1940\u001b[0m                  antialiased=True, shading='flat', **kwargs):\n\u001b[0;32m-> 1941\u001b[0;31m         \u001b[0mCollection\u001b[0m\u001b[0;34m.\u001b[0m\u001b[0m__init__\u001b[0m\u001b[0;34m(\u001b[0m\u001b[0mself\u001b[0m\u001b[0;34m,\u001b[0m \u001b[0;34m**\u001b[0m\u001b[0mkwargs\u001b[0m\u001b[0;34m)\u001b[0m\u001b[0;34m\u001b[0m\u001b[0;34m\u001b[0m\u001b[0m\n\u001b[0m\u001b[1;32m   1942\u001b[0m         \u001b[0mself\u001b[0m\u001b[0;34m.\u001b[0m\u001b[0m_meshWidth\u001b[0m \u001b[0;34m=\u001b[0m \u001b[0mmeshWidth\u001b[0m\u001b[0;34m\u001b[0m\u001b[0;34m\u001b[0m\u001b[0m\n\u001b[1;32m   1943\u001b[0m         \u001b[0mself\u001b[0m\u001b[0;34m.\u001b[0m\u001b[0m_meshHeight\u001b[0m \u001b[0;34m=\u001b[0m \u001b[0mmeshHeight\u001b[0m\u001b[0;34m\u001b[0m\u001b[0;34m\u001b[0m\u001b[0m\n",
            "\u001b[0;32m/usr/local/lib/python3.7/dist-packages/matplotlib/collections.py\u001b[0m in \u001b[0;36m__init__\u001b[0;34m(self, edgecolors, facecolors, linewidths, linestyles, capstyle, joinstyle, antialiaseds, offsets, transOffset, norm, cmap, pickradius, hatch, urls, offset_position, zorder, **kwargs)\u001b[0m\n\u001b[1;32m    162\u001b[0m \u001b[0;34m\u001b[0m\u001b[0m\n\u001b[1;32m    163\u001b[0m         \u001b[0mself\u001b[0m\u001b[0;34m.\u001b[0m\u001b[0m_path_effects\u001b[0m \u001b[0;34m=\u001b[0m \u001b[0;32mNone\u001b[0m\u001b[0;34m\u001b[0m\u001b[0;34m\u001b[0m\u001b[0m\n\u001b[0;32m--> 164\u001b[0;31m         \u001b[0mself\u001b[0m\u001b[0;34m.\u001b[0m\u001b[0mupdate\u001b[0m\u001b[0;34m(\u001b[0m\u001b[0mkwargs\u001b[0m\u001b[0;34m)\u001b[0m\u001b[0;34m\u001b[0m\u001b[0;34m\u001b[0m\u001b[0m\n\u001b[0m\u001b[1;32m    165\u001b[0m         \u001b[0mself\u001b[0m\u001b[0;34m.\u001b[0m\u001b[0m_paths\u001b[0m \u001b[0;34m=\u001b[0m \u001b[0;32mNone\u001b[0m\u001b[0;34m\u001b[0m\u001b[0;34m\u001b[0m\u001b[0m\n\u001b[1;32m    166\u001b[0m \u001b[0;34m\u001b[0m\u001b[0m\n",
            "\u001b[0;32m/usr/local/lib/python3.7/dist-packages/matplotlib/artist.py\u001b[0m in \u001b[0;36mupdate\u001b[0;34m(self, props)\u001b[0m\n\u001b[1;32m   1004\u001b[0m \u001b[0;34m\u001b[0m\u001b[0m\n\u001b[1;32m   1005\u001b[0m         \u001b[0;32mwith\u001b[0m \u001b[0mcbook\u001b[0m\u001b[0;34m.\u001b[0m\u001b[0m_setattr_cm\u001b[0m\u001b[0;34m(\u001b[0m\u001b[0mself\u001b[0m\u001b[0;34m,\u001b[0m \u001b[0meventson\u001b[0m\u001b[0;34m=\u001b[0m\u001b[0;32mFalse\u001b[0m\u001b[0;34m)\u001b[0m\u001b[0;34m:\u001b[0m\u001b[0;34m\u001b[0m\u001b[0;34m\u001b[0m\u001b[0m\n\u001b[0;32m-> 1006\u001b[0;31m             \u001b[0mret\u001b[0m \u001b[0;34m=\u001b[0m \u001b[0;34m[\u001b[0m\u001b[0m_update_property\u001b[0m\u001b[0;34m(\u001b[0m\u001b[0mself\u001b[0m\u001b[0;34m,\u001b[0m \u001b[0mk\u001b[0m\u001b[0;34m,\u001b[0m \u001b[0mv\u001b[0m\u001b[0;34m)\u001b[0m \u001b[0;32mfor\u001b[0m \u001b[0mk\u001b[0m\u001b[0;34m,\u001b[0m \u001b[0mv\u001b[0m \u001b[0;32min\u001b[0m \u001b[0mprops\u001b[0m\u001b[0;34m.\u001b[0m\u001b[0mitems\u001b[0m\u001b[0;34m(\u001b[0m\u001b[0;34m)\u001b[0m\u001b[0;34m]\u001b[0m\u001b[0;34m\u001b[0m\u001b[0;34m\u001b[0m\u001b[0m\n\u001b[0m\u001b[1;32m   1007\u001b[0m \u001b[0;34m\u001b[0m\u001b[0m\n\u001b[1;32m   1008\u001b[0m         \u001b[0;32mif\u001b[0m \u001b[0mlen\u001b[0m\u001b[0;34m(\u001b[0m\u001b[0mret\u001b[0m\u001b[0;34m)\u001b[0m\u001b[0;34m:\u001b[0m\u001b[0;34m\u001b[0m\u001b[0;34m\u001b[0m\u001b[0m\n",
            "\u001b[0;32m/usr/local/lib/python3.7/dist-packages/matplotlib/artist.py\u001b[0m in \u001b[0;36m<listcomp>\u001b[0;34m(.0)\u001b[0m\n\u001b[1;32m   1004\u001b[0m \u001b[0;34m\u001b[0m\u001b[0m\n\u001b[1;32m   1005\u001b[0m         \u001b[0;32mwith\u001b[0m \u001b[0mcbook\u001b[0m\u001b[0;34m.\u001b[0m\u001b[0m_setattr_cm\u001b[0m\u001b[0;34m(\u001b[0m\u001b[0mself\u001b[0m\u001b[0;34m,\u001b[0m \u001b[0meventson\u001b[0m\u001b[0;34m=\u001b[0m\u001b[0;32mFalse\u001b[0m\u001b[0;34m)\u001b[0m\u001b[0;34m:\u001b[0m\u001b[0;34m\u001b[0m\u001b[0;34m\u001b[0m\u001b[0m\n\u001b[0;32m-> 1006\u001b[0;31m             \u001b[0mret\u001b[0m \u001b[0;34m=\u001b[0m \u001b[0;34m[\u001b[0m\u001b[0m_update_property\u001b[0m\u001b[0;34m(\u001b[0m\u001b[0mself\u001b[0m\u001b[0;34m,\u001b[0m \u001b[0mk\u001b[0m\u001b[0;34m,\u001b[0m \u001b[0mv\u001b[0m\u001b[0;34m)\u001b[0m \u001b[0;32mfor\u001b[0m \u001b[0mk\u001b[0m\u001b[0;34m,\u001b[0m \u001b[0mv\u001b[0m \u001b[0;32min\u001b[0m \u001b[0mprops\u001b[0m\u001b[0;34m.\u001b[0m\u001b[0mitems\u001b[0m\u001b[0;34m(\u001b[0m\u001b[0;34m)\u001b[0m\u001b[0;34m]\u001b[0m\u001b[0;34m\u001b[0m\u001b[0;34m\u001b[0m\u001b[0m\n\u001b[0m\u001b[1;32m   1007\u001b[0m \u001b[0;34m\u001b[0m\u001b[0m\n\u001b[1;32m   1008\u001b[0m         \u001b[0;32mif\u001b[0m \u001b[0mlen\u001b[0m\u001b[0;34m(\u001b[0m\u001b[0mret\u001b[0m\u001b[0;34m)\u001b[0m\u001b[0;34m:\u001b[0m\u001b[0;34m\u001b[0m\u001b[0;34m\u001b[0m\u001b[0m\n",
            "\u001b[0;32m/usr/local/lib/python3.7/dist-packages/matplotlib/artist.py\u001b[0m in \u001b[0;36m_update_property\u001b[0;34m(self, k, v)\u001b[0m\n\u001b[1;32m   1000\u001b[0m                 \u001b[0;32mif\u001b[0m \u001b[0;32mnot\u001b[0m \u001b[0mcallable\u001b[0m\u001b[0;34m(\u001b[0m\u001b[0mfunc\u001b[0m\u001b[0;34m)\u001b[0m\u001b[0;34m:\u001b[0m\u001b[0;34m\u001b[0m\u001b[0;34m\u001b[0m\u001b[0m\n\u001b[1;32m   1001\u001b[0m                     raise AttributeError('{!r} object has no property {!r}'\n\u001b[0;32m-> 1002\u001b[0;31m                                          .format(type(self).__name__, k))\n\u001b[0m\u001b[1;32m   1003\u001b[0m                 \u001b[0;32mreturn\u001b[0m \u001b[0mfunc\u001b[0m\u001b[0;34m(\u001b[0m\u001b[0mv\u001b[0m\u001b[0;34m)\u001b[0m\u001b[0;34m\u001b[0m\u001b[0;34m\u001b[0m\u001b[0m\n\u001b[1;32m   1004\u001b[0m \u001b[0;34m\u001b[0m\u001b[0m\n",
            "\u001b[0;31mAttributeError\u001b[0m: 'QuadMesh' object has no property 'index'"
          ]
        },
        {
          "output_type": "display_data",
          "data": {
            "image/png": "[encoded data removed]",
            "text/plain": [
              "<Figure size 432x288 with 1 Axes>"
            ]
          },
          "metadata": {
            "tags": [],
            "needs_background": "light"
          }
        }
      ]
    },
    {
      "cell_type": "markdown",
      "metadata": {
        "id": "okxxiQqo90EC"
      },
      "source": [
        "## 6. Model selection\n",
        "Model selection will contain a discussion about considerations that were made to select a fitting model for this dataset and context. It will also provide the scientific foundation for the selected model and any further considerations that went into the model selection and appropriate metrics that are derived from the model or fed into the model. "
      ]
    },
    {
      "cell_type": "markdown",
      "metadata": {
        "id": "7CUdK82rZbDr"
      },
      "source": [
        "Recommendation systems methods are divided into two categories, that we want to address, before stating which method we chose.\n",
        "\n",
        "#### **1. Collaborative Filtering**\n",
        "This approach is based on user-item interactions like ratings, likes and dislikes for a certain item. The basic idea is that users with a similar taste (in this example similar ratings for items) can be identified. Based on those neighbouring / similar users and their content interactions, recommendations can be made. ([Burke et al., 2011](https://ojs.aaai.org/index.php/aimagazine/article/view/2361))\n",
        "\n",
        "Such user-item interactions are stored in the so called \"user-item matrix\", where the columns represent the users and the row represent the items or vice versa. The entries in each cell represent the interaction between the item and the user in numeric values, like a rating from 1 to 10. The user-item matrix is sparse, because there are many user-item interactions that didn't occur, yet. The class of collaborative filtering definies how the user-item matrix is populated. These collaborative filtering classes are: memory based and model based.([Xu et al., 2012](https://citeseerx.ist.psu.edu/viewdoc/download?doi=10.1.1.461.2978&rep=rep1&type=pdf))\n",
        "\n",
        "##### **memory based**\n",
        "Memory based collaborative filtering uses similarity metrics to find users with similar preferences from the sparse user-item matrix. According to [Stephen et al., 2017](https://researchrepository.murdoch.edu.au/id/eprint/38661/1/a32-Stephen.pdf) the memory based approach can be represented by 3 steps:\n",
        "1. Calculate a similarity measure between two users or two items\n",
        "2. Predict the user-item interaction based on a weighted average over all ratings of the user or item\n",
        "3. Generate a top X ranking based on that user or item\n",
        "\n",
        "\n",
        "##### **model based**\n",
        "The model based approach uses machine learning to build a model that can describe the user preferences that are already present in the user-item matrix. That model is then used to fill in the gaps in the user-item matrix and therefore predict how different users would interact with a certain item.\n",
        "That information is then used to give recommendations to the user. ([Yu et al., 2004](http://citeseerx.ist.psu.edu/viewdoc/download?doi=10.1.1.329.8903&rep=rep1&type=pdf))\n",
        "\n",
        "\n",
        "\n",
        "</br>\n",
        "</br>\n",
        "\n",
        "#### **2. Content-based filtering**\n",
        "This approach analyses the user preferences and tries to find similarities in the prefered items of that specific user ([Reddy et al., 2019](https://www.academia.edu/download/62049148/contentbased20200209-27698-l8hk2i.pdf)). It does so by using attributes of the prefered items such as genre, brand, publisher, type and so on. Therefore, the user profile is based on inherent information of the items prefered by them, in contrast to collaborative filtering, where the user profile is based on other users preferences.\n",
        "\n",
        "According to [Reddy et al., 2019](https://www.academia.edu/download/62049148/contentbased20200209-27698-l8hk2i.pdf) there are three methods of content based filtering:\n",
        "\n",
        "1. **Wrapper methods** that split features of the items into subsets and evaluates which subset is most relevant\n",
        "2. **Filter Methods** that rank the relevance of features with a heuristic\n",
        "3. **Embedded Methods** use a Machine Learning algorithm that selects relevant features during the training phase\n"
      ]
    },
    {
      "cell_type": "markdown",
      "metadata": {
        "id": "sSdJa665_0C9"
      },
      "source": [
        "### **Selecting the model**\n",
        "\n",
        "After what has been learned about different approaches to recommender systems, which method is the best fit for the dataset and the context of anime recommendation.\n",
        "\n",
        "First of all both content-based filtering and collaborative filtering would be possible, as the dataset has some features for each anime and also thousands of preferences for different users.\n",
        "\n",
        "Based on the [this](https://arxiv.org/pdf/1905.01395.pdf) study by Rendle et al. in 2019 Matrix factorization is not only a baseline model for recomender systems, but can even outperform newly proposed models if used properly. Rendle et al. research also indicates that matrix factorization is a good fit for datasets such as the Netflix Prize as seen in [this](https://citeseerx.ist.psu.edu/viewdoc/download?doi=10.1.1.115.6998&rep=rep1&type=pdf) paper or the movielense dataset. Both of these datasets have similar features as the anime dataset, that is used in this Jupyter Notebook.\n"
      ]
    },
    {
      "cell_type": "markdown",
      "metadata": {
        "id": "lK1_1q0u-u8y"
      },
      "source": [
        "## 7. Model training \n",
        "The dataset will be split into train and test samples and the model will be trained to give anime recommendations based on any users data."
      ]
    }
  ]
}